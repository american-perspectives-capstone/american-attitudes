{
 "cells": [
  {
   "cell_type": "markdown",
   "id": "6c91d650",
   "metadata": {},
   "source": [
    "<center><h1>Is America’s Glass Half-Empty? Discovering drivers of America’s prospective thinking.</center>\n",
    "\n",
    "\n",
    "#### Authors: <a href=\"https://github.com/Alexia-Garces\">Alexia Garces</a>, <a href=\"https://github.com/Brooke-Holyoak\">Brooke Holyoak</a>, <a href=\"https://github.com/CharlesAtchison\">Charles Atchison</a>, <a href=\"https://github.com/Jason-Tellez\">Jason Tellez</a>, <a href=\"https://github.com/malachi-hale\">Malachi Hale</a>\n",
    "\n",
    "<a name ='toc'></a>\n",
    "# Table of Contents \n",
    "1. [Project Planning](#project_planning)\n",
    "    1. [Project Objectives](#project_objectives)\n",
    "    2. [Business Goals](#business_goals)\n",
    "    3. [Audience](#audience)\n",
    "    4. [Deliverables](#deliverables)\n",
    "2. [Executive Summary](#exe_sum)\n",
    "    1. [Goals](#goals)\n",
    "    2. [Findings](#findings)\n",
    "3. [Import Required Modules](#imports)\n",
    "3. [Acquire Data](#acquire)\n",
    "    1. [Working with American Trends Panel Data](#working_with_data)\n",
    "    2. [Data Dictonary](#data_dict) \n",
    "    3. [Acquire Takeaways](#acquire_takeaways)\n",
    "4. [Prepare Data](#prepare)\n",
    "    1. [Data Attributes](#data_attributes)\n",
    "    2. [Prepare Takeaways](#prepare_takeaways)\n",
    "5. [Data Exploration](#explore)\n",
    "    1. [Hypothesis & Testing](#hypotheses)\n",
    "    2. [Explore by Gender](#gender)\n",
    "    3. [Explore by Political Party](#political)\n",
    "    4. [Explore by Income Level](#income)\n",
    "    5. [Explore by Education Level](#education)\n",
    "    6. [Clustering](#clustering)\n",
    "    7. [Explore Takeaways](#explore_takeaways)\n",
    "6. [Modeling & Evaluation](#modeling)\n",
    "    1. [Baseline](#baseline)\n",
    "    2. [Decision Tree](#decision_tree)\n",
    "    3. [Random Forest](#random_forest)\n",
    "    4. [K Nearest Neighbors](#knn)\n",
    "    5. [Other Models](#other_models)\n",
    "    6. [Feature Importance](#feature_importance)\n",
    "    7. [Modeling with just the top features](#top)\n",
    "    9. [Model Comparison](#model_comparison)\n",
    "    10. [Out of Sample Testing](#out_of_sample)\n",
    "    11. [Modeling Takeaways](#modeling_takeaways)\n",
    "7. [Project Delivery](#delivery)\n",
    "    1. [Conclusion & Next Steps](#conclusion_and_next_steps)\n",
    "    2. [Project Replication](#replicate)\n",
    "    3. [Data Use Agreements](#data_use)\n",
    "\n",
    "<hr style=\"border-top: 10px groove tan; margin-top: 5px; margin-bottom: 5px\"></hr>"
   ]
  },
  {
   "cell_type": "code",
   "execution_count": null,
   "id": "6ed56b7e",
   "metadata": {},
   "outputs": [],
   "source": []
  },
  {
   "cell_type": "markdown",
   "id": "546f373f",
   "metadata": {},
   "source": [
    "<a name='project_planning'></a>\n",
    "# Project Planning\n",
    "✓ 🟢 **Plan** ➜ ☐ _Acquire_ ➜ ☐ _Prepare_ ➜ ☐ _Explore_ ➜ ☐ _Model_ ➜ ☐ _Deliver_\n",
    "\n",
    "<a name='project_objectives'></a>\n",
    "## Project Objectives \n",
    "> - Utilize American Trends Panel Datasets (downloadable <a href=\"https://www.kaggle.com/shankanater/american-trends-panel-pewresearch/download\">here</a>), with statistical modeling techniques to assess and attempt to predict sentiment toward particular topics.\n",
    "> - This will culminate into a well-built well-documented jupyter notebook that contains our process and derivation of these predictions.\n",
    "> - Modules will be created that abstract minutiae aspects of the data pipeline process.\n",
    "\n",
    "<a name='business_goals'></a>\n",
    "## Business Goals \n",
    "> - Utilize tabulated statistical data aquired from Pew Research American Trends Surveys.\n",
    "> - Prepare, explore and formulate hypthoesis about the data.\n",
    "> - Build models that can predict future American sentiment toward certain topics, and utilize hyperparameter optimization and feature engineering to improve validation model performance prior to evaluating on test data.\n",
    "> - Document all these steps throughly.\n",
    "\n",
    "<a name='audience'></a>\n",
    "## Audience \n",
    "> - General population and individuals without specific knowledge or understanding of the topic or subject.\n",
    "\n",
    "<a name='deliverables'></a>\n",
    "## Deliverables\n",
    "> - A clearly named final notebook. This notebook will contain more detailed processes other than noted within the README and have abstracted scripts to assist on readability.\n",
    "> - A `README.md` that explains what the project is, how to reproduce the project, and notes about the project.\n",
    "> - A Python module and associated modules that automate the data acquisition and preparation process. \n",
    "\n",
    "<div style=\"text-align: right\"><a href='#toc'>Table of Contents</a></div>\n",
    "<hr style=\"border-top: 10px groove tan; margin-top: 1px; margin-bottom: 1px\"></hr>\n"
   ]
  },
  {
   "cell_type": "markdown",
   "id": "8ad0eddf",
   "metadata": {},
   "source": [
    "<a name='exe_sum'></a>\n",
    "# Executive Summary\n",
    "> - Our team acquired Pew Research Panel survey data and utilized this data to explore the drivers of pessimism in American Prospective Attitudes.\n",
    "> - Being able to understand what most likely drives pessimistic or optimistic thinking about the future will help business leaders clarify strategies for moving foward.\n",
    "> - This project will also help guide expectations of future sucess in the customers these business leaders serve, in addition to the products offered, investment, marketing and sales, and other aspects throughout their organization. \n",
    "\n",
    "<a name='goals'></a>\n",
    "## Goals\n",
    "> - Build a model that can predict future American sentiment toward certain topics, utilizing split survey data as the training dataset.\n",
    "\n",
    "<a name='findings'></a>\n",
    "## Findings\n",
    "> - Standard demographic features like age, sex, and income are not drivers of overall pessimism. However, features like what will happen to the average family's standard of living, cost of healthcare, and the future of the public education system are highly correlated to overall pessimism.\n",
    "\n",
    "<div style=\"text-align: right\"><a href='#toc'>Table of Contents</a></div>\n",
    "<hr style=\"border-top: 10px groove tan; margin-top: 1px; margin-bottom: 1px\"></hr>\n"
   ]
  },
  {
   "cell_type": "markdown",
   "id": "534b90d0",
   "metadata": {},
   "source": [
    "<a name='imports'></a>\n",
    "# Import Required Modules"
   ]
  },
  {
   "cell_type": "code",
   "execution_count": 3,
   "id": "289aea49",
   "metadata": {},
   "outputs": [],
   "source": [
    "import pandas as pd\n",
    "import numpy as np\n",
    "# supress scientific notation\n",
    "np.set_printoptions(suppress=True)\n",
    "from scipy import stats\n",
    "\n",
    "#set seaborn color pallete\n",
    "import seaborn as sns\n",
    "import matplotlib.pyplot as plt\n",
    "sns.set_palette('plasma')\n",
    "pal = sns.set_palette('plasma')\n",
    "\n",
    "# This module displays Markdown and helps with visability within Juypter Notebooks\n",
    "from IPython.display import Markdown, display, HTML\n",
    "\n",
    "# Import Clustering\n",
    "from sklearn.cluster import KMeans\n",
    "\n",
    "# Import models\n",
    "from sklearn.tree import DecisionTreeClassifier\n",
    "from sklearn.naive_bayes import MultinomialNB\n",
    "from sklearn.ensemble import RandomForestClassifier\n",
    "from sklearn.svm import LinearSVC\n",
    "from sklearn.neighbors import KNeighborsClassifier\n",
    "from sklearn.linear_model import LogisticRegression\n",
    "\n",
    "# Import Metrics\n",
    "from sklearn.metrics import (\n",
    "    classification_report, confusion_matrix,\n",
    "    recall_score, plot_confusion_matrix)\n",
    "\n",
    "#Disable Warnings \n",
    "import warnings\n",
    "warnings.filterwarnings('ignore')\n",
    "\n",
    "#Import functions\n",
    "import acquire as a\n",
    "import prepare as p\n",
    "import explore as e\n",
    "import model as m"
   ]
  },
  {
   "cell_type": "markdown",
   "id": "f654d76d",
   "metadata": {},
   "source": [
    "<div style=\"text-align: right\"><a href='#toc'>Table of Contents</a></div>\n",
    "<hr style=\"border-top: 10px groove tan; margin-top: 1px; margin-bottom: 1px\"></hr>"
   ]
  },
  {
   "cell_type": "markdown",
   "id": "7f7cf67c",
   "metadata": {},
   "source": [
    "<a name='acquire'></a>\n",
    "# Acquire Data\n",
    "✓ _Plan_ ➜ 🟢 **Acquire** ➜ ☐ _Prepare_ ➜ ☐ _Explore_ ➜ ☐ _Model_ ➜ ☐ _Deliver_\n",
    "\n",
    "> - Check if the \"ATP W41.sav\" Statistical SPSS file is within the current directory.\n",
    "> - If the data is not present within the current directory, you can download it from <a href=\"https://www.kaggle.com/shankanater/american-trends-panel-pewresearch/download\">here</a> \n",
    "> - If the data is present, read the data into a Pandas DataFrame and return the data as `atp_df`.\n"
   ]
  },
  {
   "cell_type": "markdown",
   "id": "3237f675",
   "metadata": {},
   "source": [
    "<a name=\"working_with_data\"></a>\n",
    "## Working with American Trends Panel Data \n",
    "\n",
    "### Demographic Profile Variables\n",
    "> Each ATP dataset comes with a number of variables prefixed by “F_” (for “frame”) that contain demographic profile data. These variables are not measured every wave; instead, they are sourced from panel profile surveys conducted on a less frequent basis. Some profile variables are also occasionally asked on panel waves and are accordingly updated for each panelist. Profile information is based on panelists’ most recent response to the profile questions. Some variables are coarsened to help protect the confidentiality of our panelists. Interviewer instructions in `[ ]` and voluntary responses in `( )` are included if the source of a profile variable was ever presented in phone (CATI) mode. See Appendix I for the profile variable codebook.\n",
    "\n",
    "###  Unique Identifier\n",
    "> The variable `QKEY` is a unique identifier assigned to each respondent. `QKEY` can be used to link multiple panel waves together. Note that except in a few instances, `WEIGHT_W41` are only provided for single waves. Use caution when analyzing data from multiple waves without weights that are designed for use with multiple waves.\n",
    "\n",
    "### Data Variable Types\n",
    " > American Trends Panel datasets contain single-punch or multi-punch variables. For questions in a 'Check all that apply' format, each option has its own variable indicating whether a respondent selected the item or not. For some datasets there is an additional variable indicating whether a respondent did not select any of the options. Open-end string variables are not included in ATP datasets. Coded responses to open-end questions are included when available.\n",
    "\n",
    "### Dataset Format\n",
    "> The dataset is formatted as a .sav file and can be read with the SPSS software program. The dataset can also be read with the R programming language, using the `foreign` package. R is a free, open-source program for statistical analysis that can be downloaded <a href=\"https://cran.r-project.org/\">here</a>. It can also be used to export data in .csv format for use with other software programs.\n",
    "\n",
    "> **NOTE**: Using other tools to directly convert the .sav file to another format such as .csv may ERASE value\n",
    "labels. For this reason, it is highly recommended that you use either SPSS or R to read the file directly.\n"
   ]
  },
  {
   "cell_type": "code",
   "execution_count": 4,
   "id": "d9824049",
   "metadata": {},
   "outputs": [
    {
     "data": {
      "text/html": [
       "<div>\n",
       "<style scoped>\n",
       "    .dataframe tbody tr th:only-of-type {\n",
       "        vertical-align: middle;\n",
       "    }\n",
       "\n",
       "    .dataframe tbody tr th {\n",
       "        vertical-align: top;\n",
       "    }\n",
       "\n",
       "    .dataframe thead th {\n",
       "        text-align: right;\n",
       "    }\n",
       "</style>\n",
       "<table border=\"1\" class=\"dataframe\">\n",
       "  <thead>\n",
       "    <tr style=\"text-align: right;\">\n",
       "      <th></th>\n",
       "      <th>QKEY</th>\n",
       "      <th>NEW_Device_Type_W41</th>\n",
       "      <th>F_LANGUAGE</th>\n",
       "      <th>FORM_W41</th>\n",
       "      <th>OPTIMIST_W41</th>\n",
       "      <th>AVGFAM_W41</th>\n",
       "      <th>HAPPENa_W41</th>\n",
       "      <th>HAPPENb_W41</th>\n",
       "      <th>HAPPENc_W41</th>\n",
       "      <th>HAPPENd_W41</th>\n",
       "      <th>...</th>\n",
       "      <th>F_PARTY_FINAL</th>\n",
       "      <th>F_PARTYLN_FINAL</th>\n",
       "      <th>F_PARTYSUM_FINAL</th>\n",
       "      <th>F_INCOME</th>\n",
       "      <th>F_INCOME_RECODE</th>\n",
       "      <th>F_REG</th>\n",
       "      <th>F_IDEO</th>\n",
       "      <th>F_INTUSER</th>\n",
       "      <th>F_VOLSUM</th>\n",
       "      <th>WEIGHT_W41</th>\n",
       "    </tr>\n",
       "  </thead>\n",
       "  <tbody>\n",
       "    <tr>\n",
       "      <th>0</th>\n",
       "      <td>100363.0</td>\n",
       "      <td>Mobile phone</td>\n",
       "      <td>English</td>\n",
       "      <td>Form 1</td>\n",
       "      <td>Somewhat optimistic</td>\n",
       "      <td>Get worse</td>\n",
       "      <td>The U.S. economy will be STRONGER</td>\n",
       "      <td>Health care will be MORE affordable</td>\n",
       "      <td>Race relations will IMPROVE</td>\n",
       "      <td>The U.S. will be MORE important in the world</td>\n",
       "      <td>...</td>\n",
       "      <td>Democrat</td>\n",
       "      <td>NaN</td>\n",
       "      <td>Dem/Lean Dem</td>\n",
       "      <td>$100,000 to less than $150,000</td>\n",
       "      <td>$75,000+</td>\n",
       "      <td>You are ABSOLUTELY CERTAIN that you are regist...</td>\n",
       "      <td>Liberal</td>\n",
       "      <td>Internet User</td>\n",
       "      <td>No</td>\n",
       "      <td>0.599006</td>\n",
       "    </tr>\n",
       "    <tr>\n",
       "      <th>1</th>\n",
       "      <td>101224.0</td>\n",
       "      <td>Mobile phone</td>\n",
       "      <td>English</td>\n",
       "      <td>Form 1</td>\n",
       "      <td>Somewhat optimistic</td>\n",
       "      <td>Get better</td>\n",
       "      <td>The U.S. economy will be STRONGER</td>\n",
       "      <td>Health care will be LESS affordable</td>\n",
       "      <td>Race relations will IMPROVE</td>\n",
       "      <td>The U.S. will be MORE important in the world</td>\n",
       "      <td>...</td>\n",
       "      <td>Republican</td>\n",
       "      <td>NaN</td>\n",
       "      <td>Rep/Lean Rep</td>\n",
       "      <td>$40,000 to less than $50,000</td>\n",
       "      <td>$30-$74,999</td>\n",
       "      <td>You are ABSOLUTELY CERTAIN that you are regist...</td>\n",
       "      <td>Conservative</td>\n",
       "      <td>Internet User</td>\n",
       "      <td>Yes</td>\n",
       "      <td>0.292981</td>\n",
       "    </tr>\n",
       "    <tr>\n",
       "      <th>2</th>\n",
       "      <td>101437.0</td>\n",
       "      <td>Desktop</td>\n",
       "      <td>English</td>\n",
       "      <td>Form 1</td>\n",
       "      <td>Somewhat pessimistic</td>\n",
       "      <td>Get worse</td>\n",
       "      <td>The U.S. economy will be WEAKER</td>\n",
       "      <td>Health care will be LESS affordable</td>\n",
       "      <td>Race relations will GET WORSE</td>\n",
       "      <td>The U.S. will be LESS important in the world</td>\n",
       "      <td>...</td>\n",
       "      <td>Republican</td>\n",
       "      <td>NaN</td>\n",
       "      <td>Rep/Lean Rep</td>\n",
       "      <td>$10,000 to less than $20,000</td>\n",
       "      <td>&lt;$30,000</td>\n",
       "      <td>You are ABSOLUTELY CERTAIN that you are regist...</td>\n",
       "      <td>Conservative</td>\n",
       "      <td>Internet User</td>\n",
       "      <td>No</td>\n",
       "      <td>0.418871</td>\n",
       "    </tr>\n",
       "    <tr>\n",
       "      <th>3</th>\n",
       "      <td>102130.0</td>\n",
       "      <td>Mobile phone</td>\n",
       "      <td>English</td>\n",
       "      <td>Form 1</td>\n",
       "      <td>Somewhat optimistic</td>\n",
       "      <td>Stay about the same</td>\n",
       "      <td>The U.S. economy will be WEAKER</td>\n",
       "      <td>Health care will be LESS affordable</td>\n",
       "      <td>Race relations will IMPROVE</td>\n",
       "      <td>The U.S. will be LESS important in the world</td>\n",
       "      <td>...</td>\n",
       "      <td>Independent</td>\n",
       "      <td>Refused</td>\n",
       "      <td>DK/Refused/No lean</td>\n",
       "      <td>Refused</td>\n",
       "      <td>Don't know/Refused</td>\n",
       "      <td>You are ABSOLUTELY CERTAIN that you are regist...</td>\n",
       "      <td>Moderate</td>\n",
       "      <td>Non Internet User</td>\n",
       "      <td>Yes</td>\n",
       "      <td>0.342058</td>\n",
       "    </tr>\n",
       "    <tr>\n",
       "      <th>4</th>\n",
       "      <td>103094.0</td>\n",
       "      <td>Mobile phone</td>\n",
       "      <td>English</td>\n",
       "      <td>Form 1</td>\n",
       "      <td>Somewhat optimistic</td>\n",
       "      <td>Stay about the same</td>\n",
       "      <td>Refused</td>\n",
       "      <td>Health care will be LESS affordable</td>\n",
       "      <td>Refused</td>\n",
       "      <td>The U.S. will be LESS important in the world</td>\n",
       "      <td>...</td>\n",
       "      <td>Something else</td>\n",
       "      <td>Refused</td>\n",
       "      <td>DK/Refused/No lean</td>\n",
       "      <td>$20,000 to less than $30,000</td>\n",
       "      <td>&lt;$30,000</td>\n",
       "      <td>You are NOT registered to vote at your current...</td>\n",
       "      <td>Liberal</td>\n",
       "      <td>Internet User</td>\n",
       "      <td>Yes</td>\n",
       "      <td>0.329465</td>\n",
       "    </tr>\n",
       "  </tbody>\n",
       "</table>\n",
       "<p>5 rows × 124 columns</p>\n",
       "</div>"
      ],
      "text/plain": [
       "       QKEY NEW_Device_Type_W41 F_LANGUAGE FORM_W41          OPTIMIST_W41  \\\n",
       "0  100363.0        Mobile phone    English   Form 1   Somewhat optimistic   \n",
       "1  101224.0        Mobile phone    English   Form 1   Somewhat optimistic   \n",
       "2  101437.0             Desktop    English   Form 1  Somewhat pessimistic   \n",
       "3  102130.0        Mobile phone    English   Form 1   Somewhat optimistic   \n",
       "4  103094.0        Mobile phone    English   Form 1   Somewhat optimistic   \n",
       "\n",
       "            AVGFAM_W41                        HAPPENa_W41  \\\n",
       "0            Get worse  The U.S. economy will be STRONGER   \n",
       "1           Get better  The U.S. economy will be STRONGER   \n",
       "2            Get worse    The U.S. economy will be WEAKER   \n",
       "3  Stay about the same    The U.S. economy will be WEAKER   \n",
       "4  Stay about the same                            Refused   \n",
       "\n",
       "                           HAPPENb_W41                    HAPPENc_W41  \\\n",
       "0  Health care will be MORE affordable    Race relations will IMPROVE   \n",
       "1  Health care will be LESS affordable    Race relations will IMPROVE   \n",
       "2  Health care will be LESS affordable  Race relations will GET WORSE   \n",
       "3  Health care will be LESS affordable    Race relations will IMPROVE   \n",
       "4  Health care will be LESS affordable                        Refused   \n",
       "\n",
       "                                    HAPPENd_W41  ...   F_PARTY_FINAL  \\\n",
       "0  The U.S. will be MORE important in the world  ...        Democrat   \n",
       "1  The U.S. will be MORE important in the world  ...      Republican   \n",
       "2  The U.S. will be LESS important in the world  ...      Republican   \n",
       "3  The U.S. will be LESS important in the world  ...     Independent   \n",
       "4  The U.S. will be LESS important in the world  ...  Something else   \n",
       "\n",
       "  F_PARTYLN_FINAL    F_PARTYSUM_FINAL                        F_INCOME  \\\n",
       "0             NaN        Dem/Lean Dem  $100,000 to less than $150,000   \n",
       "1             NaN        Rep/Lean Rep    $40,000 to less than $50,000   \n",
       "2             NaN        Rep/Lean Rep    $10,000 to less than $20,000   \n",
       "3         Refused  DK/Refused/No lean                         Refused   \n",
       "4         Refused  DK/Refused/No lean    $20,000 to less than $30,000   \n",
       "\n",
       "      F_INCOME_RECODE                                              F_REG  \\\n",
       "0            $75,000+  You are ABSOLUTELY CERTAIN that you are regist...   \n",
       "1         $30-$74,999  You are ABSOLUTELY CERTAIN that you are regist...   \n",
       "2            <$30,000  You are ABSOLUTELY CERTAIN that you are regist...   \n",
       "3  Don't know/Refused  You are ABSOLUTELY CERTAIN that you are regist...   \n",
       "4            <$30,000  You are NOT registered to vote at your current...   \n",
       "\n",
       "         F_IDEO          F_INTUSER F_VOLSUM WEIGHT_W41  \n",
       "0       Liberal      Internet User       No   0.599006  \n",
       "1  Conservative      Internet User      Yes   0.292981  \n",
       "2  Conservative      Internet User       No   0.418871  \n",
       "3      Moderate  Non Internet User      Yes   0.342058  \n",
       "4       Liberal      Internet User      Yes   0.329465  \n",
       "\n",
       "[5 rows x 124 columns]"
      ]
     },
     "execution_count": 4,
     "metadata": {},
     "output_type": "execute_result"
    }
   ],
   "source": [
    "# get atp_w41_spss data\n",
    "atp_df = a.get_atp_w41_spss_data()\n",
    "# Inspect the truncated dataframe\n",
    "atp_df.head()"
   ]
  },
  {
   "cell_type": "code",
   "execution_count": 5,
   "id": "08bca979",
   "metadata": {},
   "outputs": [
    {
     "data": {
      "text/plain": [
       "(2524, 124)"
      ]
     },
     "execution_count": 5,
     "metadata": {},
     "output_type": "execute_result"
    }
   ],
   "source": [
    "#Look at the shape of the newly acquired DataFrame\n",
    "atp_df.shape"
   ]
  },
  {
   "cell_type": "markdown",
   "id": "593f12c8",
   "metadata": {},
   "source": [
    "[Go to bottom of DataFrame Dictionary](#bottom_of_data_dict)\n",
    "\n",
    "<a name='data_dict'></a>\n",
    "## DataFrame Dictionary\n",
    "\n",
    "<table>\n",
    "<th style=\"text-align:left\">Original Column Name</th>\n",
    "<th></th><th style=\"text-align:left\">New Column Name</th><th style=\"text-align:center\">Question</th><th style=\"text-align:center\">Responses</th><tr>\n",
    "        <td style=\"text-align:left\"><code>FTRWORRYa_W41</code></td>\n",
    "        <td style=\"text-align:right\">&rarr;</td>\n",
    "        <td style=\"text-align:left\"><code>worry_economy</code></td>\n",
    "        <td style=\"text-align:center\">How worried are you, if at all, about the overall soundess of our economic system?</td>\n",
    "        <td><ul>1 Not too worried</ul><ul>2 Fairly worried</ul><ul>3 Very worried</ul><ul>4 Not at all worried</ul><ul>5 Refused</ul></td>\n",
    "    </tr><tr>\n",
    "        <td style=\"text-align:left\"><code>FTRWORRYb_W41</code></td>\n",
    "        <td style=\"text-align:right\">&rarr;</td>\n",
    "        <td style=\"text-align:left\"><code>worry_public_schools</code></td>\n",
    "        <td style=\"text-align:center\">How worried are you, if at all, about the ability of public schools to provide a quality education?</td>\n",
    "        <td><ul>1 Fairly worried</ul><ul>2 Very worried</ul><ul>3 Not too worried</ul><ul>4 Not at all worried</ul><ul>5 Refused</ul></td>\n",
    "    </tr><tr>\n",
    "        <td style=\"text-align:left\"><code>FTRWORRYc_W41</code></td>\n",
    "        <td style=\"text-align:right\">&rarr;</td>\n",
    "        <td style=\"text-align:left\"><code>worry_government</code></td>\n",
    "        <td style=\"text-align:center\">How worried are you, if at all, about the way the government in Washington works?</td>\n",
    "        <td><ul>1 Fairly worried</ul><ul>2 Very worried</ul><ul>3 Not too worried</ul><ul>4 Not at all worried</ul><ul>5 Refused</ul></td>\n",
    "    </tr><tr>\n",
    "        <td style=\"text-align:left\"><code>FTRWORRYd_W41</code></td>\n",
    "        <td style=\"text-align:right\">&rarr;</td>\n",
    "        <td style=\"text-align:left\"><code>worry_leaders</code></td>\n",
    "        <td style=\"text-align:center\">How worried are you, if at all, about the ability of political leaders to solve the country’s biggest problems?</td>\n",
    "        <td><ul>1 Fairly worried</ul><ul>2 Very worried</ul><ul>3 Not too worried</ul><ul>4 Not at all worried</ul><ul>5 Refused</ul></td>\n",
    "    </tr><tr>\n",
    "        <td style=\"text-align:left\"><code>FTRWORRYe_W41</code></td>\n",
    "        <td style=\"text-align:right\">&rarr;</td>\n",
    "        <td style=\"text-align:left\"><code>worry_morals</code></td>\n",
    "        <td style=\"text-align:center\">How worried are you, if at all, about the moral values of Americans?</td>\n",
    "        <td><ul>1 Fairly worried</ul><ul>2 Very worried</ul><ul>3 Not too worried</ul><ul>4 Not at all worried</ul><ul>5 Refused</ul></td>\n",
    "    </tr><tr>\n",
    "        <td style=\"text-align:left\"><code>FTRWORRYf_W41</code></td>\n",
    "        <td style=\"text-align:right\">&rarr;</td>\n",
    "        <td style=\"text-align:left\"><code>worry_climate</code></td>\n",
    "        <td style=\"text-align:center\">How worried are you, if at all, about climate change?</td>\n",
    "        <td><ul>1 Not too worried</ul><ul>2 Not at all worried</ul><ul>3 Very worried</ul><ul>4 Fairly worried</ul><ul>5 Refused</ul></td>\n",
    "    </tr><tr>\n",
    "        <td style=\"text-align:left\"><code>ELDCARE_W41eldcare</code></td>\n",
    "        <td style=\"text-align:right\">&rarr;</td>\n",
    "        <td style=\"text-align:left\"><code>elder_care</code></td>\n",
    "        <td style=\"text-align:center\">How worried are you, if at all, about climate change?</td>\n",
    "        <td><ul>1 LESS prepared financially for retirement than older adults today</ul><ul>2 BETTER prepared financially for retirement than older adults are today</ul><ul>Refused</ul></td>\n",
    "    </tr><tr>\n",
    "        <td style=\"text-align:left\"><code>ELDFINANCEF1_W41</code></td>\n",
    "        <td style=\"text-align:right\">&rarr;</td>\n",
    "        <td style=\"text-align:left\"><code>elder_finance_1</code></td>\n",
    "        <td style=\"text-align:center\">Who do you think will be mostly responsible for paying for the long-term care older Americans may need?</td>\n",
    "        <td><ul>1 Family members</ul><ul>2 Older Americans themselves</ul><ul>3 Government</ul><ul>4 Refused</ul></td>\n",
    "    </tr><tr>\n",
    "        <td style=\"text-align:left\"><code>ELDFINANCEF2_W41</code></td>\n",
    "        <td style=\"text-align:right\">&rarr;</td>\n",
    "        <td style=\"text-align:left\"><code>elder_finance_2</code></td>\n",
    "        <td style=\"text-align:center\">Who do you think should be mostly responsible for paying for the long-term care older Americans may need?</td>\n",
    "        <td><ul>1 Government</ul><ul>2 Family members</ul><ul>3 Older Americans themselves</ul><ul>4 Refused</ul></td>\n",
    "    </tr><tr>\n",
    "        <td style=\"text-align:left\"><code>GOVPRIOa_W41</code></td>\n",
    "        <td style=\"text-align:right\">&rarr;</td>\n",
    "        <td style=\"text-align:left\"><code>priority_debt</code></td>\n",
    "        <td style=\"text-align:center\">If you were deciding what the federal government should do to improve the quality of life for future generations, what priority would you give to the national debt?</td>\n",
    "        <td><ul>1 A lower priority</ul><ul>2 A top priority</ul><ul>3 An important, but not a top priority</ul><ul>4 Should not be done</ul><ul>5 Refused</ul></td>\n",
    "    </tr><tr>\n",
    "        <td style=\"text-align:left\"><code>GOVPRIOb_W41</code></td>\n",
    "        <td style=\"text-align:right\">&rarr;</td>\n",
    "        <td style=\"text-align:left\"><code>priority_education</code></td>\n",
    "        <td style=\"text-align:center\">If you were deciding what the federal government should do to improve the quality of life for future generations, what priority would you give to increasing spending for education?</td>\n",
    "        <td><ul>1 An important, but not a top priority</ul><ul>2 A top priority</ul><ul>3 Should not be done</ul><ul>4 A lower priority</ul><ul>5 Refused</ul></td>\n",
    "    </tr><tr>\n",
    "        <td style=\"text-align:left\"><code>GOVPRIOc_W41</code></td>\n",
    "        <td style=\"text-align:right\">&rarr;</td>\n",
    "        <td style=\"text-align:left\"><code>priority_healthcare</code></td>\n",
    "        <td style=\"text-align:center\">If you were deciding what the federal government should do to improve the quality of life for future generations, what priority would you give to providing high-quality, affordable health care to all Americans?</td>\n",
    "        <td><ul>1 A lower priority</ul><ul>2 A top priority</ul><ul>3 An important, but not a top priority</ul><ul>4 Should not be done</ul><ul>5 Refused</ul></td>\n",
    "    </tr><tr>\n",
    "        <td style=\"text-align:left\"><code>GOVPRIOd_W41</code></td>\n",
    "        <td style=\"text-align:right\">&rarr;</td>\n",
    "        <td style=\"text-align:left\"><code>priority_science</code></td>\n",
    "        <td style=\"text-align:center\">If you were deciding what the federal government should do to improve the quality of life for future generations, what priority would you give to increasing spending on scientific research?</td>\n",
    "        <td><ul>1 An important, but not a top priority</ul><ul>2 A lower priority</ul><ul>3 Should not be done</ul><ul>4 A top priority</ul><ul>5 Refused</ul></td>\n",
    "    </tr><tr>\n",
    "        <td style=\"text-align:left\"><code>GOVPRIOe_W41</code></td>\n",
    "        <td style=\"text-align:right\">&rarr;</td>\n",
    "        <td style=\"text-align:left\"><code>priority_inequality</code></td>\n",
    "        <td style=\"text-align:center\">If you were deciding what the federal government should do to improve the quality of life for future generations, what priority would you give to reducing the gap between the rich and the poor?</td>\n",
    "        <td><ul>1 A top priority</ul><ul>2 An important, but not a top priority</ul><ul>3 A lower priority</ul><ul>4 Should not be done</ul><ul>5 Refused</ul></td>\n",
    "    </tr><tr>\n",
    "        <td style=\"text-align:left\"><code>GOVPRIOfF1_W41</code></td>\n",
    "        <td style=\"text-align:right\">&rarr;</td>\n",
    "        <td style=\"text-align:left\"><code>priority_reduce_military</code></td>\n",
    "        <td style=\"text-align:center\">If you were deciding what the federal government should do to improve the quality of life for future generations, what priority would you give to reducing military spending?</td>\n",
    "        <td><ul>1 A lower priority</ul><ul>2 An important, but not a top priority</ul><ul>3 Should not be done</ul><ul>4 A top priority</ul><ul>5 Refused</ul></td>\n",
    "    </tr><tr>\n",
    "        <td style=\"text-align:left\"><code>GOVPRIOgF1_W41</code></td>\n",
    "        <td style=\"text-align:right\">&rarr;</td>\n",
    "        <td style=\"text-align:left\"><code>priority_undocumented_immigration</code></td>\n",
    "        <td style=\"text-align:center\">If you were deciding what the federal government should do to improve the quality of life for future generations, what priority would you give to reducing the number of undocumented immigrants coming into the US?</td>\n",
    "        <td><ul>1 A top priority</ul><ul>2 An important, but not a top priority</ul><ul>3 A lower priority</ul><ul>4 Should not be done</ul><ul>5 Refused</ul></td>\n",
    "    </tr><tr>\n",
    "        <td style=\"text-align:left\"><code>GOVPRIOhF1_W41</code></td>\n",
    "        <td style=\"text-align:right\">&rarr;</td>\n",
    "        <td style=\"text-align:left\"><code>priority_increase_social_security</code></td>\n",
    "        <td style=\"text-align:center\">If you were deciding what the federal government should do to improve the quality of life for future generations, what priority would you give to reducing spending on Social Security, Medicare and Medicaid?</td>\n",
    "        <td><ul>1 A top priority</ul><ul>2 Should not be done</ul><ul>3 An important, but not a top priority</ul><ul>4 A lower priority</ul><ul>5 Refused</ul></td>\n",
    "    </tr><tr>\n",
    "        <td style=\"text-align:left\"><code>GOVPRIOjF1_W41</code></td>\n",
    "        <td style=\"text-align:right\">&rarr;</td>\n",
    "        <td style=\"text-align:left\"><code>priority_avoid_tax_increase</code></td>\n",
    "        <td style=\"text-align:center\">If you were deciding what the federal government should do to improve the quality of life for future generations, what priority would you give to avoiding tax increases?</td>\n",
    "        <td><ul>1 A top priority</ul><ul>2 An important, but not a top priority</ul><ul>3 A lower priority</ul><ul>4 Should not be done</ul><ul>5 Refused</ul></td>\n",
    "    </tr><tr>\n",
    "        <td style=\"text-align:left\"><code>GOVPRIOkF2_W41</code></td>\n",
    "        <td style=\"text-align:right\">&rarr;</td>\n",
    "        <td style=\"text-align:left\"><code>priority_increase_military</code></td>\n",
    "        <td style=\"text-align:center\">If you were deciding what the federal government should do to improve the quality of life for future generations, what priority would you give to increasing military spending?</td>\n",
    "        <td><ul>1 An important, but not a top priority</ul><ul>2 A lower priority</ul><ul>3 A top priority</ul><ul>4 Should not be done</ul><ul>5 Refused</ul></td>\n",
    "    </tr><tr>\n",
    "        <td style=\"text-align:left\"><code>GOVPRIOlF2_W41</code></td>\n",
    "        <td style=\"text-align:right\">&rarr;</td>\n",
    "        <td style=\"text-align:left\"><code>priority_more_immigration</code></td>\n",
    "        <td style=\"text-align:center\">If you were deciding what the federal government should do to improve the quality of life for future generations, what priority would you give to allowing more immigrants into the US who come here legally?</td>\n",
    "        <td><ul>1 Should not be done</ul><ul>2 An important, but not a top priority</ul><ul>3 A lower priority</ul><ul>4 A top priority</ul><ul>5 Refused</ul></td>\n",
    "    </tr><tr>\n",
    "        <td style=\"text-align:left\"><code>GOVPRIOnF2_W41</code></td>\n",
    "        <td style=\"text-align:right\">&rarr;</td>\n",
    "        <td style=\"text-align:left\"><code>priority_reducing_spending_infrastructure</code></td>\n",
    "        <td style=\"text-align:center\">If you were deciding what the federal government should do to improve the quality of life for future generations, what priority would you give to reducing spending for roads, bridges and other infrastructure?</td>\n",
    "        <td><ul>1 Should not be done</ul><ul>2 An important, but not a top priority</ul><ul>3 A top priority</ul><ul>4 A lower priority</ul><ul>5 Refused</ul></td>\n",
    "    </tr><tr>\n",
    "        <td style=\"text-align:left\"><code>GOVPRIOoF2_W41</code></td>\n",
    "        <td style=\"text-align:right\">&rarr;</td>\n",
    "        <td style=\"text-align:left\"><code>priority_climate</code></td>\n",
    "        <td style=\"text-align:center\">If you were deciding what the federal government should do to improve the quality of life for future generations, what priority would you give to dealing with climate change?</td>\n",
    "        <td><ul>2 An important, but not a top priority</ul><ul>3 A lower priority</ul><ul>4 Should not be done</ul><ul>5 Refused</ul></td>\n",
    "    </tr><tr>\n",
    "        <td style=\"text-align:left\"><code>SOLVPROBa_W41</code></td>\n",
    "        <td style=\"text-align:right\">&rarr;</td>\n",
    "        <td style=\"text-align:left\"><code>sci_tech</code></td>\n",
    "        <td style=\"text-align:center\">In the future, what kind of an impact do you think Science and Technology will have in solving the biggest problems facing the country?</td>\n",
    "        <td><ul>1 A very positive impact</ul><ul>2 A somewhat negative impact</ul><ul>3 A somewhat positive impact</ul><ul>4 A very negative impact</ul><ul>5 Refused</ul></td>\n",
    "    </tr><tr>\n",
    "        <td style=\"text-align:left\"><code>SOLVPROBb_W41</code></td>\n",
    "        <td style=\"text-align:right\">&rarr;</td>\n",
    "        <td style=\"text-align:left\"><code>major_corps</code></td>\n",
    "        <td style=\"text-align:center\">In the future, what kind of an impact do you think Major Corporations will have in solving the biggest problems facing the country?</td>\n",
    "        <td><ul>1 A somewhat positive impact</ul><ul>2 A somewhat negative impact</ul><ul>3 A very negative impact</ul><ul>4 A very positive impact</ul><ul>5 Refused</ul></td>\n",
    "    </tr><tr>\n",
    "        <td style=\"text-align:left\"><code>SOLVPROBc_W41</code></td>\n",
    "        <td style=\"text-align:right\">&rarr;</td>\n",
    "        <td style=\"text-align:left\"><code>rel_groups</code></td>\n",
    "        <td style=\"text-align:center\">In the future, what kind of an impact do you think Religious Groups will have in solving the biggest problems facing the country?</td>\n",
    "        <td><ul>1 A somewhat positive impact</ul><ul>2 A somewhat negative impact</ul><ul>3 A very positive impact</ul><ul>4 A very negative impact</ul><ul>5 Refused</ul></td>\n",
    "    </tr><tr>\n",
    "        <td style=\"text-align:left\"><code>SOLVPROBdF1_W41</code></td>\n",
    "        <td style=\"text-align:right\">&rarr;</td>\n",
    "        <td style=\"text-align:left\"><code>gov_in_wash</code></td>\n",
    "        <td style=\"text-align:center\">In the future, what kind of an impact do you think the Government in Washington will have in solving the biggest problems facing the country?</td>\n",
    "        <td><ul>1 A somewhat positive impact</ul><ul>2 A very negative impact</ul><ul>3 A somewhat negative impact</ul><ul>4 A very positive impact</ul><ul>5 Refused</ul></td>\n",
    "    </tr><tr>\n",
    "        <td style=\"text-align:left\"><code>SOLVPROBeF2_W41</code></td>\n",
    "        <td style=\"text-align:right\">&rarr;</td>\n",
    "        <td style=\"text-align:left\"><code>state_local</code></td>\n",
    "        <td style=\"text-align:center\">In the future, what kind of an impact do you think State and Local Government will have in solving the biggest problems facing the country?</td>\n",
    "        <td><ul>1 A somewhat negative impact</ul><ul>2 A very positive impact</ul><ul>3 A very negative impact</ul><ul>4 A somewhat positive impact</ul><ul>5 Refused</ul></td>\n",
    "    </tr><tr>\n",
    "        <td style=\"text-align:left\"><code>SOLVPROBf_W41</code></td>\n",
    "        <td style=\"text-align:right\">&rarr;</td>\n",
    "        <td style=\"text-align:left\"><code>media</code></td>\n",
    "        <td style=\"text-align:center\">In the future, what kind of an impact do you think the News Media will have in solving the biggest problems facing the country?</td>\n",
    "        <td><ul>1 A somewhat negative impact</ul><ul>2 A very negative impact</ul><ul>3 A somewhat positive impact</ul><ul>4 A very positive impact</ul><ul>5 Refused</ul></td>\n",
    "    </tr><tr>\n",
    "        <td style=\"text-align:left\"><code>SOLVPROBg_W41</code></td>\n",
    "        <td style=\"text-align:right\">&rarr;</td>\n",
    "        <td style=\"text-align:left\"><code>military</code></td>\n",
    "        <td style=\"text-align:center\">In the future, what kind of an impact do you think the Military will have in solving the biggest problems facing the country?</td>\n",
    "        <td><ul>1 A somewhat positive impact</ul><ul>2 A very positive impact</ul><ul>3 A very negative impact</ul><ul>4 A somewhat negative impact</ul><ul>5 Refused</ul></td>\n",
    "    </tr><tr>\n",
    "        <td style=\"text-align:left\"><code>SOLVPROBh_W41</code></td>\n",
    "        <td style=\"text-align:right\">&rarr;</td>\n",
    "        <td style=\"text-align:left\"><code>college_uni</code></td>\n",
    "        <td style=\"text-align:center\">In the future, what kind of an impact do you think Colleges and Universities will have in solving the biggest problems facing the country?</td>\n",
    "        <td><ul>1 A somewhat positive impact</ul><ul>2 A very negative impact</ul><ul>3 A very positive impact</ul><ul>4 A somewhat negative impact</ul><ul>5 Refused</ul></td>\n",
    "    </tr><tr>\n",
    "        <td style=\"text-align:left\"><code>SOLVPROBi_W41</code></td>\n",
    "        <td style=\"text-align:right\">&rarr;</td>\n",
    "        <td style=\"text-align:left\"><code>schools</code></td>\n",
    "        <td style=\"text-align:center\">In the future, what kind of an impact do you think Public K-12 Schools will have in solving the biggest problems facing the country?</td>\n",
    "        <td><ul>1 A somewhat positive impact</ul><ul>2 A very positive impact</ul><ul>3 A somewhat negative impact</ul><ul>4 A very negative impact</ul><ul>5 Refused</ul></td>\n",
    "    </tr><tr>\n",
    "        <td style=\"text-align:left\"><code>HARASS1F1a_W41</code></td>\n",
    "        <td style=\"text-align:right\">&rarr;</td>\n",
    "        <td style=\"text-align:left\"><code>harass_false_f1</code></td>\n",
    "        <td style=\"text-align:center\">When it comes to sexual harassment and sexual assault in the workplace today, how much of a problem, if at all, would you say is women claiming they have experienced sexual harassment or assault when it hasn’t actually occurred?</td>\n",
    "        <td><ul>1 Major problem</ul><ul>2 Minor problem</ul><ul>3 Not a problem</ul><ul>4 Refused</ul></td>\n",
    "    </tr><tr>\n",
    "        <td style=\"text-align:left\"><code>HARASS1F1b_W41</code></td>\n",
    "        <td style=\"text-align:right\">&rarr;</td>\n",
    "        <td style=\"text-align:left\"><code>harass_fired_f1</code></td>\n",
    "        <td style=\"text-align:center\">When it comes to sexual harassment and sexual assault in the workplace today, how much of a problem, if at all, would you say is employers firing men who have been accused of sexual harassment or assault before finding out all the facts?</td>\n",
    "        <td><ul>1 Major problem</ul><ul>3 Minor problem</ul><ul>4 Not a problem</ul><ul>2 Refused</ul></td>\n",
    "    </tr><tr>\n",
    "        <td style=\"text-align:left\"><code>HARASS1F1c_W41</code></td>\n",
    "        <td style=\"text-align:right\">&rarr;</td>\n",
    "        <td style=\"text-align:left\"><code>harass_unpunished_f1</code></td>\n",
    "        <td style=\"text-align:center\">When it comes to sexual harassment and sexual assault in the workplace today, how much of a problem, if at all, would you say is men getting away with committing sexual harassment or assault?</td>\n",
    "        <td><ul>1 Minor problem</ul><ul>2 Major problem</ul><ul>3 Not a problem</ul><ul>4 Refused</ul></td>\n",
    "    </tr><tr>\n",
    "        <td style=\"text-align:left\"><code>HARASS1F1d_W41</code></td>\n",
    "        <td style=\"text-align:right\">&rarr;</td>\n",
    "        <td style=\"text-align:left\"><code>harass_unbelieved_f1</code></td>\n",
    "        <td style=\"text-align:center\">When it comes to sexual harassment and sexual assault in the workplace today, how much of a problem, if at all, would you say is women not being believed when they claim that they have experienced sexual harassment or assault</td>\n",
    "        <td><ul>1 Minor problem</ul><ul>2 Major problem</ul><ul>3 Not a problem</ul><ul>4 Refused</ul></td>\n",
    "    </tr><tr>\n",
    "        <td style=\"text-align:left\"><code>HARASS1NOWRKF2a_W41</code></td>\n",
    "        <td style=\"text-align:right\">&rarr;</td>\n",
    "        <td style=\"text-align:left\"><code>harass_false_f2</code></td>\n",
    "        <td style=\"text-align:center\">When it comes to sexual harassment and sexual assault today, how much of a problem, if at all, would you say is women claiming they have experienced sexual harassment or assault when it hasn’t actually occurred?</td>\n",
    "        <td><ul>1 Minor problem</ul><ul>2 Major problem</ul><ul>3 Not a problem</ul><ul>4 Refused</ul></td>\n",
    "    </tr><tr>\n",
    "        <td style=\"text-align:left\"><code>HARASS1NOWRKF2c_W41</code></td>\n",
    "        <td style=\"text-align:right\">&rarr;</td>\n",
    "        <td style=\"text-align:left\"><code>harass_unpunished_f2</code></td>\n",
    "        <td style=\"text-align:center\">When it comes to sexual harassment and sexual assault today, how much of a problem, if at all, would you say is men getting away with committing sexual harassment or assault?</td>\n",
    "        <td><ul>1 Minor problem</ul><ul>2 Major problem</ul><ul>3 Not a problem</ul><ul>4 Refused</ul></td>\n",
    "    </tr><tr>\n",
    "        <td style=\"text-align:left\"><code>HARASS1NOWRKF2d_W41</code></td>\n",
    "        <td style=\"text-align:right\">&rarr;</td>\n",
    "        <td style=\"text-align:left\"><code>harass_unbelieved_f2</code></td>\n",
    "        <td style=\"text-align:center\">When it comes to sexual harassment and sexual assault today, how much of a problem, if at all, would you say is women not being believed when they claim that they have experienced sexual harassment or assault?</td>\n",
    "        <td><ul>1 Minor problem</ul><ul>2 Major problem</ul><ul>3 Not a problem</ul><ul>4 Refused</ul></td>\n",
    "    </tr><tr>\n",
    "        <td style=\"text-align:left\"><code>HARASS3F1_W41</code></td>\n",
    "        <td style=\"text-align:right\">&rarr;</td>\n",
    "        <td style=\"text-align:left\"><code>harass_interactions_f1</code></td>\n",
    "        <td style=\"text-align:center\">Do you think the increased focus on sexual harassment and assault has made it easier or harder for men to know how to interact with women in the workplace, or hasn’t it made much difference?</td>\n",
    "        <td><ul>1 Has made it harder for men</ul><ul>2 Hasn't made much difference</ul><ul>3 Has made it easier for men</ul><ul>4 Refused</ul></td>\n",
    "    </tr><tr>\n",
    "        <td style=\"text-align:left\"><code>HARASS3NOWRKF2_W41</code></td>\n",
    "        <td style=\"text-align:right\">&rarr;</td>\n",
    "        <td style=\"text-align:left\"><code>harass_interactions_f2</code></td>\n",
    "        <td style=\"text-align:center\">Do you think the increased focus on sexual harassment and assault has made it easier or harder for men to know how to interact with women in the workplace, or hasn’t it made much difference?</td>\n",
    "        <td><ul>1 Has made it harder for men</ul><ul>2 Has made it easier for men</ul><ul>3 Refused</ul></td>\n",
    "    </tr><tr>\n",
    "        <td style=\"text-align:left\"><code>HARASS4_W41</code></td>\n",
    "        <td style=\"text-align:right\">&rarr;</td>\n",
    "        <td style=\"text-align:left\"><code>harass_personal_exp</code></td>\n",
    "        <td style=\"text-align:center\">Have you ever personally received unwanted sexual advances or verbal or physical harassment of a sexual nature? This can be in any circumstance, whether or not work-related.</td>\n",
    "        <td><ul>1 Yes</ul><ul>2 No</ul><ul>3 Refused</ul></td>\n",
    "    </tr><tr>\n",
    "        <td style=\"text-align:left\"><code>HARASS5_W41</code></td>\n",
    "        <td style=\"text-align:right\">&rarr;</td>\n",
    "        <td style=\"text-align:left\"><code>harass_sexual_personal_exp</code></td>\n",
    "        <td style=\"text-align:center\">Have you received unwanted sexual advances or verbal or physical harassment of a sexual nature…</td>\n",
    "        <td><ul>1 Both</ul><ul>2 In a professional or work setting</ul><ul>3 Outside of a professional or work setting</ul><ul>4 Refused</ul></td>\n",
    "    </tr><tr>\n",
    "        <td style=\"text-align:left\"><code>GNATPROB_W41</code></td>\n",
    "        <td style=\"text-align:right\">&rarr;</td>\n",
    "        <td style=\"text-align:left\"><code>worries_federal_government</code></td>\n",
    "        <td style=\"text-align:center\">Over the next 30 years, which of the following worries you more about the federal government?</td>\n",
    "        <td><ul>1 That the government will be too involved in problems that should be left to businesses and individuals</ul><ul>2 That the government will do too little to solve problems facing the country</ul><ul>3 Refused</ul></td>\n",
    "    </tr><tr>\n",
    "        <td style=\"text-align:left\"><code>WRKTRN1F1_W41</code></td>\n",
    "        <td style=\"text-align:right\">&rarr;</td>\n",
    "        <td style=\"text-align:left\"><code>most_responsible_for_workers_f1</code></td>\n",
    "        <td style=\"text-align:center\">Over the next 30 years, who should be MOST responsible for making sure American workers have the right skills and training to get a good job?</td>\n",
    "        <td><ul>1 Employers</ul><ul>2 Individuals themselves</ul><ul>3 Government</ul><ul>4 The education system</ul><ul>5 Refused</ul></td>\n",
    "    </tr><tr>\n",
    "        <td style=\"text-align:left\"><code>WRKTRN2F1_W41</code></td>\n",
    "        <td style=\"text-align:right\">&rarr;</td>\n",
    "        <td style=\"text-align:left\"><code>second_most_responsible_for_workers_f1</code></td>\n",
    "        <td style=\"text-align:center\">Who should be the SECOND-MOST responsible for making sure American workers have the right skills and training to get a good job?</td>\n",
    "        <td><ul> (LIST WITH R’S ANSWER TO WRKTRN1F1 OMITTED)</ul><ul>1 The education system</ul><ul>2 Employers</ul><ul>3 Individuals themselves</ul><ul>4 Government</ul><ul>5 Refused</ul></td>\n",
    "    </tr><tr>\n",
    "        <td style=\"text-align:left\"><code>WRKTRN2F2_W41</code></td>\n",
    "        <td style=\"text-align:right\">&rarr;</td>\n",
    "        <td style=\"text-align:left\"><code>second_most_responsible_for_workers_f2</code></td>\n",
    "        <td style=\"text-align:center\">Who should be the SECOND-MOST responsible for making sure young adults have the right skills and training to get a good job?</td>\n",
    "        <td><ul> (LIST WITH R’S ANSWER TO WRKTRN1F1 OMITTED)</ul><ul>1 The education system</ul><ul>2 Government</ul><ul>3 Individuals themselves</ul><ul>4 Employers</ul><ul>5 Refused</ul></td>\n",
    "    </tr><tr>\n",
    "        <td style=\"text-align:left\"><code>JOBSECURITY_W41</code></td>\n",
    "        <td style=\"text-align:right\">&rarr;</td>\n",
    "        <td style=\"text-align:left\"><code>job_security</code></td>\n",
    "        <td style=\"text-align:center\">By the year 2050, will the average working person in this country have…</td>\n",
    "        <td><ul>1 Less job security</ul><ul>2 About the same</ul><ul>3 More job security</ul><ul>4 Refused</ul></td>\n",
    "    </tr><tr>\n",
    "        <td style=\"text-align:left\"><code>JOBBENEFITS_W41</code></td>\n",
    "        <td style=\"text-align:right\">&rarr;</td>\n",
    "        <td style=\"text-align:left\"><code>job_benefits</code></td>\n",
    "        <td style=\"text-align:center\">Will the average working person in this country have employee benefits, such as health insurance, paid vacations and retirement plans that are…</td>\n",
    "        <td><ul>1 Not as good as they are now</ul><ul>2 About the same as they are now</ul><ul>3 Better than they are now</ul><ul>4 Refused</ul></td>\n",
    "    </tr><tr>\n",
    "        <td style=\"text-align:left\"><code>AUTOWKPLC_W41</code></td>\n",
    "        <td style=\"text-align:right\">&rarr;</td>\n",
    "        <td style=\"text-align:left\"><code>automation_good_or_bad</code></td>\n",
    "        <td style=\"text-align:center\">Overall, has the automation of jobs through new technology in the workplace…</td>\n",
    "        <td><ul>1 Neither helped nor hurt</ul><ul>2 Mostly hurt American workers</ul><ul>3 Mostly helped American workers</ul><ul>4 Refused</ul></td>\n",
    "    </tr><tr>\n",
    "        <td style=\"text-align:left\"><code>ROBWRK_W41</code></td>\n",
    "        <td style=\"text-align:right\">&rarr;</td>\n",
    "        <td style=\"text-align:left\"><code>replacement_by_robots_likelihood</code></td>\n",
    "        <td style=\"text-align:center\">Overall, how likely do you think it is that 30 years from now robots and computers will do much of the work currently done by humans? Do you think this will…</td>\n",
    "        <td><ul>1 Probably not happen</ul><ul>2 Probably happen</ul><ul>3 Definitely happen</ul><ul>4 Definitely not happen</ul><ul>5 Refused</ul></td>\n",
    "    </tr><tr>\n",
    "        <td style=\"text-align:left\"><code>ROBWRK2_W41</code></td>\n",
    "        <td style=\"text-align:right\">&rarr;</td>\n",
    "        <td style=\"text-align:left\"><code>replacement_by_robots_good_or_bad</code></td>\n",
    "        <td style=\"text-align:center\">If robots and computers do much of the work currently done by humans, do you think this would be…</td>\n",
    "        <td><ul>1 A very bad thing for the country</ul><ul>2 A somewhat bad thing for the country</ul><ul>3 A somewhat good thing for the country</ul><ul>4 A very good thing for the country</ul><ul>5 Refused</ul></td>\n",
    "    </tr><tr>\n",
    "        <td style=\"text-align:left\"><code>AUTOLKLY_W41</code></td>\n",
    "        <td style=\"text-align:right\">&rarr;</td>\n",
    "        <td style=\"text-align:left\"><code>likelihood_my_job_replaced_by_robots</code></td>\n",
    "        <td style=\"text-align:center\">Within the next 30 years, how likely do you think it is that the type of work that you do will be done by robots or computers? Do you think this will…</td>\n",
    "        <td><ul>1 Definitely not happen</ul><ul>2 Probably happen</ul><ul>3 Probably not happen</ul><ul>4 Definitely happen</ul><ul>5 Refused</ul></td>\n",
    "    </tr><tr>\n",
    "        <td style=\"text-align:left\"><code>ROBIMPACTa_W41</code></td>\n",
    "        <td style=\"text-align:right\">&rarr;</td>\n",
    "        <td style=\"text-align:left\"><code>robot_replacement_increase_inequality</code></td>\n",
    "        <td style=\"text-align:center\">If robots and computers perform most of the jobs currently being done by humans, do you think it is likely or not that inequality between the rich and the poor would increase?</td>\n",
    "        <td><ul>1 Yes, likely</ul><ul>2 No, not likely</ul><ul>3 Refused</ul></td>\n",
    "    </tr><tr>\n",
    "        <td style=\"text-align:left\"><code>ROBIMPACTb_W41</code></td>\n",
    "        <td style=\"text-align:right\">&rarr;</td>\n",
    "        <td style=\"text-align:left\"><code>robot_replacement_means_better_jobs_for_humans</code></td>\n",
    "        <td style=\"text-align:center\">If robots and computers perform most of the jobs currently being done by humans, do you think it is likely or not that the economy would create many new, better-paying jobs for humans?</td>\n",
    "        <td><ul>1 Yes, likely</ul><ul>2 No, not likely</ul><ul>3 Refused</ul></td>\n",
    "    </tr><tr>\n",
    "        <td style=\"text-align:left\"><code>LEGALIMG_W41</code></td>\n",
    "        <td style=\"text-align:right\">&rarr;</td>\n",
    "        <td style=\"text-align:left\"><code>legal_immigration_levels</code></td>\n",
    "        <td style=\"text-align:center\">In order to maintain the strength of the U.S. economy over the next 30 years, do you think that LEGAL immigration will need to be…</td>\n",
    "        <td><ul>1 Maintained at current levels</ul><ul>2 Decreased</ul><ul>3 Increased</ul><ul>4 Refused</ul></td>\n",
    "    </tr><tr>\n",
    "        <td style=\"text-align:left\"><code>FUTRCLASSa_W41</code></td>\n",
    "        <td style=\"text-align:right\">&rarr;</td>\n",
    "        <td style=\"text-align:left\"><code>share_americans_in_upper_class</code></td>\n",
    "        <td style=\"text-align:center\">Over the next 30 years, do you think the share of Americans who are in the Upper Class will increase, decrease, or stay about the same?</td>\n",
    "        <td><ul>1 Increase</ul><ul>2 Decrease</ul><ul>3 Stay about the same</ul><ul>4 Refused</ul></td>\n",
    "    </tr><tr>\n",
    "        <td style=\"text-align:left\"><code>FUTRCLASSb_W41</code></td>\n",
    "        <td style=\"text-align:right\">&rarr;</td>\n",
    "        <td style=\"text-align:left\"><code>share_americans_in_middle_class</code></td>\n",
    "        <td style=\"text-align:center\">Over the next 30 years, do you think the share of Americans who are in the Middle Class will increase, decrease, or stay about the same?</td>\n",
    "        <td><ul>1 Increase</ul><ul>2 Decrease</ul><ul>3 Stay about the same</ul><ul>4 Refused</ul></td>\n",
    "    </tr><tr>\n",
    "        <td style=\"text-align:left\"><code>FUTRCLASSc_W41</code></td>\n",
    "        <td style=\"text-align:right\">&rarr;</td>\n",
    "        <td style=\"text-align:left\"><code>share_americans_in_lower_class</code></td>\n",
    "        <td style=\"text-align:center\">Over the next 30 years, do you think the share of Americans who are in the Lower Class will increase, decrease, or stay about the same?</td>\n",
    "        <td><ul>1 Increase</ul><ul>2 Decrease</ul><ul>3 Stay about the same</ul><ul>4 Refused</ul></td>\n",
    "    </tr><tr>\n",
    "        <td style=\"text-align:left\"><code>F_EDUCCAT</code></td>\n",
    "        <td style=\"text-align:right\">&rarr;</td>\n",
    "        <td style=\"text-align:left\"><code>highest_education_three_categories</code></td>\n",
    "        <td style=\"text-align:center\">Three-way category coded from self-reported educational attainment.</td>\n",
    "        <td><ul>1 College graduate+ (EDUC_ACS =11,12,13,14)</ul><ul>2 H.S. graduate or less (EDUC_ACS =1,2,3,4,5,6,7)</ul><ul>3 Some College (EDUC_ACS =8,9,10)</ul><ul>4 Don't know/Refused (EDUC_ACS =Refused)</ul></td>\n",
    "    </tr><tr>\n",
    "        <td style=\"text-align:left\"><code>F_EDUCCAT2</code></td>\n",
    "        <td style=\"text-align:right\">&rarr;</td>\n",
    "        <td style=\"text-align:left\"><code>highest_education_six_categories</code></td>\n",
    "        <td style=\"text-align:center\">Six-way category coded from self-reported educational attainment.</td>\n",
    "        <td><ul>1 Less than high school (EDUC_ACS=1,2,3,4,5)</ul><ul>2 High school graduate (EDUC_ACS =6,7)</ul><ul>3 Some college, no degree (EDUC_ACS=8,9)</ul><ul>4 Associate's degree (EDUC_ACS=10)</ul><ul>5 College graduate/some post grad (EDUC_ACS =11)</ul><ul>6 Postgraduate (EDUC_ACS =12,13,14)</ul><ul>7 Don't know/Refused (EDUC_ACS =Refused)</ul></td>\n",
    "    </tr><tr>\n",
    "        <td style=\"text-align:left\"><code>F_HISP</code></td>\n",
    "        <td style=\"text-align:right\">&rarr;</td>\n",
    "        <td style=\"text-align:left\"><code>hispanic_or_latino</code></td>\n",
    "        <td style=\"text-align:center\">Are you of Hispanic, Latino, or Spanish origin, such as Mexican, Puerto Rican or Cuban?</td>\n",
    "        <td><ul>1 No</ul><ul>2 Yes</ul><ul>3 Refused</ul></td>\n",
    "    </tr><tr>\n",
    "        <td style=\"text-align:left\"><code>F_RACECMB</code></td>\n",
    "        <td style=\"text-align:right\">&rarr;</td>\n",
    "        <td style=\"text-align:left\"><code>race</code></td>\n",
    "        <td style=\"text-align:center\">Combining race.</td>\n",
    "        <td><ul>1 White</ul><ul>2 Mixed Race</ul><ul>3 Or some other race</ul><ul>4 Black or African American</ul><ul>5 Asian or Asian-American</ul><ul>6 Refused</ul></td>\n",
    "    </tr><tr>\n",
    "        <td style=\"text-align:left\"><code>F_RACETHN</code></td>\n",
    "        <td style=\"text-align:right\">&rarr;</td>\n",
    "        <td style=\"text-align:left\"><code>race_and_ethnicity</code></td>\n",
    "        <td style=\"text-align:center\">Race-ethnicity.</td>\n",
    "        <td><ul>1 White non-Hispanic</ul><ul>2 Other</ul><ul>3 Hispanic</ul><ul>4 Black non-Hispanic</ul><ul>5 Refused</ul></td>\n",
    "    </tr><tr>\n",
    "        <td style=\"text-align:left\"><code>F_NATIVITY</code></td>\n",
    "        <td style=\"text-align:right\">&rarr;</td>\n",
    "        <td style=\"text-align:left\"><code>birthplace</code></td>\n",
    "        <td style=\"text-align:center\">Were you born in the United States, on the island of Puerto Rico, or in another country?</td>\n",
    "        <td><ul>1 U.S.</ul><ul>2 Another country</ul><ul>3 Puerto Rico</ul><ul>4 Other U.S. territory</ul><ul>5 Refused</ul></td>\n",
    "    </tr><tr>\n",
    "        <td style=\"text-align:left\"><code>F_CITIZEN</code></td>\n",
    "        <td style=\"text-align:right\">&rarr;</td>\n",
    "        <td style=\"text-align:left\"><code>us_citizen</code></td>\n",
    "        <td style=\"text-align:center\">Are you a citizen of the United States?</td>\n",
    "        <td><ul>1 Yes</ul><ul>2 No</ul><ul>3 Refused</ul></td>\n",
    "    </tr><tr>\n",
    "        <td style=\"text-align:left\"><code>F_MARITAL</code></td>\n",
    "        <td style=\"text-align:right\">&rarr;</td>\n",
    "        <td style=\"text-align:left\"><code>marital_status</code></td>\n",
    "        <td style=\"text-align:center\">Marital status.</td>\n",
    "        <td><ul>1 Married</ul><ul>2 Divorced</ul><ul>3 Never been married</ul><ul>4 Widowed</ul><ul>5 Living with a partner</ul><ul>6 Separated</ul><ul>7 Refused</ul></td>\n",
    "    </tr><tr>\n",
    "        <td style=\"text-align:left\"><code>F_RELIG</code></td>\n",
    "        <td style=\"text-align:right\">&rarr;</td>\n",
    "        <td style=\"text-align:left\"><code>religion</code></td>\n",
    "        <td style=\"text-align:center\">Religion.</td>\n",
    "        <td><ul>1 Roman Catholic</ul><ul>2 Protestant (for example, Baptist, Methodist, Non-denominational, Lutheran, Presbyterian, Pentecostal, Episcopalian, Refo</ul><ul>3 Nothing in particular</ul><ul>4 Atheist</ul><ul>5 Something else, Specify</ul><ul>6 Jewish</ul><ul>7 Agnostic</ul><ul>8 Mormon (Church of Jesus Christ of Latter-day Saints or LDS)</ul><ul>9 Hindu</ul><ul>10 Muslim</ul><ul>11 Orthodox (such as Greek, Russian, or some other Orthodox church)</ul><ul>12 Buddhist</ul><ul>13 Refused</ul></td>\n",
    "    </tr><tr>\n",
    "        <td style=\"text-align:left\"><code>F_BORN</code></td>\n",
    "        <td style=\"text-align:right\">&rarr;</td>\n",
    "        <td style=\"text-align:left\"><code>evangelical_christian</code></td>\n",
    "        <td style=\"text-align:center\">Born-again or evangelical Christian.</td>\n",
    "        <td><ul>1 No, not born-again or evangelical Christian</ul><ul>2 Yes, born-again or evangelical Christian</ul><ul>3 Refused</ul></td>\n",
    "    </tr><tr>\n",
    "        <td style=\"text-align:left\"><code>F_ATTEND</code></td>\n",
    "        <td style=\"text-align:right\">&rarr;</td>\n",
    "        <td style=\"text-align:left\"><code>church_attendance</code></td>\n",
    "        <td style=\"text-align:center\">Aside from weddings and funerals, how often do you attend religious services?</td>\n",
    "        <td><ul>1 A few times a year</ul><ul>2 More than once a week</ul><ul>3 Once a week</ul><ul>4 Seldom</ul><ul>5 Once or twice a month</ul><ul>6 Never</ul><ul>7 Refused</ul></td>\n",
    "    </tr><tr>\n",
    "        <td style=\"text-align:left\"><code>F_PARTY_FINAL</code></td>\n",
    "        <td style=\"text-align:right\">&rarr;</td>\n",
    "        <td style=\"text-align:left\"><code>political_party_identity</code></td>\n",
    "        <td style=\"text-align:center\">In politics today, do you consider yourself a…</td>\n",
    "        <td><ul>1 Democrat</ul><ul>2 Republican</ul><ul>3 Independent</ul><ul>4 Something else</ul><ul>5 Refused</ul></td>\n",
    "    </tr><tr>\n",
    "        <td style=\"text-align:left\"><code>F_PARTYLN_FINAL</code></td>\n",
    "        <td style=\"text-align:right\">&rarr;</td>\n",
    "        <td style=\"text-align:left\"><code>political_party_lean</code></td>\n",
    "        <td style=\"text-align:center\">As of today do you lean more to…</td>\n",
    "        <td><ul>1 The Republican Party</ul><ul>2 The Democratic Party</ul><ul>3 Refused</ul></td>\n",
    "    </tr><tr>\n",
    "        <td style=\"text-align:left\"><code>F_PARTYSUM_FINAL</code></td>\n",
    "        <td style=\"text-align:right\">&rarr;</td>\n",
    "        <td style=\"text-align:left\"><code>summary_of_political_party_data</code></td>\n",
    "        <td style=\"text-align:center\">Party summary.</td>\n",
    "        <td><ul>1 Dem/Lean Dem</ul><ul>2  Rep/Lean Rep</ul><ul>3 DK/Refused/No lean</ul></td>\n",
    "    </tr><tr>\n",
    "        <td style=\"text-align:left\"><code>F_INCOME</code></td>\n",
    "        <td style=\"text-align:right\">&rarr;</td>\n",
    "        <td style=\"text-align:left\"><code>family_income_nine_categories</code></td>\n",
    "        <td style=\"text-align:center\">Family income.</td>\n",
    "        <td><ul>1 Less than $10,000</ul><ul>2 $10,000 to less than $20,000</ul><ul>3 $20,000 to less than $30,000</ul><ul>4 $30,000 to less than $40,000</ul><ul>5 $40,000 to less than $50,000</ul><ul>6 $50,000 to less than $75,000</ul><ul>7 $75,000 to less than $100,000</ul><ul>8 $100,000 to less than $150,000</ul><ul>9 $150,000 or more</ul><ul>10 Refused</ul></td>\n",
    "    </tr><tr>\n",
    "        <td style=\"text-align:left\"><code>F_INCOME_RECODE</code></td>\n",
    "        <td style=\"text-align:right\">&rarr;</td>\n",
    "        <td style=\"text-align:left\"><code>family_income_three_categories</code></td>\n",
    "        <td style=\"text-align:center\">Three-way category coded from self-reported family income.</td>\n",
    "        <td><ul>1 <$30,000</ul><ul>2 $30-$74,999</ul><ul>3 $75,000+</ul><ul>4 Don't know/Refused</ul></td>\n",
    "    </tr><tr>\n",
    "        <td style=\"text-align:left\"><code>F_REG</code></td>\n",
    "        <td style=\"text-align:right\">&rarr;</td>\n",
    "        <td style=\"text-align:left\"><code>registered_to_vote</code></td>\n",
    "        <td style=\"text-align:center\">Which of these statements best describes you?</td>\n",
    "        <td><ul>1 You are ABSOLUTELY CERTAIN that you are registered to vote at your current address</ul><ul>2 You are NOT registered to vote at your current address</ul><ul>3 You are PROBABLY registered, but there is a chance your registration has lapsed</ul><ul>4 Refused</ul></td>\n",
    "    </tr><tr>\n",
    "        <td style=\"text-align:left\"><code>F_IDEO</code></td>\n",
    "        <td style=\"text-align:right\">&rarr;</td>\n",
    "        <td style=\"text-align:left\"><code>political_views</code></td>\n",
    "        <td style=\"text-align:center\"></td>\n",
    "        <td><ul>1 Liberal</ul><ul>2 Conservative</ul><ul>3 Moderate</ul><ul>4 Very conservative</ul><ul>5 Very liberal</ul><ul>6 Refused</ul></td>\n",
    "    </tr><tr>\n",
    "        <td style=\"text-align:left\"><code>F_INTUSER</code></td>\n",
    "        <td style=\"text-align:right\">&rarr;</td>\n",
    "        <td style=\"text-align:left\"><code>internet_access</code></td>\n",
    "        <td style=\"text-align:center\">Do you personally have access to the internet at your home?</td>\n",
    "        <td><ul>1 Internet User</ul><ul>2 Non Internet User</ul></td>\n",
    "    </tr><tr>\n",
    "        <td style=\"text-align:left\"><code>F_VOLSUM</code></td>\n",
    "        <td style=\"text-align:right\">&rarr;</td>\n",
    "        <td style=\"text-align:left\"><code>volunteer</code></td>\n",
    "        <td style=\"text-align:center\">Do you personally have access to the internet at your home?</td>\n",
    "        <td><ul>1 Yes</ul><ul>2 No</ul><ul>3 Refused</ul></td>\n",
    "    </tr></table>\n",
    "\n",
    "<a name='bottom_of_data_dict'></a>"
   ]
  },
  {
   "cell_type": "markdown",
   "id": "cbf053dc",
   "metadata": {},
   "source": [
    "<a name='acquire_takeaways'></a>\n",
    "## Takeaways from Acquire:\n",
    "> - We acquired a DataFrame from a Pew Research Panel survey which contained 2524 observations and 124 columns.\n",
    ">\n",
    ">\n",
    "> - Each row represents an individual American adult and his or her responses to the survey questions.\n",
    ">\n",
    ">\n",
    "> - Of our 124 columns, 2 are continuous and numeric: `qkey` and `weight`. The remaining 122 columns are categorical features. \n",
    ">    - The `weight` column indicates the corresponding survey weight of each respondent in the sample. The survey weight indicates how representative an observation is of the total population.\n",
    ">\n",
    ">\n",
    "> - The survey results provide us with information regarding each respondents' views about the future of the United States. In addition,the acquired data contains demographic data for each respondent, including gender, race, income level, and political affiliation.\n",
    "<div style=\"text-align: right\"><a href='#toc'>Table of Contents</a></div>\n",
    "<hr style=\"border-top: 10px groove tan; margin-top: 1px; margin-bottom: 1px\"></hr>"
   ]
  },
  {
   "cell_type": "markdown",
   "id": "6e2b5bf6",
   "metadata": {},
   "source": [
    "<a name='prepare'></a>\n",
    "# Prepare Data\n",
    "✓ _Plan_ ➜ ✓ _Acquire_ ➜ 🟢 **Prepare** ➜ ☐ _Explore_ ➜ ☐ _Model_ ➜ ☐ _Deliver_\n",
    "\n",
    "> We will import our `prepare.py` file, which performs a series of steps to clean and prepare our data: \n",
    ">\n",
    "> - **First**, we convert the categorical features in the DataFrame to objects.     \n",
    ">\n",
    "> - **Second**, because our target variable will be the respondents' prospective thinking, we drop rows for which the respondent refused to answer the question about prospective thinking in the column `OPTIMISMT_W41`.  \n",
    ">\n",
    "> - **Third**, we rename the columns as indiciated by our data dictionary above.     \n",
    ">\n",
    "> - **Fourth**, from the column `OPTIMIST_W41`, we create new columns `is_pes`, `pes_val`, `is_very_pes`, and `is_very_opt`.  \n",
    "    - The column `is_pes` introduces a Boolean value where 1 indicates a pessimistic outlook and is 0 indicates an optimistic outlook. \n",
    "    - The column `pes_val` ranks a respondent's pessisism, with 0 being the least pessismistic and 3 being the most pessimistic. \n",
    "    - The column `is_very_pes` introduces a Boolean value where 1 indicates a very pessimistic outlook and 0 indicates a somewhat pessimistic, somewhat optimistic, or very optimistic outlook. \n",
    "    - The column `is_very_opt` introduces a Boolean value where 1 indicates a very optimistic outlook and 0 indicates a somewhat optimistic, somewhat pessimistic, or very pessimistic outlook. \n",
    ">\n",
    "> - **Fifth**, we create a `replace_key` which transforms every response in the categorical columns to a corresponding numeric value. We also introduce a `revert_key` which reverts the numeric values back to the original string responses.   \n",
    ">\n",
    "> - **Finally**, we convert the column indicating the unique identity of each respondent `QKEY` to an integer. \n",
    ">\n",
    ">\n",
    "> Additionally, we split the data into `train`, `validate`, and `test` datasets, stratifying on the target feature `is_pes`."
   ]
  },
  {
   "cell_type": "markdown",
   "id": "6ce64a78",
   "metadata": {},
   "source": [
    "<a name='data_attributes'></a>\n",
    "## Data Attributes"
   ]
  },
  {
   "cell_type": "code",
   "execution_count": 6,
   "id": "c9c7c860",
   "metadata": {
    "scrolled": true
   },
   "outputs": [
    {
     "data": {
      "text/html": [
       "<div>\n",
       "<style scoped>\n",
       "    .dataframe tbody tr th:only-of-type {\n",
       "        vertical-align: middle;\n",
       "    }\n",
       "\n",
       "    .dataframe tbody tr th {\n",
       "        vertical-align: top;\n",
       "    }\n",
       "\n",
       "    .dataframe thead th {\n",
       "        text-align: right;\n",
       "    }\n",
       "</style>\n",
       "<table border=\"1\" class=\"dataframe\">\n",
       "  <thead>\n",
       "    <tr style=\"text-align: right;\">\n",
       "      <th></th>\n",
       "      <th>qkey</th>\n",
       "      <th>device_type</th>\n",
       "      <th>language</th>\n",
       "      <th>form</th>\n",
       "      <th>attitude</th>\n",
       "      <th>avg_family</th>\n",
       "      <th>happen_general</th>\n",
       "      <th>happen_health</th>\n",
       "      <th>happen_race</th>\n",
       "      <th>happen_usa</th>\n",
       "      <th>...</th>\n",
       "      <th>family_income_three_categories</th>\n",
       "      <th>registered_to_vote</th>\n",
       "      <th>political_views</th>\n",
       "      <th>internet_access</th>\n",
       "      <th>volunteer</th>\n",
       "      <th>weight</th>\n",
       "      <th>is_pes</th>\n",
       "      <th>pes_val</th>\n",
       "      <th>is_very_pes</th>\n",
       "      <th>is_very_opt</th>\n",
       "    </tr>\n",
       "  </thead>\n",
       "  <tbody>\n",
       "    <tr>\n",
       "      <th>0</th>\n",
       "      <td>100363</td>\n",
       "      <td>Mobile phone</td>\n",
       "      <td>English</td>\n",
       "      <td>Form 1</td>\n",
       "      <td>Somewhat optimistic</td>\n",
       "      <td>Get worse</td>\n",
       "      <td>The U.S. economy will be STRONGER</td>\n",
       "      <td>Health care will be MORE affordable</td>\n",
       "      <td>Race relations will IMPROVE</td>\n",
       "      <td>The U.S. will be MORE important in the world</td>\n",
       "      <td>...</td>\n",
       "      <td>$75,000+</td>\n",
       "      <td>You are ABSOLUTELY CERTAIN that you are regist...</td>\n",
       "      <td>Liberal</td>\n",
       "      <td>Internet User</td>\n",
       "      <td>No</td>\n",
       "      <td>0.599006</td>\n",
       "      <td>0</td>\n",
       "      <td>1</td>\n",
       "      <td>0</td>\n",
       "      <td>0</td>\n",
       "    </tr>\n",
       "    <tr>\n",
       "      <th>1</th>\n",
       "      <td>101224</td>\n",
       "      <td>Mobile phone</td>\n",
       "      <td>English</td>\n",
       "      <td>Form 1</td>\n",
       "      <td>Somewhat optimistic</td>\n",
       "      <td>Get better</td>\n",
       "      <td>The U.S. economy will be STRONGER</td>\n",
       "      <td>Health care will be LESS affordable</td>\n",
       "      <td>Race relations will IMPROVE</td>\n",
       "      <td>The U.S. will be MORE important in the world</td>\n",
       "      <td>...</td>\n",
       "      <td>$30-$74,999</td>\n",
       "      <td>You are ABSOLUTELY CERTAIN that you are regist...</td>\n",
       "      <td>Conservative</td>\n",
       "      <td>Internet User</td>\n",
       "      <td>Yes</td>\n",
       "      <td>0.292981</td>\n",
       "      <td>0</td>\n",
       "      <td>1</td>\n",
       "      <td>0</td>\n",
       "      <td>0</td>\n",
       "    </tr>\n",
       "    <tr>\n",
       "      <th>2</th>\n",
       "      <td>101437</td>\n",
       "      <td>Desktop</td>\n",
       "      <td>English</td>\n",
       "      <td>Form 1</td>\n",
       "      <td>Somewhat pessimistic</td>\n",
       "      <td>Get worse</td>\n",
       "      <td>The U.S. economy will be WEAKER</td>\n",
       "      <td>Health care will be LESS affordable</td>\n",
       "      <td>Race relations will GET WORSE</td>\n",
       "      <td>The U.S. will be LESS important in the world</td>\n",
       "      <td>...</td>\n",
       "      <td>&lt;$30,000</td>\n",
       "      <td>You are ABSOLUTELY CERTAIN that you are regist...</td>\n",
       "      <td>Conservative</td>\n",
       "      <td>Internet User</td>\n",
       "      <td>No</td>\n",
       "      <td>0.418871</td>\n",
       "      <td>1</td>\n",
       "      <td>2</td>\n",
       "      <td>0</td>\n",
       "      <td>0</td>\n",
       "    </tr>\n",
       "    <tr>\n",
       "      <th>3</th>\n",
       "      <td>102130</td>\n",
       "      <td>Mobile phone</td>\n",
       "      <td>English</td>\n",
       "      <td>Form 1</td>\n",
       "      <td>Somewhat optimistic</td>\n",
       "      <td>Stay about the same</td>\n",
       "      <td>The U.S. economy will be WEAKER</td>\n",
       "      <td>Health care will be LESS affordable</td>\n",
       "      <td>Race relations will IMPROVE</td>\n",
       "      <td>The U.S. will be LESS important in the world</td>\n",
       "      <td>...</td>\n",
       "      <td>Don't know/Refused</td>\n",
       "      <td>You are ABSOLUTELY CERTAIN that you are regist...</td>\n",
       "      <td>Moderate</td>\n",
       "      <td>Non Internet User</td>\n",
       "      <td>Yes</td>\n",
       "      <td>0.342058</td>\n",
       "      <td>0</td>\n",
       "      <td>1</td>\n",
       "      <td>0</td>\n",
       "      <td>0</td>\n",
       "    </tr>\n",
       "    <tr>\n",
       "      <th>4</th>\n",
       "      <td>103094</td>\n",
       "      <td>Mobile phone</td>\n",
       "      <td>English</td>\n",
       "      <td>Form 1</td>\n",
       "      <td>Somewhat optimistic</td>\n",
       "      <td>Stay about the same</td>\n",
       "      <td>Refused</td>\n",
       "      <td>Health care will be LESS affordable</td>\n",
       "      <td>Refused</td>\n",
       "      <td>The U.S. will be LESS important in the world</td>\n",
       "      <td>...</td>\n",
       "      <td>&lt;$30,000</td>\n",
       "      <td>You are NOT registered to vote at your current...</td>\n",
       "      <td>Liberal</td>\n",
       "      <td>Internet User</td>\n",
       "      <td>Yes</td>\n",
       "      <td>0.329465</td>\n",
       "      <td>0</td>\n",
       "      <td>1</td>\n",
       "      <td>0</td>\n",
       "      <td>0</td>\n",
       "    </tr>\n",
       "  </tbody>\n",
       "</table>\n",
       "<p>5 rows × 128 columns</p>\n",
       "</div>"
      ],
      "text/plain": [
       "     qkey   device_type language    form              attitude  \\\n",
       "0  100363  Mobile phone  English  Form 1   Somewhat optimistic   \n",
       "1  101224  Mobile phone  English  Form 1   Somewhat optimistic   \n",
       "2  101437       Desktop  English  Form 1  Somewhat pessimistic   \n",
       "3  102130  Mobile phone  English  Form 1   Somewhat optimistic   \n",
       "4  103094  Mobile phone  English  Form 1   Somewhat optimistic   \n",
       "\n",
       "            avg_family                     happen_general  \\\n",
       "0            Get worse  The U.S. economy will be STRONGER   \n",
       "1           Get better  The U.S. economy will be STRONGER   \n",
       "2            Get worse    The U.S. economy will be WEAKER   \n",
       "3  Stay about the same    The U.S. economy will be WEAKER   \n",
       "4  Stay about the same                            Refused   \n",
       "\n",
       "                         happen_health                    happen_race  \\\n",
       "0  Health care will be MORE affordable    Race relations will IMPROVE   \n",
       "1  Health care will be LESS affordable    Race relations will IMPROVE   \n",
       "2  Health care will be LESS affordable  Race relations will GET WORSE   \n",
       "3  Health care will be LESS affordable    Race relations will IMPROVE   \n",
       "4  Health care will be LESS affordable                        Refused   \n",
       "\n",
       "                                     happen_usa  ...  \\\n",
       "0  The U.S. will be MORE important in the world  ...   \n",
       "1  The U.S. will be MORE important in the world  ...   \n",
       "2  The U.S. will be LESS important in the world  ...   \n",
       "3  The U.S. will be LESS important in the world  ...   \n",
       "4  The U.S. will be LESS important in the world  ...   \n",
       "\n",
       "  family_income_three_categories  \\\n",
       "0                       $75,000+   \n",
       "1                    $30-$74,999   \n",
       "2                       <$30,000   \n",
       "3             Don't know/Refused   \n",
       "4                       <$30,000   \n",
       "\n",
       "                                  registered_to_vote political_views  \\\n",
       "0  You are ABSOLUTELY CERTAIN that you are regist...         Liberal   \n",
       "1  You are ABSOLUTELY CERTAIN that you are regist...    Conservative   \n",
       "2  You are ABSOLUTELY CERTAIN that you are regist...    Conservative   \n",
       "3  You are ABSOLUTELY CERTAIN that you are regist...        Moderate   \n",
       "4  You are NOT registered to vote at your current...         Liberal   \n",
       "\n",
       "     internet_access volunteer    weight is_pes pes_val is_very_pes  \\\n",
       "0      Internet User        No  0.599006      0       1           0   \n",
       "1      Internet User       Yes  0.292981      0       1           0   \n",
       "2      Internet User        No  0.418871      1       2           0   \n",
       "3  Non Internet User       Yes  0.342058      0       1           0   \n",
       "4      Internet User       Yes  0.329465      0       1           0   \n",
       "\n",
       "  is_very_opt  \n",
       "0           0  \n",
       "1           0  \n",
       "2           0  \n",
       "3           0  \n",
       "4           0  \n",
       "\n",
       "[5 rows x 128 columns]"
      ]
     },
     "execution_count": 6,
     "metadata": {},
     "output_type": "execute_result"
    }
   ],
   "source": [
    "df, revert_key, replace_key = p.wrangle_data()\n",
    "df.head()"
   ]
  },
  {
   "cell_type": "code",
   "execution_count": 7,
   "id": "15d4e04d",
   "metadata": {},
   "outputs": [
    {
     "data": {
      "text/html": [
       "<div>\n",
       "<style scoped>\n",
       "    .dataframe tbody tr th:only-of-type {\n",
       "        vertical-align: middle;\n",
       "    }\n",
       "\n",
       "    .dataframe tbody tr th {\n",
       "        vertical-align: top;\n",
       "    }\n",
       "\n",
       "    .dataframe thead th {\n",
       "        text-align: right;\n",
       "    }\n",
       "</style>\n",
       "<table border=\"1\" class=\"dataframe\">\n",
       "  <thead>\n",
       "    <tr style=\"text-align: right;\">\n",
       "      <th></th>\n",
       "      <th>qkey</th>\n",
       "      <th>device_type</th>\n",
       "      <th>language</th>\n",
       "      <th>form</th>\n",
       "      <th>attitude</th>\n",
       "      <th>avg_family</th>\n",
       "      <th>happen_general</th>\n",
       "      <th>happen_health</th>\n",
       "      <th>happen_race</th>\n",
       "      <th>happen_usa</th>\n",
       "      <th>...</th>\n",
       "      <th>family_income_three_categories</th>\n",
       "      <th>registered_to_vote</th>\n",
       "      <th>political_views</th>\n",
       "      <th>internet_access</th>\n",
       "      <th>volunteer</th>\n",
       "      <th>weight</th>\n",
       "      <th>is_pes</th>\n",
       "      <th>pes_val</th>\n",
       "      <th>is_very_pes</th>\n",
       "      <th>is_very_opt</th>\n",
       "    </tr>\n",
       "  </thead>\n",
       "  <tbody>\n",
       "    <tr>\n",
       "      <th>0</th>\n",
       "      <td>100363</td>\n",
       "      <td>0</td>\n",
       "      <td>0</td>\n",
       "      <td>0</td>\n",
       "      <td>0</td>\n",
       "      <td>0</td>\n",
       "      <td>0</td>\n",
       "      <td>0</td>\n",
       "      <td>0</td>\n",
       "      <td>0</td>\n",
       "      <td>...</td>\n",
       "      <td>0</td>\n",
       "      <td>0</td>\n",
       "      <td>0</td>\n",
       "      <td>0</td>\n",
       "      <td>0</td>\n",
       "      <td>0.599006</td>\n",
       "      <td>0</td>\n",
       "      <td>1</td>\n",
       "      <td>0</td>\n",
       "      <td>0</td>\n",
       "    </tr>\n",
       "    <tr>\n",
       "      <th>1</th>\n",
       "      <td>101224</td>\n",
       "      <td>0</td>\n",
       "      <td>0</td>\n",
       "      <td>0</td>\n",
       "      <td>0</td>\n",
       "      <td>1</td>\n",
       "      <td>0</td>\n",
       "      <td>1</td>\n",
       "      <td>0</td>\n",
       "      <td>0</td>\n",
       "      <td>...</td>\n",
       "      <td>1</td>\n",
       "      <td>0</td>\n",
       "      <td>1</td>\n",
       "      <td>0</td>\n",
       "      <td>1</td>\n",
       "      <td>0.292981</td>\n",
       "      <td>0</td>\n",
       "      <td>1</td>\n",
       "      <td>0</td>\n",
       "      <td>0</td>\n",
       "    </tr>\n",
       "    <tr>\n",
       "      <th>2</th>\n",
       "      <td>101437</td>\n",
       "      <td>1</td>\n",
       "      <td>0</td>\n",
       "      <td>0</td>\n",
       "      <td>1</td>\n",
       "      <td>0</td>\n",
       "      <td>1</td>\n",
       "      <td>1</td>\n",
       "      <td>1</td>\n",
       "      <td>1</td>\n",
       "      <td>...</td>\n",
       "      <td>2</td>\n",
       "      <td>0</td>\n",
       "      <td>1</td>\n",
       "      <td>0</td>\n",
       "      <td>0</td>\n",
       "      <td>0.418871</td>\n",
       "      <td>1</td>\n",
       "      <td>2</td>\n",
       "      <td>0</td>\n",
       "      <td>0</td>\n",
       "    </tr>\n",
       "    <tr>\n",
       "      <th>3</th>\n",
       "      <td>102130</td>\n",
       "      <td>0</td>\n",
       "      <td>0</td>\n",
       "      <td>0</td>\n",
       "      <td>0</td>\n",
       "      <td>2</td>\n",
       "      <td>1</td>\n",
       "      <td>1</td>\n",
       "      <td>0</td>\n",
       "      <td>1</td>\n",
       "      <td>...</td>\n",
       "      <td>3</td>\n",
       "      <td>0</td>\n",
       "      <td>2</td>\n",
       "      <td>1</td>\n",
       "      <td>1</td>\n",
       "      <td>0.342058</td>\n",
       "      <td>0</td>\n",
       "      <td>1</td>\n",
       "      <td>0</td>\n",
       "      <td>0</td>\n",
       "    </tr>\n",
       "    <tr>\n",
       "      <th>4</th>\n",
       "      <td>103094</td>\n",
       "      <td>0</td>\n",
       "      <td>0</td>\n",
       "      <td>0</td>\n",
       "      <td>0</td>\n",
       "      <td>2</td>\n",
       "      <td>2</td>\n",
       "      <td>1</td>\n",
       "      <td>2</td>\n",
       "      <td>1</td>\n",
       "      <td>...</td>\n",
       "      <td>2</td>\n",
       "      <td>1</td>\n",
       "      <td>0</td>\n",
       "      <td>0</td>\n",
       "      <td>1</td>\n",
       "      <td>0.329465</td>\n",
       "      <td>0</td>\n",
       "      <td>1</td>\n",
       "      <td>0</td>\n",
       "      <td>0</td>\n",
       "    </tr>\n",
       "  </tbody>\n",
       "</table>\n",
       "<p>5 rows × 128 columns</p>\n",
       "</div>"
      ],
      "text/plain": [
       "     qkey  device_type  language  form  attitude  avg_family  happen_general  \\\n",
       "0  100363            0         0     0         0           0               0   \n",
       "1  101224            0         0     0         0           1               0   \n",
       "2  101437            1         0     0         1           0               1   \n",
       "3  102130            0         0     0         0           2               1   \n",
       "4  103094            0         0     0         0           2               2   \n",
       "\n",
       "   happen_health  happen_race  happen_usa  ...  \\\n",
       "0              0            0           0  ...   \n",
       "1              1            0           0  ...   \n",
       "2              1            1           1  ...   \n",
       "3              1            0           1  ...   \n",
       "4              1            2           1  ...   \n",
       "\n",
       "   family_income_three_categories  registered_to_vote  political_views  \\\n",
       "0                               0                   0                0   \n",
       "1                               1                   0                1   \n",
       "2                               2                   0                1   \n",
       "3                               3                   0                2   \n",
       "4                               2                   1                0   \n",
       "\n",
       "   internet_access  volunteer    weight  is_pes  pes_val  is_very_pes  \\\n",
       "0                0          0  0.599006       0        1            0   \n",
       "1                0          1  0.292981       0        1            0   \n",
       "2                0          0  0.418871       1        2            0   \n",
       "3                1          1  0.342058       0        1            0   \n",
       "4                0          1  0.329465       0        1            0   \n",
       "\n",
       "   is_very_opt  \n",
       "0            0  \n",
       "1            0  \n",
       "2            0  \n",
       "3            0  \n",
       "4            0  \n",
       "\n",
       "[5 rows x 128 columns]"
      ]
     },
     "execution_count": 7,
     "metadata": {},
     "output_type": "execute_result"
    }
   ],
   "source": [
    "df.replace(replace_key).head()"
   ]
  },
  {
   "cell_type": "code",
   "execution_count": 8,
   "id": "ed2150e3",
   "metadata": {},
   "outputs": [
    {
     "data": {
      "text/plain": [
       "(2515, 128)"
      ]
     },
     "execution_count": 8,
     "metadata": {},
     "output_type": "execute_result"
    }
   ],
   "source": [
    "df.shape"
   ]
  },
  {
   "cell_type": "code",
   "execution_count": 9,
   "id": "43d0c980",
   "metadata": {},
   "outputs": [
    {
     "data": {
      "text/plain": [
       "((1408, 128), (604, 128), (503, 128))"
      ]
     },
     "execution_count": 9,
     "metadata": {},
     "output_type": "execute_result"
    }
   ],
   "source": [
    "train, validate, test = p.train_validate_test_split(df, 'is_pes')\n",
    "train.shape, validate.shape, test.shape"
   ]
  },
  {
   "cell_type": "markdown",
   "id": "80154b76",
   "metadata": {},
   "source": [
    "<a name='prepare_takeaways'></a>\n",
    "## Prepare Takeaways\n",
    "> - Utilizing the functions in our `prepare.py` we implemented a series of functions to clean our data.\n",
    ">\n",
    ">\n",
    "> - We eliminated nine respondents from our dataset because these respondents refused to answer the question `OPTIMIST_W41` about prospective thinking of the US' future. \n",
    ">\n",
    ">\n",
    "> - Our newly created target feature `is_pes` maps the responses to question `OPTIMIST_W41` \"Somewhat pessimistic\" and \"Very pessimistic\" as the single Boolean value 1 and the responses \"Somewhat optimistic\" and \"Very optimistic\" to the single Boolean value 0. \n",
    ">\n",
    ">\n",
    "> - Stratifying on `is_pes`, we split our data into `train`, `validate`, and `test`, datasets of lengths 1408, 604, and 503, respectively. \n",
    "<div style=\"text-align: right\"><a href='#toc'>Table of Contents</a></div>\n",
    "<hr style=\"border-top: 10px groove tan; margin-top: 1px; margin-bottom: 1px\"></hr>"
   ]
  },
  {
   "cell_type": "markdown",
   "id": "1c681465",
   "metadata": {},
   "source": [
    "<a name='explore'></a>\n",
    "# Explore Data\n",
    "✓ _Plan_ ➜ ✓ _Acquire_ ➜ ✓ _Prepare_ ➜ 🟢 **Explore** ➜ ☐ _Model_ ➜ ☐ _Deliver_\n",
    "\n",
    "> - We dropped columns that were too closely related to the derivative of our target column (`is_pes`):\n",
    "> - Those columns ended up being `avg_family`, `attitude`, `pes_val`, `is_very_pes` and `is_very_opt`.\n",
    "> - We also dropped `qkey` since it is only an id value and will not provide any information since each is a unique value.\n",
    "> - We split our train, validate, and test columns to feature dataframes and target series.\n"
   ]
  },
  {
   "cell_type": "markdown",
   "id": "644f5f05-16c2-4408-a17d-c84ddcaf795b",
   "metadata": {},
   "source": [
    "## Univariate Distributions"
   ]
  },
  {
   "cell_type": "code",
   "execution_count": 10,
   "id": "0be06ccb-2533-4dab-adef-2bdd7daa15cb",
   "metadata": {},
   "outputs": [
    {
     "data": {
      "image/png": "[encoded data removed]",
      "text/plain": [
       "<Figure size 1440x1440 with 6 Axes>"
      ]
     },
     "metadata": {
      "needs_background": "light"
     },
     "output_type": "display_data"
    },
    {
     "data": {
      "text/plain": [
       "<Figure size 432x288 with 0 Axes>"
      ]
     },
     "metadata": {},
     "output_type": "display_data"
    }
   ],
   "source": [
    "fig, axes = plt.subplots(nrows=3, ncols=2, sharey=False, sharex=False,  figsize=(20,20))\n",
    "\n",
    "# Set suptitle\n",
    "#fig.suptitle(f'Univariate')\n",
    "#plt.xticks(rotation=45)\n",
    "\n",
    "# First plot and its title\n",
    "sns.countplot(data=train, x='political_party_identity', ax=axes[0,0]).set_title('Political Affiliation')\n",
    "axes[0,0].tick_params(labelrotation=60)\n",
    "axes[0,0].set(xlabel=None)\n",
    "\n",
    "# Second plot and its title\n",
    "sns.countplot(data=train, x='age', ax=axes[0,1]).set_title('Age Groups')\n",
    "axes[0,1].tick_params(labelrotation=60)\n",
    "axes[0,1].set(xlabel=None)\n",
    "\n",
    "# Third plot and its title\n",
    "sns.countplot(data=train, x='sex', ax=axes[1,0]).set_title('Sex')\n",
    "axes[1,0].tick_params(labelrotation=60)\n",
    "axes[1,0].set(xlabel=None)\n",
    "\n",
    "# Fourth plot and its title\n",
    "sns.countplot(data=train, x='family_income_nine_categories', ax=axes[1,1]).set_title('Income Level')\n",
    "axes[1,1].tick_params(labelrotation=60)\n",
    "axes[1,1].set(xlabel=None)\n",
    "\n",
    "# Fifth plot and its title\n",
    "sns.countplot(data=train, x='highest_education_six_categories', ax=axes[2,0]).set_title('Education Level')\n",
    "axes[2,0].tick_params(labelrotation=60)\n",
    "axes[2,0].set(xlabel=None)\n",
    "\n",
    "# Sixth plot and its title\n",
    "sns.countplot(data=train, x='census_region', ax=axes[2,1]).set_title('Location')\n",
    "axes[2,1].tick_params(labelrotation=60)\n",
    "axes[2,1].set(xlabel=None)\n",
    "\n",
    "plt.rcParams.update({'font.size': 8})\n",
    "plt.tight_layout(pad=3)\n",
    "plt.show()\n",
    "plt.savefig('images/_univariate_exploration.png')"
   ]
  },
  {
   "cell_type": "markdown",
   "id": "8da068ee",
   "metadata": {},
   "source": [
    "<a name='hypotheses'></a>\n",
    "## Hypotheses & Testing\n",
    "\n",
    "### Hypothesis 1\n",
    "> - H<sub>0</sub>: Is sex independent of a pessimsitic future outlook?\n",
    "> - H<sub>a</sub>: Sex is dependent on pessimist future outlook.\n",
    "> - &#x0251;: 0.05\n",
    "\n",
    "#### Hypothesis 1 Takeaways \n",
    "> - The number of females and males who are overall pessimistic are about the same.\n",
    "> - The p-value is above 0.05, so we accept the null hypothesis.\n",
    "\n",
    "### Hypothesis 2\n",
    "> - H<sub>0</sub>: Is income independent of a pessimistic future outlook?\n",
    "> - H<sub>a</sub>: Income is dependent on pessimistic future outlook.\n",
    "> - &#x0251; = 0.05\n",
    "\n",
    "#### Hypothesis 2 Takeaways \n",
    "> - While it appears that people who are middle income earners are more pessimistic, there is no significance for overall income related to overall pessimism.\n",
    "> - The p-value is above 0.5, so we accept the null hypothesis."
   ]
  },
  {
   "cell_type": "code",
   "execution_count": 11,
   "id": "56045207-aa14-433d-adcc-2600a9f69bdb",
   "metadata": {},
   "outputs": [
    {
     "data": {
      "text/html": [
       "<div>\n",
       "<style scoped>\n",
       "    .dataframe tbody tr th:only-of-type {\n",
       "        vertical-align: middle;\n",
       "    }\n",
       "\n",
       "    .dataframe tbody tr th {\n",
       "        vertical-align: top;\n",
       "    }\n",
       "\n",
       "    .dataframe thead th {\n",
       "        text-align: right;\n",
       "    }\n",
       "</style>\n",
       "<table border=\"1\" class=\"dataframe\">\n",
       "  <thead>\n",
       "    <tr style=\"text-align: right;\">\n",
       "      <th></th>\n",
       "      <th>chi2</th>\n",
       "      <th>p_val</th>\n",
       "      <th>deg_free</th>\n",
       "      <th>expected_freq</th>\n",
       "    </tr>\n",
       "  </thead>\n",
       "  <tbody>\n",
       "    <tr>\n",
       "      <th>happen_general</th>\n",
       "      <td>309.846751</td>\n",
       "      <td>5.219547e-68</td>\n",
       "      <td>2</td>\n",
       "      <td>[[65.23082386363636, 51.76917613636363], [299....</td>\n",
       "    </tr>\n",
       "    <tr>\n",
       "      <th>happen_pub_ed</th>\n",
       "      <td>236.569737</td>\n",
       "      <td>4.261223e-52</td>\n",
       "      <td>2</td>\n",
       "      <td>[[75.26633522727273, 59.73366477272727], [411....</td>\n",
       "    </tr>\n",
       "    <tr>\n",
       "      <th>happen_child_f2</th>\n",
       "      <td>176.613519</td>\n",
       "      <td>4.455143e-39</td>\n",
       "      <td>2</td>\n",
       "      <td>[[147.5680224403927, 126.43197755960729], [203...</td>\n",
       "    </tr>\n",
       "    <tr>\n",
       "      <th>happen_race</th>\n",
       "      <td>157.808874</td>\n",
       "      <td>5.398069e-35</td>\n",
       "      <td>2</td>\n",
       "      <td>[[317.7911931818182, 252.2088068181818], [398....</td>\n",
       "    </tr>\n",
       "    <tr>\n",
       "      <th>happen_health</th>\n",
       "      <td>145.049618</td>\n",
       "      <td>3.183286e-32</td>\n",
       "      <td>2</td>\n",
       "      <td>[[447.6953125, 355.3046875], [265.941051136363...</td>\n",
       "    </tr>\n",
       "  </tbody>\n",
       "</table>\n",
       "</div>"
      ],
      "text/plain": [
       "                       chi2         p_val deg_free  \\\n",
       "happen_general   309.846751  5.219547e-68        2   \n",
       "happen_pub_ed    236.569737  4.261223e-52        2   \n",
       "happen_child_f2  176.613519  4.455143e-39        2   \n",
       "happen_race      157.808874  5.398069e-35        2   \n",
       "happen_health    145.049618  3.183286e-32        2   \n",
       "\n",
       "                                                     expected_freq  \n",
       "happen_general   [[65.23082386363636, 51.76917613636363], [299....  \n",
       "happen_pub_ed    [[75.26633522727273, 59.73366477272727], [411....  \n",
       "happen_child_f2  [[147.5680224403927, 126.43197755960729], [203...  \n",
       "happen_race      [[317.7911931818182, 252.2088068181818], [398....  \n",
       "happen_health    [[447.6953125, 355.3046875], [265.941051136363...  "
      ]
     },
     "execution_count": 11,
     "metadata": {},
     "output_type": "execute_result"
    }
   ],
   "source": [
    "# Generate object\n",
    "obj = e.generate_and_return_obj(df)\n",
    "# Examine the chi2 results and return the most signficant values from them\n",
    "obj.chi2_df.sort_values(by='p_val').head(5)\n"
   ]
  },
  {
   "cell_type": "code",
   "execution_count": 12,
   "id": "5cc08769-af06-48b2-af43-92a7260da4d7",
   "metadata": {},
   "outputs": [
    {
     "data": {
      "image/png": "[encoded data removed]",
      "text/plain": [
       "<Figure size 432x288 with 1 Axes>"
      ]
     },
     "metadata": {
      "needs_background": "light"
     },
     "output_type": "display_data"
    }
   ],
   "source": [
    "# print(sns.color_palette().as_hex())\n",
    "\n",
    "#create barplot showing males vs females and their percentage of pessimism\n",
    "ax = sns.barplot(y=\"sex\", x=\"is_pes\", data=train[train.sex != 'Refused']).set_title(\n",
    "    label= \"Percentage of Pessimistic Outlook for Females and Males\")\n",
    "\n",
    "# plt.savefig('images/fem_male_pessimism_percentage.png')\n",
    "\n",
    "plt.show()"
   ]
  },
  {
   "cell_type": "code",
   "execution_count": 13,
   "id": "60af9062-45e2-4f94-8fc8-7e10b573cb62",
   "metadata": {},
   "outputs": [
    {
     "data": {
      "image/png": "[encoded data removed]",
      "text/plain": [
       "<Figure size 432x288 with 1 Axes>"
      ]
     },
     "metadata": {
      "needs_background": "light"
     },
     "output_type": "display_data"
    }
   ],
   "source": [
    "ax = sns.barplot(y=\"family_income_three_categories\", x=\"is_pes\", data=train).set_title(\n",
    "label = 'Percent is_pes by family_income_three_categories')\n",
    "plt.savefig('images/percent_is_pes_by_family_income.png')"
   ]
  },
  {
   "cell_type": "code",
   "execution_count": 14,
   "id": "6900b8eb-475d-48d4-adbd-c757077b7433",
   "metadata": {},
   "outputs": [],
   "source": [
    "def bar_graph_percent_pessimistic(df, x_feature, y_feature):\n",
    "    # Derive title\n",
    "    title = f\"Percent {x_feature} by {y_feature}\"\n",
    "    # Build filename from title\n",
    "    filename = 'images/' + title.replace(' ', '_').lower() + '.png'\n",
    "    # Make the plot and set the title\n",
    "    ax = sns.barplot(data = df, x = x_feature, y = y_feature).set_title(\n",
    "    label=title)\n",
    "    # Save the plot\n",
    "    plt.savefig(filename)\n",
    "    "
   ]
  },
  {
   "cell_type": "markdown",
   "id": "582d0459-2ce5-44cd-b9d1-85673a07b459",
   "metadata": {},
   "source": [
    "### Beyond sex and income, Is education a factor in future pessimistic outlook?"
   ]
  },
  {
   "cell_type": "code",
   "execution_count": 15,
   "id": "275e7dca-1dca-450d-9952-43cefad72ca5",
   "metadata": {},
   "outputs": [
    {
     "data": {
      "text/html": [
       "<div>\n",
       "<style scoped>\n",
       "    .dataframe tbody tr th:only-of-type {\n",
       "        vertical-align: middle;\n",
       "    }\n",
       "\n",
       "    .dataframe tbody tr th {\n",
       "        vertical-align: top;\n",
       "    }\n",
       "\n",
       "    .dataframe thead th {\n",
       "        text-align: right;\n",
       "    }\n",
       "</style>\n",
       "<table border=\"1\" class=\"dataframe\">\n",
       "  <thead>\n",
       "    <tr style=\"text-align: right;\">\n",
       "      <th>is_pes</th>\n",
       "      <th>0</th>\n",
       "      <th>1</th>\n",
       "      <th>All</th>\n",
       "    </tr>\n",
       "    <tr>\n",
       "      <th>highest_education_six_categories</th>\n",
       "      <th></th>\n",
       "      <th></th>\n",
       "      <th></th>\n",
       "    </tr>\n",
       "  </thead>\n",
       "  <tbody>\n",
       "    <tr>\n",
       "      <th>Associate's degree</th>\n",
       "      <td>120</td>\n",
       "      <td>81</td>\n",
       "      <td>201</td>\n",
       "    </tr>\n",
       "    <tr>\n",
       "      <th>College graduate/some post grad</th>\n",
       "      <td>287</td>\n",
       "      <td>229</td>\n",
       "      <td>516</td>\n",
       "    </tr>\n",
       "    <tr>\n",
       "      <th>Don't know/Refused</th>\n",
       "      <td>4</td>\n",
       "      <td>1</td>\n",
       "      <td>5</td>\n",
       "    </tr>\n",
       "    <tr>\n",
       "      <th>High school graduate</th>\n",
       "      <td>435</td>\n",
       "      <td>322</td>\n",
       "      <td>757</td>\n",
       "    </tr>\n",
       "    <tr>\n",
       "      <th>Less than high school</th>\n",
       "      <td>123</td>\n",
       "      <td>60</td>\n",
       "      <td>183</td>\n",
       "    </tr>\n",
       "    <tr>\n",
       "      <th>Postgraduate</th>\n",
       "      <td>184</td>\n",
       "      <td>179</td>\n",
       "      <td>363</td>\n",
       "    </tr>\n",
       "    <tr>\n",
       "      <th>Some college, no degree</th>\n",
       "      <td>250</td>\n",
       "      <td>240</td>\n",
       "      <td>490</td>\n",
       "    </tr>\n",
       "    <tr>\n",
       "      <th>All</th>\n",
       "      <td>1403</td>\n",
       "      <td>1112</td>\n",
       "      <td>2515</td>\n",
       "    </tr>\n",
       "  </tbody>\n",
       "</table>\n",
       "</div>"
      ],
      "text/plain": [
       "is_pes                               0     1   All\n",
       "highest_education_six_categories                  \n",
       "Associate's degree                 120    81   201\n",
       "College graduate/some post grad    287   229   516\n",
       "Don't know/Refused                   4     1     5\n",
       "High school graduate               435   322   757\n",
       "Less than high school              123    60   183\n",
       "Postgraduate                       184   179   363\n",
       "Some college, no degree            250   240   490\n",
       "All                               1403  1112  2515"
      ]
     },
     "execution_count": 15,
     "metadata": {},
     "output_type": "execute_result"
    }
   ],
   "source": [
    "pd.crosstab(df.highest_education_six_categories, df.is_pes, margins=True)"
   ]
  },
  {
   "cell_type": "code",
   "execution_count": 16,
   "id": "b9260fe1-aa12-4368-ba51-13927307392d",
   "metadata": {},
   "outputs": [
    {
     "data": {
      "image/png": "[encoded data removed]",
      "text/plain": [
       "<Figure size 432x288 with 1 Axes>"
      ]
     },
     "metadata": {
      "needs_background": "light"
     },
     "output_type": "display_data"
    }
   ],
   "source": [
    "bar_graph_percent_pessimistic(train[train.family_income_three_categories == '$30-$74,999'], \"is_pes\", \"highest_education_six_categories\")\n"
   ]
  },
  {
   "cell_type": "markdown",
   "id": "082460d5",
   "metadata": {},
   "source": [
    "<a name='gender'></a>\n",
    "## Explore by Gender"
   ]
  },
  {
   "cell_type": "code",
   "execution_count": 17,
   "id": "1cd982da",
   "metadata": {},
   "outputs": [],
   "source": [
    "#Subset of females\n",
    "females_train = train[train.sex == \"Female\"]\n",
    "#Subset of males\n",
    "males_train = train[train.sex == \"Male\"]"
   ]
  },
  {
   "cell_type": "markdown",
   "id": "5bb8d815",
   "metadata": {},
   "source": [
    "### Most Important Issues for Females"
   ]
  },
  {
   "cell_type": "code",
   "execution_count": 18,
   "id": "8e5e60fb",
   "metadata": {},
   "outputs": [
    {
     "data": {
      "text/html": [
       "<div>\n",
       "<style scoped>\n",
       "    .dataframe tbody tr th:only-of-type {\n",
       "        vertical-align: middle;\n",
       "    }\n",
       "\n",
       "    .dataframe tbody tr th {\n",
       "        vertical-align: top;\n",
       "    }\n",
       "\n",
       "    .dataframe thead th {\n",
       "        text-align: right;\n",
       "    }\n",
       "</style>\n",
       "<table border=\"1\" class=\"dataframe\">\n",
       "  <thead>\n",
       "    <tr style=\"text-align: right;\">\n",
       "      <th></th>\n",
       "      <th>chi2</th>\n",
       "      <th>p_val</th>\n",
       "      <th>deg_free</th>\n",
       "      <th>expected_freq</th>\n",
       "    </tr>\n",
       "  </thead>\n",
       "  <tbody>\n",
       "    <tr>\n",
       "      <th>happen_pub_ed</th>\n",
       "      <td>80.622451</td>\n",
       "      <td>3.112126e-18</td>\n",
       "      <td>2</td>\n",
       "      <td>[[23.40139211136891, 17.59860788863109], [121....</td>\n",
       "    </tr>\n",
       "    <tr>\n",
       "      <th>happen_general</th>\n",
       "      <td>76.013359</td>\n",
       "      <td>3.118234e-17</td>\n",
       "      <td>2</td>\n",
       "      <td>[[20.54756380510441, 15.452436194895592], [95....</td>\n",
       "    </tr>\n",
       "    <tr>\n",
       "      <th>happen_child_f2</th>\n",
       "      <td>61.997147</td>\n",
       "      <td>3.447392e-14</td>\n",
       "      <td>2</td>\n",
       "      <td>[[43.568075117370896, 36.431924882629104], [61...</td>\n",
       "    </tr>\n",
       "    <tr>\n",
       "      <th>happen_health</th>\n",
       "      <td>58.376607</td>\n",
       "      <td>2.107079e-13</td>\n",
       "      <td>2</td>\n",
       "      <td>[[142.69141531322506, 107.30858468677494], [79...</td>\n",
       "    </tr>\n",
       "    <tr>\n",
       "      <th>happen_usa</th>\n",
       "      <td>54.195569</td>\n",
       "      <td>1.704440e-12</td>\n",
       "      <td>2</td>\n",
       "      <td>[[23.97215777262181, 18.02784222737819], [146....</td>\n",
       "    </tr>\n",
       "    <tr>\n",
       "      <th>job_benefits</th>\n",
       "      <td>50.205823</td>\n",
       "      <td>7.222153e-11</td>\n",
       "      <td>3</td>\n",
       "      <td>[[98.17169373549883, 73.82830626450117], [57.6...</td>\n",
       "    </tr>\n",
       "    <tr>\n",
       "      <th>happen_race</th>\n",
       "      <td>46.330084</td>\n",
       "      <td>8.700618e-11</td>\n",
       "      <td>2</td>\n",
       "      <td>[[99.31322505800465, 74.68677494199535], [121....</td>\n",
       "    </tr>\n",
       "    <tr>\n",
       "      <th>job_security</th>\n",
       "      <td>49.649047</td>\n",
       "      <td>9.489408e-11</td>\n",
       "      <td>3</td>\n",
       "      <td>[[88.46867749419954, 66.53132250580046], [114....</td>\n",
       "    </tr>\n",
       "    <tr>\n",
       "      <th>happen_politics</th>\n",
       "      <td>41.820951</td>\n",
       "      <td>8.292697e-10</td>\n",
       "      <td>2</td>\n",
       "      <td>[[23.40139211136891, 17.59860788863109], [54.7...</td>\n",
       "    </tr>\n",
       "    <tr>\n",
       "      <th>elder_care</th>\n",
       "      <td>40.970776</td>\n",
       "      <td>1.268555e-09</td>\n",
       "      <td>2</td>\n",
       "      <td>[[64.49651972157773, 48.50348027842227], [179....</td>\n",
       "    </tr>\n",
       "  </tbody>\n",
       "</table>\n",
       "</div>"
      ],
      "text/plain": [
       "                      chi2         p_val deg_free  \\\n",
       "happen_pub_ed    80.622451  3.112126e-18        2   \n",
       "happen_general   76.013359  3.118234e-17        2   \n",
       "happen_child_f2  61.997147  3.447392e-14        2   \n",
       "happen_health    58.376607  2.107079e-13        2   \n",
       "happen_usa       54.195569  1.704440e-12        2   \n",
       "job_benefits     50.205823  7.222153e-11        3   \n",
       "happen_race      46.330084  8.700618e-11        2   \n",
       "job_security     49.649047  9.489408e-11        3   \n",
       "happen_politics  41.820951  8.292697e-10        2   \n",
       "elder_care       40.970776  1.268555e-09        2   \n",
       "\n",
       "                                                     expected_freq  \n",
       "happen_pub_ed    [[23.40139211136891, 17.59860788863109], [121....  \n",
       "happen_general   [[20.54756380510441, 15.452436194895592], [95....  \n",
       "happen_child_f2  [[43.568075117370896, 36.431924882629104], [61...  \n",
       "happen_health    [[142.69141531322506, 107.30858468677494], [79...  \n",
       "happen_usa       [[23.97215777262181, 18.02784222737819], [146....  \n",
       "job_benefits     [[98.17169373549883, 73.82830626450117], [57.6...  \n",
       "happen_race      [[99.31322505800465, 74.68677494199535], [121....  \n",
       "job_security     [[88.46867749419954, 66.53132250580046], [114....  \n",
       "happen_politics  [[23.40139211136891, 17.59860788863109], [54.7...  \n",
       "elder_care       [[64.49651972157773, 48.50348027842227], [179....  "
      ]
     },
     "execution_count": 18,
     "metadata": {},
     "output_type": "execute_result"
    }
   ],
   "source": [
    "# Generate object\n",
    "obj_f = e.generate_and_return_obj(females_train)\n",
    "# Examine the chi2 results and return the most signficant values from them\n",
    "issues_female = obj_f.chi2_df.sort_values(by='p_val')\n",
    "issues_female.head(10)"
   ]
  },
  {
   "cell_type": "markdown",
   "id": "9fb6b889",
   "metadata": {},
   "source": [
    "### Most Important Issues for Males"
   ]
  },
  {
   "cell_type": "code",
   "execution_count": 19,
   "id": "72667084",
   "metadata": {},
   "outputs": [
    {
     "data": {
      "text/html": [
       "<div>\n",
       "<style scoped>\n",
       "    .dataframe tbody tr th:only-of-type {\n",
       "        vertical-align: middle;\n",
       "    }\n",
       "\n",
       "    .dataframe tbody tr th {\n",
       "        vertical-align: top;\n",
       "    }\n",
       "\n",
       "    .dataframe thead th {\n",
       "        text-align: right;\n",
       "    }\n",
       "</style>\n",
       "<table border=\"1\" class=\"dataframe\">\n",
       "  <thead>\n",
       "    <tr style=\"text-align: right;\">\n",
       "      <th></th>\n",
       "      <th>chi2</th>\n",
       "      <th>p_val</th>\n",
       "      <th>deg_free</th>\n",
       "      <th>expected_freq</th>\n",
       "    </tr>\n",
       "  </thead>\n",
       "  <tbody>\n",
       "    <tr>\n",
       "      <th>happen_general</th>\n",
       "      <td>90.549991</td>\n",
       "      <td>2.174299e-20</td>\n",
       "      <td>2</td>\n",
       "      <td>[[11.926966292134832, 10.073033707865168], [75...</td>\n",
       "    </tr>\n",
       "    <tr>\n",
       "      <th>happen_race</th>\n",
       "      <td>69.385820</td>\n",
       "      <td>8.571575e-16</td>\n",
       "      <td>2</td>\n",
       "      <td>[[76.98314606741573, 65.01685393258427], [101....</td>\n",
       "    </tr>\n",
       "    <tr>\n",
       "      <th>happen_pub_ed</th>\n",
       "      <td>63.995076</td>\n",
       "      <td>1.269538e-14</td>\n",
       "      <td>2</td>\n",
       "      <td>[[14.095505617977528, 11.904494382022472], [11...</td>\n",
       "    </tr>\n",
       "    <tr>\n",
       "      <th>happen_politics</th>\n",
       "      <td>50.696915</td>\n",
       "      <td>9.801778e-12</td>\n",
       "      <td>2</td>\n",
       "      <td>[[10.842696629213483, 9.157303370786517], [56....</td>\n",
       "    </tr>\n",
       "    <tr>\n",
       "      <th>happen_child_f2</th>\n",
       "      <td>45.694500</td>\n",
       "      <td>1.195544e-10</td>\n",
       "      <td>2</td>\n",
       "      <td>[[38.74301675977654, 34.25698324022346], [51.4...</td>\n",
       "    </tr>\n",
       "    <tr>\n",
       "      <th>happen_health</th>\n",
       "      <td>44.075100</td>\n",
       "      <td>2.686666e-10</td>\n",
       "      <td>2</td>\n",
       "      <td>[[110.59550561797752, 93.40449438202248], [67....</td>\n",
       "    </tr>\n",
       "    <tr>\n",
       "      <th>happen_65up_f1</th>\n",
       "      <td>42.802870</td>\n",
       "      <td>5.075453e-10</td>\n",
       "      <td>2</td>\n",
       "      <td>[[34.88135593220339, 28.11864406779661], [55.3...</td>\n",
       "    </tr>\n",
       "    <tr>\n",
       "      <th>happen_china</th>\n",
       "      <td>48.915112</td>\n",
       "      <td>6.081841e-10</td>\n",
       "      <td>4</td>\n",
       "      <td>[[2.168539325842697, 1.8314606741573034], [24....</td>\n",
       "    </tr>\n",
       "    <tr>\n",
       "      <th>happen_usa</th>\n",
       "      <td>41.034709</td>\n",
       "      <td>1.228644e-09</td>\n",
       "      <td>2</td>\n",
       "      <td>[[11.384831460674157, 9.615168539325843], [121...</td>\n",
       "    </tr>\n",
       "    <tr>\n",
       "      <th>envir_50yrs</th>\n",
       "      <td>34.966945</td>\n",
       "      <td>2.552845e-08</td>\n",
       "      <td>2</td>\n",
       "      <td>[[48.79213483146067, 41.20786516853933], [33.6...</td>\n",
       "    </tr>\n",
       "  </tbody>\n",
       "</table>\n",
       "</div>"
      ],
      "text/plain": [
       "                      chi2         p_val deg_free  \\\n",
       "happen_general   90.549991  2.174299e-20        2   \n",
       "happen_race      69.385820  8.571575e-16        2   \n",
       "happen_pub_ed    63.995076  1.269538e-14        2   \n",
       "happen_politics  50.696915  9.801778e-12        2   \n",
       "happen_child_f2  45.694500  1.195544e-10        2   \n",
       "happen_health    44.075100  2.686666e-10        2   \n",
       "happen_65up_f1   42.802870  5.075453e-10        2   \n",
       "happen_china     48.915112  6.081841e-10        4   \n",
       "happen_usa       41.034709  1.228644e-09        2   \n",
       "envir_50yrs      34.966945  2.552845e-08        2   \n",
       "\n",
       "                                                     expected_freq  \n",
       "happen_general   [[11.926966292134832, 10.073033707865168], [75...  \n",
       "happen_race      [[76.98314606741573, 65.01685393258427], [101....  \n",
       "happen_pub_ed    [[14.095505617977528, 11.904494382022472], [11...  \n",
       "happen_politics  [[10.842696629213483, 9.157303370786517], [56....  \n",
       "happen_child_f2  [[38.74301675977654, 34.25698324022346], [51.4...  \n",
       "happen_health    [[110.59550561797752, 93.40449438202248], [67....  \n",
       "happen_65up_f1   [[34.88135593220339, 28.11864406779661], [55.3...  \n",
       "happen_china     [[2.168539325842697, 1.8314606741573034], [24....  \n",
       "happen_usa       [[11.384831460674157, 9.615168539325843], [121...  \n",
       "envir_50yrs      [[48.79213483146067, 41.20786516853933], [33.6...  "
      ]
     },
     "execution_count": 19,
     "metadata": {},
     "output_type": "execute_result"
    }
   ],
   "source": [
    "# Generate object\n",
    "obj_m = e.generate_and_return_obj(males_train)\n",
    "# Examine the chi2 results and return the most signficant values from them\n",
    "issues_male = obj_m.chi2_df.sort_values(by='p_val')\n",
    "issues_male.head(10)"
   ]
  },
  {
   "cell_type": "markdown",
   "id": "3ccca452",
   "metadata": {},
   "source": [
    "### Differences in Statistically Significant Issues for Men and Women"
   ]
  },
  {
   "cell_type": "code",
   "execution_count": 20,
   "id": "38d29c0e",
   "metadata": {},
   "outputs": [],
   "source": [
    "#Calculate issues with statistically significant correlation to pessimism for women\n",
    "important_for_females = issues_female[issues_female.p_val < 0.05]\n",
    "#Calculate issues with statistically significant correlation to pessimism for men\n",
    "important_for_males = issues_male[issues_male.p_val < 0.05]"
   ]
  },
  {
   "cell_type": "code",
   "execution_count": 21,
   "id": "d714cf0e",
   "metadata": {},
   "outputs": [
    {
     "data": {
      "text/plain": [
       "['happen_pub_ed',\n",
       " 'happen_general',\n",
       " 'happen_child_f2',\n",
       " 'happen_health',\n",
       " 'happen_usa',\n",
       " 'job_benefits',\n",
       " 'happen_race',\n",
       " 'job_security',\n",
       " 'happen_politics',\n",
       " 'elder_care',\n",
       " 'fut_marriage',\n",
       " 'happen_terroist',\n",
       " 'worry_leaders',\n",
       " 'happen_anti_semitism',\n",
       " 'envir_50yrs',\n",
       " 'share_americans_in_lower_class',\n",
       " 'worry_economy',\n",
       " 'robot_replacement_means_better_jobs_for_humans',\n",
       " 'media',\n",
       " 'happen_wealthgap',\n",
       " 'worry_government',\n",
       " 'age_impact',\n",
       " 'debt_30yrs',\n",
       " 'happen_rel',\n",
       " 'fut_kids',\n",
       " 'happen_65up_f1',\n",
       " 'happen_energy',\n",
       " 'worry_morals',\n",
       " 'worry_public_schools',\n",
       " 'share_americans_in_middle_class',\n",
       " 'major_corps',\n",
       " 'happen_alzheimers',\n",
       " 'fut_divorce',\n",
       " 'ss_money',\n",
       " 'state_local',\n",
       " 'race_and_ethnicity',\n",
       " 'military',\n",
       " 'gov_in_wash',\n",
       " 'rel_groups',\n",
       " 'happen_china',\n",
       " 'automation_good_or_bad',\n",
       " 'family_income_three_categories',\n",
       " 'worry_climate',\n",
       " 'college_uni',\n",
       " 'ethnic_conflict',\n",
       " 'ethnic_impact1',\n",
       " 'race',\n",
       " 'ethnic_customs',\n",
       " 'harass_interactions_f2',\n",
       " 'inter_mar',\n",
       " 'happen_70yr_labor',\n",
       " 'harass_sexual_personal_exp',\n",
       " 'most_responsible_for_workers_f1',\n",
       " 'priority_increase_military',\n",
       " 'priority_infra_f1',\n",
       " 'hispanic_or_latino',\n",
       " 'share_americans_in_upper_class',\n",
       " 'replacement_by_robots_good_or_bad',\n",
       " 'priority_science',\n",
       " 'religion']"
      ]
     },
     "execution_count": 21,
     "metadata": {},
     "output_type": "execute_result"
    }
   ],
   "source": [
    "#Print list of significant issues for females\n",
    "important_for_females_list = important_for_females.index.to_list()\n",
    "important_for_females_list"
   ]
  },
  {
   "cell_type": "code",
   "execution_count": 22,
   "id": "8337f83a",
   "metadata": {},
   "outputs": [
    {
     "data": {
      "text/plain": [
       "['happen_general',\n",
       " 'happen_race',\n",
       " 'happen_pub_ed',\n",
       " 'happen_politics',\n",
       " 'happen_child_f2',\n",
       " 'happen_health',\n",
       " 'happen_65up_f1',\n",
       " 'happen_china',\n",
       " 'happen_usa',\n",
       " 'envir_50yrs',\n",
       " 'job_benefits',\n",
       " 'share_americans_in_lower_class',\n",
       " 'share_americans_in_middle_class',\n",
       " 'job_security',\n",
       " 'elder_care',\n",
       " 'worry_economy',\n",
       " 'debt_30yrs',\n",
       " 'happen_wealthgap',\n",
       " 'worry_government',\n",
       " 'gov_in_wash',\n",
       " 'worry_leaders',\n",
       " 'happen_energy',\n",
       " 'happen_anti_semitism',\n",
       " 'happen_terroist',\n",
       " 'worry_morals',\n",
       " 'schools',\n",
       " 'ethnic_conflict',\n",
       " 'happen_rel',\n",
       " 'robot_replacement_means_better_jobs_for_humans',\n",
       " 'robot_replacement_increase_inequality',\n",
       " 'rel_groups',\n",
       " 'replacement_by_robots_good_or_bad',\n",
       " 'happen_70yr_labor',\n",
       " 'ss_money',\n",
       " 'happen_alzheimers',\n",
       " 'race_and_ethnicity',\n",
       " 'highest_education_six_categories',\n",
       " 'internet_access',\n",
       " 'fut_marriage',\n",
       " 'worry_climate',\n",
       " 'worry_public_schools',\n",
       " 'legal_immigration_levels']"
      ]
     },
     "execution_count": 22,
     "metadata": {},
     "output_type": "execute_result"
    }
   ],
   "source": [
    "important_for_males_list = important_for_males.index.to_list()\n",
    "important_for_males_list"
   ]
  },
  {
   "cell_type": "code",
   "execution_count": 23,
   "id": "7d62fccb",
   "metadata": {},
   "outputs": [
    {
     "data": {
      "text/plain": [
       "(60, 42)"
      ]
     },
     "execution_count": 23,
     "metadata": {},
     "output_type": "execute_result"
    }
   ],
   "source": [
    "len(important_for_females), len(important_for_males)"
   ]
  },
  {
   "cell_type": "code",
   "execution_count": 24,
   "id": "908241c7",
   "metadata": {},
   "outputs": [
    {
     "data": {
      "text/plain": [
       "{'age_impact',\n",
       " 'automation_good_or_bad',\n",
       " 'college_uni',\n",
       " 'ethnic_customs',\n",
       " 'ethnic_impact1',\n",
       " 'family_income_three_categories',\n",
       " 'fut_divorce',\n",
       " 'fut_kids',\n",
       " 'harass_interactions_f2',\n",
       " 'harass_sexual_personal_exp',\n",
       " 'hispanic_or_latino',\n",
       " 'inter_mar',\n",
       " 'major_corps',\n",
       " 'media',\n",
       " 'military',\n",
       " 'most_responsible_for_workers_f1',\n",
       " 'priority_increase_military',\n",
       " 'priority_infra_f1',\n",
       " 'priority_science',\n",
       " 'race',\n",
       " 'religion',\n",
       " 'share_americans_in_upper_class',\n",
       " 'state_local'}"
      ]
     },
     "execution_count": 24,
     "metadata": {},
     "output_type": "execute_result"
    }
   ],
   "source": [
    "important_for_females_but_not_males = set(important_for_females_list).difference(set(important_for_males_list))\n",
    "important_for_females_but_not_males"
   ]
  },
  {
   "cell_type": "code",
   "execution_count": 25,
   "id": "c19481a1",
   "metadata": {},
   "outputs": [
    {
     "data": {
      "text/plain": [
       "{'highest_education_six_categories',\n",
       " 'internet_access',\n",
       " 'legal_immigration_levels',\n",
       " 'robot_replacement_increase_inequality',\n",
       " 'schools'}"
      ]
     },
     "execution_count": 25,
     "metadata": {},
     "output_type": "execute_result"
    }
   ],
   "source": [
    "important_for_males_but_not_females = set(important_for_males_list).difference(set(important_for_females_list))\n",
    "important_for_males_but_not_females"
   ]
  },
  {
   "cell_type": "markdown",
   "id": "acb031b6",
   "metadata": {},
   "source": [
    "Women value a wider range of issues than men. Additionally, the majority of issues that are stastically significnat for men are stastically significant for women.  "
   ]
  },
  {
   "cell_type": "markdown",
   "id": "7f718737",
   "metadata": {},
   "source": [
    "<a name='politics'></a>\n",
    "## Explore by Political Party"
   ]
  },
  {
   "cell_type": "code",
   "execution_count": 26,
   "id": "7c392be6",
   "metadata": {},
   "outputs": [],
   "source": [
    "#Make subset of Republicans\n",
    "republicans_train = train[train.summary_of_political_party_data == ' Rep/Lean Rep']\n",
    "#Make subset of Democrats\n",
    "democrats_train = train[train.summary_of_political_party_data == 'Dem/Lean Dem']"
   ]
  },
  {
   "cell_type": "markdown",
   "id": "071cb648",
   "metadata": {},
   "source": [
    "### Most Important Issues for Republicans"
   ]
  },
  {
   "cell_type": "code",
   "execution_count": 27,
   "id": "a00da072",
   "metadata": {},
   "outputs": [
    {
     "data": {
      "text/html": [
       "<div>\n",
       "<style scoped>\n",
       "    .dataframe tbody tr th:only-of-type {\n",
       "        vertical-align: middle;\n",
       "    }\n",
       "\n",
       "    .dataframe tbody tr th {\n",
       "        vertical-align: top;\n",
       "    }\n",
       "\n",
       "    .dataframe thead th {\n",
       "        text-align: right;\n",
       "    }\n",
       "</style>\n",
       "<table border=\"1\" class=\"dataframe\">\n",
       "  <thead>\n",
       "    <tr style=\"text-align: right;\">\n",
       "      <th></th>\n",
       "      <th>chi2</th>\n",
       "      <th>p_val</th>\n",
       "      <th>deg_free</th>\n",
       "      <th>expected_freq</th>\n",
       "    </tr>\n",
       "  </thead>\n",
       "  <tbody>\n",
       "    <tr>\n",
       "      <th>happen_general</th>\n",
       "      <td>98.438035</td>\n",
       "      <td>4.211650e-22</td>\n",
       "      <td>2</td>\n",
       "      <td>[[10.749235474006117, 8.250764525993883], [87....</td>\n",
       "    </tr>\n",
       "    <tr>\n",
       "      <th>happen_pub_ed</th>\n",
       "      <td>59.258074</td>\n",
       "      <td>1.356041e-13</td>\n",
       "      <td>2</td>\n",
       "      <td>[[14.709480122324159, 11.290519877675841], [10...</td>\n",
       "    </tr>\n",
       "    <tr>\n",
       "      <th>happen_race</th>\n",
       "      <td>54.593977</td>\n",
       "      <td>1.396589e-12</td>\n",
       "      <td>2</td>\n",
       "      <td>[[78.63914373088684, 60.36085626911315], [93.9...</td>\n",
       "    </tr>\n",
       "    <tr>\n",
       "      <th>happen_usa</th>\n",
       "      <td>50.305248</td>\n",
       "      <td>1.192214e-11</td>\n",
       "      <td>2</td>\n",
       "      <td>[[16.972477064220183, 13.027522935779816], [95...</td>\n",
       "    </tr>\n",
       "    <tr>\n",
       "      <th>happen_politics</th>\n",
       "      <td>39.589532</td>\n",
       "      <td>2.530710e-09</td>\n",
       "      <td>2</td>\n",
       "      <td>[[13.577981651376147, 10.422018348623853], [48...</td>\n",
       "    </tr>\n",
       "    <tr>\n",
       "      <th>envir_50yrs</th>\n",
       "      <td>42.662311</td>\n",
       "      <td>2.902705e-09</td>\n",
       "      <td>3</td>\n",
       "      <td>[[80.90214067278288, 62.09785932721712], [30.5...</td>\n",
       "    </tr>\n",
       "    <tr>\n",
       "      <th>happen_health</th>\n",
       "      <td>39.248722</td>\n",
       "      <td>3.000878e-09</td>\n",
       "      <td>2</td>\n",
       "      <td>[[113.14984709480122, 86.85015290519878], [56....</td>\n",
       "    </tr>\n",
       "    <tr>\n",
       "      <th>happen_child_f2</th>\n",
       "      <td>38.633968</td>\n",
       "      <td>4.080754e-09</td>\n",
       "      <td>2</td>\n",
       "      <td>[[29.690322580645162, 29.309677419354838], [41...</td>\n",
       "    </tr>\n",
       "    <tr>\n",
       "      <th>debt_30yrs</th>\n",
       "      <td>44.053863</td>\n",
       "      <td>6.252610e-09</td>\n",
       "      <td>4</td>\n",
       "      <td>[[2.2629969418960245, 1.7370030581039755], [28...</td>\n",
       "    </tr>\n",
       "    <tr>\n",
       "      <th>worry_morals</th>\n",
       "      <td>42.672744</td>\n",
       "      <td>1.209885e-08</td>\n",
       "      <td>4</td>\n",
       "      <td>[[67.32415902140673, 51.67584097859327], [5.09...</td>\n",
       "    </tr>\n",
       "  </tbody>\n",
       "</table>\n",
       "</div>"
      ],
      "text/plain": [
       "                      chi2         p_val deg_free  \\\n",
       "happen_general   98.438035  4.211650e-22        2   \n",
       "happen_pub_ed    59.258074  1.356041e-13        2   \n",
       "happen_race      54.593977  1.396589e-12        2   \n",
       "happen_usa       50.305248  1.192214e-11        2   \n",
       "happen_politics  39.589532  2.530710e-09        2   \n",
       "envir_50yrs      42.662311  2.902705e-09        3   \n",
       "happen_health    39.248722  3.000878e-09        2   \n",
       "happen_child_f2  38.633968  4.080754e-09        2   \n",
       "debt_30yrs       44.053863  6.252610e-09        4   \n",
       "worry_morals     42.672744  1.209885e-08        4   \n",
       "\n",
       "                                                     expected_freq  \n",
       "happen_general   [[10.749235474006117, 8.250764525993883], [87....  \n",
       "happen_pub_ed    [[14.709480122324159, 11.290519877675841], [10...  \n",
       "happen_race      [[78.63914373088684, 60.36085626911315], [93.9...  \n",
       "happen_usa       [[16.972477064220183, 13.027522935779816], [95...  \n",
       "happen_politics  [[13.577981651376147, 10.422018348623853], [48...  \n",
       "envir_50yrs      [[80.90214067278288, 62.09785932721712], [30.5...  \n",
       "happen_health    [[113.14984709480122, 86.85015290519878], [56....  \n",
       "happen_child_f2  [[29.690322580645162, 29.309677419354838], [41...  \n",
       "debt_30yrs       [[2.2629969418960245, 1.7370030581039755], [28...  \n",
       "worry_morals     [[67.32415902140673, 51.67584097859327], [5.09...  "
      ]
     },
     "execution_count": 27,
     "metadata": {},
     "output_type": "execute_result"
    }
   ],
   "source": [
    "# Generate object\n",
    "obj_r = e.generate_and_return_obj(republicans_train)\n",
    "# Examine the chi2 results and return the most signficant values from them\n",
    "issues_republicans= obj_r.chi2_df.sort_values(by='p_val')\n",
    "issues_republicans.head(10)"
   ]
  },
  {
   "cell_type": "markdown",
   "id": "119d46f6",
   "metadata": {},
   "source": [
    "### Most Important Issues for Democrats"
   ]
  },
  {
   "cell_type": "code",
   "execution_count": 28,
   "id": "013c3922",
   "metadata": {},
   "outputs": [
    {
     "data": {
      "text/html": [
       "<div>\n",
       "<style scoped>\n",
       "    .dataframe tbody tr th:only-of-type {\n",
       "        vertical-align: middle;\n",
       "    }\n",
       "\n",
       "    .dataframe tbody tr th {\n",
       "        vertical-align: top;\n",
       "    }\n",
       "\n",
       "    .dataframe thead th {\n",
       "        text-align: right;\n",
       "    }\n",
       "</style>\n",
       "<table border=\"1\" class=\"dataframe\">\n",
       "  <thead>\n",
       "    <tr style=\"text-align: right;\">\n",
       "      <th></th>\n",
       "      <th>chi2</th>\n",
       "      <th>p_val</th>\n",
       "      <th>deg_free</th>\n",
       "      <th>expected_freq</th>\n",
       "    </tr>\n",
       "  </thead>\n",
       "  <tbody>\n",
       "    <tr>\n",
       "      <th>happen_general</th>\n",
       "      <td>104.696409</td>\n",
       "      <td>1.842738e-23</td>\n",
       "      <td>2</td>\n",
       "      <td>[[22.372365339578455, 18.627634660421545], [71...</td>\n",
       "    </tr>\n",
       "    <tr>\n",
       "      <th>happen_pub_ed</th>\n",
       "      <td>101.157391</td>\n",
       "      <td>1.081313e-22</td>\n",
       "      <td>2</td>\n",
       "      <td>[[20.18969555035129, 16.81030444964871], [115....</td>\n",
       "    </tr>\n",
       "    <tr>\n",
       "      <th>happen_race</th>\n",
       "      <td>81.262306</td>\n",
       "      <td>2.260032e-18</td>\n",
       "      <td>2</td>\n",
       "      <td>[[85.66978922716628, 71.33021077283372], [126....</td>\n",
       "    </tr>\n",
       "    <tr>\n",
       "      <th>happen_health</th>\n",
       "      <td>57.160823</td>\n",
       "      <td>3.869769e-13</td>\n",
       "      <td>2</td>\n",
       "      <td>[[132.59718969555036, 110.40281030444964], [79...</td>\n",
       "    </tr>\n",
       "    <tr>\n",
       "      <th>worry_economy</th>\n",
       "      <td>60.499532</td>\n",
       "      <td>4.597460e-13</td>\n",
       "      <td>3</td>\n",
       "      <td>[[117.86416861826697, 98.13583138173303], [1.6...</td>\n",
       "    </tr>\n",
       "    <tr>\n",
       "      <th>happen_child_f2</th>\n",
       "      <td>53.500609</td>\n",
       "      <td>2.412628e-12</td>\n",
       "      <td>2</td>\n",
       "      <td>[[44.331896551724135, 40.668103448275865], [70...</td>\n",
       "    </tr>\n",
       "    <tr>\n",
       "      <th>worry_leaders</th>\n",
       "      <td>56.285782</td>\n",
       "      <td>3.650540e-12</td>\n",
       "      <td>3</td>\n",
       "      <td>[[81.30444964871194, 67.69555035128806], [3.27...</td>\n",
       "    </tr>\n",
       "    <tr>\n",
       "      <th>happen_65up_f1</th>\n",
       "      <td>46.360372</td>\n",
       "      <td>8.569847e-11</td>\n",
       "      <td>2</td>\n",
       "      <td>[[32.738461538461536, 24.26153846153846], [70....</td>\n",
       "    </tr>\n",
       "    <tr>\n",
       "      <th>job_security</th>\n",
       "      <td>48.406011</td>\n",
       "      <td>1.745288e-10</td>\n",
       "      <td>3</td>\n",
       "      <td>[[74.21077283372365, 61.78922716627635], [130....</td>\n",
       "    </tr>\n",
       "    <tr>\n",
       "      <th>happen_politics</th>\n",
       "      <td>43.472973</td>\n",
       "      <td>3.630478e-10</td>\n",
       "      <td>2</td>\n",
       "      <td>[[18.007025761124122, 14.992974238875878], [63...</td>\n",
       "    </tr>\n",
       "  </tbody>\n",
       "</table>\n",
       "</div>"
      ],
      "text/plain": [
       "                       chi2         p_val deg_free  \\\n",
       "happen_general   104.696409  1.842738e-23        2   \n",
       "happen_pub_ed    101.157391  1.081313e-22        2   \n",
       "happen_race       81.262306  2.260032e-18        2   \n",
       "happen_health     57.160823  3.869769e-13        2   \n",
       "worry_economy     60.499532  4.597460e-13        3   \n",
       "happen_child_f2   53.500609  2.412628e-12        2   \n",
       "worry_leaders     56.285782  3.650540e-12        3   \n",
       "happen_65up_f1    46.360372  8.569847e-11        2   \n",
       "job_security      48.406011  1.745288e-10        3   \n",
       "happen_politics   43.472973  3.630478e-10        2   \n",
       "\n",
       "                                                     expected_freq  \n",
       "happen_general   [[22.372365339578455, 18.627634660421545], [71...  \n",
       "happen_pub_ed    [[20.18969555035129, 16.81030444964871], [115....  \n",
       "happen_race      [[85.66978922716628, 71.33021077283372], [126....  \n",
       "happen_health    [[132.59718969555036, 110.40281030444964], [79...  \n",
       "worry_economy    [[117.86416861826697, 98.13583138173303], [1.6...  \n",
       "happen_child_f2  [[44.331896551724135, 40.668103448275865], [70...  \n",
       "worry_leaders    [[81.30444964871194, 67.69555035128806], [3.27...  \n",
       "happen_65up_f1   [[32.738461538461536, 24.26153846153846], [70....  \n",
       "job_security     [[74.21077283372365, 61.78922716627635], [130....  \n",
       "happen_politics  [[18.007025761124122, 14.992974238875878], [63...  "
      ]
     },
     "execution_count": 28,
     "metadata": {},
     "output_type": "execute_result"
    }
   ],
   "source": [
    "# Generate object\n",
    "obj_d = e.generate_and_return_obj(democrats_train)\n",
    "# Examine the chi2 results and return the most signficant values from them\n",
    "issues_democrats = obj_d.chi2_df.sort_values(by='p_val')\n",
    "issues_democrats.head(10)"
   ]
  },
  {
   "cell_type": "markdown",
   "id": "63d8d69f",
   "metadata": {},
   "source": [
    "### Differences between Republicans and Democrats"
   ]
  },
  {
   "cell_type": "code",
   "execution_count": 29,
   "id": "93b9910c",
   "metadata": {},
   "outputs": [],
   "source": [
    "#Calculate issues with statistically significant correlation to pessimism for republicans\n",
    "important_for_republicans = issues_republicans[issues_republicans.p_val < 0.05]\n",
    "#Calculate issues with statistically significant correlation to pessimism for democrats\n",
    "important_for_democrats = issues_democrats[issues_democrats.p_val < 0.05]"
   ]
  },
  {
   "cell_type": "code",
   "execution_count": 30,
   "id": "b66fc30d",
   "metadata": {},
   "outputs": [
    {
     "data": {
      "text/plain": [
       "['happen_general',\n",
       " 'happen_pub_ed',\n",
       " 'happen_race',\n",
       " 'happen_usa',\n",
       " 'happen_politics',\n",
       " 'envir_50yrs',\n",
       " 'happen_health',\n",
       " 'happen_child_f2',\n",
       " 'debt_30yrs',\n",
       " 'worry_morals',\n",
       " 'happen_rel',\n",
       " 'worry_government',\n",
       " 'worry_economy',\n",
       " 'job_benefits',\n",
       " 'job_security',\n",
       " 'share_americans_in_middle_class',\n",
       " 'ethnic_conflict',\n",
       " 'happen_china',\n",
       " 'worry_leaders',\n",
       " 'media',\n",
       " 'happen_65up_f1',\n",
       " 'happen_anti_semitism',\n",
       " 'share_americans_in_lower_class',\n",
       " 'gov_in_wash',\n",
       " 'elder_care',\n",
       " 'happen_wealthgap',\n",
       " 'ethnic_customs',\n",
       " 'fut_divorce',\n",
       " 'happen_terroist',\n",
       " 'worry_public_schools',\n",
       " 'automation_good_or_bad',\n",
       " 'robot_replacement_means_better_jobs_for_humans',\n",
       " 'ethnic_impact1',\n",
       " 'robot_replacement_increase_inequality',\n",
       " 'priority_avoid_tax_increase',\n",
       " 'fut_marriage',\n",
       " 'pop_growth',\n",
       " 'religion',\n",
       " 'schools',\n",
       " 'happen_energy',\n",
       " 'college_uni',\n",
       " 'fut_abortion',\n",
       " 'state_local',\n",
       " 'harass_sexual_personal_exp',\n",
       " 'form',\n",
       " 'political_views']"
      ]
     },
     "execution_count": 30,
     "metadata": {},
     "output_type": "execute_result"
    }
   ],
   "source": [
    "important_for_republicans_list = important_for_republicans.index.to_list()\n",
    "important_for_republicans_list"
   ]
  },
  {
   "cell_type": "code",
   "execution_count": 31,
   "id": "24cba5bd",
   "metadata": {},
   "outputs": [
    {
     "data": {
      "text/plain": [
       "['happen_general',\n",
       " 'happen_pub_ed',\n",
       " 'happen_race',\n",
       " 'happen_health',\n",
       " 'worry_economy',\n",
       " 'happen_child_f2',\n",
       " 'worry_leaders',\n",
       " 'happen_65up_f1',\n",
       " 'job_security',\n",
       " 'happen_politics',\n",
       " 'job_benefits',\n",
       " 'happen_usa',\n",
       " 'happen_anti_semitism',\n",
       " 'envir_50yrs',\n",
       " 'share_americans_in_middle_class',\n",
       " 'happen_wealthgap',\n",
       " 'worry_government',\n",
       " 'happen_energy',\n",
       " 'share_americans_in_lower_class',\n",
       " 'happen_70yr_labor',\n",
       " 'happen_china',\n",
       " 'elder_care',\n",
       " 'happen_terroist',\n",
       " 'worry_climate',\n",
       " 'rel_groups',\n",
       " 'debt_30yrs',\n",
       " 'gov_in_wash',\n",
       " 'ethnic_conflict',\n",
       " 'worry_morals',\n",
       " 'worries_federal_government',\n",
       " 'priority_increase_military',\n",
       " 'race_and_ethnicity',\n",
       " 'priority_climate',\n",
       " 'happen_alzheimers',\n",
       " 'ss_money',\n",
       " 'schools',\n",
       " 'state_local',\n",
       " 'race',\n",
       " 'church_attendance',\n",
       " 'robot_replacement_means_better_jobs_for_humans',\n",
       " 'media',\n",
       " 'major_corps',\n",
       " 'harass_false_f2',\n",
       " 'priority_inequality',\n",
       " 'fut_kids',\n",
       " 'harass_unbelieved_f2',\n",
       " 'military',\n",
       " 'happen_rel',\n",
       " 'priority_increase_social_security',\n",
       " 'age_impact',\n",
       " 'fut_marriage',\n",
       " 'robot_replacement_increase_inequality',\n",
       " 'automation_good_or_bad',\n",
       " 'pop_growth',\n",
       " 'replacement_by_robots_good_or_bad',\n",
       " 'elder_finance_1',\n",
       " 'college_uni']"
      ]
     },
     "execution_count": 31,
     "metadata": {},
     "output_type": "execute_result"
    }
   ],
   "source": [
    "important_for_democrats_list = important_for_democrats.index.to_list()\n",
    "important_for_democrats_list"
   ]
  },
  {
   "cell_type": "code",
   "execution_count": 32,
   "id": "4b8c63e4",
   "metadata": {},
   "outputs": [
    {
     "data": {
      "text/plain": [
       "(46, 57)"
      ]
     },
     "execution_count": 32,
     "metadata": {},
     "output_type": "execute_result"
    }
   ],
   "source": [
    "len(important_for_republicans), len(important_for_democrats)"
   ]
  },
  {
   "cell_type": "code",
   "execution_count": 33,
   "id": "1a757ce4",
   "metadata": {},
   "outputs": [
    {
     "data": {
      "text/plain": [
       "{'ethnic_customs',\n",
       " 'ethnic_impact1',\n",
       " 'form',\n",
       " 'fut_abortion',\n",
       " 'fut_divorce',\n",
       " 'harass_sexual_personal_exp',\n",
       " 'political_views',\n",
       " 'priority_avoid_tax_increase',\n",
       " 'religion',\n",
       " 'worry_public_schools'}"
      ]
     },
     "execution_count": 33,
     "metadata": {},
     "output_type": "execute_result"
    }
   ],
   "source": [
    "important_for_republicans_but_not_democrats = set(important_for_republicans_list).difference(set(important_for_democrats_list))\n",
    "important_for_republicans_but_not_democrats"
   ]
  },
  {
   "cell_type": "code",
   "execution_count": 34,
   "id": "02e73204",
   "metadata": {},
   "outputs": [
    {
     "data": {
      "text/plain": [
       "{'age_impact',\n",
       " 'church_attendance',\n",
       " 'elder_finance_1',\n",
       " 'fut_kids',\n",
       " 'happen_70yr_labor',\n",
       " 'happen_alzheimers',\n",
       " 'harass_false_f2',\n",
       " 'harass_unbelieved_f2',\n",
       " 'major_corps',\n",
       " 'military',\n",
       " 'priority_climate',\n",
       " 'priority_increase_military',\n",
       " 'priority_increase_social_security',\n",
       " 'priority_inequality',\n",
       " 'race',\n",
       " 'race_and_ethnicity',\n",
       " 'rel_groups',\n",
       " 'replacement_by_robots_good_or_bad',\n",
       " 'ss_money',\n",
       " 'worries_federal_government',\n",
       " 'worry_climate'}"
      ]
     },
     "execution_count": 34,
     "metadata": {},
     "output_type": "execute_result"
    }
   ],
   "source": [
    "important_for_democrats_but_not_republicans = set(important_for_democrats_list).difference(set(important_for_republicans_list))\n",
    "important_for_democrats_but_not_republicans"
   ]
  },
  {
   "cell_type": "markdown",
   "id": "d1475945",
   "metadata": {},
   "source": [
    "There is significant overlap in the issues important for Republicans and Democrats. There are, however, some issues that are unique to each party that are predictive of overall pessismism. "
   ]
  },
  {
   "cell_type": "markdown",
   "id": "3aefa01e",
   "metadata": {},
   "source": [
    "<a name='income'></a>\n",
    "## Explore by Income Level"
   ]
  },
  {
   "cell_type": "code",
   "execution_count": 35,
   "id": "76d66393",
   "metadata": {},
   "outputs": [],
   "source": [
    "#Subset for less than $30,000 per year\n",
    "less_than_thirty = train[train.family_income_three_categories == '<$30,000']\n",
    "#Subset for $30,000-$75,000 per year\n",
    "thirty_to_seventy_five = train[train.family_income_three_categories == '$30-$74,999']\n",
    "#Subset for over $75,000 year\n",
    "over_seventy_five = train[train.family_income_three_categories == '$75,000+']"
   ]
  },
  {
   "cell_type": "markdown",
   "id": "7451691d",
   "metadata": {},
   "source": [
    "### Most important issues for households with income less than \\$30,000 per year"
   ]
  },
  {
   "cell_type": "code",
   "execution_count": 36,
   "id": "086f206b",
   "metadata": {},
   "outputs": [
    {
     "data": {
      "text/html": [
       "<div>\n",
       "<style scoped>\n",
       "    .dataframe tbody tr th:only-of-type {\n",
       "        vertical-align: middle;\n",
       "    }\n",
       "\n",
       "    .dataframe tbody tr th {\n",
       "        vertical-align: top;\n",
       "    }\n",
       "\n",
       "    .dataframe thead th {\n",
       "        text-align: right;\n",
       "    }\n",
       "</style>\n",
       "<table border=\"1\" class=\"dataframe\">\n",
       "  <thead>\n",
       "    <tr style=\"text-align: right;\">\n",
       "      <th></th>\n",
       "      <th>chi2</th>\n",
       "      <th>p_val</th>\n",
       "      <th>deg_free</th>\n",
       "      <th>expected_freq</th>\n",
       "    </tr>\n",
       "  </thead>\n",
       "  <tbody>\n",
       "    <tr>\n",
       "      <th>happen_general</th>\n",
       "      <td>46.584244</td>\n",
       "      <td>7.662312e-11</td>\n",
       "      <td>2</td>\n",
       "      <td>[[16.550925925925927, 8.449074074074074], [56....</td>\n",
       "    </tr>\n",
       "    <tr>\n",
       "      <th>happen_pub_ed</th>\n",
       "      <td>31.434289</td>\n",
       "      <td>1.493244e-07</td>\n",
       "      <td>2</td>\n",
       "      <td>[[25.15740740740741, 12.842592592592593], [60....</td>\n",
       "    </tr>\n",
       "    <tr>\n",
       "      <th>happen_usa</th>\n",
       "      <td>26.834199</td>\n",
       "      <td>1.489456e-06</td>\n",
       "      <td>2</td>\n",
       "      <td>[[26.48148148148148, 13.518518518518519], [76....</td>\n",
       "    </tr>\n",
       "    <tr>\n",
       "      <th>job_benefits</th>\n",
       "      <td>22.992765</td>\n",
       "      <td>4.052349e-05</td>\n",
       "      <td>3</td>\n",
       "      <td>[[50.31481481481482, 25.685185185185187], [42....</td>\n",
       "    </tr>\n",
       "    <tr>\n",
       "      <th>happen_rel</th>\n",
       "      <td>19.061700</td>\n",
       "      <td>7.257792e-05</td>\n",
       "      <td>2</td>\n",
       "      <td>[[22.50925925925926, 11.49074074074074], [61.5...</td>\n",
       "    </tr>\n",
       "    <tr>\n",
       "      <th>happen_child_f2</th>\n",
       "      <td>18.953177</td>\n",
       "      <td>7.662489e-05</td>\n",
       "      <td>2</td>\n",
       "      <td>[[30.666666666666668, 15.333333333333334], [34...</td>\n",
       "    </tr>\n",
       "    <tr>\n",
       "      <th>happen_energy</th>\n",
       "      <td>22.245197</td>\n",
       "      <td>1.791070e-04</td>\n",
       "      <td>4</td>\n",
       "      <td>[[0.6620370370370371, 0.33796296296296297], [3...</td>\n",
       "    </tr>\n",
       "    <tr>\n",
       "      <th>happen_65up_f1</th>\n",
       "      <td>17.239953</td>\n",
       "      <td>1.804645e-04</td>\n",
       "      <td>2</td>\n",
       "      <td>[[23.65714285714286, 12.342857142857143], [33....</td>\n",
       "    </tr>\n",
       "    <tr>\n",
       "      <th>happen_health</th>\n",
       "      <td>15.640964</td>\n",
       "      <td>4.014281e-04</td>\n",
       "      <td>2</td>\n",
       "      <td>[[74.81018518518519, 38.18981481481482], [47.0...</td>\n",
       "    </tr>\n",
       "    <tr>\n",
       "      <th>happen_wealthgap</th>\n",
       "      <td>15.375666</td>\n",
       "      <td>4.583705e-04</td>\n",
       "      <td>2</td>\n",
       "      <td>[[19.199074074074073, 9.800925925925926], [21....</td>\n",
       "    </tr>\n",
       "  </tbody>\n",
       "</table>\n",
       "</div>"
      ],
      "text/plain": [
       "                       chi2         p_val deg_free  \\\n",
       "happen_general    46.584244  7.662312e-11        2   \n",
       "happen_pub_ed     31.434289  1.493244e-07        2   \n",
       "happen_usa        26.834199  1.489456e-06        2   \n",
       "job_benefits      22.992765  4.052349e-05        3   \n",
       "happen_rel        19.061700  7.257792e-05        2   \n",
       "happen_child_f2   18.953177  7.662489e-05        2   \n",
       "happen_energy     22.245197  1.791070e-04        4   \n",
       "happen_65up_f1    17.239953  1.804645e-04        2   \n",
       "happen_health     15.640964  4.014281e-04        2   \n",
       "happen_wealthgap  15.375666  4.583705e-04        2   \n",
       "\n",
       "                                                      expected_freq  \n",
       "happen_general    [[16.550925925925927, 8.449074074074074], [56....  \n",
       "happen_pub_ed     [[25.15740740740741, 12.842592592592593], [60....  \n",
       "happen_usa        [[26.48148148148148, 13.518518518518519], [76....  \n",
       "job_benefits      [[50.31481481481482, 25.685185185185187], [42....  \n",
       "happen_rel        [[22.50925925925926, 11.49074074074074], [61.5...  \n",
       "happen_child_f2   [[30.666666666666668, 15.333333333333334], [34...  \n",
       "happen_energy     [[0.6620370370370371, 0.33796296296296297], [3...  \n",
       "happen_65up_f1    [[23.65714285714286, 12.342857142857143], [33....  \n",
       "happen_health     [[74.81018518518519, 38.18981481481482], [47.0...  \n",
       "happen_wealthgap  [[19.199074074074073, 9.800925925925926], [21....  "
      ]
     },
     "execution_count": 36,
     "metadata": {},
     "output_type": "execute_result"
    }
   ],
   "source": [
    "# Generate object\n",
    "obj_lower = e.generate_and_return_obj(less_than_thirty)\n",
    "# Examine the chi2 results and return the most signficant values from them\n",
    "issues_lower = obj_lower.chi2_df.sort_values(by='p_val')\n",
    "issues_lower.head(10)"
   ]
  },
  {
   "cell_type": "markdown",
   "id": "6c1aa2d7",
   "metadata": {},
   "source": [
    "### Most important issues for households with income between \\$30,000 and \\$75,000 per year"
   ]
  },
  {
   "cell_type": "code",
   "execution_count": 37,
   "id": "9a4d931c",
   "metadata": {},
   "outputs": [
    {
     "data": {
      "text/html": [
       "<div>\n",
       "<style scoped>\n",
       "    .dataframe tbody tr th:only-of-type {\n",
       "        vertical-align: middle;\n",
       "    }\n",
       "\n",
       "    .dataframe tbody tr th {\n",
       "        vertical-align: top;\n",
       "    }\n",
       "\n",
       "    .dataframe thead th {\n",
       "        text-align: right;\n",
       "    }\n",
       "</style>\n",
       "<table border=\"1\" class=\"dataframe\">\n",
       "  <thead>\n",
       "    <tr style=\"text-align: right;\">\n",
       "      <th></th>\n",
       "      <th>chi2</th>\n",
       "      <th>p_val</th>\n",
       "      <th>deg_free</th>\n",
       "      <th>expected_freq</th>\n",
       "    </tr>\n",
       "  </thead>\n",
       "  <tbody>\n",
       "    <tr>\n",
       "      <th>happen_general</th>\n",
       "      <td>65.668447</td>\n",
       "      <td>5.498928e-15</td>\n",
       "      <td>2</td>\n",
       "      <td>[[13.91186440677966, 13.08813559322034], [54.6...</td>\n",
       "    </tr>\n",
       "    <tr>\n",
       "      <th>happen_pub_ed</th>\n",
       "      <td>61.402277</td>\n",
       "      <td>4.641570e-14</td>\n",
       "      <td>2</td>\n",
       "      <td>[[16.48813559322034, 15.511864406779662], [82....</td>\n",
       "    </tr>\n",
       "    <tr>\n",
       "      <th>happen_child_f2</th>\n",
       "      <td>49.524337</td>\n",
       "      <td>1.761679e-11</td>\n",
       "      <td>2</td>\n",
       "      <td>[[24.158940397350992, 23.841059602649008], [44...</td>\n",
       "    </tr>\n",
       "    <tr>\n",
       "      <th>share_americans_in_middle_class</th>\n",
       "      <td>46.320698</td>\n",
       "      <td>4.847360e-10</td>\n",
       "      <td>3</td>\n",
       "      <td>[[71.10508474576271, 66.89491525423729], [38.1...</td>\n",
       "    </tr>\n",
       "    <tr>\n",
       "      <th>share_americans_in_lower_class</th>\n",
       "      <td>35.944812</td>\n",
       "      <td>7.692289e-08</td>\n",
       "      <td>3</td>\n",
       "      <td>[[23.701694915254237, 22.298305084745763], [10...</td>\n",
       "    </tr>\n",
       "    <tr>\n",
       "      <th>happen_usa</th>\n",
       "      <td>31.391239</td>\n",
       "      <td>1.525735e-07</td>\n",
       "      <td>2</td>\n",
       "      <td>[[13.396610169491526, 12.603389830508474], [94...</td>\n",
       "    </tr>\n",
       "    <tr>\n",
       "      <th>job_security</th>\n",
       "      <td>32.154401</td>\n",
       "      <td>4.855648e-07</td>\n",
       "      <td>3</td>\n",
       "      <td>[[55.13220338983051, 51.86779661016949], [80.8...</td>\n",
       "    </tr>\n",
       "    <tr>\n",
       "      <th>worry_leaders</th>\n",
       "      <td>32.907789</td>\n",
       "      <td>1.247546e-06</td>\n",
       "      <td>4</td>\n",
       "      <td>[[58.73898305084746, 55.26101694915254], [3.09...</td>\n",
       "    </tr>\n",
       "    <tr>\n",
       "      <th>happen_health</th>\n",
       "      <td>26.874850</td>\n",
       "      <td>1.459488e-06</td>\n",
       "      <td>2</td>\n",
       "      <td>[[86.04745762711865, 80.95254237288135], [49.9...</td>\n",
       "    </tr>\n",
       "    <tr>\n",
       "      <th>job_benefits</th>\n",
       "      <td>29.614493</td>\n",
       "      <td>1.663306e-06</td>\n",
       "      <td>3</td>\n",
       "      <td>[[60.8, 57.2], [26.79322033898305, 25.20677966...</td>\n",
       "    </tr>\n",
       "  </tbody>\n",
       "</table>\n",
       "</div>"
      ],
      "text/plain": [
       "                                      chi2         p_val deg_free  \\\n",
       "happen_general                   65.668447  5.498928e-15        2   \n",
       "happen_pub_ed                    61.402277  4.641570e-14        2   \n",
       "happen_child_f2                  49.524337  1.761679e-11        2   \n",
       "share_americans_in_middle_class  46.320698  4.847360e-10        3   \n",
       "share_americans_in_lower_class   35.944812  7.692289e-08        3   \n",
       "happen_usa                       31.391239  1.525735e-07        2   \n",
       "job_security                     32.154401  4.855648e-07        3   \n",
       "worry_leaders                    32.907789  1.247546e-06        4   \n",
       "happen_health                    26.874850  1.459488e-06        2   \n",
       "job_benefits                     29.614493  1.663306e-06        3   \n",
       "\n",
       "                                                                     expected_freq  \n",
       "happen_general                   [[13.91186440677966, 13.08813559322034], [54.6...  \n",
       "happen_pub_ed                    [[16.48813559322034, 15.511864406779662], [82....  \n",
       "happen_child_f2                  [[24.158940397350992, 23.841059602649008], [44...  \n",
       "share_americans_in_middle_class  [[71.10508474576271, 66.89491525423729], [38.1...  \n",
       "share_americans_in_lower_class   [[23.701694915254237, 22.298305084745763], [10...  \n",
       "happen_usa                       [[13.396610169491526, 12.603389830508474], [94...  \n",
       "job_security                     [[55.13220338983051, 51.86779661016949], [80.8...  \n",
       "worry_leaders                    [[58.73898305084746, 55.26101694915254], [3.09...  \n",
       "happen_health                    [[86.04745762711865, 80.95254237288135], [49.9...  \n",
       "job_benefits                     [[60.8, 57.2], [26.79322033898305, 25.20677966...  "
      ]
     },
     "execution_count": 37,
     "metadata": {},
     "output_type": "execute_result"
    }
   ],
   "source": [
    "# Generate object\n",
    "obj_middle = e.generate_and_return_obj(thirty_to_seventy_five)\n",
    "# Examine the chi2 results and return the most signficant values from them\n",
    "issues_middle = obj_middle.chi2_df.sort_values(by='p_val')\n",
    "issues_middle.head(10)"
   ]
  },
  {
   "cell_type": "markdown",
   "id": "72ab8508",
   "metadata": {},
   "source": [
    "### Most important issues for household with income over \\$75,000 per year"
   ]
  },
  {
   "cell_type": "code",
   "execution_count": 38,
   "id": "724f1832",
   "metadata": {},
   "outputs": [
    {
     "data": {
      "text/html": [
       "<div>\n",
       "<style scoped>\n",
       "    .dataframe tbody tr th:only-of-type {\n",
       "        vertical-align: middle;\n",
       "    }\n",
       "\n",
       "    .dataframe tbody tr th {\n",
       "        vertical-align: top;\n",
       "    }\n",
       "\n",
       "    .dataframe thead th {\n",
       "        text-align: right;\n",
       "    }\n",
       "</style>\n",
       "<table border=\"1\" class=\"dataframe\">\n",
       "  <thead>\n",
       "    <tr style=\"text-align: right;\">\n",
       "      <th></th>\n",
       "      <th>chi2</th>\n",
       "      <th>p_val</th>\n",
       "      <th>deg_free</th>\n",
       "      <th>expected_freq</th>\n",
       "    </tr>\n",
       "  </thead>\n",
       "  <tbody>\n",
       "    <tr>\n",
       "      <th>happen_general</th>\n",
       "      <td>64.674884</td>\n",
       "      <td>9.037063e-15</td>\n",
       "      <td>2</td>\n",
       "      <td>[[8.330578512396695, 7.669421487603306], [55.1...</td>\n",
       "    </tr>\n",
       "    <tr>\n",
       "      <th>happen_child_f2</th>\n",
       "      <td>47.101839</td>\n",
       "      <td>5.915149e-11</td>\n",
       "      <td>2</td>\n",
       "      <td>[[29.07246376811594, 29.92753623188406], [35.4...</td>\n",
       "    </tr>\n",
       "    <tr>\n",
       "      <th>happen_race</th>\n",
       "      <td>46.419663</td>\n",
       "      <td>8.319519e-11</td>\n",
       "      <td>2</td>\n",
       "      <td>[[47.900826446280995, 44.099173553719005], [71...</td>\n",
       "    </tr>\n",
       "    <tr>\n",
       "      <th>happen_pub_ed</th>\n",
       "      <td>46.174514</td>\n",
       "      <td>9.404414e-11</td>\n",
       "      <td>2</td>\n",
       "      <td>[[7.289256198347108, 6.710743801652892], [70.2...</td>\n",
       "    </tr>\n",
       "    <tr>\n",
       "      <th>job_security</th>\n",
       "      <td>45.911766</td>\n",
       "      <td>5.921841e-10</td>\n",
       "      <td>3</td>\n",
       "      <td>[[43.735537190082646, 40.264462809917354], [67...</td>\n",
       "    </tr>\n",
       "    <tr>\n",
       "      <th>worry_economy</th>\n",
       "      <td>48.529564</td>\n",
       "      <td>7.319050e-10</td>\n",
       "      <td>4</td>\n",
       "      <td>[[58.83471074380165, 54.16528925619835], [2.08...</td>\n",
       "    </tr>\n",
       "    <tr>\n",
       "      <th>envir_50yrs</th>\n",
       "      <td>44.030214</td>\n",
       "      <td>1.487043e-09</td>\n",
       "      <td>3</td>\n",
       "      <td>[[36.446280991735534, 33.553719008264466], [18...</td>\n",
       "    </tr>\n",
       "    <tr>\n",
       "      <th>happen_wealthgap</th>\n",
       "      <td>36.675775</td>\n",
       "      <td>1.086317e-08</td>\n",
       "      <td>2</td>\n",
       "      <td>[[4.1652892561983474, 3.834710743801653], [27....</td>\n",
       "    </tr>\n",
       "    <tr>\n",
       "      <th>worry_government</th>\n",
       "      <td>37.676011</td>\n",
       "      <td>3.310018e-08</td>\n",
       "      <td>3</td>\n",
       "      <td>[[49.46280991735537, 45.53719008264463], [11.4...</td>\n",
       "    </tr>\n",
       "    <tr>\n",
       "      <th>happen_politics</th>\n",
       "      <td>33.745648</td>\n",
       "      <td>4.701384e-08</td>\n",
       "      <td>2</td>\n",
       "      <td>[[4.1652892561983474, 3.834710743801653], [40....</td>\n",
       "    </tr>\n",
       "  </tbody>\n",
       "</table>\n",
       "</div>"
      ],
      "text/plain": [
       "                       chi2         p_val deg_free  \\\n",
       "happen_general    64.674884  9.037063e-15        2   \n",
       "happen_child_f2   47.101839  5.915149e-11        2   \n",
       "happen_race       46.419663  8.319519e-11        2   \n",
       "happen_pub_ed     46.174514  9.404414e-11        2   \n",
       "job_security      45.911766  5.921841e-10        3   \n",
       "worry_economy     48.529564  7.319050e-10        4   \n",
       "envir_50yrs       44.030214  1.487043e-09        3   \n",
       "happen_wealthgap  36.675775  1.086317e-08        2   \n",
       "worry_government  37.676011  3.310018e-08        3   \n",
       "happen_politics   33.745648  4.701384e-08        2   \n",
       "\n",
       "                                                      expected_freq  \n",
       "happen_general    [[8.330578512396695, 7.669421487603306], [55.1...  \n",
       "happen_child_f2   [[29.07246376811594, 29.92753623188406], [35.4...  \n",
       "happen_race       [[47.900826446280995, 44.099173553719005], [71...  \n",
       "happen_pub_ed     [[7.289256198347108, 6.710743801652892], [70.2...  \n",
       "job_security      [[43.735537190082646, 40.264462809917354], [67...  \n",
       "worry_economy     [[58.83471074380165, 54.16528925619835], [2.08...  \n",
       "envir_50yrs       [[36.446280991735534, 33.553719008264466], [18...  \n",
       "happen_wealthgap  [[4.1652892561983474, 3.834710743801653], [27....  \n",
       "worry_government  [[49.46280991735537, 45.53719008264463], [11.4...  \n",
       "happen_politics   [[4.1652892561983474, 3.834710743801653], [40....  "
      ]
     },
     "execution_count": 38,
     "metadata": {},
     "output_type": "execute_result"
    }
   ],
   "source": [
    "# Generate object\n",
    "obj_higher = e.generate_and_return_obj(over_seventy_five)\n",
    "# Examine the chi2 results and return the most signficant values from them\n",
    "issues_higher = obj_higher.chi2_df.sort_values(by='p_val')\n",
    "issues_higher.head(10)"
   ]
  },
  {
   "cell_type": "markdown",
   "id": "2c63eeca",
   "metadata": {},
   "source": [
    "### Differences in Importance of Issues by Income Level"
   ]
  },
  {
   "cell_type": "code",
   "execution_count": 39,
   "id": "a17cbe1b",
   "metadata": {},
   "outputs": [],
   "source": [
    "#Calculate issues with statistically significant correlation to pessimism for income less than $30,000\n",
    "important_lower = issues_lower[issues_lower.p_val < 0.05]\n",
    "#Calculate issues with statistically significant correlation to pessimism for income $30,000-$75,000\n",
    "important_middle = issues_middle[issues_middle.p_val < 0.05]\n",
    "##Calculate issues with statistically significant correlation to pessimism for income over $75,000\n",
    "important_higher = issues_higher[issues_higher.p_val < 0.05]"
   ]
  },
  {
   "cell_type": "code",
   "execution_count": 40,
   "id": "d7f4f80e",
   "metadata": {},
   "outputs": [
    {
     "data": {
      "text/plain": [
       "['happen_general',\n",
       " 'happen_pub_ed',\n",
       " 'happen_usa',\n",
       " 'job_benefits',\n",
       " 'happen_rel',\n",
       " 'happen_child_f2',\n",
       " 'happen_energy',\n",
       " 'happen_65up_f1',\n",
       " 'happen_health',\n",
       " 'happen_wealthgap',\n",
       " 'share_americans_in_middle_class',\n",
       " 'job_security',\n",
       " 'happen_race',\n",
       " 'rel_groups',\n",
       " 'priority_increase_military',\n",
       " 'envir_50yrs',\n",
       " 'happen_politics',\n",
       " 'elder_care',\n",
       " 'likelihood_my_job_replaced_by_robots',\n",
       " 'church_attendance',\n",
       " 'worry_leaders',\n",
       " 'priority_increase_social_security',\n",
       " 'happen_china',\n",
       " 'military',\n",
       " 'fut_marriage',\n",
       " 'ethnic_conflict',\n",
       " 'share_americans_in_upper_class',\n",
       " 'religion',\n",
       " 'happen_alzheimers',\n",
       " 'worry_economy',\n",
       " 'media',\n",
       " 'automation_good_or_bad',\n",
       " 'worry_morals',\n",
       " 'age_impact',\n",
       " 'robot_replacement_means_better_jobs_for_humans',\n",
       " 'summary_of_political_party_data',\n",
       " 'political_party_lean',\n",
       " 'happen_terroist',\n",
       " 'worry_government',\n",
       " 'second_most_responsible_for_workers_f2']"
      ]
     },
     "execution_count": 40,
     "metadata": {},
     "output_type": "execute_result"
    }
   ],
   "source": [
    "important_lower_income_list = important_lower.index.to_list()\n",
    "important_lower_income_list"
   ]
  },
  {
   "cell_type": "code",
   "execution_count": 41,
   "id": "148bfcad",
   "metadata": {},
   "outputs": [
    {
     "data": {
      "text/plain": [
       "['happen_general',\n",
       " 'happen_pub_ed',\n",
       " 'happen_child_f2',\n",
       " 'share_americans_in_middle_class',\n",
       " 'share_americans_in_lower_class',\n",
       " 'happen_usa',\n",
       " 'job_security',\n",
       " 'worry_leaders',\n",
       " 'happen_health',\n",
       " 'job_benefits',\n",
       " 'envir_50yrs',\n",
       " 'happen_race',\n",
       " 'worry_economy',\n",
       " 'elder_care',\n",
       " 'fut_marriage',\n",
       " 'happen_wealthgap',\n",
       " 'debt_30yrs',\n",
       " 'happen_65up_f1',\n",
       " 'major_corps',\n",
       " 'gov_in_wash',\n",
       " 'happen_politics',\n",
       " 'happen_rel',\n",
       " 'happen_energy',\n",
       " 'happen_terroist',\n",
       " 'worry_public_schools',\n",
       " 'state_local',\n",
       " 'worry_morals',\n",
       " 'ethnic_conflict',\n",
       " 'fut_kids',\n",
       " 'age_impact',\n",
       " 'worry_government',\n",
       " 'automation_good_or_bad',\n",
       " 'happen_china',\n",
       " 'pop_growth',\n",
       " 'military',\n",
       " 'happen_anti_semitism',\n",
       " 'schools',\n",
       " 'church_attendance',\n",
       " 'robot_replacement_means_better_jobs_for_humans',\n",
       " 'worry_climate',\n",
       " 'media',\n",
       " 'college_uni',\n",
       " 'rel_groups',\n",
       " 'priority_climate',\n",
       " 'priority_reducing_spending_infrastructure']"
      ]
     },
     "execution_count": 41,
     "metadata": {},
     "output_type": "execute_result"
    }
   ],
   "source": [
    "important_middle_income_list = important_middle.index.to_list()\n",
    "important_middle_income_list"
   ]
  },
  {
   "cell_type": "code",
   "execution_count": 42,
   "id": "b1868e94",
   "metadata": {},
   "outputs": [
    {
     "data": {
      "text/plain": [
       "['happen_general',\n",
       " 'happen_child_f2',\n",
       " 'happen_race',\n",
       " 'happen_pub_ed',\n",
       " 'job_security',\n",
       " 'worry_economy',\n",
       " 'envir_50yrs',\n",
       " 'happen_wealthgap',\n",
       " 'worry_government',\n",
       " 'happen_politics',\n",
       " 'happen_usa',\n",
       " 'debt_30yrs',\n",
       " 'worry_leaders',\n",
       " 'happen_anti_semitism',\n",
       " 'happen_health',\n",
       " 'worry_morals',\n",
       " 'happen_energy',\n",
       " 'replacement_by_robots_good_or_bad',\n",
       " 'share_americans_in_lower_class',\n",
       " 'happen_china',\n",
       " 'ethnic_conflict',\n",
       " 'job_benefits',\n",
       " 'share_americans_in_middle_class',\n",
       " 'state_local',\n",
       " 'worry_public_schools',\n",
       " 'robot_replacement_means_better_jobs_for_humans',\n",
       " 'happen_65up_f1',\n",
       " 'happen_terroist',\n",
       " 'elder_care',\n",
       " 'robot_replacement_increase_inequality',\n",
       " 'priority_education',\n",
       " 'harass_false_f2',\n",
       " 'worry_climate',\n",
       " 'harass_interactions_f2',\n",
       " 'priority_inequality',\n",
       " 'automation_good_or_bad',\n",
       " 'church_attendance',\n",
       " 'harass_unbelieved_f2',\n",
       " 'marital_status',\n",
       " 'religion',\n",
       " 'replacement_by_robots_likelihood']"
      ]
     },
     "execution_count": 42,
     "metadata": {},
     "output_type": "execute_result"
    }
   ],
   "source": [
    "important_higher_income_list = important_higher.index.to_list()\n",
    "important_higher_income_list"
   ]
  },
  {
   "cell_type": "code",
   "execution_count": 43,
   "id": "fa288f2c",
   "metadata": {},
   "outputs": [
    {
     "data": {
      "text/plain": [
       "(40, 45, 41)"
      ]
     },
     "execution_count": 43,
     "metadata": {},
     "output_type": "execute_result"
    }
   ],
   "source": [
    "len(important_lower_income_list), len(important_middle_income_list), len(important_higher_income_list)"
   ]
  },
  {
   "cell_type": "code",
   "execution_count": 44,
   "id": "7e88d34e",
   "metadata": {},
   "outputs": [
    {
     "data": {
      "text/plain": [
       "{'happen_alzheimers',\n",
       " 'likelihood_my_job_replaced_by_robots',\n",
       " 'political_party_lean',\n",
       " 'priority_increase_military',\n",
       " 'priority_increase_social_security',\n",
       " 'second_most_responsible_for_workers_f2',\n",
       " 'share_americans_in_upper_class',\n",
       " 'summary_of_political_party_data'}"
      ]
     },
     "execution_count": 44,
     "metadata": {},
     "output_type": "execute_result"
    }
   ],
   "source": [
    "#Important issues just for lower income\n",
    "important_for_only_lower_income = set(important_lower_income_list).difference(set(important_middle_income_list)).difference(set(important_higher_income_list))\n",
    "important_for_only_lower_income"
   ]
  },
  {
   "cell_type": "code",
   "execution_count": 45,
   "id": "47a8966a",
   "metadata": {},
   "outputs": [
    {
     "data": {
      "text/plain": [
       "{'college_uni',\n",
       " 'fut_kids',\n",
       " 'gov_in_wash',\n",
       " 'major_corps',\n",
       " 'pop_growth',\n",
       " 'priority_climate',\n",
       " 'priority_reducing_spending_infrastructure',\n",
       " 'schools'}"
      ]
     },
     "execution_count": 45,
     "metadata": {},
     "output_type": "execute_result"
    }
   ],
   "source": [
    "#Important issues just for middle income\n",
    "important_for_only_middle_income = set(important_middle_income_list).difference(set(important_lower_income_list)).difference(set(important_higher_income_list))\n",
    "important_for_only_middle_income"
   ]
  },
  {
   "cell_type": "code",
   "execution_count": 46,
   "id": "32cf2790",
   "metadata": {},
   "outputs": [
    {
     "data": {
      "text/plain": [
       "{'harass_false_f2',\n",
       " 'harass_interactions_f2',\n",
       " 'harass_unbelieved_f2',\n",
       " 'marital_status',\n",
       " 'priority_education',\n",
       " 'priority_inequality',\n",
       " 'replacement_by_robots_good_or_bad',\n",
       " 'replacement_by_robots_likelihood',\n",
       " 'robot_replacement_increase_inequality'}"
      ]
     },
     "execution_count": 46,
     "metadata": {},
     "output_type": "execute_result"
    }
   ],
   "source": [
    "#Important issues just for higher income\n",
    "important_for_only_higher_income = set(important_higher_income_list).difference(set(important_lower_income_list)).difference(set(important_middle_income_list))\n",
    "important_for_only_higher_income"
   ]
  },
  {
   "cell_type": "markdown",
   "id": "0468d7a3",
   "metadata": {},
   "source": [
    "There is significant overlap in the issues the income levels care about. However, there are some issues unique to each income group, listed above. "
   ]
  },
  {
   "cell_type": "markdown",
   "id": "aa57733d",
   "metadata": {},
   "source": [
    "<a name='education'></a>\n",
    "## Explore by Education Level "
   ]
  },
  {
   "cell_type": "code",
   "execution_count": 47,
   "id": "488dc3f8",
   "metadata": {},
   "outputs": [],
   "source": [
    "#Education Level high school or less\n",
    "high_school_train = train[train.highest_education_three_categories == 'H.S. graduate or less']\n",
    "#Education level some college\n",
    "some_college_train = train[train.highest_education_three_categories == 'Some College']\n",
    "#Education level college graduate and above\n",
    "college_grad_train = train[train.highest_education_three_categories == 'College graduate+']"
   ]
  },
  {
   "cell_type": "markdown",
   "id": "830f1112",
   "metadata": {},
   "source": [
    "### Most important issues for education level high school or less"
   ]
  },
  {
   "cell_type": "code",
   "execution_count": 48,
   "id": "a6853c19",
   "metadata": {},
   "outputs": [
    {
     "data": {
      "text/html": [
       "<div>\n",
       "<style scoped>\n",
       "    .dataframe tbody tr th:only-of-type {\n",
       "        vertical-align: middle;\n",
       "    }\n",
       "\n",
       "    .dataframe tbody tr th {\n",
       "        vertical-align: top;\n",
       "    }\n",
       "\n",
       "    .dataframe thead th {\n",
       "        text-align: right;\n",
       "    }\n",
       "</style>\n",
       "<table border=\"1\" class=\"dataframe\">\n",
       "  <thead>\n",
       "    <tr style=\"text-align: right;\">\n",
       "      <th></th>\n",
       "      <th>chi2</th>\n",
       "      <th>p_val</th>\n",
       "      <th>deg_free</th>\n",
       "      <th>expected_freq</th>\n",
       "    </tr>\n",
       "  </thead>\n",
       "  <tbody>\n",
       "    <tr>\n",
       "      <th>happen_pub_ed</th>\n",
       "      <td>71.422013</td>\n",
       "      <td>3.096756e-16</td>\n",
       "      <td>2</td>\n",
       "      <td>[[23.569023569023567, 16.430976430976433], [86...</td>\n",
       "    </tr>\n",
       "    <tr>\n",
       "      <th>happen_general</th>\n",
       "      <td>63.221419</td>\n",
       "      <td>1.869147e-14</td>\n",
       "      <td>2</td>\n",
       "      <td>[[16.4983164983165, 11.501683501683502], [68.9...</td>\n",
       "    </tr>\n",
       "    <tr>\n",
       "      <th>happen_race</th>\n",
       "      <td>49.664889</td>\n",
       "      <td>1.642126e-11</td>\n",
       "      <td>2</td>\n",
       "      <td>[[75.42087542087542, 52.57912457912458], [77.1...</td>\n",
       "    </tr>\n",
       "    <tr>\n",
       "      <th>job_security</th>\n",
       "      <td>49.805750</td>\n",
       "      <td>8.787590e-11</td>\n",
       "      <td>3</td>\n",
       "      <td>[[52.44107744107744, 36.55892255892256], [89.5...</td>\n",
       "    </tr>\n",
       "    <tr>\n",
       "      <th>share_americans_in_middle_class</th>\n",
       "      <td>45.989394</td>\n",
       "      <td>5.701011e-10</td>\n",
       "      <td>3</td>\n",
       "      <td>[[83.08080808080808, 57.91919191919192], [44.1...</td>\n",
       "    </tr>\n",
       "    <tr>\n",
       "      <th>job_benefits</th>\n",
       "      <td>41.702083</td>\n",
       "      <td>4.640767e-09</td>\n",
       "      <td>3</td>\n",
       "      <td>[[58.333333333333336, 40.666666666666664], [42...</td>\n",
       "    </tr>\n",
       "    <tr>\n",
       "      <th>happen_health</th>\n",
       "      <td>37.204975</td>\n",
       "      <td>8.337626e-09</td>\n",
       "      <td>2</td>\n",
       "      <td>[[96.63299663299664, 67.36700336700336], [54.7...</td>\n",
       "    </tr>\n",
       "    <tr>\n",
       "      <th>happen_usa</th>\n",
       "      <td>36.592155</td>\n",
       "      <td>1.132699e-08</td>\n",
       "      <td>2</td>\n",
       "      <td>[[20.622895622895623, 14.377104377104377], [95...</td>\n",
       "    </tr>\n",
       "    <tr>\n",
       "      <th>elder_care</th>\n",
       "      <td>32.214909</td>\n",
       "      <td>1.380276e-08</td>\n",
       "      <td>1</td>\n",
       "      <td>[[48.9057239057239, 34.0942760942761], [126.09...</td>\n",
       "    </tr>\n",
       "    <tr>\n",
       "      <th>happen_rel</th>\n",
       "      <td>33.403714</td>\n",
       "      <td>5.577965e-08</td>\n",
       "      <td>2</td>\n",
       "      <td>[[20.033670033670035, 13.966329966329967], [76...</td>\n",
       "    </tr>\n",
       "  </tbody>\n",
       "</table>\n",
       "</div>"
      ],
      "text/plain": [
       "                                      chi2         p_val deg_free  \\\n",
       "happen_pub_ed                    71.422013  3.096756e-16        2   \n",
       "happen_general                   63.221419  1.869147e-14        2   \n",
       "happen_race                      49.664889  1.642126e-11        2   \n",
       "job_security                     49.805750  8.787590e-11        3   \n",
       "share_americans_in_middle_class  45.989394  5.701011e-10        3   \n",
       "job_benefits                     41.702083  4.640767e-09        3   \n",
       "happen_health                    37.204975  8.337626e-09        2   \n",
       "happen_usa                       36.592155  1.132699e-08        2   \n",
       "elder_care                       32.214909  1.380276e-08        1   \n",
       "happen_rel                       33.403714  5.577965e-08        2   \n",
       "\n",
       "                                                                     expected_freq  \n",
       "happen_pub_ed                    [[23.569023569023567, 16.430976430976433], [86...  \n",
       "happen_general                   [[16.4983164983165, 11.501683501683502], [68.9...  \n",
       "happen_race                      [[75.42087542087542, 52.57912457912458], [77.1...  \n",
       "job_security                     [[52.44107744107744, 36.55892255892256], [89.5...  \n",
       "share_americans_in_middle_class  [[83.08080808080808, 57.91919191919192], [44.1...  \n",
       "job_benefits                     [[58.333333333333336, 40.666666666666664], [42...  \n",
       "happen_health                    [[96.63299663299664, 67.36700336700336], [54.7...  \n",
       "happen_usa                       [[20.622895622895623, 14.377104377104377], [95...  \n",
       "elder_care                       [[48.9057239057239, 34.0942760942761], [126.09...  \n",
       "happen_rel                       [[20.033670033670035, 13.966329966329967], [76...  "
      ]
     },
     "execution_count": 48,
     "metadata": {},
     "output_type": "execute_result"
    }
   ],
   "source": [
    "# Generate object\n",
    "obj_high_school_or_less = e.generate_and_return_obj(high_school_train)\n",
    "# Examine the chi2 results and return the most signficant values from them\n",
    "issues_high_school_or_less = obj_high_school_or_less.chi2_df.sort_values(by='p_val')\n",
    "issues_high_school_or_less.head(10)"
   ]
  },
  {
   "cell_type": "markdown",
   "id": "1638f959",
   "metadata": {},
   "source": [
    "### Most important issues for education level some college"
   ]
  },
  {
   "cell_type": "code",
   "execution_count": 49,
   "id": "900c6a56",
   "metadata": {},
   "outputs": [
    {
     "data": {
      "text/html": [
       "<div>\n",
       "<style scoped>\n",
       "    .dataframe tbody tr th:only-of-type {\n",
       "        vertical-align: middle;\n",
       "    }\n",
       "\n",
       "    .dataframe tbody tr th {\n",
       "        vertical-align: top;\n",
       "    }\n",
       "\n",
       "    .dataframe thead th {\n",
       "        text-align: right;\n",
       "    }\n",
       "</style>\n",
       "<table border=\"1\" class=\"dataframe\">\n",
       "  <thead>\n",
       "    <tr style=\"text-align: right;\">\n",
       "      <th></th>\n",
       "      <th>chi2</th>\n",
       "      <th>p_val</th>\n",
       "      <th>deg_free</th>\n",
       "      <th>expected_freq</th>\n",
       "    </tr>\n",
       "  </thead>\n",
       "  <tbody>\n",
       "    <tr>\n",
       "      <th>happen_general</th>\n",
       "      <td>50.145244</td>\n",
       "      <td>1.291513e-11</td>\n",
       "      <td>2</td>\n",
       "      <td>[[8.533333333333333, 7.466666666666667], [40.5...</td>\n",
       "    </tr>\n",
       "    <tr>\n",
       "      <th>happen_child_f2</th>\n",
       "      <td>34.338608</td>\n",
       "      <td>3.495152e-08</td>\n",
       "      <td>2</td>\n",
       "      <td>[[20.343434343434343, 17.656565656565657], [29...</td>\n",
       "    </tr>\n",
       "    <tr>\n",
       "      <th>share_americans_in_middle_class</th>\n",
       "      <td>29.791243</td>\n",
       "      <td>1.526877e-06</td>\n",
       "      <td>3</td>\n",
       "      <td>[[52.266666666666666, 45.733333333333334], [32...</td>\n",
       "    </tr>\n",
       "    <tr>\n",
       "      <th>happen_pub_ed</th>\n",
       "      <td>23.273268</td>\n",
       "      <td>8.836374e-06</td>\n",
       "      <td>2</td>\n",
       "      <td>[[8.533333333333333, 7.466666666666667], [61.3...</td>\n",
       "    </tr>\n",
       "    <tr>\n",
       "      <th>worry_leaders</th>\n",
       "      <td>25.808412</td>\n",
       "      <td>3.458762e-05</td>\n",
       "      <td>4</td>\n",
       "      <td>[[38.4, 33.6], [1.0666666666666667, 0.93333333...</td>\n",
       "    </tr>\n",
       "    <tr>\n",
       "      <th>happen_usa</th>\n",
       "      <td>20.082463</td>\n",
       "      <td>4.356608e-05</td>\n",
       "      <td>2</td>\n",
       "      <td>[[9.6, 8.4], [68.8, 60.2], [33.6, 29.4]]</td>\n",
       "    </tr>\n",
       "    <tr>\n",
       "      <th>worry_economy</th>\n",
       "      <td>25.082501</td>\n",
       "      <td>4.842425e-05</td>\n",
       "      <td>4</td>\n",
       "      <td>[[50.13333333333333, 43.86666666666667], [1.6,...</td>\n",
       "    </tr>\n",
       "    <tr>\n",
       "      <th>job_security</th>\n",
       "      <td>22.423030</td>\n",
       "      <td>5.325996e-05</td>\n",
       "      <td>3</td>\n",
       "      <td>[[41.06666666666667, 35.93333333333333], [57.0...</td>\n",
       "    </tr>\n",
       "    <tr>\n",
       "      <th>happen_anti_semitism</th>\n",
       "      <td>22.203309</td>\n",
       "      <td>1.825818e-04</td>\n",
       "      <td>4</td>\n",
       "      <td>[[1.0666666666666667, 0.9333333333333333], [7....</td>\n",
       "    </tr>\n",
       "    <tr>\n",
       "      <th>envir_50yrs</th>\n",
       "      <td>18.755483</td>\n",
       "      <td>3.071420e-04</td>\n",
       "      <td>3</td>\n",
       "      <td>[[29.866666666666667, 26.133333333333333], [16...</td>\n",
       "    </tr>\n",
       "  </tbody>\n",
       "</table>\n",
       "</div>"
      ],
      "text/plain": [
       "                                      chi2         p_val deg_free  \\\n",
       "happen_general                   50.145244  1.291513e-11        2   \n",
       "happen_child_f2                  34.338608  3.495152e-08        2   \n",
       "share_americans_in_middle_class  29.791243  1.526877e-06        3   \n",
       "happen_pub_ed                    23.273268  8.836374e-06        2   \n",
       "worry_leaders                    25.808412  3.458762e-05        4   \n",
       "happen_usa                       20.082463  4.356608e-05        2   \n",
       "worry_economy                    25.082501  4.842425e-05        4   \n",
       "job_security                     22.423030  5.325996e-05        3   \n",
       "happen_anti_semitism             22.203309  1.825818e-04        4   \n",
       "envir_50yrs                      18.755483  3.071420e-04        3   \n",
       "\n",
       "                                                                     expected_freq  \n",
       "happen_general                   [[8.533333333333333, 7.466666666666667], [40.5...  \n",
       "happen_child_f2                  [[20.343434343434343, 17.656565656565657], [29...  \n",
       "share_americans_in_middle_class  [[52.266666666666666, 45.733333333333334], [32...  \n",
       "happen_pub_ed                    [[8.533333333333333, 7.466666666666667], [61.3...  \n",
       "worry_leaders                    [[38.4, 33.6], [1.0666666666666667, 0.93333333...  \n",
       "happen_usa                                [[9.6, 8.4], [68.8, 60.2], [33.6, 29.4]]  \n",
       "worry_economy                    [[50.13333333333333, 43.86666666666667], [1.6,...  \n",
       "job_security                     [[41.06666666666667, 35.93333333333333], [57.0...  \n",
       "happen_anti_semitism             [[1.0666666666666667, 0.9333333333333333], [7....  \n",
       "envir_50yrs                      [[29.866666666666667, 26.133333333333333], [16...  "
      ]
     },
     "execution_count": 49,
     "metadata": {},
     "output_type": "execute_result"
    }
   ],
   "source": [
    "# Generate object\n",
    "obj_some_college = e.generate_and_return_obj(some_college_train)\n",
    "# Examine the chi2 results and return the most signficant values from them\n",
    "issues_some_college = obj_some_college.chi2_df.sort_values(by='p_val')\n",
    "issues_some_college.head(10)"
   ]
  },
  {
   "cell_type": "markdown",
   "id": "242e9c60",
   "metadata": {},
   "source": [
    "### Most important issues for education level college graduate and above"
   ]
  },
  {
   "cell_type": "code",
   "execution_count": 50,
   "id": "77c142cb",
   "metadata": {},
   "outputs": [
    {
     "data": {
      "text/html": [
       "<div>\n",
       "<style scoped>\n",
       "    .dataframe tbody tr th:only-of-type {\n",
       "        vertical-align: middle;\n",
       "    }\n",
       "\n",
       "    .dataframe tbody tr th {\n",
       "        vertical-align: top;\n",
       "    }\n",
       "\n",
       "    .dataframe thead th {\n",
       "        text-align: right;\n",
       "    }\n",
       "</style>\n",
       "<table border=\"1\" class=\"dataframe\">\n",
       "  <thead>\n",
       "    <tr style=\"text-align: right;\">\n",
       "      <th></th>\n",
       "      <th>chi2</th>\n",
       "      <th>p_val</th>\n",
       "      <th>deg_free</th>\n",
       "      <th>expected_freq</th>\n",
       "    </tr>\n",
       "  </thead>\n",
       "  <tbody>\n",
       "    <tr>\n",
       "      <th>happen_general</th>\n",
       "      <td>88.078902</td>\n",
       "      <td>7.480135e-20</td>\n",
       "      <td>2</td>\n",
       "      <td>[[10.288808664259928, 8.711191335740072], [60....</td>\n",
       "    </tr>\n",
       "    <tr>\n",
       "      <th>happen_pub_ed</th>\n",
       "      <td>59.932821</td>\n",
       "      <td>9.677280e-14</td>\n",
       "      <td>2</td>\n",
       "      <td>[[7.03971119133574, 5.96028880866426], [74.729...</td>\n",
       "    </tr>\n",
       "    <tr>\n",
       "      <th>happen_race</th>\n",
       "      <td>56.379772</td>\n",
       "      <td>5.718579e-13</td>\n",
       "      <td>2</td>\n",
       "      <td>[[57.40072202166065, 48.59927797833935], [86.6...</td>\n",
       "    </tr>\n",
       "    <tr>\n",
       "      <th>happen_child_f2</th>\n",
       "      <td>56.295949</td>\n",
       "      <td>5.963346e-13</td>\n",
       "      <td>2</td>\n",
       "      <td>[[32.08148148148148, 28.918518518518518], [35....</td>\n",
       "    </tr>\n",
       "    <tr>\n",
       "      <th>worry_economy</th>\n",
       "      <td>45.945392</td>\n",
       "      <td>2.528144e-09</td>\n",
       "      <td>4</td>\n",
       "      <td>[[72.0216606498195, 60.978339350180505], [1.62...</td>\n",
       "    </tr>\n",
       "    <tr>\n",
       "      <th>happen_health</th>\n",
       "      <td>36.434209</td>\n",
       "      <td>1.225779e-08</td>\n",
       "      <td>2</td>\n",
       "      <td>[[82.31046931407943, 69.68953068592057], [58.4...</td>\n",
       "    </tr>\n",
       "    <tr>\n",
       "      <th>happen_politics</th>\n",
       "      <td>34.393043</td>\n",
       "      <td>3.401305e-08</td>\n",
       "      <td>2</td>\n",
       "      <td>[[8.12274368231047, 6.877256317689531], [53.06...</td>\n",
       "    </tr>\n",
       "    <tr>\n",
       "      <th>job_security</th>\n",
       "      <td>36.448761</td>\n",
       "      <td>6.018566e-08</td>\n",
       "      <td>3</td>\n",
       "      <td>[[52.52707581227437, 44.47292418772563], [83.9...</td>\n",
       "    </tr>\n",
       "    <tr>\n",
       "      <th>envir_50yrs</th>\n",
       "      <td>34.815215</td>\n",
       "      <td>1.332825e-07</td>\n",
       "      <td>3</td>\n",
       "      <td>[[35.1985559566787, 29.8014440433213], [16.245...</td>\n",
       "    </tr>\n",
       "    <tr>\n",
       "      <th>happen_usa</th>\n",
       "      <td>29.718616</td>\n",
       "      <td>3.521150e-07</td>\n",
       "      <td>2</td>\n",
       "      <td>[[8.664259927797834, 7.335740072202166], [101....</td>\n",
       "    </tr>\n",
       "  </tbody>\n",
       "</table>\n",
       "</div>"
      ],
      "text/plain": [
       "                      chi2         p_val deg_free  \\\n",
       "happen_general   88.078902  7.480135e-20        2   \n",
       "happen_pub_ed    59.932821  9.677280e-14        2   \n",
       "happen_race      56.379772  5.718579e-13        2   \n",
       "happen_child_f2  56.295949  5.963346e-13        2   \n",
       "worry_economy    45.945392  2.528144e-09        4   \n",
       "happen_health    36.434209  1.225779e-08        2   \n",
       "happen_politics  34.393043  3.401305e-08        2   \n",
       "job_security     36.448761  6.018566e-08        3   \n",
       "envir_50yrs      34.815215  1.332825e-07        3   \n",
       "happen_usa       29.718616  3.521150e-07        2   \n",
       "\n",
       "                                                     expected_freq  \n",
       "happen_general   [[10.288808664259928, 8.711191335740072], [60....  \n",
       "happen_pub_ed    [[7.03971119133574, 5.96028880866426], [74.729...  \n",
       "happen_race      [[57.40072202166065, 48.59927797833935], [86.6...  \n",
       "happen_child_f2  [[32.08148148148148, 28.918518518518518], [35....  \n",
       "worry_economy    [[72.0216606498195, 60.978339350180505], [1.62...  \n",
       "happen_health    [[82.31046931407943, 69.68953068592057], [58.4...  \n",
       "happen_politics  [[8.12274368231047, 6.877256317689531], [53.06...  \n",
       "job_security     [[52.52707581227437, 44.47292418772563], [83.9...  \n",
       "envir_50yrs      [[35.1985559566787, 29.8014440433213], [16.245...  \n",
       "happen_usa       [[8.664259927797834, 7.335740072202166], [101....  "
      ]
     },
     "execution_count": 50,
     "metadata": {},
     "output_type": "execute_result"
    }
   ],
   "source": [
    "# Generate object\n",
    "obj_college_grad = e.generate_and_return_obj(college_grad_train)\n",
    "# Examine the chi2 results and return the most signficant values from them\n",
    "issues_college_grad = obj_college_grad.chi2_df.sort_values(by='p_val')\n",
    "issues_college_grad.head(10)"
   ]
  },
  {
   "cell_type": "markdown",
   "id": "fba5a0ea",
   "metadata": {},
   "source": [
    "### Differences in Importance of Issues by Education Level "
   ]
  },
  {
   "cell_type": "code",
   "execution_count": 51,
   "id": "19e715e5",
   "metadata": {},
   "outputs": [],
   "source": [
    "#Calculate issues with statistically significant correlation to pessimism for income less than $30,000\n",
    "important_high_school = issues_high_school_or_less[issues_high_school_or_less.p_val < 0.05]\n",
    "#Calculate issues with statistically significant correlation to pessimism for income $30,000-$75,000\n",
    "important_some_college = issues_some_college[issues_some_college.p_val < 0.05]\n",
    "##Calculate issues with statistically significant correlation to pessimism for income over $75,000\n",
    "important_college_grad = issues_college_grad[issues_college_grad.p_val < 0.05]"
   ]
  },
  {
   "cell_type": "code",
   "execution_count": 52,
   "id": "65546595",
   "metadata": {},
   "outputs": [
    {
     "data": {
      "text/plain": [
       "['happen_pub_ed',\n",
       " 'happen_general',\n",
       " 'happen_race',\n",
       " 'job_security',\n",
       " 'share_americans_in_middle_class',\n",
       " 'job_benefits',\n",
       " 'happen_health',\n",
       " 'happen_usa',\n",
       " 'elder_care',\n",
       " 'happen_rel',\n",
       " 'happen_politics',\n",
       " 'happen_child_f2',\n",
       " 'happen_65up_f1',\n",
       " 'happen_china',\n",
       " 'happen_alzheimers',\n",
       " 'robot_replacement_means_better_jobs_for_humans',\n",
       " 'envir_50yrs',\n",
       " 'happen_energy',\n",
       " 'worry_leaders',\n",
       " 'fut_marriage',\n",
       " 'debt_30yrs',\n",
       " 'worry_economy',\n",
       " 'happen_anti_semitism',\n",
       " 'share_americans_in_lower_class',\n",
       " 'ethnic_conflict',\n",
       " 'pop_growth',\n",
       " 'worry_morals',\n",
       " 'race',\n",
       " 'happen_terroist',\n",
       " 'worry_government',\n",
       " 'media',\n",
       " 'happen_wealthgap',\n",
       " 'major_corps',\n",
       " 'gov_in_wash',\n",
       " 'family_income_three_categories',\n",
       " 'legal_immigration_levels',\n",
       " 'family_income_nine_categories',\n",
       " 'state_local',\n",
       " 'rel_groups',\n",
       " 'census_region',\n",
       " 'race_and_ethnicity',\n",
       " 'happen_70yr_labor',\n",
       " 'ethnic_customs',\n",
       " 'harass_false_f2',\n",
       " 'fut_kids',\n",
       " 'automation_good_or_bad',\n",
       " 'worry_public_schools',\n",
       " 'age_impact',\n",
       " 'highest_education_six_categories',\n",
       " 'schools',\n",
       " 'fut_divorce',\n",
       " 'replacement_by_robots_likelihood',\n",
       " 'internet_access',\n",
       " 'ethnic_impact1',\n",
       " 'priority_reducing_spending_infrastructure',\n",
       " 'harass_unpunished_f1']"
      ]
     },
     "execution_count": 52,
     "metadata": {},
     "output_type": "execute_result"
    }
   ],
   "source": [
    "important_high_school_list = important_high_school.index.to_list()\n",
    "important_high_school_list"
   ]
  },
  {
   "cell_type": "code",
   "execution_count": 53,
   "id": "33835408",
   "metadata": {},
   "outputs": [
    {
     "data": {
      "text/plain": [
       "['happen_general',\n",
       " 'happen_child_f2',\n",
       " 'share_americans_in_middle_class',\n",
       " 'happen_pub_ed',\n",
       " 'worry_leaders',\n",
       " 'happen_usa',\n",
       " 'worry_economy',\n",
       " 'job_security',\n",
       " 'happen_anti_semitism',\n",
       " 'envir_50yrs',\n",
       " 'job_benefits',\n",
       " 'worry_government',\n",
       " 'happen_65up_f1',\n",
       " 'elder_care',\n",
       " 'debt_30yrs',\n",
       " 'worry_public_schools',\n",
       " 'happen_wealthgap',\n",
       " 'priority_increase_social_security',\n",
       " 'ethnic_conflict',\n",
       " 'happen_terroist',\n",
       " 'happen_race',\n",
       " 'worry_morals',\n",
       " 'share_americans_in_lower_class',\n",
       " 'happen_energy',\n",
       " 'legal_immigration_levels',\n",
       " 'gov_in_wash',\n",
       " 'robot_replacement_increase_inequality',\n",
       " 'happen_health',\n",
       " 'age',\n",
       " 'internet_access',\n",
       " 'rel_groups',\n",
       " 'happen_alzheimers',\n",
       " 'fut_marriage',\n",
       " 'fut_divorce',\n",
       " 'media',\n",
       " 'major_corps']"
      ]
     },
     "execution_count": 53,
     "metadata": {},
     "output_type": "execute_result"
    }
   ],
   "source": [
    "important_some_college_list = important_some_college.index.to_list()\n",
    "important_some_college_list"
   ]
  },
  {
   "cell_type": "code",
   "execution_count": 54,
   "id": "2658c8ca",
   "metadata": {},
   "outputs": [
    {
     "data": {
      "text/plain": [
       "['happen_general',\n",
       " 'happen_pub_ed',\n",
       " 'happen_race',\n",
       " 'happen_child_f2',\n",
       " 'worry_economy',\n",
       " 'happen_health',\n",
       " 'happen_politics',\n",
       " 'job_security',\n",
       " 'envir_50yrs',\n",
       " 'happen_usa',\n",
       " 'job_benefits',\n",
       " 'share_americans_in_lower_class',\n",
       " 'worry_government',\n",
       " 'happen_wealthgap',\n",
       " 'happen_65up_f1',\n",
       " 'happen_anti_semitism',\n",
       " 'happen_china',\n",
       " 'debt_30yrs',\n",
       " 'share_americans_in_middle_class',\n",
       " 'worry_leaders',\n",
       " 'worry_climate',\n",
       " 'gov_in_wash',\n",
       " 'happen_terroist',\n",
       " 'happen_energy',\n",
       " 'robot_replacement_means_better_jobs_for_humans',\n",
       " 'worry_morals',\n",
       " 'worry_public_schools',\n",
       " 'elder_care',\n",
       " 'replacement_by_robots_good_or_bad',\n",
       " 'political_views',\n",
       " 'priority_inequality',\n",
       " 'priority_increase_social_security',\n",
       " 'rel_groups',\n",
       " 'second_most_responsible_for_workers_f1',\n",
       " 'ethnic_conflict',\n",
       " 'ss_money',\n",
       " 'pop_growth',\n",
       " 'schools',\n",
       " 'priority_infra_f1',\n",
       " 'happen_hispanic_pres',\n",
       " 'priority_science',\n",
       " 'happen_rel',\n",
       " 'robot_replacement_increase_inequality',\n",
       " 'priority_reduce_military',\n",
       " 'age_impact',\n",
       " 'military']"
      ]
     },
     "execution_count": 54,
     "metadata": {},
     "output_type": "execute_result"
    }
   ],
   "source": [
    "important_college_grad_list = important_college_grad.index.to_list()\n",
    "important_college_grad_list"
   ]
  },
  {
   "cell_type": "code",
   "execution_count": 55,
   "id": "7ade3669",
   "metadata": {},
   "outputs": [
    {
     "data": {
      "text/plain": [
       "(56, 36, 46)"
      ]
     },
     "execution_count": 55,
     "metadata": {},
     "output_type": "execute_result"
    }
   ],
   "source": [
    "len(important_high_school_list), len(important_some_college_list), len(important_college_grad_list)"
   ]
  },
  {
   "cell_type": "code",
   "execution_count": 56,
   "id": "9492c418",
   "metadata": {},
   "outputs": [
    {
     "data": {
      "text/plain": [
       "{'automation_good_or_bad',\n",
       " 'census_region',\n",
       " 'ethnic_customs',\n",
       " 'ethnic_impact1',\n",
       " 'family_income_nine_categories',\n",
       " 'family_income_three_categories',\n",
       " 'fut_kids',\n",
       " 'happen_70yr_labor',\n",
       " 'harass_false_f2',\n",
       " 'harass_unpunished_f1',\n",
       " 'highest_education_six_categories',\n",
       " 'priority_reducing_spending_infrastructure',\n",
       " 'race',\n",
       " 'race_and_ethnicity',\n",
       " 'replacement_by_robots_likelihood',\n",
       " 'state_local'}"
      ]
     },
     "execution_count": 56,
     "metadata": {},
     "output_type": "execute_result"
    }
   ],
   "source": [
    "#Important issues just for education level high school or less\n",
    "important_for_only_high_school_or_less= set(important_high_school_list).difference(set(important_some_college_list)).difference(set(important_college_grad_list))\n",
    "important_for_only_high_school_or_less"
   ]
  },
  {
   "cell_type": "code",
   "execution_count": 57,
   "id": "cf1e1c0d",
   "metadata": {},
   "outputs": [
    {
     "data": {
      "text/plain": [
       "{'age'}"
      ]
     },
     "execution_count": 57,
     "metadata": {},
     "output_type": "execute_result"
    }
   ],
   "source": [
    "#Important issues just for education level some college\n",
    "important_for_only_some_college= set(important_some_college_list).difference(set(important_high_school_list)).difference(set(important_college_grad_list))\n",
    "important_for_only_some_college"
   ]
  },
  {
   "cell_type": "code",
   "execution_count": 58,
   "id": "040ef654",
   "metadata": {},
   "outputs": [
    {
     "data": {
      "text/plain": [
       "{'happen_hispanic_pres',\n",
       " 'military',\n",
       " 'political_views',\n",
       " 'priority_inequality',\n",
       " 'priority_infra_f1',\n",
       " 'priority_reduce_military',\n",
       " 'priority_science',\n",
       " 'replacement_by_robots_good_or_bad',\n",
       " 'second_most_responsible_for_workers_f1',\n",
       " 'ss_money',\n",
       " 'worry_climate'}"
      ]
     },
     "execution_count": 58,
     "metadata": {},
     "output_type": "execute_result"
    }
   ],
   "source": [
    "#Important issues just for education level college graduate and above \n",
    "important_for_only_college_graduates = set(important_college_grad_list).difference(set(important_high_school_list)).difference(set(important_some_college_list))\n",
    "important_for_only_college_graduates"
   ]
  },
  {
   "cell_type": "markdown",
   "id": "ca0cc180",
   "metadata": {},
   "source": [
    "People with a high school education or less have the most significant issues, followed by college graduates. People with some college but no degree have the least amount of significant issues. "
   ]
  },
  {
   "cell_type": "markdown",
   "id": "c79ea6cb-7b88-4355-9b51-02dcdbc40970",
   "metadata": {},
   "source": [
    "<a name='clustering'></a>\n",
    "## Clustering\n",
    "\n",
    "- We will create clusters for `age` and `census_region` columns with the k-means method using important and unique topics to each subset\n",
    "- For `age`, we will divide participants into a its four categories which are:\n",
    "    - 18 - 29\n",
    "    - 30 - 49\n",
    "    - 50 - 64\n",
    "    - 65+\n",
    "- For `census_region` we will again create four subsets\n",
    "    - Southern\n",
    "    - Midwestern\n",
    "    - Western\n",
    "    - Northeastern\n",
    "- We will then run chi-square tests to check for dependence in relation to our target variable, `is_pes`."
   ]
  },
  {
   "cell_type": "markdown",
   "id": "4459e2e1-df36-40fc-8b65-f2a02c9ec08f",
   "metadata": {},
   "source": [
    "### Let's begin with Age\n",
    "- Below is a graph that shows the percentage of pessimistic people for each age group"
   ]
  },
  {
   "cell_type": "code",
   "execution_count": 59,
   "id": "dcebc905-081a-44b5-a528-6414a59dc713",
   "metadata": {},
   "outputs": [
    {
     "data": {
      "image/png": "[encoded data removed]",
      "text/plain": [
       "<Figure size 432x288 with 1 Axes>"
      ]
     },
     "metadata": {
      "needs_background": "light"
     },
     "output_type": "display_data"
    }
   ],
   "source": [
    "bar_graph_percent_pessimistic(train[train.age!='DK/REF'], \"is_pes\", \"age\")"
   ]
  },
  {
   "cell_type": "markdown",
   "id": "e5c9fe25-6e4e-4c9e-89d3-c53be33fd4c4",
   "metadata": {},
   "source": [
    "#### Youngest ages (18 - 29 years)"
   ]
  },
  {
   "cell_type": "code",
   "execution_count": 60,
   "id": "26902075-937a-47ab-ac28-3e9575db7073",
   "metadata": {},
   "outputs": [
    {
     "data": {
      "image/png": "[encoded data removed]",
      "text/plain": [
       "<Figure size 648x432 with 1 Axes>"
      ]
     },
     "metadata": {},
     "output_type": "display_data"
    }
   ],
   "source": [
    "# lets plot inertia vs k\n",
    "X = train[['age', 'share_americans_in_lower_class', 'job_security', 'happen_politics']].replace(replace_key)\n",
    "\n",
    "with plt.style.context('seaborn-whitegrid'):\n",
    "    plt.figure(figsize=(9, 6))\n",
    "    pd.Series({k: KMeans(k, random_state=123).fit(X).inertia_ for k in range(2, 20)}).plot(marker='x')\n",
    "    plt.xticks(range(2, 21))\n",
    "    plt.xlabel('k')\n",
    "    plt.ylabel('inertia')\n",
    "    plt.title('Change in inertia as k increases')"
   ]
  },
  {
   "cell_type": "code",
   "execution_count": 61,
   "id": "851d5fe8-ebca-4878-9b9c-862e74fee31e",
   "metadata": {},
   "outputs": [],
   "source": [
    "# Fit K-Means (just on train, again!)\n",
    "X = train[['age', 'share_americans_in_lower_class', 'job_security', 'happen_politics']].replace(replace_key)\n",
    "kmeans = KMeans(n_clusters=6, random_state=123)\n",
    "kmeans.fit(X)\n",
    "\n",
    "train['youngest_age_cluster'] = kmeans.predict(X)\n",
    "df['youngest_age_cluster'] = kmeans.predict(df[['age', 'share_americans_in_lower_class', 'job_security', 'happen_politics']].replace(replace_key))"
   ]
  },
  {
   "cell_type": "code",
   "execution_count": 62,
   "id": "12a4f5dc-64b9-4437-bb16-ca353431e5a4",
   "metadata": {},
   "outputs": [
    {
     "data": {
      "text/plain": [
       "Text(0.5, 1.0, 'Visualizing Cluster Centers')"
      ]
     },
     "execution_count": 62,
     "metadata": {},
     "output_type": "execute_result"
    },
    {
     "data": {
      "image/png": "[encoded data removed]",
      "text/plain": [
       "<Figure size 720x504 with 1 Axes>"
      ]
     },
     "metadata": {
      "needs_background": "light"
     },
     "output_type": "display_data"
    }
   ],
   "source": [
    "# create a df to allow us to visualize where the centroids are\n",
    "centroids = pd.DataFrame(kmeans.cluster_centers_, columns=X.columns)\n",
    "\n",
    "# visualize cluster with centroids\n",
    "plt.figure(figsize=(10, 7))\n",
    "\n",
    "for cluster, subset in train.groupby('youngest_age_cluster'):\n",
    "    plt.scatter(subset.job_security, subset.share_americans_in_lower_class, label='cluster ' + str(cluster), alpha=.6)\n",
    "    \n",
    "centroids.plot.scatter(y='share_americans_in_lower_class', x='job_security', c='black', marker='x', s=1000, ax=plt.gca(), label='centroid')\n",
    "\n",
    "plt.legend()\n",
    "plt.xlabel('job_security')\n",
    "plt.ylabel('share_americans_in_lower_class')\n",
    "plt.title('Visualizing Cluster Centers')"
   ]
  },
  {
   "cell_type": "markdown",
   "id": "689a7473-3090-4eb6-a0af-3e0762fe744d",
   "metadata": {},
   "source": [
    "#### Younger ages (30 - 49 years)"
   ]
  },
  {
   "cell_type": "code",
   "execution_count": 63,
   "id": "7be8f39b-1125-4db8-823d-ea272cde53ab",
   "metadata": {},
   "outputs": [
    {
     "data": {
      "image/png": "[encoded data removed]",
      "text/plain": [
       "<Figure size 648x432 with 1 Axes>"
      ]
     },
     "metadata": {},
     "output_type": "display_data"
    }
   ],
   "source": [
    "# lets plot inertia vs k\n",
    "X = train[['age', 'happen_politics', 'happen_health', 'happen_general']].replace(replace_key)\n",
    "\n",
    "with plt.style.context('seaborn-whitegrid'):\n",
    "    plt.figure(figsize=(9, 6))\n",
    "    pd.Series({k: KMeans(k, random_state=123).fit(X).inertia_ for k in range(2, 20)}).plot(marker='x')\n",
    "    plt.xticks(range(2, 21))\n",
    "    plt.xlabel('k')\n",
    "    plt.ylabel('inertia')\n",
    "    plt.title('Change in inertia as k increases')"
   ]
  },
  {
   "cell_type": "code",
   "execution_count": 64,
   "id": "ea870d4e-15c2-47e9-9827-fe5ff09141d4",
   "metadata": {},
   "outputs": [],
   "source": [
    "# Fit K-Means (just on train, again!)\n",
    "X = train[['age', 'happen_politics', 'happen_health', 'happen_general']].replace(replace_key)\n",
    "kmeans = KMeans(n_clusters=7, random_state=123)\n",
    "kmeans.fit(X)\n",
    "\n",
    "train['younger_age_cluster'] = kmeans.predict(X)\n",
    "df['younger_age_cluster'] = kmeans.predict(df[['age', 'happen_politics', 'happen_health', 'happen_general']].replace(replace_key))"
   ]
  },
  {
   "cell_type": "code",
   "execution_count": 65,
   "id": "3cf1c896-f904-4b5f-b14c-71f80c0556d8",
   "metadata": {},
   "outputs": [
    {
     "data": {
      "text/plain": [
       "Text(0.5, 1.0, 'Visualizing Cluster Centers')"
      ]
     },
     "execution_count": 65,
     "metadata": {},
     "output_type": "execute_result"
    },
    {
     "data": {
      "image/png": "[encoded data removed]",
      "text/plain": [
       "<Figure size 720x504 with 1 Axes>"
      ]
     },
     "metadata": {
      "needs_background": "light"
     },
     "output_type": "display_data"
    }
   ],
   "source": [
    "# create a df to allow us to visualize where the centroids are\n",
    "centroids = pd.DataFrame(kmeans.cluster_centers_, columns=X.columns)\n",
    "\n",
    "# visualize cluster with centroids\n",
    "plt.figure(figsize=(10, 7))\n",
    "\n",
    "for cluster, subset in train.groupby('younger_age_cluster'):\n",
    "    plt.scatter(subset.happen_health, subset.happen_politics, label='cluster ' + str(cluster), alpha=.6)\n",
    "    \n",
    "centroids.plot.scatter(y='happen_politics', x='happen_health', c='black', marker='x', s=1000, ax=plt.gca(), label='centroid')\n",
    "\n",
    "plt.legend()\n",
    "plt.xlabel('happen_health')\n",
    "plt.ylabel('happen_politics')\n",
    "plt.title('Visualizing Cluster Centers')"
   ]
  },
  {
   "cell_type": "markdown",
   "id": "4ac3a21a-aad1-4915-b7d2-cf133316d5d7",
   "metadata": {},
   "source": [
    "#### Older ages (50 - 64 years)"
   ]
  },
  {
   "cell_type": "code",
   "execution_count": 66,
   "id": "0cf75ed7-e31a-4aaa-a678-7b8b90c28023",
   "metadata": {},
   "outputs": [
    {
     "data": {
      "image/png": "[encoded data removed]",
      "text/plain": [
       "<Figure size 648x432 with 1 Axes>"
      ]
     },
     "metadata": {},
     "output_type": "display_data"
    }
   ],
   "source": [
    "# lets plot inertia vs k\n",
    "X = train[['age', 'happen_race', 'worry_leaders']].replace(replace_key)\n",
    "\n",
    "with plt.style.context('seaborn-whitegrid'):\n",
    "    plt.figure(figsize=(9, 6))\n",
    "    pd.Series({k: KMeans(k, random_state=123).fit(X).inertia_ for k in range(2, 20)}).plot(marker='x')\n",
    "    plt.xticks(range(2, 21))\n",
    "    plt.xlabel('k')\n",
    "    plt.ylabel('inertia')\n",
    "    plt.title('Change in inertia as k increases')"
   ]
  },
  {
   "cell_type": "code",
   "execution_count": 67,
   "id": "45764ca4-70ef-4dcb-be3a-743696013e9a",
   "metadata": {},
   "outputs": [],
   "source": [
    "# Fit K-Means (just on train, again!)\n",
    "X = train[['age', 'happen_race', 'worry_leaders']].replace(replace_key)\n",
    "kmeans = KMeans(n_clusters=6, random_state=123)\n",
    "kmeans.fit(X)\n",
    "\n",
    "train['older_age_cluster'] = kmeans.predict(X)\n",
    "df['older_age_cluster'] = kmeans.predict(df[['age', 'happen_race', 'worry_leaders']].replace(replace_key))"
   ]
  },
  {
   "cell_type": "code",
   "execution_count": 68,
   "id": "8274c3a9-a27e-47b1-b504-9e599e43d697",
   "metadata": {},
   "outputs": [
    {
     "data": {
      "text/plain": [
       "Text(0.5, 1.0, 'Visualizing Cluster Centers')"
      ]
     },
     "execution_count": 68,
     "metadata": {},
     "output_type": "execute_result"
    },
    {
     "data": {
      "image/png": "[encoded data removed]",
      "text/plain": [
       "<Figure size 720x504 with 1 Axes>"
      ]
     },
     "metadata": {
      "needs_background": "light"
     },
     "output_type": "display_data"
    }
   ],
   "source": [
    "# create a df to allow us to visualize where the centroids are\n",
    "centroids = pd.DataFrame(kmeans.cluster_centers_, columns=X.columns)\n",
    "\n",
    "# visualize cluster with centroids\n",
    "plt.figure(figsize=(10, 7))\n",
    "\n",
    "for cluster, subset in train.groupby('older_age_cluster'):\n",
    "    plt.scatter(subset.happen_health, subset.happen_politics, label='cluster ' + str(cluster), alpha=.6)\n",
    "    \n",
    "centroids.plot.scatter(y='happen_race', x='worry_leaders', c='black', marker='x', s=1000, ax=plt.gca(), label='centroid')\n",
    "\n",
    "plt.legend()\n",
    "plt.xlabel('worry_leaders')\n",
    "plt.ylabel('happen_race')\n",
    "plt.title('Visualizing Cluster Centers')"
   ]
  },
  {
   "cell_type": "markdown",
   "id": "eb85ca44-c5c5-45ca-8534-ac7a4a37e5dd",
   "metadata": {},
   "source": [
    "#### Oldest ages (65 years and up)"
   ]
  },
  {
   "cell_type": "code",
   "execution_count": 69,
   "id": "d2d38891-7805-46b9-83be-3a7dd5b7edf0",
   "metadata": {},
   "outputs": [
    {
     "data": {
      "image/png": "[encoded data removed]",
      "text/plain": [
       "<Figure size 648x432 with 1 Axes>"
      ]
     },
     "metadata": {},
     "output_type": "display_data"
    }
   ],
   "source": [
    "# lets plot inertia vs k\n",
    "X = train[['age', 'envir_50yrs', 'worry_leaders']].replace(replace_key)\n",
    "\n",
    "with plt.style.context('seaborn-whitegrid'):\n",
    "    plt.figure(figsize=(9, 6))\n",
    "    pd.Series({k: KMeans(k, random_state=123).fit(X).inertia_ for k in range(2, 20)}).plot(marker='x')\n",
    "    plt.xticks(range(2, 21))\n",
    "    plt.xlabel('k')\n",
    "    plt.ylabel('inertia')\n",
    "    plt.title('Change in inertia as k increases')"
   ]
  },
  {
   "cell_type": "code",
   "execution_count": 70,
   "id": "d2afa135-b227-4c35-b4da-387353f3a500",
   "metadata": {},
   "outputs": [],
   "source": [
    "# Fit K-Means (just on train, again!)\n",
    "X = train[['age', 'envir_50yrs', 'worry_leaders']].replace(replace_key)\n",
    "kmeans = KMeans(n_clusters=6, random_state=123)\n",
    "kmeans.fit(X)\n",
    "\n",
    "train['oldest_age_cluster'] = kmeans.predict(X)\n",
    "df['oldest_age_cluster'] = kmeans.predict(df[['age', 'envir_50yrs', 'worry_leaders']].replace(replace_key))"
   ]
  },
  {
   "cell_type": "code",
   "execution_count": 71,
   "id": "b2e8dcfc-c640-49c6-a028-f5e4d7be35b8",
   "metadata": {},
   "outputs": [
    {
     "data": {
      "text/plain": [
       "Text(0.5, 1.0, 'Visualizing Cluster Centers')"
      ]
     },
     "execution_count": 71,
     "metadata": {},
     "output_type": "execute_result"
    },
    {
     "data": {
      "image/png": "[encoded data removed]",
      "text/plain": [
       "<Figure size 720x504 with 1 Axes>"
      ]
     },
     "metadata": {
      "needs_background": "light"
     },
     "output_type": "display_data"
    }
   ],
   "source": [
    "# create a df to allow us to visualize where the centroids are\n",
    "centroids = pd.DataFrame(kmeans.cluster_centers_, columns=X.columns)\n",
    "\n",
    "# visualize cluster with centroids\n",
    "plt.figure(figsize=(10, 7))\n",
    "\n",
    "for cluster, subset in train.groupby('oldest_age_cluster'):\n",
    "    plt.scatter(subset.happen_health, subset.happen_politics, label='cluster ' + str(cluster), alpha=.6)\n",
    "    \n",
    "centroids.plot.scatter(y='envir_50yrs', x='worry_leaders', c='black', marker='x', s=1000, ax=plt.gca(), label='centroid')\n",
    "\n",
    "plt.legend()\n",
    "plt.xlabel('worry_leaders')\n",
    "plt.ylabel('envir_50yrs')\n",
    "plt.title('Visualizing Cluster Centers')"
   ]
  },
  {
   "cell_type": "markdown",
   "id": "04553790-b246-4fce-909b-a92fac793d29",
   "metadata": {},
   "source": [
    "### Now we work with Region\n",
    "- Below is a graph that shows the percentage of pessimistic people for each regional group"
   ]
  },
  {
   "cell_type": "code",
   "execution_count": 72,
   "id": "a0b43ab9-d21c-4f51-a7f3-a6846ac66777",
   "metadata": {
    "tags": []
   },
   "outputs": [
    {
     "data": {
      "image/png": "[encoded data removed]",
      "text/plain": [
       "<Figure size 432x288 with 1 Axes>"
      ]
     },
     "metadata": {
      "needs_background": "light"
     },
     "output_type": "display_data"
    }
   ],
   "source": [
    "bar_graph_percent_pessimistic(train, \"is_pes\", \"census_region\")"
   ]
  },
  {
   "cell_type": "markdown",
   "id": "4c2f05c0-fa14-467e-b03a-08ae0e4e39ff",
   "metadata": {},
   "source": [
    "#### South"
   ]
  },
  {
   "cell_type": "code",
   "execution_count": 73,
   "id": "84b376c5-c497-482f-8d7e-3b18a41cebe1",
   "metadata": {},
   "outputs": [
    {
     "data": {
      "image/png": "[encoded data removed]",
      "text/plain": [
       "<Figure size 648x432 with 1 Axes>"
      ]
     },
     "metadata": {},
     "output_type": "display_data"
    }
   ],
   "source": [
    "# lets plot inertia vs k\n",
    "# Use the elbow-method to determine the number of clusters\n",
    "X = train[['census_region', 'job_benefits', 'elder_care', 'worry_government']].replace(replace_key)\n",
    "\n",
    "\n",
    "with plt.style.context('seaborn-whitegrid'):\n",
    "    plt.figure(figsize=(9, 6))\n",
    "    pd.Series({k: KMeans(k, random_state=123).fit(X).inertia_ for k in range(2, 20)}).plot(marker='x')\n",
    "    plt.xticks(range(2, 21))\n",
    "    plt.xlabel('k')\n",
    "    plt.ylabel('inertia')\n",
    "    plt.title('Change in inertia as k increases')"
   ]
  },
  {
   "cell_type": "code",
   "execution_count": 74,
   "id": "26f023be-eaa1-40bc-968a-8745bd50d4ab",
   "metadata": {},
   "outputs": [],
   "source": [
    "# Fit K-Means (just on train, again!)\n",
    "X = train[['census_region', 'job_benefits', 'elder_care', 'worry_government']].replace(replace_key)\n",
    "kmeans = KMeans(n_clusters=6, random_state=123)\n",
    "kmeans.fit(X)\n",
    "\n",
    "train['south_cluster'] = kmeans.predict(X)\n",
    "\n",
    "# We add these clusters to the original data frame to be used in the modeling section\n",
    "df['south_cluster'] = kmeans.predict(df[['census_region', 'job_benefits', 'elder_care', 'worry_government']].replace(replace_key))"
   ]
  },
  {
   "cell_type": "code",
   "execution_count": 75,
   "id": "2838e4b1-6bc4-4a28-a679-3b27cd488c9e",
   "metadata": {},
   "outputs": [
    {
     "data": {
      "text/plain": [
       "Text(0.5, 1.0, 'Visualizing Cluster Centers')"
      ]
     },
     "execution_count": 75,
     "metadata": {},
     "output_type": "execute_result"
    },
    {
     "data": {
      "image/png": "[encoded data removed]",
      "text/plain": [
       "<Figure size 720x504 with 1 Axes>"
      ]
     },
     "metadata": {
      "needs_background": "light"
     },
     "output_type": "display_data"
    }
   ],
   "source": [
    "# create a df to allow us to visualize where the centroids are\n",
    "centroids = pd.DataFrame(kmeans.cluster_centers_, columns=X.columns)\n",
    "\n",
    "# visualize cluster with centroids\n",
    "plt.figure(figsize=(10, 7))\n",
    "\n",
    "for cluster, subset in train.groupby('south_cluster'):\n",
    "    plt.scatter(subset.census_region, subset.elder_care, label='cluster ' + str(cluster), alpha=.6)\n",
    "    \n",
    "centroids.plot.scatter(y='elder_care', x='job_benefits', c='black', marker='x', s=1000, ax=plt.gca(), label='centroid')\n",
    "\n",
    "plt.legend()\n",
    "plt.xlabel('job_benefits')\n",
    "plt.ylabel('elder_care')\n",
    "plt.title('Visualizing Cluster Centers')"
   ]
  },
  {
   "cell_type": "markdown",
   "id": "5d4b0695-6c88-4125-95bc-ce9cbd7508d4",
   "metadata": {},
   "source": [
    "#### Midwest"
   ]
  },
  {
   "cell_type": "code",
   "execution_count": 74,
   "id": "b91e0f8b-e5df-41c3-b230-aebabbdf34c2",
   "metadata": {},
   "outputs": [
    {
     "data": {
      "image/png": "[encoded data removed]",
      "text/plain": [
       "<Figure size 648x432 with 1 Axes>"
      ]
     },
     "metadata": {},
     "output_type": "display_data"
    }
   ],
   "source": [
    "# lets plot inertia vs k\n",
    "X = train[['census_region', 'worry_government', 'happen_race', 'happen_anti_semitism']].replace(replace_key)\n",
    "\n",
    "\n",
    "with plt.style.context('seaborn-whitegrid'):\n",
    "    plt.figure(figsize=(9, 6))\n",
    "    pd.Series({k: KMeans(k, random_state=123).fit(X).inertia_ for k in range(2, 20)}).plot(marker='x')\n",
    "    plt.xticks(range(2, 21))\n",
    "    plt.xlabel('k')\n",
    "    plt.ylabel('inertia')\n",
    "    plt.title('Change in inertia as k increases')"
   ]
  },
  {
   "cell_type": "code",
   "execution_count": 75,
   "id": "55bd75ac-4028-44bd-b669-ea6b4ca498c0",
   "metadata": {},
   "outputs": [],
   "source": [
    "# Fit K-Means (just on train, again!)\n",
    "X = train[['census_region', 'happen_general', 'worry_government', 'happen_race']].replace(replace_key)\n",
    "kmeans = KMeans(n_clusters=7, random_state=123)\n",
    "kmeans.fit(X)\n",
    "\n",
    "train['midwest_cluster'] = kmeans.predict(X)\n",
    "\n",
    "# We add these clusters to the original data frame to be used in the modeling section\n",
    "df['midwest_cluster'] = kmeans.predict(df[['census_region', 'happen_general', 'worry_government', 'happen_race']].replace(replace_key))"
   ]
  },
  {
   "cell_type": "code",
   "execution_count": 76,
   "id": "c84d5b23-eeae-4def-a6b7-0c3d10d71e11",
   "metadata": {},
   "outputs": [
    {
     "data": {
      "text/plain": [
       "Text(0.5, 1.0, 'Visualizing Cluster Centers')"
      ]
     },
     "execution_count": 76,
     "metadata": {},
     "output_type": "execute_result"
    },
    {
     "data": {
      "image/png": "[encoded data removed]",
      "text/plain": [
       "<Figure size 720x504 with 1 Axes>"
      ]
     },
     "metadata": {
      "needs_background": "light"
     },
     "output_type": "display_data"
    }
   ],
   "source": [
    "# create a df to allow us to visualize where the centroids are\n",
    "centroids = pd.DataFrame(kmeans.cluster_centers_, columns=X.columns)\n",
    "\n",
    "# visualize cluster with centroids\n",
    "plt.figure(figsize=(10, 7))\n",
    "\n",
    "for cluster, subset in train.groupby('midwest_cluster'):\n",
    "    plt.scatter(subset.census_region, subset.worry_government, label='cluster ' + str(cluster), alpha=.6)\n",
    "    \n",
    "centroids.plot.scatter(y='worry_government', x='happen_race', c='black', marker='x', s=1000, ax=plt.gca(), label='centroid')\n",
    "\n",
    "plt.legend()\n",
    "plt.xlabel('happen_race')\n",
    "plt.ylabel('worry_government')\n",
    "plt.title('Visualizing Cluster Centers')"
   ]
  },
  {
   "cell_type": "markdown",
   "id": "1f5053c0-d6ab-4cbb-ab33-6f865cf3345a",
   "metadata": {},
   "source": [
    "#### West"
   ]
  },
  {
   "cell_type": "code",
   "execution_count": 77,
   "id": "b672fc4f-3c64-4c31-9860-ecda748bf69c",
   "metadata": {},
   "outputs": [
    {
     "data": {
      "image/png": "[encoded data removed]",
      "text/plain": [
       "<Figure size 648x432 with 1 Axes>"
      ]
     },
     "metadata": {},
     "output_type": "display_data"
    }
   ],
   "source": [
    "# lets plot inertia vs k\n",
    "X = train[['census_region', 'happen_usa', 'job_benefits']].replace(replace_key)\n",
    "\n",
    "\n",
    "with plt.style.context('seaborn-whitegrid'):\n",
    "    plt.figure(figsize=(9, 6))\n",
    "    pd.Series({k: KMeans(k, random_state=123).fit(X).inertia_ for k in range(2, 20)}).plot(marker='x')\n",
    "    plt.xticks(range(2, 21))\n",
    "    plt.xlabel('k')\n",
    "    plt.ylabel('inertia')\n",
    "    plt.title('Change in inertia as k increases')"
   ]
  },
  {
   "cell_type": "code",
   "execution_count": 78,
   "id": "2d2838b3-eafb-4507-9fca-a16f8ad00cff",
   "metadata": {},
   "outputs": [],
   "source": [
    "# Fit K-Means (just on train, again!)\n",
    "X = train[['census_region', 'happen_usa', 'job_benefits']].replace(replace_key)\n",
    "kmeans = KMeans(n_clusters=4, random_state=123)\n",
    "kmeans.fit(X)\n",
    "\n",
    "train['west_cluster'] = kmeans.predict(X)\n",
    "\n",
    "# We add these clusters to the original data frame to be used in the modeling section\n",
    "df['west_cluster'] = kmeans.predict(df[['census_region', 'happen_usa', 'job_benefits']].replace(replace_key))"
   ]
  },
  {
   "cell_type": "code",
   "execution_count": 79,
   "id": "8d8b6f8e-1a8f-4dd9-8764-8c3f6c682afc",
   "metadata": {},
   "outputs": [
    {
     "data": {
      "text/plain": [
       "Text(0.5, 1.0, 'Visualizing Cluster Centers')"
      ]
     },
     "execution_count": 79,
     "metadata": {},
     "output_type": "execute_result"
    },
    {
     "data": {
      "image/png": "[encoded data removed]",
      "text/plain": [
       "<Figure size 720x504 with 1 Axes>"
      ]
     },
     "metadata": {
      "needs_background": "light"
     },
     "output_type": "display_data"
    }
   ],
   "source": [
    "# create a df to allow us to visualize where the centroids are\n",
    "centroids = pd.DataFrame(kmeans.cluster_centers_, columns=X.columns)\n",
    "\n",
    "# visualize cluster with centroids\n",
    "plt.figure(figsize=(10, 7))\n",
    "\n",
    "for cluster, subset in train.groupby('west_cluster'):\n",
    "    plt.scatter(subset.census_region, subset.happen_general, label='cluster ' + str(cluster), alpha=.6)\n",
    "    \n",
    "centroids.plot.scatter(y='job_benefits', x='happen_usa', c='black', marker='x', s=1000, ax=plt.gca(), label='centroid')\n",
    "\n",
    "plt.legend()\n",
    "plt.xlabel('happen_usa')\n",
    "plt.ylabel('job_benefits')\n",
    "plt.title('Visualizing Cluster Centers')"
   ]
  },
  {
   "cell_type": "markdown",
   "id": "a4d671cf-50aa-420c-b2aa-d5da21d6fa32",
   "metadata": {},
   "source": [
    "#### Northeast"
   ]
  },
  {
   "cell_type": "code",
   "execution_count": 80,
   "id": "f0bb6651-22fa-4b30-b7e3-f085d6f28115",
   "metadata": {},
   "outputs": [
    {
     "data": {
      "image/png": "[encoded data removed]",
      "text/plain": [
       "<Figure size 648x432 with 1 Axes>"
      ]
     },
     "metadata": {},
     "output_type": "display_data"
    }
   ],
   "source": [
    "# lets plot inertia vs k\n",
    "X = train[['census_region', 'worry_morals', 'envir_50yrs', 'debt_30yrs']].replace(replace_key)\n",
    "\n",
    "\n",
    "with plt.style.context('seaborn-whitegrid'):\n",
    "    plt.figure(figsize=(9, 6))\n",
    "    pd.Series({k: KMeans(k, random_state=123).fit(X).inertia_ for k in range(2, 20)}).plot(marker='x')\n",
    "    plt.xticks(range(2, 21))\n",
    "    plt.xlabel('k')\n",
    "    plt.ylabel('inertia')\n",
    "    plt.title('Change in inertia as k increases')"
   ]
  },
  {
   "cell_type": "code",
   "execution_count": 81,
   "id": "754ef132-6abe-4739-b2e6-77e61c0068f0",
   "metadata": {},
   "outputs": [],
   "source": [
    "# Fit K-Means (just on train, again!)\n",
    "X = train[['census_region', 'worry_morals', 'envir_50yrs', 'debt_30yrs']].replace(replace_key)\n",
    "kmeans = KMeans(n_clusters=7, random_state=123)\n",
    "kmeans.fit(X)\n",
    "\n",
    "train['northeast_cluster'] = kmeans.predict(X)\n",
    "\n",
    "# We add these clusters to the original data frame to be used in the modeling section\n",
    "df['northeast_cluster'] = kmeans.predict(df[['census_region', 'worry_morals', 'envir_50yrs', 'debt_30yrs']].replace(replace_key))"
   ]
  },
  {
   "cell_type": "code",
   "execution_count": 82,
   "id": "35f319d7-8a4b-4200-ba57-6f287fcb0521",
   "metadata": {},
   "outputs": [
    {
     "data": {
      "text/plain": [
       "Text(0.5, 1.0, 'Visualizing Cluster Centers')"
      ]
     },
     "execution_count": 82,
     "metadata": {},
     "output_type": "execute_result"
    },
    {
     "data": {
      "image/png": "[encoded data removed]",
      "text/plain": [
       "<Figure size 720x504 with 1 Axes>"
      ]
     },
     "metadata": {
      "needs_background": "light"
     },
     "output_type": "display_data"
    }
   ],
   "source": [
    "# create a df to allow us to visualize where the centroids are\n",
    "centroids = pd.DataFrame(kmeans.cluster_centers_, columns=X.columns)\n",
    "\n",
    "# visualize cluster with centroids\n",
    "plt.figure(figsize=(10, 7))\n",
    "\n",
    "for cluster, subset in train.groupby('northeast_cluster'):\n",
    "    plt.scatter(subset.census_region, subset.worry_morals, label='cluster ' + str(cluster), alpha=.6)\n",
    "    \n",
    "centroids.plot.scatter(y='worry_morals', x='census_region', c='black', marker='x', s=1000, ax=plt.gca(), label='centroid')\n",
    "\n",
    "plt.legend()\n",
    "plt.xlabel('census_region')\n",
    "plt.ylabel('worry_morals')\n",
    "plt.title('Visualizing Cluster Centers')"
   ]
  },
  {
   "cell_type": "markdown",
   "id": "07b0404c-3ca2-4c1b-b769-57167de64b48",
   "metadata": {},
   "source": [
    "#### Now lets run the chi-square test on each of the subsets"
   ]
  },
  {
   "cell_type": "code",
   "execution_count": 83,
   "id": "d7523a83-a419-4b71-8815-b1910ba5a97f",
   "metadata": {},
   "outputs": [
    {
     "data": {
      "text/html": [
       "<div>\n",
       "<style scoped>\n",
       "    .dataframe tbody tr th:only-of-type {\n",
       "        vertical-align: middle;\n",
       "    }\n",
       "\n",
       "    .dataframe tbody tr th {\n",
       "        vertical-align: top;\n",
       "    }\n",
       "\n",
       "    .dataframe thead th {\n",
       "        text-align: right;\n",
       "    }\n",
       "</style>\n",
       "<table border=\"1\" class=\"dataframe\">\n",
       "  <thead>\n",
       "    <tr style=\"text-align: right;\">\n",
       "      <th></th>\n",
       "      <th>chi2</th>\n",
       "      <th>p_val</th>\n",
       "      <th>deg_free</th>\n",
       "      <th>expected_freq</th>\n",
       "    </tr>\n",
       "  </thead>\n",
       "  <tbody>\n",
       "    <tr>\n",
       "      <th>midwest_cluster</th>\n",
       "      <td>245.972803</td>\n",
       "      <td>2.974616e-50</td>\n",
       "      <td>6</td>\n",
       "      <td>[[173.39133522727272, 137.60866477272728], [11...</td>\n",
       "    </tr>\n",
       "    <tr>\n",
       "      <th>younger_age_cluster</th>\n",
       "      <td>239.896199</td>\n",
       "      <td>5.907451e-49</td>\n",
       "      <td>6</td>\n",
       "      <td>[[81.95667613636364, 65.04332386363636], [162....</td>\n",
       "    </tr>\n",
       "    <tr>\n",
       "      <th>south_cluster</th>\n",
       "      <td>155.998433</td>\n",
       "      <td>7.050091e-32</td>\n",
       "      <td>5</td>\n",
       "      <td>[[56.86789772727273, 45.13210227272727], [249....</td>\n",
       "    </tr>\n",
       "    <tr>\n",
       "      <th>youngest_age_cluster</th>\n",
       "      <td>130.863243</td>\n",
       "      <td>1.560884e-26</td>\n",
       "      <td>5</td>\n",
       "      <td>[[204.61292613636363, 162.38707386363637], [10...</td>\n",
       "    </tr>\n",
       "    <tr>\n",
       "      <th>west_cluster</th>\n",
       "      <td>116.152491</td>\n",
       "      <td>5.199400e-25</td>\n",
       "      <td>3</td>\n",
       "      <td>[[209.6306818181818, 166.3693181818182], [254....</td>\n",
       "    </tr>\n",
       "    <tr>\n",
       "      <th>northeast_cluster</th>\n",
       "      <td>124.086229</td>\n",
       "      <td>2.256173e-24</td>\n",
       "      <td>6</td>\n",
       "      <td>[[63.55823863636363, 50.44176136363637], [185....</td>\n",
       "    </tr>\n",
       "    <tr>\n",
       "      <th>oldest_age_cluster</th>\n",
       "      <td>116.095340</td>\n",
       "      <td>2.105870e-23</td>\n",
       "      <td>5</td>\n",
       "      <td>[[154.99289772727272, 123.00710227272727], [14...</td>\n",
       "    </tr>\n",
       "    <tr>\n",
       "      <th>older_age_cluster</th>\n",
       "      <td>91.098333</td>\n",
       "      <td>3.949614e-18</td>\n",
       "      <td>5</td>\n",
       "      <td>[[154.4353693181818, 122.56463068181819], [33....</td>\n",
       "    </tr>\n",
       "  </tbody>\n",
       "</table>\n",
       "</div>"
      ],
      "text/plain": [
       "                            chi2         p_val deg_free  \\\n",
       "midwest_cluster       245.972803  2.974616e-50        6   \n",
       "younger_age_cluster   239.896199  5.907451e-49        6   \n",
       "south_cluster         155.998433  7.050091e-32        5   \n",
       "youngest_age_cluster  130.863243  1.560884e-26        5   \n",
       "west_cluster          116.152491  5.199400e-25        3   \n",
       "northeast_cluster     124.086229  2.256173e-24        6   \n",
       "oldest_age_cluster    116.095340  2.105870e-23        5   \n",
       "older_age_cluster      91.098333  3.949614e-18        5   \n",
       "\n",
       "                                                          expected_freq  \n",
       "midwest_cluster       [[173.39133522727272, 137.60866477272728], [11...  \n",
       "younger_age_cluster   [[81.95667613636364, 65.04332386363636], [162....  \n",
       "south_cluster         [[56.86789772727273, 45.13210227272727], [249....  \n",
       "youngest_age_cluster  [[204.61292613636363, 162.38707386363637], [10...  \n",
       "west_cluster          [[209.6306818181818, 166.3693181818182], [254....  \n",
       "northeast_cluster     [[63.55823863636363, 50.44176136363637], [185....  \n",
       "oldest_age_cluster    [[154.99289772727272, 123.00710227272727], [14...  \n",
       "older_age_cluster     [[154.4353693181818, 122.56463068181819], [33....  "
      ]
     },
     "execution_count": 83,
     "metadata": {},
     "output_type": "execute_result"
    }
   ],
   "source": [
    "# Generate object\n",
    "obj = e.generate_and_return_obj(df[['youngest_age_cluster', 'younger_age_cluster', 'older_age_cluster', 'oldest_age_cluster', 'south_cluster', 'midwest_cluster', 'west_cluster', 'northeast_cluster', 'is_pes']])\n",
    "# Examine the chi2 results and return the statistical values\n",
    "obj.chi2_df.sort_values(by='p_val')"
   ]
  },
  {
   "cell_type": "markdown",
   "id": "700cf01a",
   "metadata": {},
   "source": [
    "<a name='explore_takeaways'></a>\n",
    "## Explore Takeaways\n",
    "\n",
    "> - There a small differences in future outlook when considering sex, income and education.\n",
    "> - When it comes to age and region, it seems like western individuals who are 65 years of age and older are the most pessimistic, while southern 18 to 29 year olds are the most optimisitc.\n",
    "> - While the small differences exist, they do not appear to be significant.\n",
    "> - Through chi-squared testing, we verify that there is not a significant relationship between theses features and our target.\n",
    "> - Even though they are not necessarily drivers of overall future outlook, the findings are still helpful in isolation.\n",
    "> - We created clusters for each of the subsets for `age` and census_region`. However, from the statistical tests, we found that none of the clusters could not significantly predict pessimism.\n",
    "\n",
    "\n",
    "<div style=\"text-align: right\"><a href='#toc'>Table of Contents</a></div>\n",
    "<hr style=\"border-top: 10px groove tan; margin-top: 1px; margin-bottom: 1px\"></hr>"
   ]
  },
  {
   "cell_type": "markdown",
   "id": "b1119fc6",
   "metadata": {},
   "source": [
    "<a name='modeling'></a>\n",
    "# Modeling & Evaluation\n",
    "✓ _Plan_ ➜ ✓ _Acquire_ ➜ ✓ _Prepare_ ➜ ✓ _Explore_ ➜ 🟢 **Model** ➜ ☐ _Deliver_\n",
    "\n",
    "> - We first have to choose a baseline to compare our models against.\n",
    "> - The main models we will be using are Decision Tree, Random Forest, and K-Nearest Neighbor.\n",
    "> - We will use different variations of our models until we determine one to have outperformed our baseline and to avoid overfitting or underfitting on the training data.\n",
    "> - We will also be testing feature importance to see drives an individual's overall attitude.\n",
    "> - Once we choose our best model, we will run it on our Out-of-sample dataset."
   ]
  },
  {
   "cell_type": "code",
   "execution_count": 163,
   "id": "87882d60",
   "metadata": {},
   "outputs": [
    {
     "data": {
      "text/html": [
       "<div>\n",
       "<style scoped>\n",
       "    .dataframe tbody tr th:only-of-type {\n",
       "        vertical-align: middle;\n",
       "    }\n",
       "\n",
       "    .dataframe tbody tr th {\n",
       "        vertical-align: top;\n",
       "    }\n",
       "\n",
       "    .dataframe thead th {\n",
       "        text-align: right;\n",
       "    }\n",
       "</style>\n",
       "<table border=\"1\" class=\"dataframe\">\n",
       "  <thead>\n",
       "    <tr style=\"text-align: right;\">\n",
       "      <th></th>\n",
       "      <th>qkey</th>\n",
       "      <th>weight</th>\n",
       "      <th>youngest_age_cluster</th>\n",
       "      <th>younger_age_cluster</th>\n",
       "      <th>older_age_cluster</th>\n",
       "      <th>oldest_age_cluster</th>\n",
       "      <th>south_cluster</th>\n",
       "      <th>device_type_Mobile phone</th>\n",
       "      <th>device_type_Tablet</th>\n",
       "      <th>language_Spanish</th>\n",
       "      <th>...</th>\n",
       "      <th>registered_to_vote_You are NOT registered to vote at your current address</th>\n",
       "      <th>registered_to_vote_You are PROBABLY registered, but there is a chance your registration has lapsed</th>\n",
       "      <th>political_views_Liberal</th>\n",
       "      <th>political_views_Moderate</th>\n",
       "      <th>political_views_Refused</th>\n",
       "      <th>political_views_Very conservative</th>\n",
       "      <th>political_views_Very liberal</th>\n",
       "      <th>internet_access_Non Internet User</th>\n",
       "      <th>volunteer_Refused</th>\n",
       "      <th>volunteer_Yes</th>\n",
       "    </tr>\n",
       "  </thead>\n",
       "  <tbody>\n",
       "    <tr>\n",
       "      <th>1859</th>\n",
       "      <td>201801113305</td>\n",
       "      <td>3.057078</td>\n",
       "      <td>0</td>\n",
       "      <td>1</td>\n",
       "      <td>2</td>\n",
       "      <td>5</td>\n",
       "      <td>1</td>\n",
       "      <td>1</td>\n",
       "      <td>0</td>\n",
       "      <td>0</td>\n",
       "      <td>...</td>\n",
       "      <td>0</td>\n",
       "      <td>0</td>\n",
       "      <td>0</td>\n",
       "      <td>0</td>\n",
       "      <td>0</td>\n",
       "      <td>0</td>\n",
       "      <td>0</td>\n",
       "      <td>0</td>\n",
       "      <td>0</td>\n",
       "      <td>1</td>\n",
       "    </tr>\n",
       "    <tr>\n",
       "      <th>96</th>\n",
       "      <td>191336</td>\n",
       "      <td>0.433484</td>\n",
       "      <td>0</td>\n",
       "      <td>1</td>\n",
       "      <td>1</td>\n",
       "      <td>0</td>\n",
       "      <td>1</td>\n",
       "      <td>0</td>\n",
       "      <td>0</td>\n",
       "      <td>0</td>\n",
       "      <td>...</td>\n",
       "      <td>0</td>\n",
       "      <td>1</td>\n",
       "      <td>1</td>\n",
       "      <td>0</td>\n",
       "      <td>0</td>\n",
       "      <td>0</td>\n",
       "      <td>0</td>\n",
       "      <td>0</td>\n",
       "      <td>0</td>\n",
       "      <td>0</td>\n",
       "    </tr>\n",
       "    <tr>\n",
       "      <th>420</th>\n",
       "      <td>668019</td>\n",
       "      <td>2.413983</td>\n",
       "      <td>2</td>\n",
       "      <td>4</td>\n",
       "      <td>5</td>\n",
       "      <td>2</td>\n",
       "      <td>1</td>\n",
       "      <td>0</td>\n",
       "      <td>0</td>\n",
       "      <td>0</td>\n",
       "      <td>...</td>\n",
       "      <td>0</td>\n",
       "      <td>0</td>\n",
       "      <td>1</td>\n",
       "      <td>0</td>\n",
       "      <td>0</td>\n",
       "      <td>0</td>\n",
       "      <td>0</td>\n",
       "      <td>0</td>\n",
       "      <td>0</td>\n",
       "      <td>0</td>\n",
       "    </tr>\n",
       "    <tr>\n",
       "      <th>1424</th>\n",
       "      <td>201801054651</td>\n",
       "      <td>0.362586</td>\n",
       "      <td>3</td>\n",
       "      <td>4</td>\n",
       "      <td>5</td>\n",
       "      <td>2</td>\n",
       "      <td>5</td>\n",
       "      <td>1</td>\n",
       "      <td>0</td>\n",
       "      <td>0</td>\n",
       "      <td>...</td>\n",
       "      <td>0</td>\n",
       "      <td>0</td>\n",
       "      <td>1</td>\n",
       "      <td>0</td>\n",
       "      <td>0</td>\n",
       "      <td>0</td>\n",
       "      <td>0</td>\n",
       "      <td>0</td>\n",
       "      <td>0</td>\n",
       "      <td>0</td>\n",
       "    </tr>\n",
       "    <tr>\n",
       "      <th>114</th>\n",
       "      <td>200943</td>\n",
       "      <td>0.303046</td>\n",
       "      <td>1</td>\n",
       "      <td>6</td>\n",
       "      <td>4</td>\n",
       "      <td>1</td>\n",
       "      <td>1</td>\n",
       "      <td>0</td>\n",
       "      <td>0</td>\n",
       "      <td>0</td>\n",
       "      <td>...</td>\n",
       "      <td>0</td>\n",
       "      <td>0</td>\n",
       "      <td>0</td>\n",
       "      <td>1</td>\n",
       "      <td>0</td>\n",
       "      <td>0</td>\n",
       "      <td>0</td>\n",
       "      <td>0</td>\n",
       "      <td>0</td>\n",
       "      <td>0</td>\n",
       "    </tr>\n",
       "  </tbody>\n",
       "</table>\n",
       "<p>5 rows × 418 columns</p>\n",
       "</div>"
      ],
      "text/plain": [
       "              qkey    weight  youngest_age_cluster  younger_age_cluster  \\\n",
       "1859  201801113305  3.057078                     0                    1   \n",
       "96          191336  0.433484                     0                    1   \n",
       "420         668019  2.413983                     2                    4   \n",
       "1424  201801054651  0.362586                     3                    4   \n",
       "114         200943  0.303046                     1                    6   \n",
       "\n",
       "      older_age_cluster  oldest_age_cluster  south_cluster  \\\n",
       "1859                  2                   5              1   \n",
       "96                    1                   0              1   \n",
       "420                   5                   2              1   \n",
       "1424                  5                   2              5   \n",
       "114                   4                   1              1   \n",
       "\n",
       "      device_type_Mobile phone  device_type_Tablet  language_Spanish  ...  \\\n",
       "1859                         1                   0                 0  ...   \n",
       "96                           0                   0                 0  ...   \n",
       "420                          0                   0                 0  ...   \n",
       "1424                         1                   0                 0  ...   \n",
       "114                          0                   0                 0  ...   \n",
       "\n",
       "      registered_to_vote_You are NOT registered to vote at your current address  \\\n",
       "1859                                                                          0   \n",
       "96                                                                            0   \n",
       "420                                                                           0   \n",
       "1424                                                                          0   \n",
       "114                                                                           0   \n",
       "\n",
       "      registered_to_vote_You are PROBABLY registered, but there is a chance your registration has lapsed  \\\n",
       "1859                                                                                                   0   \n",
       "96                                                                                                     1   \n",
       "420                                                                                                    0   \n",
       "1424                                                                                                   0   \n",
       "114                                                                                                    0   \n",
       "\n",
       "      political_views_Liberal  political_views_Moderate  \\\n",
       "1859                        0                         0   \n",
       "96                          1                         0   \n",
       "420                         1                         0   \n",
       "1424                        1                         0   \n",
       "114                         0                         1   \n",
       "\n",
       "      political_views_Refused  political_views_Very conservative  \\\n",
       "1859                        0                                  0   \n",
       "96                          0                                  0   \n",
       "420                         0                                  0   \n",
       "1424                        0                                  0   \n",
       "114                         0                                  0   \n",
       "\n",
       "      political_views_Very liberal  internet_access_Non Internet User  \\\n",
       "1859                             0                                  0   \n",
       "96                               0                                  0   \n",
       "420                              0                                  0   \n",
       "1424                             0                                  0   \n",
       "114                              0                                  0   \n",
       "\n",
       "      volunteer_Refused  volunteer_Yes  \n",
       "1859                  0              1  \n",
       "96                    0              0  \n",
       "420                   0              0  \n",
       "1424                  0              0  \n",
       "114                   0              0  \n",
       "\n",
       "[5 rows x 418 columns]"
      ]
     },
     "execution_count": 163,
     "metadata": {},
     "output_type": "execute_result"
    }
   ],
   "source": [
    "#Get dummy variables for Classification models\n",
    "o = e.generate_and_return_obj(df)\n",
    "o.X_train_dummies.head()"
   ]
  },
  {
   "cell_type": "code",
   "execution_count": 164,
   "id": "48cd0eb4",
   "metadata": {},
   "outputs": [],
   "source": [
    "#We will turn off column truncation so that we can see the names of each model\n",
    "pd.set_option('display.max_colwidth', None)"
   ]
  },
  {
   "cell_type": "markdown",
   "id": "a724de46",
   "metadata": {},
   "source": [
    "<a name='baseline'></a>\n",
    "## Baseline\n",
    "Let's set a baseline score to compare our models against."
   ]
  },
  {
   "cell_type": "code",
   "execution_count": 165,
   "id": "55e30b6b",
   "metadata": {},
   "outputs": [
    {
     "name": "stdout",
     "output_type": "stream",
     "text": [
      "Baseline Accuracy: 55.75%\n"
     ]
    }
   ],
   "source": [
    "# We use the mean value based off of our target variable\n",
    "print(f'Baseline Accuracy: {(1.00 - round(o.y_train_dummies.mean(), 4))* 100}%')"
   ]
  },
  {
   "cell_type": "markdown",
   "id": "d4ceee35",
   "metadata": {},
   "source": [
    "We now have a baseline!"
   ]
  },
  {
   "cell_type": "markdown",
   "id": "1b021f8c",
   "metadata": {},
   "source": [
    "To evaluate our models, we will create a DataFrame to compare the performance of each model. "
   ]
  },
  {
   "cell_type": "code",
   "execution_count": 166,
   "id": "ed82c87a",
   "metadata": {},
   "outputs": [
    {
     "data": {
      "text/html": [
       "<div>\n",
       "<style scoped>\n",
       "    .dataframe tbody tr th:only-of-type {\n",
       "        vertical-align: middle;\n",
       "    }\n",
       "\n",
       "    .dataframe tbody tr th {\n",
       "        vertical-align: top;\n",
       "    }\n",
       "\n",
       "    .dataframe thead th {\n",
       "        text-align: right;\n",
       "    }\n",
       "</style>\n",
       "<table border=\"1\" class=\"dataframe\">\n",
       "  <thead>\n",
       "    <tr style=\"text-align: right;\">\n",
       "      <th></th>\n",
       "      <th>model_name</th>\n",
       "      <th>train_score</th>\n",
       "      <th>validate_score</th>\n",
       "    </tr>\n",
       "  </thead>\n",
       "  <tbody>\n",
       "  </tbody>\n",
       "</table>\n",
       "</div>"
      ],
      "text/plain": [
       "Empty DataFrame\n",
       "Columns: [model_name, train_score, validate_score]\n",
       "Index: []"
      ]
     },
     "execution_count": 166,
     "metadata": {},
     "output_type": "execute_result"
    }
   ],
   "source": [
    "# Create a dataframe to store and compare our models' performances\n",
    "score_df = pd.DataFrame(columns = ['model_name', 'train_score', 'validate_score'])\n",
    "score_df"
   ]
  },
  {
   "cell_type": "code",
   "execution_count": 167,
   "id": "10c392fa",
   "metadata": {},
   "outputs": [],
   "source": [
    "models_list = []\n",
    "models_name = []"
   ]
  },
  {
   "cell_type": "markdown",
   "id": "d064b035",
   "metadata": {},
   "source": [
    "<a name='decision_tree'></a>\n",
    "## Decision Tree"
   ]
  },
  {
   "cell_type": "code",
   "execution_count": 168,
   "id": "14d2d871",
   "metadata": {},
   "outputs": [],
   "source": [
    "# Thise function takes in the max_depth value of our tree\n",
    "# returns tree parameters and a corresponding name\n",
    "tree_list, tree_model_name_list = m.decision_tree_models(10)"
   ]
  },
  {
   "cell_type": "code",
   "execution_count": 169,
   "id": "df6a00e2",
   "metadata": {},
   "outputs": [],
   "source": [
    "models_list.append(tree_list)\n",
    "models_name.append(tree_model_name_list)"
   ]
  },
  {
   "cell_type": "code",
   "execution_count": 170,
   "id": "b6b91cdf",
   "metadata": {},
   "outputs": [],
   "source": [
    "# Run models based off specified parameters\n",
    "# Append results to score_df\n",
    "for model, name in zip(tree_list, tree_model_name_list):\n",
    "    score_df = m.test_a_model(o.X_train_dummies, o.y_train_dummies, o.X_validate_dummies, o.y_validate_dummies, model, name, score_df)"
   ]
  },
  {
   "cell_type": "code",
   "execution_count": 171,
   "id": "403cb47e",
   "metadata": {},
   "outputs": [
    {
     "data": {
      "text/html": [
       "<div>\n",
       "<style scoped>\n",
       "    .dataframe tbody tr th:only-of-type {\n",
       "        vertical-align: middle;\n",
       "    }\n",
       "\n",
       "    .dataframe tbody tr th {\n",
       "        vertical-align: top;\n",
       "    }\n",
       "\n",
       "    .dataframe thead th {\n",
       "        text-align: right;\n",
       "    }\n",
       "</style>\n",
       "<table border=\"1\" class=\"dataframe\">\n",
       "  <thead>\n",
       "    <tr style=\"text-align: right;\">\n",
       "      <th></th>\n",
       "      <th>model_name</th>\n",
       "      <th>train_score</th>\n",
       "      <th>validate_score</th>\n",
       "    </tr>\n",
       "  </thead>\n",
       "  <tbody>\n",
       "    <tr>\n",
       "      <th>0</th>\n",
       "      <td>decision_tree_depth_3</td>\n",
       "      <td>0.754972</td>\n",
       "      <td>0.751656</td>\n",
       "    </tr>\n",
       "    <tr>\n",
       "      <th>2</th>\n",
       "      <td>decision_tree_depth_5</td>\n",
       "      <td>0.787642</td>\n",
       "      <td>0.751656</td>\n",
       "    </tr>\n",
       "    <tr>\n",
       "      <th>1</th>\n",
       "      <td>decision_tree_depth_4</td>\n",
       "      <td>0.777699</td>\n",
       "      <td>0.738411</td>\n",
       "    </tr>\n",
       "    <tr>\n",
       "      <th>3</th>\n",
       "      <td>decision_tree_depth_6</td>\n",
       "      <td>0.825284</td>\n",
       "      <td>0.706954</td>\n",
       "    </tr>\n",
       "    <tr>\n",
       "      <th>6</th>\n",
       "      <td>decision_tree_depth_9</td>\n",
       "      <td>0.948864</td>\n",
       "      <td>0.672185</td>\n",
       "    </tr>\n",
       "    <tr>\n",
       "      <th>4</th>\n",
       "      <td>decision_tree_depth_7</td>\n",
       "      <td>0.873580</td>\n",
       "      <td>0.668874</td>\n",
       "    </tr>\n",
       "    <tr>\n",
       "      <th>5</th>\n",
       "      <td>decision_tree_depth_8</td>\n",
       "      <td>0.924716</td>\n",
       "      <td>0.662252</td>\n",
       "    </tr>\n",
       "  </tbody>\n",
       "</table>\n",
       "</div>"
      ],
      "text/plain": [
       "              model_name  train_score  validate_score\n",
       "0  decision_tree_depth_3     0.754972        0.751656\n",
       "2  decision_tree_depth_5     0.787642        0.751656\n",
       "1  decision_tree_depth_4     0.777699        0.738411\n",
       "3  decision_tree_depth_6     0.825284        0.706954\n",
       "6  decision_tree_depth_9     0.948864        0.672185\n",
       "4  decision_tree_depth_7     0.873580        0.668874\n",
       "5  decision_tree_depth_8     0.924716        0.662252"
      ]
     },
     "execution_count": 171,
     "metadata": {},
     "output_type": "execute_result"
    }
   ],
   "source": [
    "score_df.sort_values(by = \"validate_score\", ascending = False)"
   ]
  },
  {
   "cell_type": "markdown",
   "id": "1cbf2259",
   "metadata": {},
   "source": [
    "<a name='random_forest'></a>\n",
    "## Random Forest"
   ]
  },
  {
   "cell_type": "code",
   "execution_count": 172,
   "id": "0504c135",
   "metadata": {},
   "outputs": [],
   "source": [
    "# This function takes in the max_depth value of our tree\n",
    "# returns tree parameters and a corresponding name\n",
    "forest_list, forest_name_list = m.random_forest_models(10, 10, 'including_all')"
   ]
  },
  {
   "cell_type": "code",
   "execution_count": 173,
   "id": "6de569c1",
   "metadata": {},
   "outputs": [],
   "source": [
    "models_list.append(forest_list)\n",
    "models_name.append(forest_name_list)"
   ]
  },
  {
   "cell_type": "code",
   "execution_count": 174,
   "id": "7b3607f1",
   "metadata": {},
   "outputs": [],
   "source": [
    "#Append results to score_df\n",
    "for model, name in zip(forest_list, forest_name_list):\n",
    "    score_df = m.test_a_model(o.X_train_dummies, o.y_train_dummies, o.X_validate_dummies, o.y_validate_dummies, model, name, score_df)"
   ]
  },
  {
   "cell_type": "code",
   "execution_count": 175,
   "id": "5cac6ddf",
   "metadata": {},
   "outputs": [
    {
     "data": {
      "text/html": [
       "<div>\n",
       "<style scoped>\n",
       "    .dataframe tbody tr th:only-of-type {\n",
       "        vertical-align: middle;\n",
       "    }\n",
       "\n",
       "    .dataframe tbody tr th {\n",
       "        vertical-align: top;\n",
       "    }\n",
       "\n",
       "    .dataframe thead th {\n",
       "        text-align: right;\n",
       "    }\n",
       "</style>\n",
       "<table border=\"1\" class=\"dataframe\">\n",
       "  <thead>\n",
       "    <tr style=\"text-align: right;\">\n",
       "      <th></th>\n",
       "      <th>model_name</th>\n",
       "      <th>train_score</th>\n",
       "      <th>validate_score</th>\n",
       "    </tr>\n",
       "  </thead>\n",
       "  <tbody>\n",
       "    <tr>\n",
       "      <th>32</th>\n",
       "      <td>including_all_features_random_forest_min_samples_leaf_5_depth_8</td>\n",
       "      <td>0.870028</td>\n",
       "      <td>0.801325</td>\n",
       "    </tr>\n",
       "    <tr>\n",
       "      <th>20</th>\n",
       "      <td>including_all_features_random_forest_min_samples_leaf_4_depth_5</td>\n",
       "      <td>0.811790</td>\n",
       "      <td>0.799669</td>\n",
       "    </tr>\n",
       "    <tr>\n",
       "      <th>10</th>\n",
       "      <td>including_all_features_random_forest_min_samples_leaf_3_depth_4</td>\n",
       "      <td>0.793324</td>\n",
       "      <td>0.796358</td>\n",
       "    </tr>\n",
       "    <tr>\n",
       "      <th>36</th>\n",
       "      <td>including_all_features_random_forest_min_samples_leaf_6_depth_3</td>\n",
       "      <td>0.764205</td>\n",
       "      <td>0.794702</td>\n",
       "    </tr>\n",
       "    <tr>\n",
       "      <th>15</th>\n",
       "      <td>including_all_features_random_forest_min_samples_leaf_3_depth_9</td>\n",
       "      <td>0.918324</td>\n",
       "      <td>0.794702</td>\n",
       "    </tr>\n",
       "    <tr>\n",
       "      <th>14</th>\n",
       "      <td>including_all_features_random_forest_min_samples_leaf_3_depth_8</td>\n",
       "      <td>0.892756</td>\n",
       "      <td>0.793046</td>\n",
       "    </tr>\n",
       "    <tr>\n",
       "      <th>48</th>\n",
       "      <td>including_all_features_random_forest_min_samples_leaf_7_depth_6</td>\n",
       "      <td>0.824574</td>\n",
       "      <td>0.793046</td>\n",
       "    </tr>\n",
       "    <tr>\n",
       "      <th>21</th>\n",
       "      <td>including_all_features_random_forest_min_samples_leaf_4_depth_6</td>\n",
       "      <td>0.840909</td>\n",
       "      <td>0.791391</td>\n",
       "    </tr>\n",
       "    <tr>\n",
       "      <th>51</th>\n",
       "      <td>including_all_features_random_forest_min_samples_leaf_7_depth_9</td>\n",
       "      <td>0.864347</td>\n",
       "      <td>0.791391</td>\n",
       "    </tr>\n",
       "    <tr>\n",
       "      <th>55</th>\n",
       "      <td>including_all_features_random_forest_min_samples_leaf_8_depth_4</td>\n",
       "      <td>0.788352</td>\n",
       "      <td>0.791391</td>\n",
       "    </tr>\n",
       "  </tbody>\n",
       "</table>\n",
       "</div>"
      ],
      "text/plain": [
       "                                                         model_name  \\\n",
       "32  including_all_features_random_forest_min_samples_leaf_5_depth_8   \n",
       "20  including_all_features_random_forest_min_samples_leaf_4_depth_5   \n",
       "10  including_all_features_random_forest_min_samples_leaf_3_depth_4   \n",
       "36  including_all_features_random_forest_min_samples_leaf_6_depth_3   \n",
       "15  including_all_features_random_forest_min_samples_leaf_3_depth_9   \n",
       "14  including_all_features_random_forest_min_samples_leaf_3_depth_8   \n",
       "48  including_all_features_random_forest_min_samples_leaf_7_depth_6   \n",
       "21  including_all_features_random_forest_min_samples_leaf_4_depth_6   \n",
       "51  including_all_features_random_forest_min_samples_leaf_7_depth_9   \n",
       "55  including_all_features_random_forest_min_samples_leaf_8_depth_4   \n",
       "\n",
       "    train_score  validate_score  \n",
       "32     0.870028        0.801325  \n",
       "20     0.811790        0.799669  \n",
       "10     0.793324        0.796358  \n",
       "36     0.764205        0.794702  \n",
       "15     0.918324        0.794702  \n",
       "14     0.892756        0.793046  \n",
       "48     0.824574        0.793046  \n",
       "21     0.840909        0.791391  \n",
       "51     0.864347        0.791391  \n",
       "55     0.788352        0.791391  "
      ]
     },
     "execution_count": 175,
     "metadata": {},
     "output_type": "execute_result"
    }
   ],
   "source": [
    "score_df.sort_values(by = 'validate_score', ascending = False).head(10)"
   ]
  },
  {
   "cell_type": "markdown",
   "id": "d2c33972",
   "metadata": {},
   "source": [
    "<a name='knn'></a>\n",
    "## K Nearest Neighbors"
   ]
  },
  {
   "cell_type": "code",
   "execution_count": 176,
   "id": "c6810f4c",
   "metadata": {},
   "outputs": [],
   "source": [
    "#This function takes in a neighbors amount \n",
    "# returns KNN parameters and corresponding names\n",
    "k_neighbors_list, k_names_list = m.k_neighbors_models(10)"
   ]
  },
  {
   "cell_type": "code",
   "execution_count": 177,
   "id": "7e55a6d3",
   "metadata": {},
   "outputs": [],
   "source": [
    "models_list.append(k_neighbors_list)\n",
    "models_name.append(k_names_list)"
   ]
  },
  {
   "cell_type": "code",
   "execution_count": 178,
   "id": "2be967bd",
   "metadata": {},
   "outputs": [],
   "source": [
    "#Append results to score_df\n",
    "for model, name in zip(k_neighbors_list, k_names_list):\n",
    "    score_df = m.test_a_model(o.X_train_dummies, o.y_train_dummies, o.X_validate_dummies, o.y_validate_dummies, model, name, score_df)"
   ]
  },
  {
   "cell_type": "code",
   "execution_count": 179,
   "id": "16488c7a",
   "metadata": {},
   "outputs": [
    {
     "data": {
      "text/html": [
       "<div>\n",
       "<style scoped>\n",
       "    .dataframe tbody tr th:only-of-type {\n",
       "        vertical-align: middle;\n",
       "    }\n",
       "\n",
       "    .dataframe tbody tr th {\n",
       "        vertical-align: top;\n",
       "    }\n",
       "\n",
       "    .dataframe thead th {\n",
       "        text-align: right;\n",
       "    }\n",
       "</style>\n",
       "<table border=\"1\" class=\"dataframe\">\n",
       "  <thead>\n",
       "    <tr style=\"text-align: right;\">\n",
       "      <th></th>\n",
       "      <th>model_name</th>\n",
       "      <th>train_score</th>\n",
       "      <th>validate_score</th>\n",
       "    </tr>\n",
       "  </thead>\n",
       "  <tbody>\n",
       "    <tr>\n",
       "      <th>32</th>\n",
       "      <td>including_all_features_random_forest_min_samples_leaf_5_depth_8</td>\n",
       "      <td>0.870028</td>\n",
       "      <td>0.801325</td>\n",
       "    </tr>\n",
       "    <tr>\n",
       "      <th>20</th>\n",
       "      <td>including_all_features_random_forest_min_samples_leaf_4_depth_5</td>\n",
       "      <td>0.811790</td>\n",
       "      <td>0.799669</td>\n",
       "    </tr>\n",
       "    <tr>\n",
       "      <th>10</th>\n",
       "      <td>including_all_features_random_forest_min_samples_leaf_3_depth_4</td>\n",
       "      <td>0.793324</td>\n",
       "      <td>0.796358</td>\n",
       "    </tr>\n",
       "    <tr>\n",
       "      <th>36</th>\n",
       "      <td>including_all_features_random_forest_min_samples_leaf_6_depth_3</td>\n",
       "      <td>0.764205</td>\n",
       "      <td>0.794702</td>\n",
       "    </tr>\n",
       "    <tr>\n",
       "      <th>15</th>\n",
       "      <td>including_all_features_random_forest_min_samples_leaf_3_depth_9</td>\n",
       "      <td>0.918324</td>\n",
       "      <td>0.794702</td>\n",
       "    </tr>\n",
       "  </tbody>\n",
       "</table>\n",
       "</div>"
      ],
      "text/plain": [
       "                                                         model_name  \\\n",
       "32  including_all_features_random_forest_min_samples_leaf_5_depth_8   \n",
       "20  including_all_features_random_forest_min_samples_leaf_4_depth_5   \n",
       "10  including_all_features_random_forest_min_samples_leaf_3_depth_4   \n",
       "36  including_all_features_random_forest_min_samples_leaf_6_depth_3   \n",
       "15  including_all_features_random_forest_min_samples_leaf_3_depth_9   \n",
       "\n",
       "    train_score  validate_score  \n",
       "32     0.870028        0.801325  \n",
       "20     0.811790        0.799669  \n",
       "10     0.793324        0.796358  \n",
       "36     0.764205        0.794702  \n",
       "15     0.918324        0.794702  "
      ]
     },
     "execution_count": 179,
     "metadata": {},
     "output_type": "execute_result"
    }
   ],
   "source": [
    "score_df.sort_values(by = \"validate_score\", ascending = False).head()"
   ]
  },
  {
   "cell_type": "markdown",
   "id": "f3edbb81",
   "metadata": {},
   "source": [
    "<a name='other_models'></a>\n",
    "## Other Models"
   ]
  },
  {
   "cell_type": "code",
   "execution_count": 180,
   "id": "15f7a3a7",
   "metadata": {},
   "outputs": [],
   "source": [
    "# We will test the performance of a series of extra models, listed below\n",
    "extra_models_list = [LinearSVC(), LogisticRegression(), MultinomialNB()]\n",
    "\n",
    "extra_model_names = ['linear_svc', 'logistic_regression', 'naive_bayes']"
   ]
  },
  {
   "cell_type": "code",
   "execution_count": 181,
   "id": "067bec1c",
   "metadata": {},
   "outputs": [],
   "source": [
    "models_list.append(extra_models_list)\n",
    "models_name.append(extra_model_names)"
   ]
  },
  {
   "cell_type": "code",
   "execution_count": 182,
   "id": "803451ef",
   "metadata": {},
   "outputs": [],
   "source": [
    "#Append results to score_df\n",
    "for model, name in zip(extra_models_list, extra_model_names):\n",
    "    score_df = m.test_a_model(o.X_train_dummies, o.y_train_dummies, o.X_validate_dummies, o.y_validate_dummies, model, name, score_df)"
   ]
  },
  {
   "cell_type": "code",
   "execution_count": 183,
   "id": "53a56e4b",
   "metadata": {
    "scrolled": true
   },
   "outputs": [
    {
     "data": {
      "text/html": [
       "<div>\n",
       "<style scoped>\n",
       "    .dataframe tbody tr th:only-of-type {\n",
       "        vertical-align: middle;\n",
       "    }\n",
       "\n",
       "    .dataframe tbody tr th {\n",
       "        vertical-align: top;\n",
       "    }\n",
       "\n",
       "    .dataframe thead th {\n",
       "        text-align: right;\n",
       "    }\n",
       "</style>\n",
       "<table border=\"1\" class=\"dataframe\">\n",
       "  <thead>\n",
       "    <tr style=\"text-align: right;\">\n",
       "      <th></th>\n",
       "      <th>model_name</th>\n",
       "      <th>train_score</th>\n",
       "      <th>validate_score</th>\n",
       "    </tr>\n",
       "  </thead>\n",
       "  <tbody>\n",
       "    <tr>\n",
       "      <th>32</th>\n",
       "      <td>including_all_features_random_forest_min_samples_leaf_5_depth_8</td>\n",
       "      <td>0.870028</td>\n",
       "      <td>0.801325</td>\n",
       "    </tr>\n",
       "    <tr>\n",
       "      <th>20</th>\n",
       "      <td>including_all_features_random_forest_min_samples_leaf_4_depth_5</td>\n",
       "      <td>0.811790</td>\n",
       "      <td>0.799669</td>\n",
       "    </tr>\n",
       "    <tr>\n",
       "      <th>10</th>\n",
       "      <td>including_all_features_random_forest_min_samples_leaf_3_depth_4</td>\n",
       "      <td>0.793324</td>\n",
       "      <td>0.796358</td>\n",
       "    </tr>\n",
       "    <tr>\n",
       "      <th>36</th>\n",
       "      <td>including_all_features_random_forest_min_samples_leaf_6_depth_3</td>\n",
       "      <td>0.764205</td>\n",
       "      <td>0.794702</td>\n",
       "    </tr>\n",
       "    <tr>\n",
       "      <th>15</th>\n",
       "      <td>including_all_features_random_forest_min_samples_leaf_3_depth_9</td>\n",
       "      <td>0.918324</td>\n",
       "      <td>0.794702</td>\n",
       "    </tr>\n",
       "    <tr>\n",
       "      <th>48</th>\n",
       "      <td>including_all_features_random_forest_min_samples_leaf_7_depth_6</td>\n",
       "      <td>0.824574</td>\n",
       "      <td>0.793046</td>\n",
       "    </tr>\n",
       "    <tr>\n",
       "      <th>14</th>\n",
       "      <td>including_all_features_random_forest_min_samples_leaf_3_depth_8</td>\n",
       "      <td>0.892756</td>\n",
       "      <td>0.793046</td>\n",
       "    </tr>\n",
       "    <tr>\n",
       "      <th>13</th>\n",
       "      <td>including_all_features_random_forest_min_samples_leaf_3_depth_7</td>\n",
       "      <td>0.870028</td>\n",
       "      <td>0.791391</td>\n",
       "    </tr>\n",
       "    <tr>\n",
       "      <th>59</th>\n",
       "      <td>including_all_features_random_forest_min_samples_leaf_8_depth_8</td>\n",
       "      <td>0.843040</td>\n",
       "      <td>0.791391</td>\n",
       "    </tr>\n",
       "    <tr>\n",
       "      <th>28</th>\n",
       "      <td>including_all_features_random_forest_min_samples_leaf_5_depth_4</td>\n",
       "      <td>0.782670</td>\n",
       "      <td>0.791391</td>\n",
       "    </tr>\n",
       "  </tbody>\n",
       "</table>\n",
       "</div>"
      ],
      "text/plain": [
       "                                                         model_name  \\\n",
       "32  including_all_features_random_forest_min_samples_leaf_5_depth_8   \n",
       "20  including_all_features_random_forest_min_samples_leaf_4_depth_5   \n",
       "10  including_all_features_random_forest_min_samples_leaf_3_depth_4   \n",
       "36  including_all_features_random_forest_min_samples_leaf_6_depth_3   \n",
       "15  including_all_features_random_forest_min_samples_leaf_3_depth_9   \n",
       "48  including_all_features_random_forest_min_samples_leaf_7_depth_6   \n",
       "14  including_all_features_random_forest_min_samples_leaf_3_depth_8   \n",
       "13  including_all_features_random_forest_min_samples_leaf_3_depth_7   \n",
       "59  including_all_features_random_forest_min_samples_leaf_8_depth_8   \n",
       "28  including_all_features_random_forest_min_samples_leaf_5_depth_4   \n",
       "\n",
       "    train_score  validate_score  \n",
       "32     0.870028        0.801325  \n",
       "20     0.811790        0.799669  \n",
       "10     0.793324        0.796358  \n",
       "36     0.764205        0.794702  \n",
       "15     0.918324        0.794702  \n",
       "48     0.824574        0.793046  \n",
       "14     0.892756        0.793046  \n",
       "13     0.870028        0.791391  \n",
       "59     0.843040        0.791391  \n",
       "28     0.782670        0.791391  "
      ]
     },
     "execution_count": 183,
     "metadata": {},
     "output_type": "execute_result"
    }
   ],
   "source": [
    "score_df.sort_values(by = \"validate_score\", ascending = False).head(10)"
   ]
  },
  {
   "cell_type": "markdown",
   "id": "aab2b2b5",
   "metadata": {},
   "source": [
    "## Find Best Model"
   ]
  },
  {
   "cell_type": "code",
   "execution_count": 184,
   "id": "83570db3",
   "metadata": {},
   "outputs": [
    {
     "data": {
      "text/html": [
       "<div>\n",
       "<style scoped>\n",
       "    .dataframe tbody tr th:only-of-type {\n",
       "        vertical-align: middle;\n",
       "    }\n",
       "\n",
       "    .dataframe tbody tr th {\n",
       "        vertical-align: top;\n",
       "    }\n",
       "\n",
       "    .dataframe thead th {\n",
       "        text-align: right;\n",
       "    }\n",
       "</style>\n",
       "<table border=\"1\" class=\"dataframe\">\n",
       "  <thead>\n",
       "    <tr style=\"text-align: right;\">\n",
       "      <th></th>\n",
       "      <th>model_name</th>\n",
       "      <th>train_score</th>\n",
       "      <th>validate_score</th>\n",
       "    </tr>\n",
       "  </thead>\n",
       "  <tbody>\n",
       "    <tr>\n",
       "      <th>0</th>\n",
       "      <td>including_all_features_random_forest_min_samples_leaf_5_depth_8</td>\n",
       "      <td>0.870028</td>\n",
       "      <td>0.801325</td>\n",
       "    </tr>\n",
       "    <tr>\n",
       "      <th>1</th>\n",
       "      <td>including_all_features_random_forest_min_samples_leaf_4_depth_5</td>\n",
       "      <td>0.811790</td>\n",
       "      <td>0.799669</td>\n",
       "    </tr>\n",
       "    <tr>\n",
       "      <th>2</th>\n",
       "      <td>including_all_features_random_forest_min_samples_leaf_3_depth_4</td>\n",
       "      <td>0.793324</td>\n",
       "      <td>0.796358</td>\n",
       "    </tr>\n",
       "    <tr>\n",
       "      <th>3</th>\n",
       "      <td>including_all_features_random_forest_min_samples_leaf_6_depth_3</td>\n",
       "      <td>0.764205</td>\n",
       "      <td>0.794702</td>\n",
       "    </tr>\n",
       "    <tr>\n",
       "      <th>4</th>\n",
       "      <td>including_all_features_random_forest_min_samples_leaf_3_depth_9</td>\n",
       "      <td>0.918324</td>\n",
       "      <td>0.794702</td>\n",
       "    </tr>\n",
       "  </tbody>\n",
       "</table>\n",
       "</div>"
      ],
      "text/plain": [
       "                                                        model_name  \\\n",
       "0  including_all_features_random_forest_min_samples_leaf_5_depth_8   \n",
       "1  including_all_features_random_forest_min_samples_leaf_4_depth_5   \n",
       "2  including_all_features_random_forest_min_samples_leaf_3_depth_4   \n",
       "3  including_all_features_random_forest_min_samples_leaf_6_depth_3   \n",
       "4  including_all_features_random_forest_min_samples_leaf_3_depth_9   \n",
       "\n",
       "   train_score  validate_score  \n",
       "0     0.870028        0.801325  \n",
       "1     0.811790        0.799669  \n",
       "2     0.793324        0.796358  \n",
       "3     0.764205        0.794702  \n",
       "4     0.918324        0.794702  "
      ]
     },
     "execution_count": 184,
     "metadata": {},
     "output_type": "execute_result"
    }
   ],
   "source": [
    "#Make list of model names into Pandas Series\n",
    "models_name_series = pd.Series(models_name)\n",
    "models_name_series = models_name_series.apply(pd.Series).stack().reset_index(drop=True)\n",
    "\n",
    "#Make list of models into Pandas Series\n",
    "models_list_series = pd.Series(models_list)\n",
    "models_list_series = models_list_series.apply(pd.Series).stack().reset_index(drop=True)\n",
    "\n",
    "#Make a DataFrame of model names and models\n",
    "models_df = pd.DataFrame({'model_name': models_name_series, 'model': models_list_series})\n",
    "\n",
    "#Find best performing model from score_df\n",
    "score_df = score_df.sort_values(by = \"validate_score\", ascending = False).reset_index(drop = True)\n",
    "\n",
    "score_df.head()"
   ]
  },
  {
   "cell_type": "code",
   "execution_count": 185,
   "id": "0cfbfc55",
   "metadata": {},
   "outputs": [
    {
     "data": {
      "text/plain": [
       "RandomForestClassifier(max_depth=8, min_samples_leaf=5)"
      ]
     },
     "execution_count": 185,
     "metadata": {},
     "output_type": "execute_result"
    }
   ],
   "source": [
    "#Select best performing model\n",
    "top_model = score_df.model_name[0]\n",
    "#Get best perfoming model name \n",
    "best_model = models_df.model[models_df.model_name == top_model].item()\n",
    "\n",
    "best_model"
   ]
  },
  {
   "cell_type": "markdown",
   "id": "e43015f2",
   "metadata": {},
   "source": [
    "<a name='feature_importance'></a>\n",
    "## Feature Importance\n",
    "\n",
    "We will use our best performing model so far to perform feature engineering. By only using the most important features in our model, we may be able to improve our accuracy."
   ]
  },
  {
   "cell_type": "code",
   "execution_count": 186,
   "id": "56c75a88",
   "metadata": {},
   "outputs": [
    {
     "data": {
      "text/plain": [
       "RandomForestClassifier(max_depth=8, min_samples_leaf=5)"
      ]
     },
     "execution_count": 186,
     "metadata": {},
     "output_type": "execute_result"
    }
   ],
   "source": [
    "#Make model\n",
    "rf = best_model\n",
    "#Fit Model\n",
    "rf.fit(o.X_train_dummies, o.y_train_dummies)"
   ]
  },
  {
   "cell_type": "code",
   "execution_count": 187,
   "id": "aa9dadc7",
   "metadata": {},
   "outputs": [],
   "source": [
    "#Create data frame of feature importances, using our selected model\n",
    "feature_importances = pd.DataFrame(rf.feature_importances_, index = o.X_train_dummies.columns, columns = [ \"relative importance\"])\n",
    "#Sort the data frame by the relative importance of each feature\n",
    "feature_importances = feature_importances.sort_values(by = ['relative importance'], ascending = False)\n",
    "#Rename the index column \"category\"\n",
    "feature_importances.columns.names = ['category']"
   ]
  },
  {
   "cell_type": "code",
   "execution_count": 189,
   "id": "13bc8769",
   "metadata": {},
   "outputs": [
    {
     "data": {
      "image/png": "[encoded data removed]",
      "text/plain": [
       "<Figure size 720x576 with 1 Axes>"
      ]
     },
     "metadata": {
      "needs_background": "light"
     },
     "output_type": "display_data"
    }
   ],
   "source": [
    "#Plot the most relevant features\n",
    "plt.figure(figsize=(10,8))\n",
    "relative_importances = sns.barplot(x=feature_importances['relative importance'][0:20], y=feature_importances.index[0:20]).set(title=\"Most Important Features\")\n",
    "# Save feature importance fig\n",
    "plt.savefig('images/feature_importance.jpeg')"
   ]
  },
  {
   "cell_type": "markdown",
   "id": "fcf3f8c4",
   "metadata": {},
   "source": [
    "### Feature Importance Takeaways\n",
    "- Public Education and U.S. economics are major drivers of pessimism.\n",
    "- One's own job benefits, race relations, future standards of living, healthcare, and the country's world status follow closely behind in overall importance."
   ]
  },
  {
   "cell_type": "markdown",
   "id": "f3e84659",
   "metadata": {},
   "source": [
    "<a name='top'></a>\n",
    "## Modeling with just the top features"
   ]
  },
  {
   "cell_type": "markdown",
   "id": "14238d13",
   "metadata": {},
   "source": [
    "### Modeling with just the top 30 features\n",
    "We will attempt to create a more accurate model by using just the most important features in our dataset. Because Random Forest Classifier has proven itself to be the most accurate model on our data, we will continue to use Random Forest Classifier. "
   ]
  },
  {
   "cell_type": "code",
   "execution_count": 190,
   "id": "e4612898",
   "metadata": {},
   "outputs": [],
   "source": [
    "#Select 30 most important features\n",
    "top_thirty = feature_importances[0:30].index.to_list()"
   ]
  },
  {
   "cell_type": "code",
   "execution_count": 191,
   "id": "cb9c2405",
   "metadata": {},
   "outputs": [],
   "source": [
    "#Make new train, validate, and test datasets with just the thirty features\n",
    "X_train_top_thirty = o.X_train_dummies[top_thirty]\n",
    "X_validate_top_thirty = o.X_validate_dummies[top_thirty]\n",
    "X_validate_top_thirty = o.X_validate_dummies[top_thirty]"
   ]
  },
  {
   "cell_type": "code",
   "execution_count": 192,
   "id": "6cb964e3",
   "metadata": {},
   "outputs": [],
   "source": [
    "#Get names of new Random Forest Models\n",
    "forest_list, forest_name_list = m.random_forest_models(10, 10, 'thirty')"
   ]
  },
  {
   "cell_type": "code",
   "execution_count": 193,
   "id": "42aff699",
   "metadata": {},
   "outputs": [],
   "source": [
    "models_name.append(forest_list)\n",
    "models_list.append(forest_name_list)"
   ]
  },
  {
   "cell_type": "code",
   "execution_count": 194,
   "id": "e9681904",
   "metadata": {},
   "outputs": [],
   "source": [
    "#Append results to score_df\n",
    "for model, name in zip(forest_list, forest_name_list):\n",
    "    score_df = m.test_a_model(X_train_top_thirty, o.y_train_dummies, X_validate_top_thirty, o.y_validate_dummies, model, name, score_df)"
   ]
  },
  {
   "cell_type": "code",
   "execution_count": 195,
   "id": "29943d83",
   "metadata": {},
   "outputs": [
    {
     "data": {
      "text/html": [
       "<div>\n",
       "<style scoped>\n",
       "    .dataframe tbody tr th:only-of-type {\n",
       "        vertical-align: middle;\n",
       "    }\n",
       "\n",
       "    .dataframe tbody tr th {\n",
       "        vertical-align: top;\n",
       "    }\n",
       "\n",
       "    .dataframe thead th {\n",
       "        text-align: right;\n",
       "    }\n",
       "</style>\n",
       "<table border=\"1\" class=\"dataframe\">\n",
       "  <thead>\n",
       "    <tr style=\"text-align: right;\">\n",
       "      <th></th>\n",
       "      <th>model_name</th>\n",
       "      <th>train_score</th>\n",
       "      <th>validate_score</th>\n",
       "    </tr>\n",
       "  </thead>\n",
       "  <tbody>\n",
       "    <tr>\n",
       "      <th>0</th>\n",
       "      <td>including_all_features_random_forest_min_samples_leaf_5_depth_8</td>\n",
       "      <td>0.870028</td>\n",
       "      <td>0.801325</td>\n",
       "    </tr>\n",
       "    <tr>\n",
       "      <th>1</th>\n",
       "      <td>including_all_features_random_forest_min_samples_leaf_4_depth_5</td>\n",
       "      <td>0.811790</td>\n",
       "      <td>0.799669</td>\n",
       "    </tr>\n",
       "    <tr>\n",
       "      <th>2</th>\n",
       "      <td>including_all_features_random_forest_min_samples_leaf_3_depth_4</td>\n",
       "      <td>0.793324</td>\n",
       "      <td>0.796358</td>\n",
       "    </tr>\n",
       "    <tr>\n",
       "      <th>3</th>\n",
       "      <td>including_all_features_random_forest_min_samples_leaf_6_depth_3</td>\n",
       "      <td>0.764205</td>\n",
       "      <td>0.794702</td>\n",
       "    </tr>\n",
       "    <tr>\n",
       "      <th>4</th>\n",
       "      <td>including_all_features_random_forest_min_samples_leaf_3_depth_9</td>\n",
       "      <td>0.918324</td>\n",
       "      <td>0.794702</td>\n",
       "    </tr>\n",
       "  </tbody>\n",
       "</table>\n",
       "</div>"
      ],
      "text/plain": [
       "                                                        model_name  \\\n",
       "0  including_all_features_random_forest_min_samples_leaf_5_depth_8   \n",
       "1  including_all_features_random_forest_min_samples_leaf_4_depth_5   \n",
       "2  including_all_features_random_forest_min_samples_leaf_3_depth_4   \n",
       "3  including_all_features_random_forest_min_samples_leaf_6_depth_3   \n",
       "4  including_all_features_random_forest_min_samples_leaf_3_depth_9   \n",
       "\n",
       "   train_score  validate_score  \n",
       "0     0.870028        0.801325  \n",
       "1     0.811790        0.799669  \n",
       "2     0.793324        0.796358  \n",
       "3     0.764205        0.794702  \n",
       "4     0.918324        0.794702  "
      ]
     },
     "execution_count": 195,
     "metadata": {},
     "output_type": "execute_result"
    }
   ],
   "source": [
    "score_df.sort_values(by= \"validate_score\", ascending = False).head()"
   ]
  },
  {
   "cell_type": "markdown",
   "id": "df3d85b1",
   "metadata": {},
   "source": [
    "### Modeling with just the top 40 features"
   ]
  },
  {
   "cell_type": "code",
   "execution_count": 196,
   "id": "c1765f1d",
   "metadata": {},
   "outputs": [],
   "source": [
    "#Select 40 most important features\n",
    "top_forty = feature_importances[0:40].index.to_list()"
   ]
  },
  {
   "cell_type": "code",
   "execution_count": 197,
   "id": "d04bb5ec",
   "metadata": {},
   "outputs": [],
   "source": [
    "#Make new train, validate, and test datasets with just forty features\n",
    "X_train_top_forty = o.X_train_dummies[top_forty]\n",
    "X_validate_top_forty = o.X_validate_dummies[top_forty]\n",
    "X_validate_top_forty = o.X_validate_dummies[top_forty]"
   ]
  },
  {
   "cell_type": "code",
   "execution_count": 198,
   "id": "5abb0fe1",
   "metadata": {},
   "outputs": [],
   "source": [
    "#Get the names of new Random Forest models\n",
    "forest_list, forest_name_list = m.random_forest_models(10, 10, 'forty')"
   ]
  },
  {
   "cell_type": "code",
   "execution_count": 199,
   "id": "450c6b4c",
   "metadata": {},
   "outputs": [],
   "source": [
    "models_name.append(forest_list)\n",
    "models_list.append(forest_name_list)"
   ]
  },
  {
   "cell_type": "code",
   "execution_count": 200,
   "id": "3536d315",
   "metadata": {},
   "outputs": [],
   "source": [
    "#Append results to score_df\n",
    "for model, name in zip(forest_list, forest_name_list):\n",
    "    score_df = m.test_a_model(X_train_top_thirty, o.y_train_dummies, X_validate_top_thirty, o.y_validate_dummies, model, name, score_df)"
   ]
  },
  {
   "cell_type": "code",
   "execution_count": 201,
   "id": "6bb56c1f",
   "metadata": {},
   "outputs": [
    {
     "data": {
      "text/html": [
       "<div>\n",
       "<style scoped>\n",
       "    .dataframe tbody tr th:only-of-type {\n",
       "        vertical-align: middle;\n",
       "    }\n",
       "\n",
       "    .dataframe tbody tr th {\n",
       "        vertical-align: top;\n",
       "    }\n",
       "\n",
       "    .dataframe thead th {\n",
       "        text-align: right;\n",
       "    }\n",
       "</style>\n",
       "<table border=\"1\" class=\"dataframe\">\n",
       "  <thead>\n",
       "    <tr style=\"text-align: right;\">\n",
       "      <th></th>\n",
       "      <th>model_name</th>\n",
       "      <th>train_score</th>\n",
       "      <th>validate_score</th>\n",
       "    </tr>\n",
       "  </thead>\n",
       "  <tbody>\n",
       "    <tr>\n",
       "      <th>0</th>\n",
       "      <td>including_all_features_random_forest_min_samples_leaf_5_depth_8</td>\n",
       "      <td>0.870028</td>\n",
       "      <td>0.801325</td>\n",
       "    </tr>\n",
       "    <tr>\n",
       "      <th>1</th>\n",
       "      <td>including_all_features_random_forest_min_samples_leaf_4_depth_5</td>\n",
       "      <td>0.811790</td>\n",
       "      <td>0.799669</td>\n",
       "    </tr>\n",
       "    <tr>\n",
       "      <th>2</th>\n",
       "      <td>including_all_features_random_forest_min_samples_leaf_3_depth_4</td>\n",
       "      <td>0.793324</td>\n",
       "      <td>0.796358</td>\n",
       "    </tr>\n",
       "    <tr>\n",
       "      <th>3</th>\n",
       "      <td>including_all_features_random_forest_min_samples_leaf_6_depth_3</td>\n",
       "      <td>0.764205</td>\n",
       "      <td>0.794702</td>\n",
       "    </tr>\n",
       "    <tr>\n",
       "      <th>4</th>\n",
       "      <td>including_all_features_random_forest_min_samples_leaf_3_depth_9</td>\n",
       "      <td>0.918324</td>\n",
       "      <td>0.794702</td>\n",
       "    </tr>\n",
       "    <tr>\n",
       "      <th>169</th>\n",
       "      <td>forty_features_random_forest_min_samples_leaf_6_depth_2</td>\n",
       "      <td>0.745028</td>\n",
       "      <td>0.794702</td>\n",
       "    </tr>\n",
       "    <tr>\n",
       "      <th>89</th>\n",
       "      <td>thirty_features_random_forest_min_samples_leaf_4_depth_3</td>\n",
       "      <td>0.757812</td>\n",
       "      <td>0.794702</td>\n",
       "    </tr>\n",
       "    <tr>\n",
       "      <th>5</th>\n",
       "      <td>including_all_features_random_forest_min_samples_leaf_7_depth_6</td>\n",
       "      <td>0.824574</td>\n",
       "      <td>0.793046</td>\n",
       "    </tr>\n",
       "    <tr>\n",
       "      <th>6</th>\n",
       "      <td>including_all_features_random_forest_min_samples_leaf_3_depth_8</td>\n",
       "      <td>0.892756</td>\n",
       "      <td>0.793046</td>\n",
       "    </tr>\n",
       "    <tr>\n",
       "      <th>126</th>\n",
       "      <td>thirty_features_random_forest_min_samples_leaf_8_depth_4</td>\n",
       "      <td>0.775568</td>\n",
       "      <td>0.793046</td>\n",
       "    </tr>\n",
       "    <tr>\n",
       "      <th>151</th>\n",
       "      <td>forty_features_random_forest_min_samples_leaf_4_depth_2</td>\n",
       "      <td>0.749290</td>\n",
       "      <td>0.791391</td>\n",
       "    </tr>\n",
       "    <tr>\n",
       "      <th>196</th>\n",
       "      <td>forty_features_random_forest_min_samples_leaf_9_depth_2</td>\n",
       "      <td>0.751420</td>\n",
       "      <td>0.791391</td>\n",
       "    </tr>\n",
       "    <tr>\n",
       "      <th>11</th>\n",
       "      <td>including_all_features_random_forest_min_samples_leaf_8_depth_4</td>\n",
       "      <td>0.788352</td>\n",
       "      <td>0.791391</td>\n",
       "    </tr>\n",
       "    <tr>\n",
       "      <th>12</th>\n",
       "      <td>including_all_features_random_forest_min_samples_leaf_7_depth_9</td>\n",
       "      <td>0.864347</td>\n",
       "      <td>0.791391</td>\n",
       "    </tr>\n",
       "    <tr>\n",
       "      <th>160</th>\n",
       "      <td>forty_features_random_forest_min_samples_leaf_5_depth_2</td>\n",
       "      <td>0.751420</td>\n",
       "      <td>0.791391</td>\n",
       "    </tr>\n",
       "  </tbody>\n",
       "</table>\n",
       "</div>"
      ],
      "text/plain": [
       "                                                          model_name  \\\n",
       "0    including_all_features_random_forest_min_samples_leaf_5_depth_8   \n",
       "1    including_all_features_random_forest_min_samples_leaf_4_depth_5   \n",
       "2    including_all_features_random_forest_min_samples_leaf_3_depth_4   \n",
       "3    including_all_features_random_forest_min_samples_leaf_6_depth_3   \n",
       "4    including_all_features_random_forest_min_samples_leaf_3_depth_9   \n",
       "169          forty_features_random_forest_min_samples_leaf_6_depth_2   \n",
       "89          thirty_features_random_forest_min_samples_leaf_4_depth_3   \n",
       "5    including_all_features_random_forest_min_samples_leaf_7_depth_6   \n",
       "6    including_all_features_random_forest_min_samples_leaf_3_depth_8   \n",
       "126         thirty_features_random_forest_min_samples_leaf_8_depth_4   \n",
       "151          forty_features_random_forest_min_samples_leaf_4_depth_2   \n",
       "196          forty_features_random_forest_min_samples_leaf_9_depth_2   \n",
       "11   including_all_features_random_forest_min_samples_leaf_8_depth_4   \n",
       "12   including_all_features_random_forest_min_samples_leaf_7_depth_9   \n",
       "160          forty_features_random_forest_min_samples_leaf_5_depth_2   \n",
       "\n",
       "     train_score  validate_score  \n",
       "0       0.870028        0.801325  \n",
       "1       0.811790        0.799669  \n",
       "2       0.793324        0.796358  \n",
       "3       0.764205        0.794702  \n",
       "4       0.918324        0.794702  \n",
       "169     0.745028        0.794702  \n",
       "89      0.757812        0.794702  \n",
       "5       0.824574        0.793046  \n",
       "6       0.892756        0.793046  \n",
       "126     0.775568        0.793046  \n",
       "151     0.749290        0.791391  \n",
       "196     0.751420        0.791391  \n",
       "11      0.788352        0.791391  \n",
       "12      0.864347        0.791391  \n",
       "160     0.751420        0.791391  "
      ]
     },
     "execution_count": 201,
     "metadata": {},
     "output_type": "execute_result"
    }
   ],
   "source": [
    "score_df.sort_values(by= \"validate_score\", ascending = False).head(15)"
   ]
  },
  {
   "cell_type": "markdown",
   "id": "396dbfa4",
   "metadata": {},
   "source": [
    "<a name='model_comparison'></a>\n",
    "## Model Comparison"
   ]
  },
  {
   "cell_type": "code",
   "execution_count": 202,
   "id": "887f1d18",
   "metadata": {},
   "outputs": [
    {
     "data": {
      "text/html": [
       "<center><h4>Model Comparison</h4></center>"
      ],
      "text/plain": [
       "<IPython.core.display.HTML object>"
      ]
     },
     "metadata": {},
     "output_type": "display_data"
    },
    {
     "data": {
      "image/png": "[encoded data removed]",
      "text/plain": [
       "<Figure size 432x288 with 1 Axes>"
      ]
     },
     "metadata": {
      "needs_background": "light"
     },
     "output_type": "display_data"
    }
   ],
   "source": [
    "best_models = sns.barplot(y = \"model_name\",\n",
    "                          x = 'validate_score',\n",
    "                          data = score_df.sort_values(by = \"validate_score\", ascending = False).head(10),\n",
    "                         ).set(xlim=(0.78, 0.81))\n",
    "\n",
    "# This is to display the title, since it cannot be set on the obj\n",
    "display(HTML('<center><h4>Model Comparison</h4></center>'))\n",
    "\n",
    "# Save figure and model comparison\n",
    "plt.savefig('images/model_comparison.png')\n",
    "\n",
    "plt.show()"
   ]
  },
  {
   "cell_type": "code",
   "execution_count": 203,
   "id": "a66e4da9",
   "metadata": {},
   "outputs": [],
   "source": [
    "#Make list of model names into Pandas Series\n",
    "models_name_series = pd.Series(models_name)\n",
    "models_name_series = models_name_series.apply(pd.Series).stack().reset_index(drop=True)\n",
    "\n",
    "#Make list of models into Pandas Series\n",
    "models_list_series = pd.Series(models_list)\n",
    "models_list_series = models_list_series.apply(pd.Series).stack().reset_index(drop=True)"
   ]
  },
  {
   "cell_type": "code",
   "execution_count": 204,
   "id": "083ed7d3",
   "metadata": {},
   "outputs": [],
   "source": [
    "#Make a DataFrame of model names and models\n",
    "models_df = pd.DataFrame({'model_name': models_name_series, 'model': models_list_series})"
   ]
  },
  {
   "cell_type": "code",
   "execution_count": 205,
   "id": "dc38b114",
   "metadata": {},
   "outputs": [],
   "source": [
    "#Find best performing model from score_df\n",
    "score_df = score_df.sort_values(by = \"validate_score\", ascending = False).reset_index(drop = True)"
   ]
  },
  {
   "cell_type": "code",
   "execution_count": 206,
   "id": "f00cf8a8",
   "metadata": {
    "scrolled": true
   },
   "outputs": [
    {
     "data": {
      "text/html": [
       "<div>\n",
       "<style scoped>\n",
       "    .dataframe tbody tr th:only-of-type {\n",
       "        vertical-align: middle;\n",
       "    }\n",
       "\n",
       "    .dataframe tbody tr th {\n",
       "        vertical-align: top;\n",
       "    }\n",
       "\n",
       "    .dataframe thead th {\n",
       "        text-align: right;\n",
       "    }\n",
       "</style>\n",
       "<table border=\"1\" class=\"dataframe\">\n",
       "  <thead>\n",
       "    <tr style=\"text-align: right;\">\n",
       "      <th></th>\n",
       "      <th>model_name</th>\n",
       "      <th>train_score</th>\n",
       "      <th>validate_score</th>\n",
       "    </tr>\n",
       "  </thead>\n",
       "  <tbody>\n",
       "    <tr>\n",
       "      <th>0</th>\n",
       "      <td>including_all_features_random_forest_min_samples_leaf_5_depth_8</td>\n",
       "      <td>0.870028</td>\n",
       "      <td>0.801325</td>\n",
       "    </tr>\n",
       "    <tr>\n",
       "      <th>1</th>\n",
       "      <td>including_all_features_random_forest_min_samples_leaf_4_depth_5</td>\n",
       "      <td>0.811790</td>\n",
       "      <td>0.799669</td>\n",
       "    </tr>\n",
       "    <tr>\n",
       "      <th>2</th>\n",
       "      <td>including_all_features_random_forest_min_samples_leaf_3_depth_4</td>\n",
       "      <td>0.793324</td>\n",
       "      <td>0.796358</td>\n",
       "    </tr>\n",
       "    <tr>\n",
       "      <th>3</th>\n",
       "      <td>including_all_features_random_forest_min_samples_leaf_6_depth_3</td>\n",
       "      <td>0.764205</td>\n",
       "      <td>0.794702</td>\n",
       "    </tr>\n",
       "    <tr>\n",
       "      <th>4</th>\n",
       "      <td>including_all_features_random_forest_min_samples_leaf_3_depth_9</td>\n",
       "      <td>0.918324</td>\n",
       "      <td>0.794702</td>\n",
       "    </tr>\n",
       "    <tr>\n",
       "      <th>5</th>\n",
       "      <td>forty_features_random_forest_min_samples_leaf_6_depth_2</td>\n",
       "      <td>0.745028</td>\n",
       "      <td>0.794702</td>\n",
       "    </tr>\n",
       "    <tr>\n",
       "      <th>6</th>\n",
       "      <td>thirty_features_random_forest_min_samples_leaf_4_depth_3</td>\n",
       "      <td>0.757812</td>\n",
       "      <td>0.794702</td>\n",
       "    </tr>\n",
       "    <tr>\n",
       "      <th>7</th>\n",
       "      <td>including_all_features_random_forest_min_samples_leaf_7_depth_6</td>\n",
       "      <td>0.824574</td>\n",
       "      <td>0.793046</td>\n",
       "    </tr>\n",
       "    <tr>\n",
       "      <th>8</th>\n",
       "      <td>including_all_features_random_forest_min_samples_leaf_3_depth_8</td>\n",
       "      <td>0.892756</td>\n",
       "      <td>0.793046</td>\n",
       "    </tr>\n",
       "    <tr>\n",
       "      <th>9</th>\n",
       "      <td>thirty_features_random_forest_min_samples_leaf_8_depth_4</td>\n",
       "      <td>0.775568</td>\n",
       "      <td>0.793046</td>\n",
       "    </tr>\n",
       "  </tbody>\n",
       "</table>\n",
       "</div>"
      ],
      "text/plain": [
       "                                                        model_name  \\\n",
       "0  including_all_features_random_forest_min_samples_leaf_5_depth_8   \n",
       "1  including_all_features_random_forest_min_samples_leaf_4_depth_5   \n",
       "2  including_all_features_random_forest_min_samples_leaf_3_depth_4   \n",
       "3  including_all_features_random_forest_min_samples_leaf_6_depth_3   \n",
       "4  including_all_features_random_forest_min_samples_leaf_3_depth_9   \n",
       "5          forty_features_random_forest_min_samples_leaf_6_depth_2   \n",
       "6         thirty_features_random_forest_min_samples_leaf_4_depth_3   \n",
       "7  including_all_features_random_forest_min_samples_leaf_7_depth_6   \n",
       "8  including_all_features_random_forest_min_samples_leaf_3_depth_8   \n",
       "9         thirty_features_random_forest_min_samples_leaf_8_depth_4   \n",
       "\n",
       "   train_score  validate_score  \n",
       "0     0.870028        0.801325  \n",
       "1     0.811790        0.799669  \n",
       "2     0.793324        0.796358  \n",
       "3     0.764205        0.794702  \n",
       "4     0.918324        0.794702  \n",
       "5     0.745028        0.794702  \n",
       "6     0.757812        0.794702  \n",
       "7     0.824574        0.793046  \n",
       "8     0.892756        0.793046  \n",
       "9     0.775568        0.793046  "
      ]
     },
     "execution_count": 206,
     "metadata": {},
     "output_type": "execute_result"
    }
   ],
   "source": [
    "score_df.head(10)"
   ]
  },
  {
   "cell_type": "code",
   "execution_count": 207,
   "id": "5ce51ee5",
   "metadata": {},
   "outputs": [],
   "source": [
    "#Select best performing model\n",
    "top_model = score_df.model_name[0]\n",
    "#Get best perfoming model name \n",
    "best_model = models_df.model[models_df.model_name == top_model].item()\n",
    "best_model_name = models_df.model_name[models_df.model_name == top_model].item()"
   ]
  },
  {
   "cell_type": "code",
   "execution_count": 208,
   "id": "9cb036cb",
   "metadata": {},
   "outputs": [
    {
     "data": {
      "text/plain": [
       "RandomForestClassifier(max_depth=8, min_samples_leaf=5)"
      ]
     },
     "execution_count": 208,
     "metadata": {},
     "output_type": "execute_result"
    }
   ],
   "source": [
    "best_model"
   ]
  },
  {
   "cell_type": "code",
   "execution_count": 209,
   "id": "2e7d6e5d",
   "metadata": {},
   "outputs": [
    {
     "data": {
      "text/plain": [
       "'including_all_features_random_forest_min_samples_leaf_5_depth_8'"
      ]
     },
     "execution_count": 209,
     "metadata": {},
     "output_type": "execute_result"
    }
   ],
   "source": [
    "best_model_name"
   ]
  },
  {
   "cell_type": "markdown",
   "id": "ba90ac34",
   "metadata": {},
   "source": [
    "### Model Comparison Takeaways\n",
    "Our best performing model is printed above. The best performing model may change depending on the iteration."
   ]
  },
  {
   "cell_type": "markdown",
   "id": "875fa77a",
   "metadata": {},
   "source": [
    "<a name='out_of_sample'></a>\n",
    "## Out of Sample Testing"
   ]
  },
  {
   "cell_type": "code",
   "execution_count": 210,
   "id": "561d5c83",
   "metadata": {},
   "outputs": [
    {
     "data": {
      "text/plain": [
       "RandomForestClassifier(max_depth=8, min_samples_leaf=5)"
      ]
     },
     "execution_count": 210,
     "metadata": {},
     "output_type": "execute_result"
    }
   ],
   "source": [
    "# Create the model\n",
    "rf= best_model\n",
    "\n",
    "# Fit the model\n",
    "rf.fit(o.X_train_dummies, o.y_train_dummies)"
   ]
  },
  {
   "cell_type": "code",
   "execution_count": 211,
   "id": "8ca0b4bd",
   "metadata": {},
   "outputs": [],
   "source": [
    "# Create and store predictions from the test data\n",
    "test_predictions = rf.predict(o.X_test_dummies)"
   ]
  },
  {
   "cell_type": "code",
   "execution_count": 212,
   "id": "7e783feb",
   "metadata": {},
   "outputs": [
    {
     "data": {
      "text/html": [
       "<div>\n",
       "<style scoped>\n",
       "    .dataframe tbody tr th:only-of-type {\n",
       "        vertical-align: middle;\n",
       "    }\n",
       "\n",
       "    .dataframe tbody tr th {\n",
       "        vertical-align: top;\n",
       "    }\n",
       "\n",
       "    .dataframe thead th {\n",
       "        text-align: right;\n",
       "    }\n",
       "</style>\n",
       "<table border=\"1\" class=\"dataframe\">\n",
       "  <thead>\n",
       "    <tr style=\"text-align: right;\">\n",
       "      <th></th>\n",
       "      <th>precision</th>\n",
       "      <th>recall</th>\n",
       "      <th>f1-score</th>\n",
       "      <th>support</th>\n",
       "    </tr>\n",
       "  </thead>\n",
       "  <tbody>\n",
       "    <tr>\n",
       "      <th>0</th>\n",
       "      <td>0.779720</td>\n",
       "      <td>0.793594</td>\n",
       "      <td>0.786596</td>\n",
       "      <td>281.000000</td>\n",
       "    </tr>\n",
       "    <tr>\n",
       "      <th>1</th>\n",
       "      <td>0.732719</td>\n",
       "      <td>0.716216</td>\n",
       "      <td>0.724374</td>\n",
       "      <td>222.000000</td>\n",
       "    </tr>\n",
       "    <tr>\n",
       "      <th>accuracy</th>\n",
       "      <td>0.759443</td>\n",
       "      <td>0.759443</td>\n",
       "      <td>0.759443</td>\n",
       "      <td>0.759443</td>\n",
       "    </tr>\n",
       "    <tr>\n",
       "      <th>macro avg</th>\n",
       "      <td>0.756220</td>\n",
       "      <td>0.754905</td>\n",
       "      <td>0.755485</td>\n",
       "      <td>503.000000</td>\n",
       "    </tr>\n",
       "    <tr>\n",
       "      <th>weighted avg</th>\n",
       "      <td>0.758976</td>\n",
       "      <td>0.759443</td>\n",
       "      <td>0.759134</td>\n",
       "      <td>503.000000</td>\n",
       "    </tr>\n",
       "  </tbody>\n",
       "</table>\n",
       "</div>"
      ],
      "text/plain": [
       "              precision    recall  f1-score     support\n",
       "0              0.779720  0.793594  0.786596  281.000000\n",
       "1              0.732719  0.716216  0.724374  222.000000\n",
       "accuracy       0.759443  0.759443  0.759443    0.759443\n",
       "macro avg      0.756220  0.754905  0.755485  503.000000\n",
       "weighted avg   0.758976  0.759443  0.759134  503.000000"
      ]
     },
     "execution_count": 212,
     "metadata": {},
     "output_type": "execute_result"
    }
   ],
   "source": [
    "# Compare actual is_pes values with our predicted is_pess values\n",
    "classification_report_test = pd.DataFrame(classification_report(o.y_test_dummies, test_predictions, output_dict = True)).T\n",
    "classification_report_test"
   ]
  },
  {
   "cell_type": "markdown",
   "id": "ec3f2e02",
   "metadata": {},
   "source": [
    "<a name='modeling_takeaways'></a>\n",
    "## Modeling Takeaways\n",
    "\n",
    "> - Big drivers of pessimism are public education and economics.\n",
    "> - Some other main drivers are job benefits and job security, race relations, standards of living, healthcare, and the country's world status are also very important to adults.\n",
    "> - We chose the most common result of the target column as our baseline with an accuracy of 55.75%.\n",
    "> - We ran over 200 variations of Decision Tree, Random Forest, K-Nearest Neighbor, and other models.\n",
    "> - Overall, the model with the best performances was the Random Forest.\n",
    "    - `max_depth` = 8\n",
    "    - `min_samples_leaf` = 8\n",
    "> - Accuracy:\n",
    "    - `train` (In-sample) = 92.05%\n",
    "    - `validate` (Out-of-sample) = 80.46%\n",
    "    - `test` (Out-of-sample) = 76.54%\n",
    "\n",
    "\n",
    "<div style=\"text-align: right\"><a href='#toc'>Table of Contents</a></div>\n",
    "<hr style=\"border-top: 10px groove tan; margin-top: 1px; margin-bottom: 1px\"></hr>"
   ]
  },
  {
   "cell_type": "markdown",
   "id": "afb41004",
   "metadata": {},
   "source": [
    "<a name='delivery'></a>\n",
    "# Project Delivery\n",
    "✓ _Plan_ ➜ ✓ _Acquire_ ➜ ✓ _Prepare_ ➜ ✓ _Explore_ ➜ ✓ _Model_ ➜ 🟢 **Deliver**\n",
    "\n",
    "> - Currently we are achieving an Out-of-sample accuracy of ~76% on our `test` data and we believe with further feature engineering and hyper-parameter optimization we could achieve a higher accuracy. \n",
    "\n",
    "<a name='conclusion_and_next_steps'></a>\n",
    "\n",
    "## Conclusion and Next Steps\n",
    "> - While it appeared that there may have been a significant difference between the genders and their pessimisim, it was not result in this instance. \n",
    "> Additionally, our other potential observation, that there would be a significant difference in the pessimisim reletive to income, it was again not the result in this instance.\n",
    "> - The next step is to continue finalizing the work and ensuring our work is throughly documented.\n",
    "> - With more time we will continue examining multiple different feature combinations and test for significance from these observations.\n",
    "\n",
    "<a name='replication'></a>\n",
    "## Project Replication\n",
    "\n",
    "> - Statistical data can be downloaded from <a href=\"https://www.kaggle.com/shankanater/american-trends-panel-pewresearch/download\">here</a>.\n",
    "> - You can read the SPSS Statistic data file with `pandas.read_spss(\"ATP W41.sav\")`\n",
    "\n",
    "<a name='data_use'></a>\n",
    "## Data Use Agreements\n",
    "\n",
    "> - The source of the data with express reference to the center in accordance with the following citation: “Pew Research Center’s American Trends Panel”\n",
    "> - Any hypothesis, insight and or result within this project in no way implies or suggests as attributing a particular policy or lobbying objective or opinion to the Center, and\n",
    "> - “The opinions expressed herein, including any implications for policy, are those of the author and not of Pew Research Center.”\n",
    "> - Information on The American Trends Panel (ATP) can be found at <a href=\"https://www.pewresearch.org/our-methods/u-s-surveys/the-american-trends-panel/\">The American Trends Panel</a>\n",
    "> - More information on these user agreements can be found at <a href=\"https://www.pewresearch.org/about/terms-and-conditions/\">Pew Research</a>.\n",
    "\n",
    "\n",
    "\n",
    "<div style=\"text-align: right\"><a href='#toc'>Table of Contents</a></div>\n",
    "<hr style=\"border-top: 10px groove tan; margin-top: 1px; margin-bottom: 1px\"></hr>"
   ]
  },
  {
   "cell_type": "code",
   "execution_count": 75,
   "id": "c4051d07",
   "metadata": {},
   "outputs": [
    {
     "data": {
      "text/html": [
       "<style>\n",
       "table {margin-left: 0 !important;}\n",
       "</style>\n"
      ],
      "text/plain": [
       "<IPython.core.display.HTML object>"
      ]
     },
     "metadata": {},
     "output_type": "display_data"
    }
   ],
   "source": [
    "%%html\n",
    "<style>\n",
    "table {margin-left: 0 !important;}\n",
    "</style>"
   ]
  }
 ],
 "metadata": {
  "kernelspec": {
   "display_name": "Python 3",
   "language": "python",
   "name": "python3"
  },
  "language_info": {
   "codemirror_mode": {
    "name": "ipython",
    "version": 3
   },
   "file_extension": ".py",
   "mimetype": "text/x-python",
   "name": "python",
   "nbconvert_exporter": "python",
   "pygments_lexer": "ipython3",
   "version": "3.8.8"
  }
 },
 "nbformat": 4,
 "nbformat_minor": 5
}
