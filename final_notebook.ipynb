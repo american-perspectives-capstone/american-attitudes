{
 "cells": [
  {
   "cell_type": "markdown",
   "id": "6c91d650",
   "metadata": {},
   "source": [
    "<center><h1>Is America’s Glass Half-Empty? Discovering drivers of America’s prospective thinking.</center>\n",
    "\n",
    "\n",
    "#### Authors: <a href=\"https://github.com/Alexia-Garces\">Alexia Garces</a>, <a href=\"https://github.com/Brooke-Holyoak\">Brooke Holyoak</a>, <a href=\"https://github.com/CharlesAtchison\">Charles Atchison</a>, <a href=\"https://github.com/Jason-Tellez\">Jason Tellez</a>, <a href=\"https://github.com/malachi-hale\">Malachi Hale</a>\n",
    "\n",
    "<a name ='toc'></a>\n",
    "# Table of Contents \n",
    "1. [Project Planning](#project_planning)\n",
    "    1. [Project Objectives](#project_objectives)\n",
    "    2. [Business Goals](#business_goals)\n",
    "    3. [Audience](#audience)\n",
    "    4. [Deliverables](#deliverables)\n",
    "2. [Executive Summary](#exe_sum)\n",
    "    1. [Goals](#goals)\n",
    "    2. [Findings](#findings)\n",
    "3. [Import Required Modules](#imports)\n",
    "3. [Acquire Data](#acquire)\n",
    "    1. [Working with American Trends Panel Data](#working_with_data)\n",
    "    2. [Data Dictonary](#data_dict) \n",
    "    3. [Acquire Takeaways](#acquire_takeaways)\n",
    "4. [Prepare Data](#prepare)\n",
    "    1. [Data Attributes](#data_attributes)\n",
    "    2. [Prepare Takeaways](#prepare_takeaways)\n",
    "5. [Data Exploration](#explore)\n",
    "    1. [Hypothesis & Testing](#hypotheses)\n",
    "    2. [Explore by Gender](#gender)\n",
    "    3. [Explore by Political Party](#political)\n",
    "    4. [Explore by Income Level](#income)\n",
    "    5. [Explore by Education Level](#education)\n",
    "    6. [Clustering](#clustering)\n",
    "    7. [Explore Takeaways](#explore_takeaways)\n",
    "6. [Modeling & Evaluation](#modeling)\n",
    "    1. [Baseline](#baseline)\n",
    "    2. [Decision Tree](#decision_tree)\n",
    "    3. [Random Forest](#random_forest)\n",
    "    4. [K Nearest Neighbors](#knn)\n",
    "    5. [Other Models](#other_models)\n",
    "    6. [Feature Importance](#feature_importance)\n",
    "    7. [Modeling with just the top features](#top)\n",
    "    9. [Model Comparison](#model_comparison)\n",
    "    10. [Out of Sample Testing](#out_of_sample)\n",
    "    11. [Modeling the Gender Subsets](#gender_modeling)\n",
    "    12. [Modeling the Political Party Subsets](#political_modeling)\n",
    "    13. [Modeling the Income Level Subsets](#income_modeling)\n",
    "    14. [Modeling the Education Level Subsets](#education_modeling) \n",
    "    15. [Modeling Takeaways](#modeling_takeaways)\n",
    "7. [Project Delivery](#delivery)\n",
    "    1. [Conclusion & Next Steps](#conclusion_and_next_steps)\n",
    "    2. [Project Replication](#replicate)\n",
    "    3. [Data Use Agreements](#data_use)\n",
    "\n",
    "<hr style=\"border-top: 10px groove tan; margin-top: 5px; margin-bottom: 5px\"></hr>"
   ]
  },
  {
   "cell_type": "markdown",
   "id": "546f373f",
   "metadata": {},
   "source": [
    "<a name='project_planning'></a>\n",
    "# Project Planning\n",
    "✓ 🟢 **Plan** ➜ ☐ _Acquire_ ➜ ☐ _Prepare_ ➜ ☐ _Explore_ ➜ ☐ _Model_ ➜ ☐ _Deliver_\n",
    "\n",
    "<a name='project_objectives'></a>\n",
    "## Project Objectives \n",
    "> - Utilize American Trends Panel Datasets (downloadable <a href=\"https://www.kaggle.com/shankanater/american-trends-panel-pewresearch/download\">here</a>), with statistical modeling techniques to assess and attempt to predict sentiment toward particular topics.\n",
    "> - This will culminate in a well-built well-documented jupyter notebook that contains our process and derivation of these predictions.\n",
    "> - Modules will be created that abstract minute aspects of the data pipeline process.\n",
    "\n",
    "<a name='business_goals'></a>\n",
    "## Business Goals \n",
    "> - Utilize tabulated statistical data aquired from Pew Research American Trends Surveys.\n",
    "> - Prepare, explore and formulate hypotheses about the data.\n",
    "> - Build models that can predict future American sentiment toward certain topics, and utilize hyperparameter optimization and feature engineering to improve validation model performance prior to evaluating on test data.\n",
    "> - Document all these steps throughly.\n",
    "\n",
    "<a name='audience'></a>\n",
    "## Audience \n",
    "> - General population and individuals without specific knowledge or understanding of the topic or subject.\n",
    "\n",
    "<a name='deliverables'></a>\n",
    "## Deliverables\n",
    "> - A clearly named final notebook. This notebook will contain more detailed processes other than noted within the README and have abstracted scripts to assist on readability.\n",
    "> - A `README.md` that explains what the project is, how to reproduce the project, and notes about the project.\n",
    "> - A Python module and associated modules that automate the data acquisition and preparation process. \n",
    "\n",
    "<div style=\"text-align: right\"><a href='#toc'>Table of Contents</a></div>\n",
    "<hr style=\"border-top: 10px groove tan; margin-top: 1px; margin-bottom: 1px\"></hr>\n"
   ]
  },
  {
   "cell_type": "markdown",
   "id": "8ad0eddf",
   "metadata": {},
   "source": [
    "<a name='exe_sum'></a>\n",
    "# Executive Summary\n",
    "> - Our team acquired Pew Research Panel survey data and utilized this data to explore the drivers of pessimism in American Prospective Attitudes.\n",
    "> - Being able to understand what most likely drives pessimistic or optimistic thinking about the future will help business leaders clarify strategies for moving foward.\n",
    "> - This project will also help guide expectations of future success in the customers these business leaders serve, in addition to the products offered, investment, marketing and sales, and other aspects throughout their organization. \n",
    "\n",
    "<a name='goals'></a>\n",
    "## Goals\n",
    "> - Build a model that can predict future American sentiment toward certain topics, utilizing split survey data as the training dataset.\n",
    "\n",
    "<a name='findings'></a>\n",
    "## Findings\n",
    "> - Standard demographic features like age, sex, and income are not drivers of overall pessimism. However, features like what will happen to the average family's standard of living, cost of healthcare, and the future of the public education system are highly correlated with overall pessimism.\n",
    "\n",
    "<div style=\"text-align: right\"><a href='#toc'>Table of Contents</a></div>\n",
    "<hr style=\"border-top: 10px groove tan; margin-top: 1px; margin-bottom: 1px\"></hr>\n"
   ]
  },
  {
   "cell_type": "markdown",
   "id": "534b90d0",
   "metadata": {},
   "source": [
    "<a name='imports'></a>\n",
    "# Import Required Modules"
   ]
  },
  {
   "cell_type": "code",
   "execution_count": 1,
   "id": "289aea49",
   "metadata": {},
   "outputs": [],
   "source": [
    "import pandas as pd\n",
    "import numpy as np\n",
    "# supress scientific notation\n",
    "np.set_printoptions(suppress=True)\n",
    "from scipy import stats\n",
    "\n",
    "#set seaborn color pallete\n",
    "import seaborn as sns\n",
    "import matplotlib.pyplot as plt\n",
    "sns.set_palette('plasma')\n",
    "pal = sns.set_palette('plasma')\n",
    "\n",
    "# This module displays Markdown and helps with visability within Juypter Notebooks\n",
    "from IPython.display import Markdown, display, HTML\n",
    "\n",
    "# Import Clustering\n",
    "from sklearn.cluster import KMeans\n",
    "\n",
    "# Import models\n",
    "from sklearn.tree import DecisionTreeClassifier\n",
    "from sklearn.naive_bayes import MultinomialNB\n",
    "from sklearn.ensemble import RandomForestClassifier\n",
    "from sklearn.svm import LinearSVC\n",
    "from sklearn.neighbors import KNeighborsClassifier\n",
    "from sklearn.linear_model import LogisticRegression\n",
    "\n",
    "# Import Metrics\n",
    "from sklearn.metrics import (\n",
    "    classification_report, confusion_matrix,\n",
    "    recall_score, plot_confusion_matrix)\n",
    "\n",
    "#Disable Warnings \n",
    "import warnings\n",
    "warnings.filterwarnings('ignore')\n",
    "\n",
    "#Import functions\n",
    "import acquire as a\n",
    "import prepare as p\n",
    "import explore as e\n",
    "import model as m"
   ]
  },
  {
   "cell_type": "markdown",
   "id": "f654d76d",
   "metadata": {},
   "source": [
    "<div style=\"text-align: right\"><a href='#toc'>Table of Contents</a></div>\n",
    "<hr style=\"border-top: 10px groove tan; margin-top: 1px; margin-bottom: 1px\"></hr>"
   ]
  },
  {
   "cell_type": "markdown",
   "id": "7f7cf67c",
   "metadata": {},
   "source": [
    "<a name='acquire'></a>\n",
    "# Acquire Data\n",
    "✓ _Plan_ ➜ 🟢 **Acquire** ➜ ☐ _Prepare_ ➜ ☐ _Explore_ ➜ ☐ _Model_ ➜ ☐ _Deliver_\n",
    "\n",
    "> - Check if the \"ATP W41.sav\" Statistical SPSS file is within the current directory.\n",
    "> - If the data is not present within the current directory, you can download it from <a href=\"https://www.kaggle.com/shankanater/american-trends-panel-pewresearch/download\">here</a> \n",
    "> - If the data is present, read the data into a Pandas DataFrame and return the data as `atp_df`.\n"
   ]
  },
  {
   "cell_type": "markdown",
   "id": "3237f675",
   "metadata": {},
   "source": [
    "<a name=\"working_with_data\"></a>\n",
    "## Working with American Trends Panel Data \n",
    "\n",
    "### Demographic Profile Variables\n",
    "> Each ATP dataset comes with a number of variables prefixed by “F_” (for “frame”) that contain demographic profile data. These variables are not measured every wave; instead, they are sourced from panel profile surveys conducted on a less frequent basis. Some profile variables are also occasionally asked on panel waves and are accordingly updated for each panelist. Profile information is based on panelists’ most recent response to the profile questions. Some variables are coarsened to help protect the confidentiality of our panelists. Interviewer instructions in `[ ]` and voluntary responses in `( )` are included if the source of a profile variable was ever presented in phone (CATI) mode. See Appendix I for the profile variable codebook.\n",
    "\n",
    "###  Unique Identifier\n",
    "> The variable `QKEY` is a unique identifier assigned to each respondent. `QKEY` can be used to link multiple panel waves together. Note that except in a few instances, `WEIGHT_W41` are only provided for single waves. Use caution when analyzing data from multiple waves without weights that are designed for use with multiple waves.\n",
    "\n",
    "### Data Variable Types\n",
    " > American Trends Panel datasets contain single-punch or multi-punch variables. For questions in a 'Check all that apply' format, each option has its own variable indicating whether a respondent selected the item or not. For some datasets there is an additional variable indicating whether a respondent did not select any of the options. Open-end string variables are not included in ATP datasets. Coded responses to open-end questions are included when available.\n",
    "\n",
    "### Dataset Format\n",
    "> The dataset is formatted as a .sav file and can be read with the SPSS software program. The dataset can also be read with the R programming language, using the `foreign` package. R is a free, open-source program for statistical analysis that can be downloaded <a href=\"https://cran.r-project.org/\">here</a>. It can also be used to export data in .csv format for use with other software programs.\n",
    "\n",
    "> **NOTE**: Using other tools to directly convert the .sav file to another format such as .csv may ERASE value\n",
    "labels. For this reason, it is highly recommended that you use either SPSS or R to read the file directly.\n"
   ]
  },
  {
   "cell_type": "code",
   "execution_count": 2,
   "id": "d9824049",
   "metadata": {},
   "outputs": [
    {
     "data": {
      "text/html": [
       "<div>\n",
       "<style scoped>\n",
       "    .dataframe tbody tr th:only-of-type {\n",
       "        vertical-align: middle;\n",
       "    }\n",
       "\n",
       "    .dataframe tbody tr th {\n",
       "        vertical-align: top;\n",
       "    }\n",
       "\n",
       "    .dataframe thead th {\n",
       "        text-align: right;\n",
       "    }\n",
       "</style>\n",
       "<table border=\"1\" class=\"dataframe\">\n",
       "  <thead>\n",
       "    <tr style=\"text-align: right;\">\n",
       "      <th></th>\n",
       "      <th>QKEY</th>\n",
       "      <th>NEW_Device_Type_W41</th>\n",
       "      <th>F_LANGUAGE</th>\n",
       "      <th>FORM_W41</th>\n",
       "      <th>OPTIMIST_W41</th>\n",
       "      <th>AVGFAM_W41</th>\n",
       "      <th>HAPPENa_W41</th>\n",
       "      <th>HAPPENb_W41</th>\n",
       "      <th>HAPPENc_W41</th>\n",
       "      <th>HAPPENd_W41</th>\n",
       "      <th>...</th>\n",
       "      <th>F_PARTY_FINAL</th>\n",
       "      <th>F_PARTYLN_FINAL</th>\n",
       "      <th>F_PARTYSUM_FINAL</th>\n",
       "      <th>F_INCOME</th>\n",
       "      <th>F_INCOME_RECODE</th>\n",
       "      <th>F_REG</th>\n",
       "      <th>F_IDEO</th>\n",
       "      <th>F_INTUSER</th>\n",
       "      <th>F_VOLSUM</th>\n",
       "      <th>WEIGHT_W41</th>\n",
       "    </tr>\n",
       "  </thead>\n",
       "  <tbody>\n",
       "    <tr>\n",
       "      <th>0</th>\n",
       "      <td>100363.0</td>\n",
       "      <td>Mobile phone</td>\n",
       "      <td>English</td>\n",
       "      <td>Form 1</td>\n",
       "      <td>Somewhat optimistic</td>\n",
       "      <td>Get worse</td>\n",
       "      <td>The U.S. economy will be STRONGER</td>\n",
       "      <td>Health care will be MORE affordable</td>\n",
       "      <td>Race relations will IMPROVE</td>\n",
       "      <td>The U.S. will be MORE important in the world</td>\n",
       "      <td>...</td>\n",
       "      <td>Democrat</td>\n",
       "      <td>NaN</td>\n",
       "      <td>Dem/Lean Dem</td>\n",
       "      <td>$100,000 to less than $150,000</td>\n",
       "      <td>$75,000+</td>\n",
       "      <td>You are ABSOLUTELY CERTAIN that you are regist...</td>\n",
       "      <td>Liberal</td>\n",
       "      <td>Internet User</td>\n",
       "      <td>No</td>\n",
       "      <td>0.599006</td>\n",
       "    </tr>\n",
       "    <tr>\n",
       "      <th>1</th>\n",
       "      <td>101224.0</td>\n",
       "      <td>Mobile phone</td>\n",
       "      <td>English</td>\n",
       "      <td>Form 1</td>\n",
       "      <td>Somewhat optimistic</td>\n",
       "      <td>Get better</td>\n",
       "      <td>The U.S. economy will be STRONGER</td>\n",
       "      <td>Health care will be LESS affordable</td>\n",
       "      <td>Race relations will IMPROVE</td>\n",
       "      <td>The U.S. will be MORE important in the world</td>\n",
       "      <td>...</td>\n",
       "      <td>Republican</td>\n",
       "      <td>NaN</td>\n",
       "      <td>Rep/Lean Rep</td>\n",
       "      <td>$40,000 to less than $50,000</td>\n",
       "      <td>$30-$74,999</td>\n",
       "      <td>You are ABSOLUTELY CERTAIN that you are regist...</td>\n",
       "      <td>Conservative</td>\n",
       "      <td>Internet User</td>\n",
       "      <td>Yes</td>\n",
       "      <td>0.292981</td>\n",
       "    </tr>\n",
       "    <tr>\n",
       "      <th>2</th>\n",
       "      <td>101437.0</td>\n",
       "      <td>Desktop</td>\n",
       "      <td>English</td>\n",
       "      <td>Form 1</td>\n",
       "      <td>Somewhat pessimistic</td>\n",
       "      <td>Get worse</td>\n",
       "      <td>The U.S. economy will be WEAKER</td>\n",
       "      <td>Health care will be LESS affordable</td>\n",
       "      <td>Race relations will GET WORSE</td>\n",
       "      <td>The U.S. will be LESS important in the world</td>\n",
       "      <td>...</td>\n",
       "      <td>Republican</td>\n",
       "      <td>NaN</td>\n",
       "      <td>Rep/Lean Rep</td>\n",
       "      <td>$10,000 to less than $20,000</td>\n",
       "      <td>&lt;$30,000</td>\n",
       "      <td>You are ABSOLUTELY CERTAIN that you are regist...</td>\n",
       "      <td>Conservative</td>\n",
       "      <td>Internet User</td>\n",
       "      <td>No</td>\n",
       "      <td>0.418871</td>\n",
       "    </tr>\n",
       "    <tr>\n",
       "      <th>3</th>\n",
       "      <td>102130.0</td>\n",
       "      <td>Mobile phone</td>\n",
       "      <td>English</td>\n",
       "      <td>Form 1</td>\n",
       "      <td>Somewhat optimistic</td>\n",
       "      <td>Stay about the same</td>\n",
       "      <td>The U.S. economy will be WEAKER</td>\n",
       "      <td>Health care will be LESS affordable</td>\n",
       "      <td>Race relations will IMPROVE</td>\n",
       "      <td>The U.S. will be LESS important in the world</td>\n",
       "      <td>...</td>\n",
       "      <td>Independent</td>\n",
       "      <td>Refused</td>\n",
       "      <td>DK/Refused/No lean</td>\n",
       "      <td>Refused</td>\n",
       "      <td>Don't know/Refused</td>\n",
       "      <td>You are ABSOLUTELY CERTAIN that you are regist...</td>\n",
       "      <td>Moderate</td>\n",
       "      <td>Non Internet User</td>\n",
       "      <td>Yes</td>\n",
       "      <td>0.342058</td>\n",
       "    </tr>\n",
       "    <tr>\n",
       "      <th>4</th>\n",
       "      <td>103094.0</td>\n",
       "      <td>Mobile phone</td>\n",
       "      <td>English</td>\n",
       "      <td>Form 1</td>\n",
       "      <td>Somewhat optimistic</td>\n",
       "      <td>Stay about the same</td>\n",
       "      <td>Refused</td>\n",
       "      <td>Health care will be LESS affordable</td>\n",
       "      <td>Refused</td>\n",
       "      <td>The U.S. will be LESS important in the world</td>\n",
       "      <td>...</td>\n",
       "      <td>Something else</td>\n",
       "      <td>Refused</td>\n",
       "      <td>DK/Refused/No lean</td>\n",
       "      <td>$20,000 to less than $30,000</td>\n",
       "      <td>&lt;$30,000</td>\n",
       "      <td>You are NOT registered to vote at your current...</td>\n",
       "      <td>Liberal</td>\n",
       "      <td>Internet User</td>\n",
       "      <td>Yes</td>\n",
       "      <td>0.329465</td>\n",
       "    </tr>\n",
       "  </tbody>\n",
       "</table>\n",
       "<p>5 rows × 124 columns</p>\n",
       "</div>"
      ],
      "text/plain": [
       "       QKEY NEW_Device_Type_W41 F_LANGUAGE FORM_W41          OPTIMIST_W41  \\\n",
       "0  100363.0        Mobile phone    English   Form 1   Somewhat optimistic   \n",
       "1  101224.0        Mobile phone    English   Form 1   Somewhat optimistic   \n",
       "2  101437.0             Desktop    English   Form 1  Somewhat pessimistic   \n",
       "3  102130.0        Mobile phone    English   Form 1   Somewhat optimistic   \n",
       "4  103094.0        Mobile phone    English   Form 1   Somewhat optimistic   \n",
       "\n",
       "            AVGFAM_W41                        HAPPENa_W41  \\\n",
       "0            Get worse  The U.S. economy will be STRONGER   \n",
       "1           Get better  The U.S. economy will be STRONGER   \n",
       "2            Get worse    The U.S. economy will be WEAKER   \n",
       "3  Stay about the same    The U.S. economy will be WEAKER   \n",
       "4  Stay about the same                            Refused   \n",
       "\n",
       "                           HAPPENb_W41                    HAPPENc_W41  \\\n",
       "0  Health care will be MORE affordable    Race relations will IMPROVE   \n",
       "1  Health care will be LESS affordable    Race relations will IMPROVE   \n",
       "2  Health care will be LESS affordable  Race relations will GET WORSE   \n",
       "3  Health care will be LESS affordable    Race relations will IMPROVE   \n",
       "4  Health care will be LESS affordable                        Refused   \n",
       "\n",
       "                                    HAPPENd_W41  ...   F_PARTY_FINAL  \\\n",
       "0  The U.S. will be MORE important in the world  ...        Democrat   \n",
       "1  The U.S. will be MORE important in the world  ...      Republican   \n",
       "2  The U.S. will be LESS important in the world  ...      Republican   \n",
       "3  The U.S. will be LESS important in the world  ...     Independent   \n",
       "4  The U.S. will be LESS important in the world  ...  Something else   \n",
       "\n",
       "  F_PARTYLN_FINAL    F_PARTYSUM_FINAL                        F_INCOME  \\\n",
       "0             NaN        Dem/Lean Dem  $100,000 to less than $150,000   \n",
       "1             NaN        Rep/Lean Rep    $40,000 to less than $50,000   \n",
       "2             NaN        Rep/Lean Rep    $10,000 to less than $20,000   \n",
       "3         Refused  DK/Refused/No lean                         Refused   \n",
       "4         Refused  DK/Refused/No lean    $20,000 to less than $30,000   \n",
       "\n",
       "      F_INCOME_RECODE                                              F_REG  \\\n",
       "0            $75,000+  You are ABSOLUTELY CERTAIN that you are regist...   \n",
       "1         $30-$74,999  You are ABSOLUTELY CERTAIN that you are regist...   \n",
       "2            <$30,000  You are ABSOLUTELY CERTAIN that you are regist...   \n",
       "3  Don't know/Refused  You are ABSOLUTELY CERTAIN that you are regist...   \n",
       "4            <$30,000  You are NOT registered to vote at your current...   \n",
       "\n",
       "         F_IDEO          F_INTUSER F_VOLSUM WEIGHT_W41  \n",
       "0       Liberal      Internet User       No   0.599006  \n",
       "1  Conservative      Internet User      Yes   0.292981  \n",
       "2  Conservative      Internet User       No   0.418871  \n",
       "3      Moderate  Non Internet User      Yes   0.342058  \n",
       "4       Liberal      Internet User      Yes   0.329465  \n",
       "\n",
       "[5 rows x 124 columns]"
      ]
     },
     "execution_count": 2,
     "metadata": {},
     "output_type": "execute_result"
    }
   ],
   "source": [
    "# get atp_w41_spss data\n",
    "atp_df = a.get_atp_w41_spss_data()\n",
    "# Inspect the truncated dataframe\n",
    "atp_df.head()"
   ]
  },
  {
   "cell_type": "code",
   "execution_count": 3,
   "id": "08bca979",
   "metadata": {},
   "outputs": [
    {
     "data": {
      "text/plain": [
       "(2524, 124)"
      ]
     },
     "execution_count": 3,
     "metadata": {},
     "output_type": "execute_result"
    }
   ],
   "source": [
    "#Look at the shape of the newly acquired DataFrame\n",
    "atp_df.shape"
   ]
  },
  {
   "cell_type": "markdown",
   "id": "593f12c8",
   "metadata": {},
   "source": [
    "<a name='data_dict'></a>\n",
    "## DataFrame Dictionary\n",
    "\n",
    "> - Data Dictionary can be viewed <a href=\"data_dictionary.md\">here</a>"
   ]
  },
  {
   "cell_type": "markdown",
   "id": "cbf053dc",
   "metadata": {},
   "source": [
    "<a name='acquire_takeaways'></a>\n",
    "## Takeaways from Acquire:\n",
    "> - We acquired a DataFrame from a Pew Research Panel survey which contained 2524 observations and 124 columns.\n",
    ">\n",
    ">\n",
    "> - Each row represents an individual American adult and his or her responses to the survey questions.\n",
    ">\n",
    ">\n",
    "> - Of our 124 columns, 2 are continuous and numeric: `qkey` and `weight`. The remaining 122 columns are categorical features. \n",
    ">    - The `weight` column indicates the corresponding survey weight of each respondent in the sample. The survey weight indicates how representative an observation is of the total population.\n",
    ">\n",
    ">\n",
    "> - The survey results provide us with information regarding each respondent's views about the future of the United States. In addition, the acquired dataset contains demographic data for each respondent, including gender, race, income level, and political affiliation.\n",
    "<div style=\"text-align: right\"><a href='#toc'>Table of Contents</a></div>\n",
    "<hr style=\"border-top: 10px groove tan; margin-top: 1px; margin-bottom: 1px\"></hr>"
   ]
  },
  {
   "cell_type": "markdown",
   "id": "6e2b5bf6",
   "metadata": {},
   "source": [
    "<a name='prepare'></a>\n",
    "# Prepare Data\n",
    "✓ _Plan_ ➜ ✓ _Acquire_ ➜ 🟢 **Prepare** ➜ ☐ _Explore_ ➜ ☐ _Model_ ➜ ☐ _Deliver_\n",
    "\n",
    "> We will import our `prepare.py` file, which performs a series of steps to clean and prepare our data: \n",
    ">\n",
    "> - **First**, we convert the categorical features in the DataFrame to objects.     \n",
    ">\n",
    "> - **Second**, because our target variable will be the respondents' prospective thinking, we drop rows for which the respondent refused to answer the question about prospective thinking in the column `OPTIMISMT_W41`.  \n",
    ">\n",
    "> - **Third**, we rename the columns as indicated by our data dictionary above.     \n",
    ">\n",
    "> - **Fourth**, from the column `OPTIMIST_W41`, we create new columns `is_pes`, `pes_val`, `is_very_pes`, and `is_very_opt`.  \n",
    "    - The column `is_pes` introduces a Boolean value where 1 indicates a pessimistic outlook and is 0 indicates an optimistic outlook. \n",
    "    - The column `pes_val` ranks a respondent's pessisism, with 0 being the least pessismistic and 3 being the most pessimistic. \n",
    "    - The column `is_very_pes` introduces a Boolean value where 1 indicates a very pessimistic outlook and 0 indicates a somewhat pessimistic, somewhat optimistic, or very optimistic outlook. \n",
    "    - The column `is_very_opt` introduces a Boolean value where 1 indicates a very optimistic outlook and 0 indicates a somewhat optimistic, somewhat pessimistic, or very pessimistic outlook. \n",
    ">\n",
    "> - **Fifth**, we create a `replace_key` which transforms every response in the categorical columns to a corresponding numeric value. We also introduce a `revert_key` which reverts the numeric values back to the original string responses.   \n",
    ">\n",
    "> - **Finally**, we convert the column indicating the unique identity of each respondent `QKEY` to an integer. \n",
    ">\n",
    ">\n",
    "> Additionally, we split the data into `train`, `validate`, and `test` datasets, stratifying on the target feature `is_pes`."
   ]
  },
  {
   "cell_type": "markdown",
   "id": "6ce64a78",
   "metadata": {},
   "source": [
    "<a name='data_attributes'></a>\n",
    "## Data Attributes"
   ]
  },
  {
   "cell_type": "code",
   "execution_count": 4,
   "id": "c9c7c860",
   "metadata": {
    "scrolled": false
   },
   "outputs": [
    {
     "data": {
      "text/html": [
       "<div>\n",
       "<style scoped>\n",
       "    .dataframe tbody tr th:only-of-type {\n",
       "        vertical-align: middle;\n",
       "    }\n",
       "\n",
       "    .dataframe tbody tr th {\n",
       "        vertical-align: top;\n",
       "    }\n",
       "\n",
       "    .dataframe thead th {\n",
       "        text-align: right;\n",
       "    }\n",
       "</style>\n",
       "<table border=\"1\" class=\"dataframe\">\n",
       "  <thead>\n",
       "    <tr style=\"text-align: right;\">\n",
       "      <th></th>\n",
       "      <th>qkey</th>\n",
       "      <th>device_type</th>\n",
       "      <th>language</th>\n",
       "      <th>form</th>\n",
       "      <th>attitude</th>\n",
       "      <th>avg_family</th>\n",
       "      <th>happen_general</th>\n",
       "      <th>happen_health</th>\n",
       "      <th>happen_race</th>\n",
       "      <th>happen_usa</th>\n",
       "      <th>...</th>\n",
       "      <th>family_income_three_categories</th>\n",
       "      <th>registered_to_vote</th>\n",
       "      <th>political_views</th>\n",
       "      <th>internet_access</th>\n",
       "      <th>volunteer</th>\n",
       "      <th>weight</th>\n",
       "      <th>is_pes</th>\n",
       "      <th>pes_val</th>\n",
       "      <th>is_very_pes</th>\n",
       "      <th>is_very_opt</th>\n",
       "    </tr>\n",
       "  </thead>\n",
       "  <tbody>\n",
       "    <tr>\n",
       "      <th>0</th>\n",
       "      <td>100363</td>\n",
       "      <td>Mobile phone</td>\n",
       "      <td>English</td>\n",
       "      <td>Form 1</td>\n",
       "      <td>Somewhat optimistic</td>\n",
       "      <td>Get worse</td>\n",
       "      <td>The U.S. economy will be STRONGER</td>\n",
       "      <td>Health care will be MORE affordable</td>\n",
       "      <td>Race relations will IMPROVE</td>\n",
       "      <td>The U.S. will be MORE important in the world</td>\n",
       "      <td>...</td>\n",
       "      <td>$75,000+</td>\n",
       "      <td>You are ABSOLUTELY CERTAIN that you are regist...</td>\n",
       "      <td>Liberal</td>\n",
       "      <td>Internet User</td>\n",
       "      <td>No</td>\n",
       "      <td>0.599006</td>\n",
       "      <td>0</td>\n",
       "      <td>1</td>\n",
       "      <td>0</td>\n",
       "      <td>0</td>\n",
       "    </tr>\n",
       "    <tr>\n",
       "      <th>1</th>\n",
       "      <td>101224</td>\n",
       "      <td>Mobile phone</td>\n",
       "      <td>English</td>\n",
       "      <td>Form 1</td>\n",
       "      <td>Somewhat optimistic</td>\n",
       "      <td>Get better</td>\n",
       "      <td>The U.S. economy will be STRONGER</td>\n",
       "      <td>Health care will be LESS affordable</td>\n",
       "      <td>Race relations will IMPROVE</td>\n",
       "      <td>The U.S. will be MORE important in the world</td>\n",
       "      <td>...</td>\n",
       "      <td>$30-$74,999</td>\n",
       "      <td>You are ABSOLUTELY CERTAIN that you are regist...</td>\n",
       "      <td>Conservative</td>\n",
       "      <td>Internet User</td>\n",
       "      <td>Yes</td>\n",
       "      <td>0.292981</td>\n",
       "      <td>0</td>\n",
       "      <td>1</td>\n",
       "      <td>0</td>\n",
       "      <td>0</td>\n",
       "    </tr>\n",
       "    <tr>\n",
       "      <th>2</th>\n",
       "      <td>101437</td>\n",
       "      <td>Desktop</td>\n",
       "      <td>English</td>\n",
       "      <td>Form 1</td>\n",
       "      <td>Somewhat pessimistic</td>\n",
       "      <td>Get worse</td>\n",
       "      <td>The U.S. economy will be WEAKER</td>\n",
       "      <td>Health care will be LESS affordable</td>\n",
       "      <td>Race relations will GET WORSE</td>\n",
       "      <td>The U.S. will be LESS important in the world</td>\n",
       "      <td>...</td>\n",
       "      <td>&lt;$30,000</td>\n",
       "      <td>You are ABSOLUTELY CERTAIN that you are regist...</td>\n",
       "      <td>Conservative</td>\n",
       "      <td>Internet User</td>\n",
       "      <td>No</td>\n",
       "      <td>0.418871</td>\n",
       "      <td>1</td>\n",
       "      <td>2</td>\n",
       "      <td>0</td>\n",
       "      <td>0</td>\n",
       "    </tr>\n",
       "    <tr>\n",
       "      <th>3</th>\n",
       "      <td>102130</td>\n",
       "      <td>Mobile phone</td>\n",
       "      <td>English</td>\n",
       "      <td>Form 1</td>\n",
       "      <td>Somewhat optimistic</td>\n",
       "      <td>Stay about the same</td>\n",
       "      <td>The U.S. economy will be WEAKER</td>\n",
       "      <td>Health care will be LESS affordable</td>\n",
       "      <td>Race relations will IMPROVE</td>\n",
       "      <td>The U.S. will be LESS important in the world</td>\n",
       "      <td>...</td>\n",
       "      <td>Don't know/Refused</td>\n",
       "      <td>You are ABSOLUTELY CERTAIN that you are regist...</td>\n",
       "      <td>Moderate</td>\n",
       "      <td>Non Internet User</td>\n",
       "      <td>Yes</td>\n",
       "      <td>0.342058</td>\n",
       "      <td>0</td>\n",
       "      <td>1</td>\n",
       "      <td>0</td>\n",
       "      <td>0</td>\n",
       "    </tr>\n",
       "    <tr>\n",
       "      <th>4</th>\n",
       "      <td>103094</td>\n",
       "      <td>Mobile phone</td>\n",
       "      <td>English</td>\n",
       "      <td>Form 1</td>\n",
       "      <td>Somewhat optimistic</td>\n",
       "      <td>Stay about the same</td>\n",
       "      <td>Refused</td>\n",
       "      <td>Health care will be LESS affordable</td>\n",
       "      <td>Refused</td>\n",
       "      <td>The U.S. will be LESS important in the world</td>\n",
       "      <td>...</td>\n",
       "      <td>&lt;$30,000</td>\n",
       "      <td>You are NOT registered to vote at your current...</td>\n",
       "      <td>Liberal</td>\n",
       "      <td>Internet User</td>\n",
       "      <td>Yes</td>\n",
       "      <td>0.329465</td>\n",
       "      <td>0</td>\n",
       "      <td>1</td>\n",
       "      <td>0</td>\n",
       "      <td>0</td>\n",
       "    </tr>\n",
       "  </tbody>\n",
       "</table>\n",
       "<p>5 rows × 128 columns</p>\n",
       "</div>"
      ],
      "text/plain": [
       "     qkey   device_type language    form              attitude  \\\n",
       "0  100363  Mobile phone  English  Form 1   Somewhat optimistic   \n",
       "1  101224  Mobile phone  English  Form 1   Somewhat optimistic   \n",
       "2  101437       Desktop  English  Form 1  Somewhat pessimistic   \n",
       "3  102130  Mobile phone  English  Form 1   Somewhat optimistic   \n",
       "4  103094  Mobile phone  English  Form 1   Somewhat optimistic   \n",
       "\n",
       "            avg_family                     happen_general  \\\n",
       "0            Get worse  The U.S. economy will be STRONGER   \n",
       "1           Get better  The U.S. economy will be STRONGER   \n",
       "2            Get worse    The U.S. economy will be WEAKER   \n",
       "3  Stay about the same    The U.S. economy will be WEAKER   \n",
       "4  Stay about the same                            Refused   \n",
       "\n",
       "                         happen_health                    happen_race  \\\n",
       "0  Health care will be MORE affordable    Race relations will IMPROVE   \n",
       "1  Health care will be LESS affordable    Race relations will IMPROVE   \n",
       "2  Health care will be LESS affordable  Race relations will GET WORSE   \n",
       "3  Health care will be LESS affordable    Race relations will IMPROVE   \n",
       "4  Health care will be LESS affordable                        Refused   \n",
       "\n",
       "                                     happen_usa  ...  \\\n",
       "0  The U.S. will be MORE important in the world  ...   \n",
       "1  The U.S. will be MORE important in the world  ...   \n",
       "2  The U.S. will be LESS important in the world  ...   \n",
       "3  The U.S. will be LESS important in the world  ...   \n",
       "4  The U.S. will be LESS important in the world  ...   \n",
       "\n",
       "  family_income_three_categories  \\\n",
       "0                       $75,000+   \n",
       "1                    $30-$74,999   \n",
       "2                       <$30,000   \n",
       "3             Don't know/Refused   \n",
       "4                       <$30,000   \n",
       "\n",
       "                                  registered_to_vote political_views  \\\n",
       "0  You are ABSOLUTELY CERTAIN that you are regist...         Liberal   \n",
       "1  You are ABSOLUTELY CERTAIN that you are regist...    Conservative   \n",
       "2  You are ABSOLUTELY CERTAIN that you are regist...    Conservative   \n",
       "3  You are ABSOLUTELY CERTAIN that you are regist...        Moderate   \n",
       "4  You are NOT registered to vote at your current...         Liberal   \n",
       "\n",
       "     internet_access volunteer    weight is_pes pes_val is_very_pes  \\\n",
       "0      Internet User        No  0.599006      0       1           0   \n",
       "1      Internet User       Yes  0.292981      0       1           0   \n",
       "2      Internet User        No  0.418871      1       2           0   \n",
       "3  Non Internet User       Yes  0.342058      0       1           0   \n",
       "4      Internet User       Yes  0.329465      0       1           0   \n",
       "\n",
       "  is_very_opt  \n",
       "0           0  \n",
       "1           0  \n",
       "2           0  \n",
       "3           0  \n",
       "4           0  \n",
       "\n",
       "[5 rows x 128 columns]"
      ]
     },
     "execution_count": 4,
     "metadata": {},
     "output_type": "execute_result"
    }
   ],
   "source": [
    "df, revert_key, replace_key = p.wrangle_data()\n",
    "df.head()"
   ]
  },
  {
   "cell_type": "code",
   "execution_count": 5,
   "id": "15d4e04d",
   "metadata": {},
   "outputs": [
    {
     "data": {
      "text/html": [
       "<div>\n",
       "<style scoped>\n",
       "    .dataframe tbody tr th:only-of-type {\n",
       "        vertical-align: middle;\n",
       "    }\n",
       "\n",
       "    .dataframe tbody tr th {\n",
       "        vertical-align: top;\n",
       "    }\n",
       "\n",
       "    .dataframe thead th {\n",
       "        text-align: right;\n",
       "    }\n",
       "</style>\n",
       "<table border=\"1\" class=\"dataframe\">\n",
       "  <thead>\n",
       "    <tr style=\"text-align: right;\">\n",
       "      <th></th>\n",
       "      <th>qkey</th>\n",
       "      <th>device_type</th>\n",
       "      <th>language</th>\n",
       "      <th>form</th>\n",
       "      <th>attitude</th>\n",
       "      <th>avg_family</th>\n",
       "      <th>happen_general</th>\n",
       "      <th>happen_health</th>\n",
       "      <th>happen_race</th>\n",
       "      <th>happen_usa</th>\n",
       "      <th>...</th>\n",
       "      <th>family_income_three_categories</th>\n",
       "      <th>registered_to_vote</th>\n",
       "      <th>political_views</th>\n",
       "      <th>internet_access</th>\n",
       "      <th>volunteer</th>\n",
       "      <th>weight</th>\n",
       "      <th>is_pes</th>\n",
       "      <th>pes_val</th>\n",
       "      <th>is_very_pes</th>\n",
       "      <th>is_very_opt</th>\n",
       "    </tr>\n",
       "  </thead>\n",
       "  <tbody>\n",
       "    <tr>\n",
       "      <th>0</th>\n",
       "      <td>100363</td>\n",
       "      <td>0</td>\n",
       "      <td>0</td>\n",
       "      <td>0</td>\n",
       "      <td>0</td>\n",
       "      <td>0</td>\n",
       "      <td>0</td>\n",
       "      <td>0</td>\n",
       "      <td>0</td>\n",
       "      <td>0</td>\n",
       "      <td>...</td>\n",
       "      <td>0</td>\n",
       "      <td>0</td>\n",
       "      <td>0</td>\n",
       "      <td>0</td>\n",
       "      <td>0</td>\n",
       "      <td>0.599006</td>\n",
       "      <td>0</td>\n",
       "      <td>1</td>\n",
       "      <td>0</td>\n",
       "      <td>0</td>\n",
       "    </tr>\n",
       "    <tr>\n",
       "      <th>1</th>\n",
       "      <td>101224</td>\n",
       "      <td>0</td>\n",
       "      <td>0</td>\n",
       "      <td>0</td>\n",
       "      <td>0</td>\n",
       "      <td>1</td>\n",
       "      <td>0</td>\n",
       "      <td>1</td>\n",
       "      <td>0</td>\n",
       "      <td>0</td>\n",
       "      <td>...</td>\n",
       "      <td>1</td>\n",
       "      <td>0</td>\n",
       "      <td>1</td>\n",
       "      <td>0</td>\n",
       "      <td>1</td>\n",
       "      <td>0.292981</td>\n",
       "      <td>0</td>\n",
       "      <td>1</td>\n",
       "      <td>0</td>\n",
       "      <td>0</td>\n",
       "    </tr>\n",
       "    <tr>\n",
       "      <th>2</th>\n",
       "      <td>101437</td>\n",
       "      <td>1</td>\n",
       "      <td>0</td>\n",
       "      <td>0</td>\n",
       "      <td>1</td>\n",
       "      <td>0</td>\n",
       "      <td>1</td>\n",
       "      <td>1</td>\n",
       "      <td>1</td>\n",
       "      <td>1</td>\n",
       "      <td>...</td>\n",
       "      <td>2</td>\n",
       "      <td>0</td>\n",
       "      <td>1</td>\n",
       "      <td>0</td>\n",
       "      <td>0</td>\n",
       "      <td>0.418871</td>\n",
       "      <td>1</td>\n",
       "      <td>2</td>\n",
       "      <td>0</td>\n",
       "      <td>0</td>\n",
       "    </tr>\n",
       "    <tr>\n",
       "      <th>3</th>\n",
       "      <td>102130</td>\n",
       "      <td>0</td>\n",
       "      <td>0</td>\n",
       "      <td>0</td>\n",
       "      <td>0</td>\n",
       "      <td>2</td>\n",
       "      <td>1</td>\n",
       "      <td>1</td>\n",
       "      <td>0</td>\n",
       "      <td>1</td>\n",
       "      <td>...</td>\n",
       "      <td>3</td>\n",
       "      <td>0</td>\n",
       "      <td>2</td>\n",
       "      <td>1</td>\n",
       "      <td>1</td>\n",
       "      <td>0.342058</td>\n",
       "      <td>0</td>\n",
       "      <td>1</td>\n",
       "      <td>0</td>\n",
       "      <td>0</td>\n",
       "    </tr>\n",
       "    <tr>\n",
       "      <th>4</th>\n",
       "      <td>103094</td>\n",
       "      <td>0</td>\n",
       "      <td>0</td>\n",
       "      <td>0</td>\n",
       "      <td>0</td>\n",
       "      <td>2</td>\n",
       "      <td>2</td>\n",
       "      <td>1</td>\n",
       "      <td>2</td>\n",
       "      <td>1</td>\n",
       "      <td>...</td>\n",
       "      <td>2</td>\n",
       "      <td>1</td>\n",
       "      <td>0</td>\n",
       "      <td>0</td>\n",
       "      <td>1</td>\n",
       "      <td>0.329465</td>\n",
       "      <td>0</td>\n",
       "      <td>1</td>\n",
       "      <td>0</td>\n",
       "      <td>0</td>\n",
       "    </tr>\n",
       "  </tbody>\n",
       "</table>\n",
       "<p>5 rows × 128 columns</p>\n",
       "</div>"
      ],
      "text/plain": [
       "     qkey  device_type  language  form  attitude  avg_family  happen_general  \\\n",
       "0  100363            0         0     0         0           0               0   \n",
       "1  101224            0         0     0         0           1               0   \n",
       "2  101437            1         0     0         1           0               1   \n",
       "3  102130            0         0     0         0           2               1   \n",
       "4  103094            0         0     0         0           2               2   \n",
       "\n",
       "   happen_health  happen_race  happen_usa  ...  \\\n",
       "0              0            0           0  ...   \n",
       "1              1            0           0  ...   \n",
       "2              1            1           1  ...   \n",
       "3              1            0           1  ...   \n",
       "4              1            2           1  ...   \n",
       "\n",
       "   family_income_three_categories  registered_to_vote  political_views  \\\n",
       "0                               0                   0                0   \n",
       "1                               1                   0                1   \n",
       "2                               2                   0                1   \n",
       "3                               3                   0                2   \n",
       "4                               2                   1                0   \n",
       "\n",
       "   internet_access  volunteer    weight  is_pes  pes_val  is_very_pes  \\\n",
       "0                0          0  0.599006       0        1            0   \n",
       "1                0          1  0.292981       0        1            0   \n",
       "2                0          0  0.418871       1        2            0   \n",
       "3                1          1  0.342058       0        1            0   \n",
       "4                0          1  0.329465       0        1            0   \n",
       "\n",
       "   is_very_opt  \n",
       "0            0  \n",
       "1            0  \n",
       "2            0  \n",
       "3            0  \n",
       "4            0  \n",
       "\n",
       "[5 rows x 128 columns]"
      ]
     },
     "execution_count": 5,
     "metadata": {},
     "output_type": "execute_result"
    }
   ],
   "source": [
    "df.replace(replace_key).head()"
   ]
  },
  {
   "cell_type": "code",
   "execution_count": 6,
   "id": "ed2150e3",
   "metadata": {},
   "outputs": [
    {
     "data": {
      "text/plain": [
       "(2515, 128)"
      ]
     },
     "execution_count": 6,
     "metadata": {},
     "output_type": "execute_result"
    }
   ],
   "source": [
    "df.shape"
   ]
  },
  {
   "cell_type": "code",
   "execution_count": 7,
   "id": "43d0c980",
   "metadata": {},
   "outputs": [
    {
     "data": {
      "text/plain": [
       "((1408, 128), (604, 128), (503, 128))"
      ]
     },
     "execution_count": 7,
     "metadata": {},
     "output_type": "execute_result"
    }
   ],
   "source": [
    "train, validate, test = p.train_validate_test_split(df, 'is_pes')\n",
    "train.shape, validate.shape, test.shape"
   ]
  },
  {
   "cell_type": "markdown",
   "id": "80154b76",
   "metadata": {},
   "source": [
    "<a name='prepare_takeaways'></a>\n",
    "## Prepare Takeaways\n",
    "> - Utilizing our `prepare.py` file, we implemented a series of functions to clean our data.\n",
    ">\n",
    ">\n",
    "> - We eliminated nine respondents from our dataset because these respondents refused to answer the question `OPTIMIST_W41` about prospective thinking of the USA's future. \n",
    ">\n",
    ">\n",
    "> - Our newly created target feature `is_pes` maps the responses \"Somewhat pessimistic\" and \"Very pessimistic\" to question `OPTIMIST_W41` as the single Boolean value 1 and the responses \"Somewhat optimistic\" and \"Very optimistic\" to the single Boolean value 0. \n",
    ">\n",
    ">\n",
    "> - Stratifying on `is_pes`, we split our data into `train`, `validate`, and `test`, datasets of lengths 1408, 604, and 503, respectively. \n",
    "<div style=\"text-align: right\"><a href='#toc'>Table of Contents</a></div>\n",
    "<hr style=\"border-top: 10px groove tan; margin-top: 1px; margin-bottom: 1px\"></hr>"
   ]
  },
  {
   "cell_type": "markdown",
   "id": "1c681465",
   "metadata": {},
   "source": [
    "<a name='explore'></a>\n",
    "# Explore Data\n",
    "✓ _Plan_ ➜ ✓ _Acquire_ ➜ ✓ _Prepare_ ➜ 🟢 **Explore** ➜ ☐ _Model_ ➜ ☐ _Deliver_\n",
    "\n",
    "> - We dropped columns that were too closely related to the derivative of our target column (`is_pes`):\n",
    "> - Those columns ended up being `avg_family`, `attitude`, `pes_val`, `is_very_pes` and `is_very_opt`.\n",
    "> - We also dropped `qkey` since it is only an id value and will not provide any information since each is a unique value.\n",
    "> - We split our train, validate, and test columns to feature dataframes and target series.\n"
   ]
  },
  {
   "cell_type": "markdown",
   "id": "644f5f05-16c2-4408-a17d-c84ddcaf795b",
   "metadata": {},
   "source": [
    "## Univariate Distributions"
   ]
  },
  {
   "cell_type": "code",
   "execution_count": 8,
   "id": "0be06ccb-2533-4dab-adef-2bdd7daa15cb",
   "metadata": {},
   "outputs": [
    {
     "data": {
      "image/png": "[encoded data removed]",
      "text/plain": [
       "<Figure size 1440x1440 with 6 Axes>"
      ]
     },
     "metadata": {
      "needs_background": "light"
     },
     "output_type": "display_data"
    }
   ],
   "source": [
    "fig, axes = plt.subplots(nrows=3, ncols=2, sharey=False, sharex=False,  figsize=(20,20))\n",
    "\n",
    "# Set suptitle\n",
    "#fig.suptitle(f'Univariate')\n",
    "#plt.xticks(rotation=45)\n",
    "\n",
    "# First plot and its title\n",
    "sns.countplot(data=train, x='political_party_identity', ax=axes[0,0]).set_title('Political Affiliation')\n",
    "axes[0,0].tick_params(labelrotation=60)\n",
    "axes[0,0].set(xlabel=None)\n",
    "\n",
    "# Second plot and its title\n",
    "sns.countplot(data=train, x='age', ax=axes[0,1]).set_title('Age Groups')\n",
    "axes[0,1].tick_params(labelrotation=60)\n",
    "axes[0,1].set(xlabel=None)\n",
    "\n",
    "# Third plot and its title\n",
    "sns.countplot(data=train, x='sex', ax=axes[1,0]).set_title('Sex')\n",
    "axes[1,0].tick_params(labelrotation=60)\n",
    "axes[1,0].set(xlabel=None)\n",
    "\n",
    "# Fourth plot and its title\n",
    "sns.countplot(data=train, x='family_income_nine_categories', ax=axes[1,1]).set_title('Income Level')\n",
    "axes[1,1].tick_params(labelrotation=60)\n",
    "axes[1,1].set(xlabel=None)\n",
    "\n",
    "# Fifth plot and its title\n",
    "sns.countplot(data=train, x='highest_education_six_categories', ax=axes[2,0]).set_title('Education Level')\n",
    "axes[2,0].tick_params(labelrotation=60)\n",
    "axes[2,0].set(xlabel=None)\n",
    "\n",
    "# Sixth plot and its title\n",
    "sns.countplot(data=train, x='census_region', ax=axes[2,1]).set_title('Location')\n",
    "axes[2,1].tick_params(labelrotation=60)\n",
    "axes[2,1].set(xlabel=None)\n",
    "\n",
    "plt.rcParams.update({'font.size': 8})\n",
    "plt.tight_layout(pad=3)\n",
    "plt.savefig('images/_univariate_exploration.jpeg')\n",
    "plt.show()"
   ]
  },
  {
   "cell_type": "markdown",
   "id": "8da068ee",
   "metadata": {},
   "source": [
    "<a name='hypotheses'></a>\n",
    "## Hypotheses & Testing\n",
    "\n",
    "### Hypothesis 1\n",
    "> - H<sub>0</sub>: Is sex independent of a pessimsitic future outlook?\n",
    "> - H<sub>a</sub>: Sex is dependent on pessimist future outlook.\n",
    "> - &#x0251;: 0.05\n",
    "\n",
    "#### Hypothesis 1 Takeaways \n",
    "> - The number of females and males who are overall pessimistic are about the same.\n",
    "> - The p-value is above 0.05, so we accept the null hypothesis.\n",
    "\n",
    "### Hypothesis 2\n",
    "> - H<sub>0</sub>: Is income independent of a pessimistic future outlook?\n",
    "> - H<sub>a</sub>: Income is dependent on pessimistic future outlook.\n",
    "> - &#x0251; = 0.05\n",
    "\n",
    "#### Hypothesis 2 Takeaways \n",
    "> - While it appears that people who are middle income earners are more pessimistic, there is no significance for overall income related to overall pessimism.\n",
    "> - The p-value is above 0.5, so we accept the null hypothesis."
   ]
  },
  {
   "cell_type": "code",
   "execution_count": 9,
   "id": "56045207-aa14-433d-adcc-2600a9f69bdb",
   "metadata": {
    "scrolled": true
   },
   "outputs": [
    {
     "data": {
      "text/html": [
       "<div>\n",
       "<style scoped>\n",
       "    .dataframe tbody tr th:only-of-type {\n",
       "        vertical-align: middle;\n",
       "    }\n",
       "\n",
       "    .dataframe tbody tr th {\n",
       "        vertical-align: top;\n",
       "    }\n",
       "\n",
       "    .dataframe thead th {\n",
       "        text-align: right;\n",
       "    }\n",
       "</style>\n",
       "<table border=\"1\" class=\"dataframe\">\n",
       "  <thead>\n",
       "    <tr style=\"text-align: right;\">\n",
       "      <th></th>\n",
       "      <th>chi2</th>\n",
       "      <th>p_val</th>\n",
       "      <th>deg_free</th>\n",
       "      <th>expected_freq</th>\n",
       "    </tr>\n",
       "  </thead>\n",
       "  <tbody>\n",
       "    <tr>\n",
       "      <th>happen_general</th>\n",
       "      <td>309.846751</td>\n",
       "      <td>5.219547e-68</td>\n",
       "      <td>2</td>\n",
       "      <td>[[65.23082386363636, 51.76917613636363], [299....</td>\n",
       "    </tr>\n",
       "    <tr>\n",
       "      <th>happen_pub_ed</th>\n",
       "      <td>236.569737</td>\n",
       "      <td>4.261223e-52</td>\n",
       "      <td>2</td>\n",
       "      <td>[[75.26633522727273, 59.73366477272727], [411....</td>\n",
       "    </tr>\n",
       "    <tr>\n",
       "      <th>happen_child_f2</th>\n",
       "      <td>180.022563</td>\n",
       "      <td>8.721545e-39</td>\n",
       "      <td>3</td>\n",
       "      <td>[[152.7627840909091, 121.2372159090909], [210....</td>\n",
       "    </tr>\n",
       "    <tr>\n",
       "      <th>happen_race</th>\n",
       "      <td>157.808874</td>\n",
       "      <td>5.398069e-35</td>\n",
       "      <td>2</td>\n",
       "      <td>[[317.7911931818182, 252.2088068181818], [398....</td>\n",
       "    </tr>\n",
       "    <tr>\n",
       "      <th>happen_health</th>\n",
       "      <td>145.049618</td>\n",
       "      <td>3.183286e-32</td>\n",
       "      <td>2</td>\n",
       "      <td>[[447.6953125, 355.3046875], [265.941051136363...</td>\n",
       "    </tr>\n",
       "  </tbody>\n",
       "</table>\n",
       "</div>"
      ],
      "text/plain": [
       "                       chi2         p_val deg_free  \\\n",
       "happen_general   309.846751  5.219547e-68        2   \n",
       "happen_pub_ed    236.569737  4.261223e-52        2   \n",
       "happen_child_f2  180.022563  8.721545e-39        3   \n",
       "happen_race      157.808874  5.398069e-35        2   \n",
       "happen_health    145.049618  3.183286e-32        2   \n",
       "\n",
       "                                                     expected_freq  \n",
       "happen_general   [[65.23082386363636, 51.76917613636363], [299....  \n",
       "happen_pub_ed    [[75.26633522727273, 59.73366477272727], [411....  \n",
       "happen_child_f2  [[152.7627840909091, 121.2372159090909], [210....  \n",
       "happen_race      [[317.7911931818182, 252.2088068181818], [398....  \n",
       "happen_health    [[447.6953125, 355.3046875], [265.941051136363...  "
      ]
     },
     "execution_count": 9,
     "metadata": {},
     "output_type": "execute_result"
    }
   ],
   "source": [
    "# Generate object\n",
    "obj = e.generate_and_return_obj(df)\n",
    "# Examine the chi2 results and return the most signficant values from them\n",
    "obj.chi2_df.sort_values(by='p_val').head(5)\n"
   ]
  },
  {
   "cell_type": "code",
   "execution_count": 10,
   "id": "5cc08769-af06-48b2-af43-92a7260da4d7",
   "metadata": {},
   "outputs": [
    {
     "data": {
      "image/png": "[encoded data removed]",
      "text/plain": [
       "<Figure size 432x288 with 1 Axes>"
      ]
     },
     "metadata": {
      "needs_background": "light"
     },
     "output_type": "display_data"
    }
   ],
   "source": [
    "# print(sns.color_palette().as_hex())\n",
    "\n",
    "#create barplot showing males vs females and their percentage of pessimism\n",
    "ax = sns.barplot(y=\"sex\", x=\"is_pes\", data=train[train.sex != 'Refused']).set_title(\n",
    "    label= \"Percentage of Pessimistic Outlook for Females and Males\")\n",
    "\n",
    "plt.savefig('images/fem_male_pessimism_percentage.jpeg')\n",
    "\n",
    "plt.show()"
   ]
  },
  {
   "cell_type": "code",
   "execution_count": 11,
   "id": "60af9062-45e2-4f94-8fc8-7e10b573cb62",
   "metadata": {},
   "outputs": [
    {
     "data": {
      "image/png": "[encoded data removed]",
      "text/plain": [
       "<Figure size 432x288 with 1 Axes>"
      ]
     },
     "metadata": {
      "needs_background": "light"
     },
     "output_type": "display_data"
    }
   ],
   "source": [
    "ax = sns.barplot(y=\"family_income_three_categories\", x=\"is_pes\", data=train).set_title(\n",
    "label = 'Percent is_pes by family_income_three_categories')\n",
    "plt.savefig('images/percent_is_pes_by_family_income.jpeg')"
   ]
  },
  {
   "cell_type": "code",
   "execution_count": 12,
   "id": "6900b8eb-475d-48d4-adbd-c757077b7433",
   "metadata": {},
   "outputs": [],
   "source": [
    "def bar_graph_percent_pessimistic(df, x_feature, y_feature):\n",
    "    # Derive title\n",
    "    title = f\"Percent {x_feature} by {y_feature}\"\n",
    "    # Build filename from title\n",
    "    filename = 'images/' + title.replace(' ', '_').lower() + '.jpeg'\n",
    "    # Make the plot and set the title\n",
    "    ax = sns.barplot(data = df, x = x_feature, y = y_feature).set_title(\n",
    "    label=title)\n",
    "    # Save the plot\n",
    "    plt.savefig(filename)\n",
    "    "
   ]
  },
  {
   "cell_type": "markdown",
   "id": "582d0459-2ce5-44cd-b9d1-85673a07b459",
   "metadata": {},
   "source": [
    "### Beyond sex and income, Is education a factor in future pessimistic outlook?"
   ]
  },
  {
   "cell_type": "code",
   "execution_count": 13,
   "id": "275e7dca-1dca-450d-9952-43cefad72ca5",
   "metadata": {},
   "outputs": [
    {
     "data": {
      "text/html": [
       "<div>\n",
       "<style scoped>\n",
       "    .dataframe tbody tr th:only-of-type {\n",
       "        vertical-align: middle;\n",
       "    }\n",
       "\n",
       "    .dataframe tbody tr th {\n",
       "        vertical-align: top;\n",
       "    }\n",
       "\n",
       "    .dataframe thead th {\n",
       "        text-align: right;\n",
       "    }\n",
       "</style>\n",
       "<table border=\"1\" class=\"dataframe\">\n",
       "  <thead>\n",
       "    <tr style=\"text-align: right;\">\n",
       "      <th>is_pes</th>\n",
       "      <th>0</th>\n",
       "      <th>1</th>\n",
       "      <th>All</th>\n",
       "    </tr>\n",
       "    <tr>\n",
       "      <th>highest_education_six_categories</th>\n",
       "      <th></th>\n",
       "      <th></th>\n",
       "      <th></th>\n",
       "    </tr>\n",
       "  </thead>\n",
       "  <tbody>\n",
       "    <tr>\n",
       "      <th>Associate's degree</th>\n",
       "      <td>120</td>\n",
       "      <td>81</td>\n",
       "      <td>201</td>\n",
       "    </tr>\n",
       "    <tr>\n",
       "      <th>College graduate/some post grad</th>\n",
       "      <td>287</td>\n",
       "      <td>229</td>\n",
       "      <td>516</td>\n",
       "    </tr>\n",
       "    <tr>\n",
       "      <th>Don't know/Refused</th>\n",
       "      <td>4</td>\n",
       "      <td>1</td>\n",
       "      <td>5</td>\n",
       "    </tr>\n",
       "    <tr>\n",
       "      <th>High school graduate</th>\n",
       "      <td>435</td>\n",
       "      <td>322</td>\n",
       "      <td>757</td>\n",
       "    </tr>\n",
       "    <tr>\n",
       "      <th>Less than high school</th>\n",
       "      <td>123</td>\n",
       "      <td>60</td>\n",
       "      <td>183</td>\n",
       "    </tr>\n",
       "    <tr>\n",
       "      <th>Postgraduate</th>\n",
       "      <td>184</td>\n",
       "      <td>179</td>\n",
       "      <td>363</td>\n",
       "    </tr>\n",
       "    <tr>\n",
       "      <th>Some college, no degree</th>\n",
       "      <td>250</td>\n",
       "      <td>240</td>\n",
       "      <td>490</td>\n",
       "    </tr>\n",
       "    <tr>\n",
       "      <th>All</th>\n",
       "      <td>1403</td>\n",
       "      <td>1112</td>\n",
       "      <td>2515</td>\n",
       "    </tr>\n",
       "  </tbody>\n",
       "</table>\n",
       "</div>"
      ],
      "text/plain": [
       "is_pes                               0     1   All\n",
       "highest_education_six_categories                  \n",
       "Associate's degree                 120    81   201\n",
       "College graduate/some post grad    287   229   516\n",
       "Don't know/Refused                   4     1     5\n",
       "High school graduate               435   322   757\n",
       "Less than high school              123    60   183\n",
       "Postgraduate                       184   179   363\n",
       "Some college, no degree            250   240   490\n",
       "All                               1403  1112  2515"
      ]
     },
     "execution_count": 13,
     "metadata": {},
     "output_type": "execute_result"
    }
   ],
   "source": [
    "pd.crosstab(df.highest_education_six_categories, df.is_pes, margins=True)"
   ]
  },
  {
   "cell_type": "code",
   "execution_count": 14,
   "id": "b9260fe1-aa12-4368-ba51-13927307392d",
   "metadata": {},
   "outputs": [
    {
     "data": {
      "image/png": "[encoded data removed]",
      "text/plain": [
       "<Figure size 432x288 with 1 Axes>"
      ]
     },
     "metadata": {
      "needs_background": "light"
     },
     "output_type": "display_data"
    }
   ],
   "source": [
    "bar_graph_percent_pessimistic(train[train.family_income_three_categories == '$30-$74,999'], \"is_pes\", \"highest_education_six_categories\")\n"
   ]
  },
  {
   "cell_type": "markdown",
   "id": "082460d5",
   "metadata": {},
   "source": [
    "<a name='gender'></a>\n",
    "## Explore by Gender"
   ]
  },
  {
   "cell_type": "code",
   "execution_count": 15,
   "id": "1cd982da",
   "metadata": {},
   "outputs": [],
   "source": [
    "#Subset of females\n",
    "females_train = train[train.sex == \"Female\"]\n",
    "#Subset of males\n",
    "males_train = train[train.sex == \"Male\"]"
   ]
  },
  {
   "cell_type": "markdown",
   "id": "5bb8d815",
   "metadata": {},
   "source": [
    "### Most Important Issues for Females"
   ]
  },
  {
   "cell_type": "code",
   "execution_count": 16,
   "id": "8e5e60fb",
   "metadata": {},
   "outputs": [
    {
     "data": {
      "text/html": [
       "<div>\n",
       "<style scoped>\n",
       "    .dataframe tbody tr th:only-of-type {\n",
       "        vertical-align: middle;\n",
       "    }\n",
       "\n",
       "    .dataframe tbody tr th {\n",
       "        vertical-align: top;\n",
       "    }\n",
       "\n",
       "    .dataframe thead th {\n",
       "        text-align: right;\n",
       "    }\n",
       "</style>\n",
       "<table border=\"1\" class=\"dataframe\">\n",
       "  <thead>\n",
       "    <tr style=\"text-align: right;\">\n",
       "      <th></th>\n",
       "      <th>chi2</th>\n",
       "      <th>p_val</th>\n",
       "      <th>deg_free</th>\n",
       "      <th>expected_freq</th>\n",
       "    </tr>\n",
       "  </thead>\n",
       "  <tbody>\n",
       "    <tr>\n",
       "      <th>happen_pub_ed</th>\n",
       "      <td>80.622451</td>\n",
       "      <td>3.112126e-18</td>\n",
       "      <td>2</td>\n",
       "      <td>[[23.40139211136891, 17.59860788863109], [121....</td>\n",
       "    </tr>\n",
       "    <tr>\n",
       "      <th>happen_general</th>\n",
       "      <td>76.013359</td>\n",
       "      <td>3.118234e-17</td>\n",
       "      <td>2</td>\n",
       "      <td>[[20.54756380510441, 15.452436194895592], [95....</td>\n",
       "    </tr>\n",
       "    <tr>\n",
       "      <th>happen_child_f2</th>\n",
       "      <td>63.937749</td>\n",
       "      <td>8.463552e-14</td>\n",
       "      <td>3</td>\n",
       "      <td>[[45.66125290023202, 34.33874709976798], [64.4...</td>\n",
       "    </tr>\n",
       "    <tr>\n",
       "      <th>happen_health</th>\n",
       "      <td>58.376607</td>\n",
       "      <td>2.107079e-13</td>\n",
       "      <td>2</td>\n",
       "      <td>[[142.69141531322506, 107.30858468677494], [79...</td>\n",
       "    </tr>\n",
       "    <tr>\n",
       "      <th>happen_usa</th>\n",
       "      <td>54.195569</td>\n",
       "      <td>1.704440e-12</td>\n",
       "      <td>2</td>\n",
       "      <td>[[23.97215777262181, 18.02784222737819], [146....</td>\n",
       "    </tr>\n",
       "    <tr>\n",
       "      <th>job_benefits</th>\n",
       "      <td>50.205823</td>\n",
       "      <td>7.222153e-11</td>\n",
       "      <td>3</td>\n",
       "      <td>[[98.17169373549883, 73.82830626450117], [57.6...</td>\n",
       "    </tr>\n",
       "    <tr>\n",
       "      <th>happen_race</th>\n",
       "      <td>46.330084</td>\n",
       "      <td>8.700618e-11</td>\n",
       "      <td>2</td>\n",
       "      <td>[[99.31322505800465, 74.68677494199535], [121....</td>\n",
       "    </tr>\n",
       "    <tr>\n",
       "      <th>job_security</th>\n",
       "      <td>49.649047</td>\n",
       "      <td>9.489408e-11</td>\n",
       "      <td>3</td>\n",
       "      <td>[[88.46867749419954, 66.53132250580046], [114....</td>\n",
       "    </tr>\n",
       "    <tr>\n",
       "      <th>happen_politics</th>\n",
       "      <td>41.820951</td>\n",
       "      <td>8.292697e-10</td>\n",
       "      <td>2</td>\n",
       "      <td>[[23.40139211136891, 17.59860788863109], [54.7...</td>\n",
       "    </tr>\n",
       "    <tr>\n",
       "      <th>elder_care</th>\n",
       "      <td>40.970776</td>\n",
       "      <td>1.268555e-09</td>\n",
       "      <td>2</td>\n",
       "      <td>[[64.49651972157773, 48.50348027842227], [179....</td>\n",
       "    </tr>\n",
       "  </tbody>\n",
       "</table>\n",
       "</div>"
      ],
      "text/plain": [
       "                      chi2         p_val deg_free  \\\n",
       "happen_pub_ed    80.622451  3.112126e-18        2   \n",
       "happen_general   76.013359  3.118234e-17        2   \n",
       "happen_child_f2  63.937749  8.463552e-14        3   \n",
       "happen_health    58.376607  2.107079e-13        2   \n",
       "happen_usa       54.195569  1.704440e-12        2   \n",
       "job_benefits     50.205823  7.222153e-11        3   \n",
       "happen_race      46.330084  8.700618e-11        2   \n",
       "job_security     49.649047  9.489408e-11        3   \n",
       "happen_politics  41.820951  8.292697e-10        2   \n",
       "elder_care       40.970776  1.268555e-09        2   \n",
       "\n",
       "                                                     expected_freq  \n",
       "happen_pub_ed    [[23.40139211136891, 17.59860788863109], [121....  \n",
       "happen_general   [[20.54756380510441, 15.452436194895592], [95....  \n",
       "happen_child_f2  [[45.66125290023202, 34.33874709976798], [64.4...  \n",
       "happen_health    [[142.69141531322506, 107.30858468677494], [79...  \n",
       "happen_usa       [[23.97215777262181, 18.02784222737819], [146....  \n",
       "job_benefits     [[98.17169373549883, 73.82830626450117], [57.6...  \n",
       "happen_race      [[99.31322505800465, 74.68677494199535], [121....  \n",
       "job_security     [[88.46867749419954, 66.53132250580046], [114....  \n",
       "happen_politics  [[23.40139211136891, 17.59860788863109], [54.7...  \n",
       "elder_care       [[64.49651972157773, 48.50348027842227], [179....  "
      ]
     },
     "execution_count": 16,
     "metadata": {},
     "output_type": "execute_result"
    }
   ],
   "source": [
    "# Generate object\n",
    "obj_f = e.generate_and_return_obj(females_train)\n",
    "# Examine the chi2 results and return the most signficant values from them\n",
    "issues_female = obj_f.chi2_df.sort_values(by='p_val')\n",
    "issues_female.head(10)"
   ]
  },
  {
   "cell_type": "markdown",
   "id": "9fb6b889",
   "metadata": {},
   "source": [
    "### Most Important Issues for Males"
   ]
  },
  {
   "cell_type": "code",
   "execution_count": 17,
   "id": "72667084",
   "metadata": {},
   "outputs": [
    {
     "data": {
      "text/html": [
       "<div>\n",
       "<style scoped>\n",
       "    .dataframe tbody tr th:only-of-type {\n",
       "        vertical-align: middle;\n",
       "    }\n",
       "\n",
       "    .dataframe tbody tr th {\n",
       "        vertical-align: top;\n",
       "    }\n",
       "\n",
       "    .dataframe thead th {\n",
       "        text-align: right;\n",
       "    }\n",
       "</style>\n",
       "<table border=\"1\" class=\"dataframe\">\n",
       "  <thead>\n",
       "    <tr style=\"text-align: right;\">\n",
       "      <th></th>\n",
       "      <th>chi2</th>\n",
       "      <th>p_val</th>\n",
       "      <th>deg_free</th>\n",
       "      <th>expected_freq</th>\n",
       "    </tr>\n",
       "  </thead>\n",
       "  <tbody>\n",
       "    <tr>\n",
       "      <th>happen_general</th>\n",
       "      <td>90.549991</td>\n",
       "      <td>2.174299e-20</td>\n",
       "      <td>2</td>\n",
       "      <td>[[11.926966292134832, 10.073033707865168], [75...</td>\n",
       "    </tr>\n",
       "    <tr>\n",
       "      <th>happen_race</th>\n",
       "      <td>69.385820</td>\n",
       "      <td>8.571575e-16</td>\n",
       "      <td>2</td>\n",
       "      <td>[[76.98314606741573, 65.01685393258427], [101....</td>\n",
       "    </tr>\n",
       "    <tr>\n",
       "      <th>happen_pub_ed</th>\n",
       "      <td>63.995076</td>\n",
       "      <td>1.269538e-14</td>\n",
       "      <td>2</td>\n",
       "      <td>[[14.095505617977528, 11.904494382022472], [11...</td>\n",
       "    </tr>\n",
       "    <tr>\n",
       "      <th>happen_politics</th>\n",
       "      <td>50.696915</td>\n",
       "      <td>9.801778e-12</td>\n",
       "      <td>2</td>\n",
       "      <td>[[10.842696629213483, 9.157303370786517], [56....</td>\n",
       "    </tr>\n",
       "    <tr>\n",
       "      <th>happen_health</th>\n",
       "      <td>44.075100</td>\n",
       "      <td>2.686666e-10</td>\n",
       "      <td>2</td>\n",
       "      <td>[[110.59550561797752, 93.40449438202248], [67....</td>\n",
       "    </tr>\n",
       "    <tr>\n",
       "      <th>happen_child_f2</th>\n",
       "      <td>46.036295</td>\n",
       "      <td>5.571597e-10</td>\n",
       "      <td>3</td>\n",
       "      <td>[[39.575842696629216, 33.424157303370784], [52...</td>\n",
       "    </tr>\n",
       "    <tr>\n",
       "      <th>happen_china</th>\n",
       "      <td>48.915112</td>\n",
       "      <td>6.081841e-10</td>\n",
       "      <td>4</td>\n",
       "      <td>[[2.168539325842697, 1.8314606741573034], [24....</td>\n",
       "    </tr>\n",
       "    <tr>\n",
       "      <th>happen_usa</th>\n",
       "      <td>41.034709</td>\n",
       "      <td>1.228644e-09</td>\n",
       "      <td>2</td>\n",
       "      <td>[[11.384831460674157, 9.615168539325843], [121...</td>\n",
       "    </tr>\n",
       "    <tr>\n",
       "      <th>happen_65up_f1</th>\n",
       "      <td>42.801040</td>\n",
       "      <td>2.712392e-09</td>\n",
       "      <td>3</td>\n",
       "      <td>[[34.15449438202247, 28.84550561797753], [54.2...</td>\n",
       "    </tr>\n",
       "    <tr>\n",
       "      <th>envir_50yrs</th>\n",
       "      <td>34.966945</td>\n",
       "      <td>2.552845e-08</td>\n",
       "      <td>2</td>\n",
       "      <td>[[48.79213483146067, 41.20786516853933], [33.6...</td>\n",
       "    </tr>\n",
       "  </tbody>\n",
       "</table>\n",
       "</div>"
      ],
      "text/plain": [
       "                      chi2         p_val deg_free  \\\n",
       "happen_general   90.549991  2.174299e-20        2   \n",
       "happen_race      69.385820  8.571575e-16        2   \n",
       "happen_pub_ed    63.995076  1.269538e-14        2   \n",
       "happen_politics  50.696915  9.801778e-12        2   \n",
       "happen_health    44.075100  2.686666e-10        2   \n",
       "happen_child_f2  46.036295  5.571597e-10        3   \n",
       "happen_china     48.915112  6.081841e-10        4   \n",
       "happen_usa       41.034709  1.228644e-09        2   \n",
       "happen_65up_f1   42.801040  2.712392e-09        3   \n",
       "envir_50yrs      34.966945  2.552845e-08        2   \n",
       "\n",
       "                                                     expected_freq  \n",
       "happen_general   [[11.926966292134832, 10.073033707865168], [75...  \n",
       "happen_race      [[76.98314606741573, 65.01685393258427], [101....  \n",
       "happen_pub_ed    [[14.095505617977528, 11.904494382022472], [11...  \n",
       "happen_politics  [[10.842696629213483, 9.157303370786517], [56....  \n",
       "happen_health    [[110.59550561797752, 93.40449438202248], [67....  \n",
       "happen_child_f2  [[39.575842696629216, 33.424157303370784], [52...  \n",
       "happen_china     [[2.168539325842697, 1.8314606741573034], [24....  \n",
       "happen_usa       [[11.384831460674157, 9.615168539325843], [121...  \n",
       "happen_65up_f1   [[34.15449438202247, 28.84550561797753], [54.2...  \n",
       "envir_50yrs      [[48.79213483146067, 41.20786516853933], [33.6...  "
      ]
     },
     "execution_count": 17,
     "metadata": {},
     "output_type": "execute_result"
    }
   ],
   "source": [
    "# Generate object\n",
    "obj_m = e.generate_and_return_obj(males_train)\n",
    "# Examine the chi2 results and return the most signficant values from them\n",
    "issues_male = obj_m.chi2_df.sort_values(by='p_val')\n",
    "issues_male.head(10)"
   ]
  },
  {
   "cell_type": "markdown",
   "id": "3ccca452",
   "metadata": {},
   "source": [
    "### Differences in Statistically Significant Issues for Men and Women"
   ]
  },
  {
   "cell_type": "code",
   "execution_count": 18,
   "id": "38d29c0e",
   "metadata": {},
   "outputs": [],
   "source": [
    "#Calculate issues with statistically significant correlation to pessimism for women\n",
    "important_for_females = issues_female[issues_female.p_val < 0.05]\n",
    "#Calculate issues with statistically significant correlation to pessimism for men\n",
    "important_for_males = issues_male[issues_male.p_val < 0.05]"
   ]
  },
  {
   "cell_type": "code",
   "execution_count": 19,
   "id": "d714cf0e",
   "metadata": {},
   "outputs": [
    {
     "data": {
      "text/plain": [
       "['happen_pub_ed',\n",
       " 'happen_general',\n",
       " 'happen_child_f2',\n",
       " 'happen_health',\n",
       " 'happen_usa',\n",
       " 'job_benefits',\n",
       " 'happen_race',\n",
       " 'job_security',\n",
       " 'happen_politics',\n",
       " 'elder_care',\n",
       " 'fut_marriage',\n",
       " 'happen_terroist',\n",
       " 'worry_leaders',\n",
       " 'happen_anti_semitism',\n",
       " 'envir_50yrs',\n",
       " 'share_americans_in_lower_class',\n",
       " 'worry_economy',\n",
       " 'robot_replacement_means_better_jobs_for_humans',\n",
       " 'media',\n",
       " 'happen_wealthgap',\n",
       " 'worry_government',\n",
       " 'age_impact',\n",
       " 'debt_30yrs',\n",
       " 'happen_rel',\n",
       " 'fut_kids',\n",
       " 'happen_energy',\n",
       " 'worry_morals',\n",
       " 'happen_65up_f1',\n",
       " 'worry_public_schools',\n",
       " 'share_americans_in_middle_class',\n",
       " 'major_corps',\n",
       " 'happen_alzheimers',\n",
       " 'fut_divorce',\n",
       " 'race_and_ethnicity',\n",
       " 'state_local',\n",
       " 'military',\n",
       " 'ss_money',\n",
       " 'gov_in_wash',\n",
       " 'rel_groups',\n",
       " 'happen_china',\n",
       " 'automation_good_or_bad',\n",
       " 'family_income_three_categories',\n",
       " 'worry_climate',\n",
       " 'college_uni',\n",
       " 'ethnic_conflict',\n",
       " 'ethnic_impact1',\n",
       " 'race',\n",
       " 'harass_sexual_personal_exp',\n",
       " 'ethnic_customs',\n",
       " 'harass_interactions_f2',\n",
       " 'inter_mar',\n",
       " 'happen_70yr_labor',\n",
       " 'priority_increase_military',\n",
       " 'hispanic_or_latino',\n",
       " 'most_responsible_for_workers_f1',\n",
       " 'share_americans_in_upper_class',\n",
       " 'priority_science',\n",
       " 'priority_infra_f1',\n",
       " 'religion']"
      ]
     },
     "execution_count": 19,
     "metadata": {},
     "output_type": "execute_result"
    }
   ],
   "source": [
    "#Print list of significant issues for females\n",
    "important_for_females_list = important_for_females.index.to_list()\n",
    "important_for_females_list"
   ]
  },
  {
   "cell_type": "code",
   "execution_count": 20,
   "id": "8337f83a",
   "metadata": {},
   "outputs": [
    {
     "data": {
      "text/plain": [
       "['happen_general',\n",
       " 'happen_race',\n",
       " 'happen_pub_ed',\n",
       " 'happen_politics',\n",
       " 'happen_health',\n",
       " 'happen_child_f2',\n",
       " 'happen_china',\n",
       " 'happen_usa',\n",
       " 'happen_65up_f1',\n",
       " 'envir_50yrs',\n",
       " 'job_benefits',\n",
       " 'share_americans_in_lower_class',\n",
       " 'share_americans_in_middle_class',\n",
       " 'job_security',\n",
       " 'elder_care',\n",
       " 'worry_economy',\n",
       " 'debt_30yrs',\n",
       " 'happen_wealthgap',\n",
       " 'worry_government',\n",
       " 'worry_leaders',\n",
       " 'happen_energy',\n",
       " 'gov_in_wash',\n",
       " 'happen_anti_semitism',\n",
       " 'happen_terroist',\n",
       " 'worry_morals',\n",
       " 'schools',\n",
       " 'ethnic_conflict',\n",
       " 'happen_rel',\n",
       " 'robot_replacement_means_better_jobs_for_humans',\n",
       " 'robot_replacement_increase_inequality',\n",
       " 'rel_groups',\n",
       " 'happen_70yr_labor',\n",
       " 'happen_alzheimers',\n",
       " 'replacement_by_robots_good_or_bad',\n",
       " 'race_and_ethnicity',\n",
       " 'highest_education_six_categories',\n",
       " 'internet_access',\n",
       " 'ss_money',\n",
       " 'fut_marriage',\n",
       " 'worry_climate',\n",
       " 'worry_public_schools',\n",
       " 'legal_immigration_levels']"
      ]
     },
     "execution_count": 20,
     "metadata": {},
     "output_type": "execute_result"
    }
   ],
   "source": [
    "important_for_males_list = important_for_males.index.to_list()\n",
    "important_for_males_list"
   ]
  },
  {
   "cell_type": "code",
   "execution_count": 21,
   "id": "7d62fccb",
   "metadata": {},
   "outputs": [
    {
     "data": {
      "text/plain": [
       "(59, 42)"
      ]
     },
     "execution_count": 21,
     "metadata": {},
     "output_type": "execute_result"
    }
   ],
   "source": [
    "len(important_for_females), len(important_for_males)"
   ]
  },
  {
   "cell_type": "code",
   "execution_count": 22,
   "id": "908241c7",
   "metadata": {},
   "outputs": [
    {
     "data": {
      "text/plain": [
       "{'age_impact',\n",
       " 'automation_good_or_bad',\n",
       " 'college_uni',\n",
       " 'ethnic_customs',\n",
       " 'ethnic_impact1',\n",
       " 'family_income_three_categories',\n",
       " 'fut_divorce',\n",
       " 'fut_kids',\n",
       " 'harass_interactions_f2',\n",
       " 'harass_sexual_personal_exp',\n",
       " 'hispanic_or_latino',\n",
       " 'inter_mar',\n",
       " 'major_corps',\n",
       " 'media',\n",
       " 'military',\n",
       " 'most_responsible_for_workers_f1',\n",
       " 'priority_increase_military',\n",
       " 'priority_infra_f1',\n",
       " 'priority_science',\n",
       " 'race',\n",
       " 'religion',\n",
       " 'share_americans_in_upper_class',\n",
       " 'state_local'}"
      ]
     },
     "execution_count": 22,
     "metadata": {},
     "output_type": "execute_result"
    }
   ],
   "source": [
    "important_for_females_but_not_males = set(important_for_females_list).difference(set(important_for_males_list))\n",
    "important_for_females_but_not_males"
   ]
  },
  {
   "cell_type": "code",
   "execution_count": 23,
   "id": "c19481a1",
   "metadata": {},
   "outputs": [
    {
     "data": {
      "text/plain": [
       "{'highest_education_six_categories',\n",
       " 'internet_access',\n",
       " 'legal_immigration_levels',\n",
       " 'replacement_by_robots_good_or_bad',\n",
       " 'robot_replacement_increase_inequality',\n",
       " 'schools'}"
      ]
     },
     "execution_count": 23,
     "metadata": {},
     "output_type": "execute_result"
    }
   ],
   "source": [
    "important_for_males_but_not_females = set(important_for_males_list).difference(set(important_for_females_list))\n",
    "important_for_males_but_not_females"
   ]
  },
  {
   "cell_type": "markdown",
   "id": "acb031b6",
   "metadata": {},
   "source": [
    "Women value a wider range of issues than men. Additionally, the majority of issues that are stastically significnat for men are stastically significant for women.  "
   ]
  },
  {
   "cell_type": "markdown",
   "id": "7f718737",
   "metadata": {},
   "source": [
    "<a name='politics'></a>\n",
    "## Explore by Political Party"
   ]
  },
  {
   "cell_type": "code",
   "execution_count": 24,
   "id": "7c392be6",
   "metadata": {},
   "outputs": [],
   "source": [
    "#Make subset of Republicans\n",
    "republicans_train = train[train.summary_of_political_party_data == ' Rep/Lean Rep']\n",
    "#Make subset of Democrats\n",
    "democrats_train = train[train.summary_of_political_party_data == 'Dem/Lean Dem']"
   ]
  },
  {
   "cell_type": "markdown",
   "id": "071cb648",
   "metadata": {},
   "source": [
    "### Most Important Issues for Republicans"
   ]
  },
  {
   "cell_type": "code",
   "execution_count": 25,
   "id": "a00da072",
   "metadata": {},
   "outputs": [
    {
     "data": {
      "text/html": [
       "<div>\n",
       "<style scoped>\n",
       "    .dataframe tbody tr th:only-of-type {\n",
       "        vertical-align: middle;\n",
       "    }\n",
       "\n",
       "    .dataframe tbody tr th {\n",
       "        vertical-align: top;\n",
       "    }\n",
       "\n",
       "    .dataframe thead th {\n",
       "        text-align: right;\n",
       "    }\n",
       "</style>\n",
       "<table border=\"1\" class=\"dataframe\">\n",
       "  <thead>\n",
       "    <tr style=\"text-align: right;\">\n",
       "      <th></th>\n",
       "      <th>chi2</th>\n",
       "      <th>p_val</th>\n",
       "      <th>deg_free</th>\n",
       "      <th>expected_freq</th>\n",
       "    </tr>\n",
       "  </thead>\n",
       "  <tbody>\n",
       "    <tr>\n",
       "      <th>happen_general</th>\n",
       "      <td>98.438035</td>\n",
       "      <td>4.211650e-22</td>\n",
       "      <td>2</td>\n",
       "      <td>[[10.749235474006117, 8.250764525993883], [87....</td>\n",
       "    </tr>\n",
       "    <tr>\n",
       "      <th>happen_pub_ed</th>\n",
       "      <td>59.258074</td>\n",
       "      <td>1.356041e-13</td>\n",
       "      <td>2</td>\n",
       "      <td>[[14.709480122324159, 11.290519877675841], [10...</td>\n",
       "    </tr>\n",
       "    <tr>\n",
       "      <th>happen_race</th>\n",
       "      <td>54.593977</td>\n",
       "      <td>1.396589e-12</td>\n",
       "      <td>2</td>\n",
       "      <td>[[78.63914373088684, 60.36085626911315], [93.9...</td>\n",
       "    </tr>\n",
       "    <tr>\n",
       "      <th>happen_usa</th>\n",
       "      <td>50.305248</td>\n",
       "      <td>1.192214e-11</td>\n",
       "      <td>2</td>\n",
       "      <td>[[16.972477064220183, 13.027522935779816], [95...</td>\n",
       "    </tr>\n",
       "    <tr>\n",
       "      <th>happen_child_f2</th>\n",
       "      <td>44.001051</td>\n",
       "      <td>1.508407e-09</td>\n",
       "      <td>3</td>\n",
       "      <td>[[33.379204892966364, 25.62079510703364], [46....</td>\n",
       "    </tr>\n",
       "    <tr>\n",
       "      <th>happen_politics</th>\n",
       "      <td>39.589532</td>\n",
       "      <td>2.530710e-09</td>\n",
       "      <td>2</td>\n",
       "      <td>[[13.577981651376147, 10.422018348623853], [48...</td>\n",
       "    </tr>\n",
       "    <tr>\n",
       "      <th>envir_50yrs</th>\n",
       "      <td>42.662311</td>\n",
       "      <td>2.902705e-09</td>\n",
       "      <td>3</td>\n",
       "      <td>[[80.90214067278288, 62.09785932721712], [30.5...</td>\n",
       "    </tr>\n",
       "    <tr>\n",
       "      <th>happen_health</th>\n",
       "      <td>39.248722</td>\n",
       "      <td>3.000878e-09</td>\n",
       "      <td>2</td>\n",
       "      <td>[[113.14984709480122, 86.85015290519878], [56....</td>\n",
       "    </tr>\n",
       "    <tr>\n",
       "      <th>debt_30yrs</th>\n",
       "      <td>44.053863</td>\n",
       "      <td>6.252610e-09</td>\n",
       "      <td>4</td>\n",
       "      <td>[[2.2629969418960245, 1.7370030581039755], [28...</td>\n",
       "    </tr>\n",
       "    <tr>\n",
       "      <th>worry_morals</th>\n",
       "      <td>42.672744</td>\n",
       "      <td>1.209885e-08</td>\n",
       "      <td>4</td>\n",
       "      <td>[[67.32415902140673, 51.67584097859327], [5.09...</td>\n",
       "    </tr>\n",
       "  </tbody>\n",
       "</table>\n",
       "</div>"
      ],
      "text/plain": [
       "                      chi2         p_val deg_free  \\\n",
       "happen_general   98.438035  4.211650e-22        2   \n",
       "happen_pub_ed    59.258074  1.356041e-13        2   \n",
       "happen_race      54.593977  1.396589e-12        2   \n",
       "happen_usa       50.305248  1.192214e-11        2   \n",
       "happen_child_f2  44.001051  1.508407e-09        3   \n",
       "happen_politics  39.589532  2.530710e-09        2   \n",
       "envir_50yrs      42.662311  2.902705e-09        3   \n",
       "happen_health    39.248722  3.000878e-09        2   \n",
       "debt_30yrs       44.053863  6.252610e-09        4   \n",
       "worry_morals     42.672744  1.209885e-08        4   \n",
       "\n",
       "                                                     expected_freq  \n",
       "happen_general   [[10.749235474006117, 8.250764525993883], [87....  \n",
       "happen_pub_ed    [[14.709480122324159, 11.290519877675841], [10...  \n",
       "happen_race      [[78.63914373088684, 60.36085626911315], [93.9...  \n",
       "happen_usa       [[16.972477064220183, 13.027522935779816], [95...  \n",
       "happen_child_f2  [[33.379204892966364, 25.62079510703364], [46....  \n",
       "happen_politics  [[13.577981651376147, 10.422018348623853], [48...  \n",
       "envir_50yrs      [[80.90214067278288, 62.09785932721712], [30.5...  \n",
       "happen_health    [[113.14984709480122, 86.85015290519878], [56....  \n",
       "debt_30yrs       [[2.2629969418960245, 1.7370030581039755], [28...  \n",
       "worry_morals     [[67.32415902140673, 51.67584097859327], [5.09...  "
      ]
     },
     "execution_count": 25,
     "metadata": {},
     "output_type": "execute_result"
    }
   ],
   "source": [
    "# Generate object\n",
    "obj_r = e.generate_and_return_obj(republicans_train)\n",
    "# Examine the chi2 results and return the most signficant values from them\n",
    "issues_republicans= obj_r.chi2_df.sort_values(by='p_val')\n",
    "issues_republicans.head(10)"
   ]
  },
  {
   "cell_type": "markdown",
   "id": "119d46f6",
   "metadata": {},
   "source": [
    "### Most Important Issues for Democrats"
   ]
  },
  {
   "cell_type": "code",
   "execution_count": 26,
   "id": "013c3922",
   "metadata": {},
   "outputs": [
    {
     "data": {
      "text/html": [
       "<div>\n",
       "<style scoped>\n",
       "    .dataframe tbody tr th:only-of-type {\n",
       "        vertical-align: middle;\n",
       "    }\n",
       "\n",
       "    .dataframe tbody tr th {\n",
       "        vertical-align: top;\n",
       "    }\n",
       "\n",
       "    .dataframe thead th {\n",
       "        text-align: right;\n",
       "    }\n",
       "</style>\n",
       "<table border=\"1\" class=\"dataframe\">\n",
       "  <thead>\n",
       "    <tr style=\"text-align: right;\">\n",
       "      <th></th>\n",
       "      <th>chi2</th>\n",
       "      <th>p_val</th>\n",
       "      <th>deg_free</th>\n",
       "      <th>expected_freq</th>\n",
       "    </tr>\n",
       "  </thead>\n",
       "  <tbody>\n",
       "    <tr>\n",
       "      <th>happen_general</th>\n",
       "      <td>104.696409</td>\n",
       "      <td>1.842738e-23</td>\n",
       "      <td>2</td>\n",
       "      <td>[[22.372365339578455, 18.627634660421545], [71...</td>\n",
       "    </tr>\n",
       "    <tr>\n",
       "      <th>happen_pub_ed</th>\n",
       "      <td>101.157391</td>\n",
       "      <td>1.081313e-22</td>\n",
       "      <td>2</td>\n",
       "      <td>[[20.18969555035129, 16.81030444964871], [115....</td>\n",
       "    </tr>\n",
       "    <tr>\n",
       "      <th>happen_race</th>\n",
       "      <td>81.262306</td>\n",
       "      <td>2.260032e-18</td>\n",
       "      <td>2</td>\n",
       "      <td>[[85.66978922716628, 71.33021077283372], [126....</td>\n",
       "    </tr>\n",
       "    <tr>\n",
       "      <th>happen_health</th>\n",
       "      <td>57.160823</td>\n",
       "      <td>3.869769e-13</td>\n",
       "      <td>2</td>\n",
       "      <td>[[132.59718969555036, 110.40281030444964], [79...</td>\n",
       "    </tr>\n",
       "    <tr>\n",
       "      <th>worry_economy</th>\n",
       "      <td>60.499532</td>\n",
       "      <td>4.597460e-13</td>\n",
       "      <td>3</td>\n",
       "      <td>[[117.86416861826697, 98.13583138173303], [1.6...</td>\n",
       "    </tr>\n",
       "    <tr>\n",
       "      <th>worry_leaders</th>\n",
       "      <td>56.285782</td>\n",
       "      <td>3.650540e-12</td>\n",
       "      <td>3</td>\n",
       "      <td>[[81.30444964871194, 67.69555035128806], [3.27...</td>\n",
       "    </tr>\n",
       "    <tr>\n",
       "      <th>happen_child_f2</th>\n",
       "      <td>55.042169</td>\n",
       "      <td>6.725404e-12</td>\n",
       "      <td>3</td>\n",
       "      <td>[[46.38173302107728, 38.61826697892272], [73.6...</td>\n",
       "    </tr>\n",
       "    <tr>\n",
       "      <th>job_security</th>\n",
       "      <td>48.406011</td>\n",
       "      <td>1.745288e-10</td>\n",
       "      <td>3</td>\n",
       "      <td>[[74.21077283372365, 61.78922716627635], [130....</td>\n",
       "    </tr>\n",
       "    <tr>\n",
       "      <th>happen_politics</th>\n",
       "      <td>43.472973</td>\n",
       "      <td>3.630478e-10</td>\n",
       "      <td>2</td>\n",
       "      <td>[[18.007025761124122, 14.992974238875878], [63...</td>\n",
       "    </tr>\n",
       "    <tr>\n",
       "      <th>happen_65up_f1</th>\n",
       "      <td>46.908123</td>\n",
       "      <td>3.635579e-10</td>\n",
       "      <td>3</td>\n",
       "      <td>[[31.10304449648712, 25.89695550351288], [67.1...</td>\n",
       "    </tr>\n",
       "  </tbody>\n",
       "</table>\n",
       "</div>"
      ],
      "text/plain": [
       "                       chi2         p_val deg_free  \\\n",
       "happen_general   104.696409  1.842738e-23        2   \n",
       "happen_pub_ed    101.157391  1.081313e-22        2   \n",
       "happen_race       81.262306  2.260032e-18        2   \n",
       "happen_health     57.160823  3.869769e-13        2   \n",
       "worry_economy     60.499532  4.597460e-13        3   \n",
       "worry_leaders     56.285782  3.650540e-12        3   \n",
       "happen_child_f2   55.042169  6.725404e-12        3   \n",
       "job_security      48.406011  1.745288e-10        3   \n",
       "happen_politics   43.472973  3.630478e-10        2   \n",
       "happen_65up_f1    46.908123  3.635579e-10        3   \n",
       "\n",
       "                                                     expected_freq  \n",
       "happen_general   [[22.372365339578455, 18.627634660421545], [71...  \n",
       "happen_pub_ed    [[20.18969555035129, 16.81030444964871], [115....  \n",
       "happen_race      [[85.66978922716628, 71.33021077283372], [126....  \n",
       "happen_health    [[132.59718969555036, 110.40281030444964], [79...  \n",
       "worry_economy    [[117.86416861826697, 98.13583138173303], [1.6...  \n",
       "worry_leaders    [[81.30444964871194, 67.69555035128806], [3.27...  \n",
       "happen_child_f2  [[46.38173302107728, 38.61826697892272], [73.6...  \n",
       "job_security     [[74.21077283372365, 61.78922716627635], [130....  \n",
       "happen_politics  [[18.007025761124122, 14.992974238875878], [63...  \n",
       "happen_65up_f1   [[31.10304449648712, 25.89695550351288], [67.1...  "
      ]
     },
     "execution_count": 26,
     "metadata": {},
     "output_type": "execute_result"
    }
   ],
   "source": [
    "# Generate object\n",
    "obj_d = e.generate_and_return_obj(democrats_train)\n",
    "# Examine the chi2 results and return the most signficant values from them\n",
    "issues_democrats = obj_d.chi2_df.sort_values(by='p_val')\n",
    "issues_democrats.head(10)"
   ]
  },
  {
   "cell_type": "markdown",
   "id": "63d8d69f",
   "metadata": {},
   "source": [
    "### Differences between Republicans and Democrats"
   ]
  },
  {
   "cell_type": "code",
   "execution_count": 27,
   "id": "93b9910c",
   "metadata": {},
   "outputs": [],
   "source": [
    "#Calculate issues with statistically significant correlation to pessimism for republicans\n",
    "important_for_republicans = issues_republicans[issues_republicans.p_val < 0.05]\n",
    "#Calculate issues with statistically significant correlation to pessimism for democrats\n",
    "important_for_democrats = issues_democrats[issues_democrats.p_val < 0.05]"
   ]
  },
  {
   "cell_type": "code",
   "execution_count": 28,
   "id": "b66fc30d",
   "metadata": {},
   "outputs": [
    {
     "data": {
      "text/plain": [
       "['happen_general',\n",
       " 'happen_pub_ed',\n",
       " 'happen_race',\n",
       " 'happen_usa',\n",
       " 'happen_child_f2',\n",
       " 'happen_politics',\n",
       " 'envir_50yrs',\n",
       " 'happen_health',\n",
       " 'debt_30yrs',\n",
       " 'worry_morals',\n",
       " 'happen_rel',\n",
       " 'worry_government',\n",
       " 'worry_economy',\n",
       " 'job_benefits',\n",
       " 'job_security',\n",
       " 'share_americans_in_middle_class',\n",
       " 'ethnic_conflict',\n",
       " 'happen_china',\n",
       " 'worry_leaders',\n",
       " 'happen_65up_f1',\n",
       " 'media',\n",
       " 'gov_in_wash',\n",
       " 'happen_anti_semitism',\n",
       " 'share_americans_in_lower_class',\n",
       " 'elder_care',\n",
       " 'happen_wealthgap',\n",
       " 'ethnic_customs',\n",
       " 'fut_divorce',\n",
       " 'happen_terroist',\n",
       " 'priority_avoid_tax_increase',\n",
       " 'worry_public_schools',\n",
       " 'automation_good_or_bad',\n",
       " 'robot_replacement_means_better_jobs_for_humans',\n",
       " 'ethnic_impact1',\n",
       " 'robot_replacement_increase_inequality',\n",
       " 'fut_marriage',\n",
       " 'pop_growth',\n",
       " 'religion',\n",
       " 'schools',\n",
       " 'state_local',\n",
       " 'happen_energy',\n",
       " 'college_uni',\n",
       " 'harass_interactions_f2',\n",
       " 'harass_false_f2',\n",
       " 'fut_abortion',\n",
       " 'priority_undocumented_immigration',\n",
       " 'replacement_by_robots_good_or_bad',\n",
       " 'form',\n",
       " 'political_views']"
      ]
     },
     "execution_count": 28,
     "metadata": {},
     "output_type": "execute_result"
    }
   ],
   "source": [
    "important_for_republicans_list = important_for_republicans.index.to_list()\n",
    "important_for_republicans_list"
   ]
  },
  {
   "cell_type": "code",
   "execution_count": 29,
   "id": "24cba5bd",
   "metadata": {},
   "outputs": [
    {
     "data": {
      "text/plain": [
       "['happen_general',\n",
       " 'happen_pub_ed',\n",
       " 'happen_race',\n",
       " 'happen_health',\n",
       " 'worry_economy',\n",
       " 'worry_leaders',\n",
       " 'happen_child_f2',\n",
       " 'job_security',\n",
       " 'happen_politics',\n",
       " 'happen_65up_f1',\n",
       " 'job_benefits',\n",
       " 'happen_usa',\n",
       " 'happen_anti_semitism',\n",
       " 'envir_50yrs',\n",
       " 'share_americans_in_middle_class',\n",
       " 'happen_wealthgap',\n",
       " 'worry_government',\n",
       " 'happen_energy',\n",
       " 'share_americans_in_lower_class',\n",
       " 'happen_70yr_labor',\n",
       " 'happen_china',\n",
       " 'elder_care',\n",
       " 'happen_terroist',\n",
       " 'worry_climate',\n",
       " 'rel_groups',\n",
       " 'debt_30yrs',\n",
       " 'ethnic_conflict',\n",
       " 'worry_morals',\n",
       " 'worries_federal_government',\n",
       " 'gov_in_wash',\n",
       " 'priority_increase_military',\n",
       " 'race_and_ethnicity',\n",
       " 'priority_climate',\n",
       " 'happen_alzheimers',\n",
       " 'schools',\n",
       " 'ss_money',\n",
       " 'race',\n",
       " 'church_attendance',\n",
       " 'state_local',\n",
       " 'robot_replacement_means_better_jobs_for_humans',\n",
       " 'media',\n",
       " 'major_corps',\n",
       " 'priority_inequality',\n",
       " 'fut_kids',\n",
       " 'harass_false_f2',\n",
       " 'military',\n",
       " 'harass_unbelieved_f2',\n",
       " 'happen_rel',\n",
       " 'age_impact',\n",
       " 'fut_marriage',\n",
       " 'robot_replacement_increase_inequality',\n",
       " 'priority_increase_social_security',\n",
       " 'automation_good_or_bad',\n",
       " 'pop_growth',\n",
       " 'replacement_by_robots_good_or_bad',\n",
       " 'college_uni']"
      ]
     },
     "execution_count": 29,
     "metadata": {},
     "output_type": "execute_result"
    }
   ],
   "source": [
    "important_for_democrats_list = important_for_democrats.index.to_list()\n",
    "important_for_democrats_list"
   ]
  },
  {
   "cell_type": "code",
   "execution_count": 30,
   "id": "4b8c63e4",
   "metadata": {},
   "outputs": [
    {
     "data": {
      "text/plain": [
       "(49, 56)"
      ]
     },
     "execution_count": 30,
     "metadata": {},
     "output_type": "execute_result"
    }
   ],
   "source": [
    "len(important_for_republicans), len(important_for_democrats)"
   ]
  },
  {
   "cell_type": "code",
   "execution_count": 31,
   "id": "1a757ce4",
   "metadata": {},
   "outputs": [
    {
     "data": {
      "text/plain": [
       "{'ethnic_customs',\n",
       " 'ethnic_impact1',\n",
       " 'form',\n",
       " 'fut_abortion',\n",
       " 'fut_divorce',\n",
       " 'harass_interactions_f2',\n",
       " 'political_views',\n",
       " 'priority_avoid_tax_increase',\n",
       " 'priority_undocumented_immigration',\n",
       " 'religion',\n",
       " 'worry_public_schools'}"
      ]
     },
     "execution_count": 31,
     "metadata": {},
     "output_type": "execute_result"
    }
   ],
   "source": [
    "important_for_republicans_but_not_democrats = set(important_for_republicans_list).difference(set(important_for_democrats_list))\n",
    "important_for_republicans_but_not_democrats"
   ]
  },
  {
   "cell_type": "code",
   "execution_count": 32,
   "id": "02e73204",
   "metadata": {},
   "outputs": [
    {
     "data": {
      "text/plain": [
       "{'age_impact',\n",
       " 'church_attendance',\n",
       " 'fut_kids',\n",
       " 'happen_70yr_labor',\n",
       " 'happen_alzheimers',\n",
       " 'harass_unbelieved_f2',\n",
       " 'major_corps',\n",
       " 'military',\n",
       " 'priority_climate',\n",
       " 'priority_increase_military',\n",
       " 'priority_increase_social_security',\n",
       " 'priority_inequality',\n",
       " 'race',\n",
       " 'race_and_ethnicity',\n",
       " 'rel_groups',\n",
       " 'ss_money',\n",
       " 'worries_federal_government',\n",
       " 'worry_climate'}"
      ]
     },
     "execution_count": 32,
     "metadata": {},
     "output_type": "execute_result"
    }
   ],
   "source": [
    "important_for_democrats_but_not_republicans = set(important_for_democrats_list).difference(set(important_for_republicans_list))\n",
    "important_for_democrats_but_not_republicans"
   ]
  },
  {
   "cell_type": "markdown",
   "id": "d1475945",
   "metadata": {},
   "source": [
    "There is significant overlap in the issues important for Republicans and Democrats. There are, however, some issues that are unique to each party that are predictive of overall pessismism. "
   ]
  },
  {
   "cell_type": "markdown",
   "id": "3aefa01e",
   "metadata": {},
   "source": [
    "<a name='income'></a>\n",
    "## Explore by Income Level"
   ]
  },
  {
   "cell_type": "code",
   "execution_count": 33,
   "id": "76d66393",
   "metadata": {},
   "outputs": [],
   "source": [
    "#Subset for less than $30,000 per year\n",
    "less_than_thirty = train[train.family_income_three_categories == '<$30,000']\n",
    "#Subset for $30,000-$75,000 per year\n",
    "thirty_to_seventy_five = train[train.family_income_three_categories == '$30-$74,999']\n",
    "#Subset for over $75,000 year\n",
    "over_seventy_five = train[train.family_income_three_categories == '$75,000+']"
   ]
  },
  {
   "cell_type": "markdown",
   "id": "7451691d",
   "metadata": {},
   "source": [
    "### Most important issues for households with income less than 30,000 USD per year"
   ]
  },
  {
   "cell_type": "code",
   "execution_count": 34,
   "id": "086f206b",
   "metadata": {},
   "outputs": [
    {
     "data": {
      "text/html": [
       "<div>\n",
       "<style scoped>\n",
       "    .dataframe tbody tr th:only-of-type {\n",
       "        vertical-align: middle;\n",
       "    }\n",
       "\n",
       "    .dataframe tbody tr th {\n",
       "        vertical-align: top;\n",
       "    }\n",
       "\n",
       "    .dataframe thead th {\n",
       "        text-align: right;\n",
       "    }\n",
       "</style>\n",
       "<table border=\"1\" class=\"dataframe\">\n",
       "  <thead>\n",
       "    <tr style=\"text-align: right;\">\n",
       "      <th></th>\n",
       "      <th>chi2</th>\n",
       "      <th>p_val</th>\n",
       "      <th>deg_free</th>\n",
       "      <th>expected_freq</th>\n",
       "    </tr>\n",
       "  </thead>\n",
       "  <tbody>\n",
       "    <tr>\n",
       "      <th>happen_general</th>\n",
       "      <td>46.584244</td>\n",
       "      <td>7.662312e-11</td>\n",
       "      <td>2</td>\n",
       "      <td>[[16.550925925925927, 8.449074074074074], [56....</td>\n",
       "    </tr>\n",
       "    <tr>\n",
       "      <th>happen_pub_ed</th>\n",
       "      <td>31.434289</td>\n",
       "      <td>1.493244e-07</td>\n",
       "      <td>2</td>\n",
       "      <td>[[25.15740740740741, 12.842592592592593], [60....</td>\n",
       "    </tr>\n",
       "    <tr>\n",
       "      <th>happen_usa</th>\n",
       "      <td>26.834199</td>\n",
       "      <td>1.489456e-06</td>\n",
       "      <td>2</td>\n",
       "      <td>[[26.48148148148148, 13.518518518518519], [76....</td>\n",
       "    </tr>\n",
       "    <tr>\n",
       "      <th>job_benefits</th>\n",
       "      <td>22.992765</td>\n",
       "      <td>4.052349e-05</td>\n",
       "      <td>3</td>\n",
       "      <td>[[50.31481481481482, 25.685185185185187], [42....</td>\n",
       "    </tr>\n",
       "    <tr>\n",
       "      <th>happen_rel</th>\n",
       "      <td>19.061700</td>\n",
       "      <td>7.257792e-05</td>\n",
       "      <td>2</td>\n",
       "      <td>[[22.50925925925926, 11.49074074074074], [61.5...</td>\n",
       "    </tr>\n",
       "    <tr>\n",
       "      <th>happen_energy</th>\n",
       "      <td>22.245197</td>\n",
       "      <td>1.791070e-04</td>\n",
       "      <td>4</td>\n",
       "      <td>[[0.6620370370370371, 0.33796296296296297], [3...</td>\n",
       "    </tr>\n",
       "    <tr>\n",
       "      <th>happen_child_f2</th>\n",
       "      <td>18.846143</td>\n",
       "      <td>2.941732e-04</td>\n",
       "      <td>3</td>\n",
       "      <td>[[30.453703703703702, 15.546296296296296], [34...</td>\n",
       "    </tr>\n",
       "    <tr>\n",
       "      <th>happen_health</th>\n",
       "      <td>15.640964</td>\n",
       "      <td>4.014281e-04</td>\n",
       "      <td>2</td>\n",
       "      <td>[[74.81018518518519, 38.18981481481482], [47.0...</td>\n",
       "    </tr>\n",
       "    <tr>\n",
       "      <th>happen_wealthgap</th>\n",
       "      <td>15.375666</td>\n",
       "      <td>4.583705e-04</td>\n",
       "      <td>2</td>\n",
       "      <td>[[19.199074074074073, 9.800925925925926], [21....</td>\n",
       "    </tr>\n",
       "    <tr>\n",
       "      <th>share_americans_in_middle_class</th>\n",
       "      <td>17.578168</td>\n",
       "      <td>5.373458e-04</td>\n",
       "      <td>3</td>\n",
       "      <td>[[56.273148148148145, 28.72685185185185], [43....</td>\n",
       "    </tr>\n",
       "  </tbody>\n",
       "</table>\n",
       "</div>"
      ],
      "text/plain": [
       "                                      chi2         p_val deg_free  \\\n",
       "happen_general                   46.584244  7.662312e-11        2   \n",
       "happen_pub_ed                    31.434289  1.493244e-07        2   \n",
       "happen_usa                       26.834199  1.489456e-06        2   \n",
       "job_benefits                     22.992765  4.052349e-05        3   \n",
       "happen_rel                       19.061700  7.257792e-05        2   \n",
       "happen_energy                    22.245197  1.791070e-04        4   \n",
       "happen_child_f2                  18.846143  2.941732e-04        3   \n",
       "happen_health                    15.640964  4.014281e-04        2   \n",
       "happen_wealthgap                 15.375666  4.583705e-04        2   \n",
       "share_americans_in_middle_class  17.578168  5.373458e-04        3   \n",
       "\n",
       "                                                                     expected_freq  \n",
       "happen_general                   [[16.550925925925927, 8.449074074074074], [56....  \n",
       "happen_pub_ed                    [[25.15740740740741, 12.842592592592593], [60....  \n",
       "happen_usa                       [[26.48148148148148, 13.518518518518519], [76....  \n",
       "job_benefits                     [[50.31481481481482, 25.685185185185187], [42....  \n",
       "happen_rel                       [[22.50925925925926, 11.49074074074074], [61.5...  \n",
       "happen_energy                    [[0.6620370370370371, 0.33796296296296297], [3...  \n",
       "happen_child_f2                  [[30.453703703703702, 15.546296296296296], [34...  \n",
       "happen_health                    [[74.81018518518519, 38.18981481481482], [47.0...  \n",
       "happen_wealthgap                 [[19.199074074074073, 9.800925925925926], [21....  \n",
       "share_americans_in_middle_class  [[56.273148148148145, 28.72685185185185], [43....  "
      ]
     },
     "execution_count": 34,
     "metadata": {},
     "output_type": "execute_result"
    }
   ],
   "source": [
    "# Generate object\n",
    "obj_lower = e.generate_and_return_obj(less_than_thirty)\n",
    "# Examine the chi2 results and return the most signficant values from them\n",
    "issues_lower = obj_lower.chi2_df.sort_values(by='p_val')\n",
    "issues_lower.head(10)"
   ]
  },
  {
   "cell_type": "markdown",
   "id": "6c1aa2d7",
   "metadata": {},
   "source": [
    "### Most important issues for households with income between 30,000 and 75,000 USD per year"
   ]
  },
  {
   "cell_type": "code",
   "execution_count": null,
   "id": "9a4d931c",
   "metadata": {},
   "outputs": [],
   "source": [
    "# Generate object\n",
    "obj_middle = e.generate_and_return_obj(thirty_to_seventy_five)\n",
    "# Examine the chi2 results and return the most signficant values from them\n",
    "issues_middle = obj_middle.chi2_df.sort_values(by='p_val')\n",
    "issues_middle.head(10)"
   ]
  },
  {
   "cell_type": "markdown",
   "id": "72ab8508",
   "metadata": {},
   "source": [
    "### Most important issues for household with income over  75,000 USD per year"
   ]
  },
  {
   "cell_type": "code",
   "execution_count": null,
   "id": "724f1832",
   "metadata": {},
   "outputs": [],
   "source": [
    "# Generate object\n",
    "obj_higher = e.generate_and_return_obj(over_seventy_five)\n",
    "# Examine the chi2 results and return the most signficant values from them\n",
    "issues_higher = obj_higher.chi2_df.sort_values(by='p_val')\n",
    "issues_higher.head(10)"
   ]
  },
  {
   "cell_type": "markdown",
   "id": "2c63eeca",
   "metadata": {},
   "source": [
    "### Differences in Importance of Issues by Income Level"
   ]
  },
  {
   "cell_type": "code",
   "execution_count": null,
   "id": "a17cbe1b",
   "metadata": {},
   "outputs": [],
   "source": [
    "#Calculate issues with statistically significant correlation to pessimism for income less than $30,000\n",
    "important_lower = issues_lower[issues_lower.p_val < 0.05]\n",
    "#Calculate issues with statistically significant correlation to pessimism for income $30,000-$75,000\n",
    "important_middle = issues_middle[issues_middle.p_val < 0.05]\n",
    "##Calculate issues with statistically significant correlation to pessimism for income over $75,000\n",
    "important_higher = issues_higher[issues_higher.p_val < 0.05]"
   ]
  },
  {
   "cell_type": "code",
   "execution_count": null,
   "id": "d7f4f80e",
   "metadata": {},
   "outputs": [],
   "source": [
    "important_lower_income_list = important_lower.index.to_list()\n",
    "important_lower_income_list"
   ]
  },
  {
   "cell_type": "code",
   "execution_count": null,
   "id": "148bfcad",
   "metadata": {},
   "outputs": [],
   "source": [
    "important_middle_income_list = important_middle.index.to_list()\n",
    "important_middle_income_list"
   ]
  },
  {
   "cell_type": "code",
   "execution_count": null,
   "id": "b1868e94",
   "metadata": {},
   "outputs": [],
   "source": [
    "important_higher_income_list = important_higher.index.to_list()\n",
    "important_higher_income_list"
   ]
  },
  {
   "cell_type": "code",
   "execution_count": null,
   "id": "fa288f2c",
   "metadata": {},
   "outputs": [],
   "source": [
    "len(important_lower_income_list), len(important_middle_income_list), len(important_higher_income_list)"
   ]
  },
  {
   "cell_type": "code",
   "execution_count": null,
   "id": "7e88d34e",
   "metadata": {},
   "outputs": [],
   "source": [
    "#Important issues just for lower income\n",
    "important_for_only_lower_income = set(important_lower_income_list).difference(set(important_middle_income_list)).difference(set(important_higher_income_list))\n",
    "important_for_only_lower_income"
   ]
  },
  {
   "cell_type": "code",
   "execution_count": null,
   "id": "47a8966a",
   "metadata": {},
   "outputs": [],
   "source": [
    "#Important issues just for middle income\n",
    "important_for_only_middle_income = set(important_middle_income_list).difference(set(important_lower_income_list)).difference(set(important_higher_income_list))\n",
    "important_for_only_middle_income"
   ]
  },
  {
   "cell_type": "code",
   "execution_count": null,
   "id": "32cf2790",
   "metadata": {},
   "outputs": [],
   "source": [
    "#Important issues just for higher income\n",
    "important_for_only_higher_income = set(important_higher_income_list).difference(set(important_lower_income_list)).difference(set(important_middle_income_list))\n",
    "important_for_only_higher_income"
   ]
  },
  {
   "cell_type": "markdown",
   "id": "0468d7a3",
   "metadata": {},
   "source": [
    "There is significant overlap in the issues each income level group cares about. However, there are some issues unique to each income group, listed above. "
   ]
  },
  {
   "cell_type": "markdown",
   "id": "aa57733d",
   "metadata": {},
   "source": [
    "<a name='education'></a>\n",
    "## Explore by Education Level "
   ]
  },
  {
   "cell_type": "code",
   "execution_count": null,
   "id": "488dc3f8",
   "metadata": {},
   "outputs": [],
   "source": [
    "#Education Level high school or less\n",
    "high_school_train = train[train.highest_education_three_categories == 'H.S. graduate or less']\n",
    "#Education level some college\n",
    "some_college_train = train[train.highest_education_three_categories == 'Some College']\n",
    "#Education level college graduate and above\n",
    "college_grad_train = train[train.highest_education_three_categories == 'College graduate+']"
   ]
  },
  {
   "cell_type": "markdown",
   "id": "830f1112",
   "metadata": {},
   "source": [
    "### Most important issues for education level high school or less"
   ]
  },
  {
   "cell_type": "code",
   "execution_count": null,
   "id": "a6853c19",
   "metadata": {},
   "outputs": [],
   "source": [
    "# Generate object\n",
    "obj_high_school_or_less = e.generate_and_return_obj(high_school_train)\n",
    "# Examine the chi2 results and return the most signficant values from them\n",
    "issues_high_school_or_less = obj_high_school_or_less.chi2_df.sort_values(by='p_val')\n",
    "issues_high_school_or_less.head(10)"
   ]
  },
  {
   "cell_type": "markdown",
   "id": "1638f959",
   "metadata": {},
   "source": [
    "### Most important issues for education level some college"
   ]
  },
  {
   "cell_type": "code",
   "execution_count": null,
   "id": "900c6a56",
   "metadata": {},
   "outputs": [],
   "source": [
    "# Generate object\n",
    "obj_some_college = e.generate_and_return_obj(some_college_train)\n",
    "# Examine the chi2 results and return the most signficant values from them\n",
    "issues_some_college = obj_some_college.chi2_df.sort_values(by='p_val')\n",
    "issues_some_college.head(10)"
   ]
  },
  {
   "cell_type": "markdown",
   "id": "242e9c60",
   "metadata": {},
   "source": [
    "### Most important issues for education level college graduate and above"
   ]
  },
  {
   "cell_type": "code",
   "execution_count": null,
   "id": "77c142cb",
   "metadata": {},
   "outputs": [],
   "source": [
    "# Generate object\n",
    "obj_college_grad = e.generate_and_return_obj(college_grad_train)\n",
    "# Examine the chi2 results and return the most signficant values from them\n",
    "issues_college_grad = obj_college_grad.chi2_df.sort_values(by='p_val')\n",
    "issues_college_grad.head(10)"
   ]
  },
  {
   "cell_type": "markdown",
   "id": "fba5a0ea",
   "metadata": {},
   "source": [
    "### Differences in Importance of Issues by Education Level "
   ]
  },
  {
   "cell_type": "code",
   "execution_count": null,
   "id": "19e715e5",
   "metadata": {},
   "outputs": [],
   "source": [
    "#Calculate issues with statistically significant correlation to pessimism for income less than $30,000\n",
    "important_high_school = issues_high_school_or_less[issues_high_school_or_less.p_val < 0.05]\n",
    "#Calculate issues with statistically significant correlation to pessimism for income $30,000-$75,000\n",
    "important_some_college = issues_some_college[issues_some_college.p_val < 0.05]\n",
    "##Calculate issues with statistically significant correlation to pessimism for income over $75,000\n",
    "important_college_grad = issues_college_grad[issues_college_grad.p_val < 0.05]"
   ]
  },
  {
   "cell_type": "code",
   "execution_count": null,
   "id": "65546595",
   "metadata": {},
   "outputs": [],
   "source": [
    "important_high_school_list = important_high_school.index.to_list()\n",
    "important_high_school_list"
   ]
  },
  {
   "cell_type": "code",
   "execution_count": null,
   "id": "33835408",
   "metadata": {},
   "outputs": [],
   "source": [
    "important_some_college_list = important_some_college.index.to_list()\n",
    "important_some_college_list"
   ]
  },
  {
   "cell_type": "code",
   "execution_count": null,
   "id": "2658c8ca",
   "metadata": {},
   "outputs": [],
   "source": [
    "important_college_grad_list = important_college_grad.index.to_list()\n",
    "important_college_grad_list"
   ]
  },
  {
   "cell_type": "code",
   "execution_count": null,
   "id": "7ade3669",
   "metadata": {},
   "outputs": [],
   "source": [
    "len(important_high_school_list), len(important_some_college_list), len(important_college_grad_list)"
   ]
  },
  {
   "cell_type": "code",
   "execution_count": null,
   "id": "9492c418",
   "metadata": {},
   "outputs": [],
   "source": [
    "#Important issues just for education level high school or less\n",
    "important_for_only_high_school_or_less= set(important_high_school_list).difference(set(important_some_college_list)).difference(set(important_college_grad_list))\n",
    "important_for_only_high_school_or_less"
   ]
  },
  {
   "cell_type": "code",
   "execution_count": null,
   "id": "cf1e1c0d",
   "metadata": {},
   "outputs": [],
   "source": [
    "#Important issues just for education level some college\n",
    "important_for_only_some_college= set(important_some_college_list).difference(set(important_high_school_list)).difference(set(important_college_grad_list))\n",
    "important_for_only_some_college"
   ]
  },
  {
   "cell_type": "code",
   "execution_count": null,
   "id": "040ef654",
   "metadata": {},
   "outputs": [],
   "source": [
    "#Important issues just for education level college graduate and above \n",
    "important_for_only_college_graduates = set(important_college_grad_list).difference(set(important_high_school_list)).difference(set(important_some_college_list))\n",
    "important_for_only_college_graduates"
   ]
  },
  {
   "cell_type": "markdown",
   "id": "ca0cc180",
   "metadata": {},
   "source": [
    "People with a high school education or less have the most significant issues, followed by college graduates. People with some college but no degree have the least amount of significant issues. "
   ]
  },
  {
   "cell_type": "markdown",
   "id": "c79ea6cb-7b88-4355-9b51-02dcdbc40970",
   "metadata": {},
   "source": [
    "<a name='clustering'></a>\n",
    "## Clustering\n",
    "\n",
    "- We will create clusters for `age` and `census_region` columns with the k-means method using important and unique topics to each subset\n",
    "- For `age`, we will cluster with the following topics:\n",
    "    - education\n",
    "    - wealth\n",
    "    - country_status\n",
    "- For `census_region`, we will cluster with the following topics:\n",
    "    - climate\n",
    "    - immigration\n",
    "    - religion\n",
    "- We will then run chi-square tests to check for dependence in relation to our target variable, `is_pes`."
   ]
  },
  {
   "cell_type": "markdown",
   "id": "4459e2e1-df36-40fc-8b65-f2a02c9ec08f",
   "metadata": {},
   "source": [
    "### Let's begin with Age\n",
    "- Below is a graph that shows the percentage of pessimistic people for each age group"
   ]
  },
  {
   "cell_type": "code",
   "execution_count": null,
   "id": "dcebc905-081a-44b5-a528-6414a59dc713",
   "metadata": {},
   "outputs": [],
   "source": [
    "bar_graph_percent_pessimistic(train[train.age!='DK/REF'], \"is_pes\", \"age\")"
   ]
  },
  {
   "cell_type": "markdown",
   "id": "e5c9fe25-6e4e-4c9e-89d3-c53be33fd4c4",
   "metadata": {},
   "source": [
    "#### Age and Education"
   ]
  },
  {
   "cell_type": "code",
   "execution_count": null,
   "id": "26902075-937a-47ab-ac28-3e9575db7073",
   "metadata": {},
   "outputs": [],
   "source": [
    "e.find_k(train.replace(replace_key), ['age', 'happen_pub_ed', 'schools'], range(2,20))"
   ]
  },
  {
   "cell_type": "code",
   "execution_count": null,
   "id": "851d5fe8-ebca-4878-9b9c-862e74fee31e",
   "metadata": {},
   "outputs": [],
   "source": [
    "# Fit K-Means (just on train, again!)\n",
    "X = train[['age', 'happen_pub_ed', 'schools']].replace(replace_key)\n",
    "kmeans = KMeans(n_clusters=6, random_state=123)\n",
    "kmeans.fit(X)\n",
    "\n",
    "train['age_edu_cluster'] = kmeans.predict(X)\n",
    "df['age_edu_cluster'] = kmeans.predict(df[['age', 'happen_pub_ed', 'schools']].replace(replace_key))"
   ]
  },
  {
   "cell_type": "code",
   "execution_count": null,
   "id": "12a4f5dc-64b9-4437-bb16-ca353431e5a4",
   "metadata": {},
   "outputs": [],
   "source": [
    "# create a df to allow us to visualize where the centroids are\n",
    "centroids = pd.DataFrame(kmeans.cluster_centers_, columns=X.columns)\n",
    "\n",
    "# visualize cluster with centroids\n",
    "plt.figure(figsize=(10, 7))\n",
    "\n",
    "for cluster, subset in train.groupby('age_edu_cluster'):\n",
    "    plt.scatter(subset.schools, subset.happen_pub_ed, label='cluster ' + str(cluster), alpha=.6)\n",
    "    \n",
    "centroids.plot.scatter(y='happen_pub_ed', x='schools', c='black', marker='x', s=1000, ax=plt.gca(), label='centroid')\n",
    "\n",
    "plt.legend()\n",
    "plt.xlabel('schools')\n",
    "plt.ylabel('happen_pub_ed')\n",
    "plt.title('Visualizing Cluster Centers')\n",
    "plt.savefig('images/age_education.jpeg', bbox_inches='tight')"
   ]
  },
  {
   "cell_type": "markdown",
   "id": "689a7473-3090-4eb6-a0af-3e0762fe744d",
   "metadata": {},
   "source": [
    "#### Age and Wealth"
   ]
  },
  {
   "cell_type": "code",
   "execution_count": null,
   "id": "7be8f39b-1125-4db8-823d-ea272cde53ab",
   "metadata": {},
   "outputs": [],
   "source": [
    "e.find_k(train.replace(replace_key), ['age', 'happen_wealthgap', 'share_americans_in_upper_class'], range(2,20))"
   ]
  },
  {
   "cell_type": "code",
   "execution_count": null,
   "id": "ea870d4e-15c2-47e9-9827-fe5ff09141d4",
   "metadata": {},
   "outputs": [],
   "source": [
    "# Fit K-Means (just on train, again!)\n",
    "X = train[['age', 'happen_wealthgap', 'share_americans_in_upper_class']].replace(replace_key)\n",
    "kmeans = KMeans(n_clusters=7, random_state=123)\n",
    "kmeans.fit(X)\n",
    "\n",
    "train['age_wealth_cluster'] = kmeans.predict(X)\n",
    "df['age_wealth_cluster'] = kmeans.predict(df[['age', 'happen_wealthgap', 'share_americans_in_upper_class']].replace(replace_key))"
   ]
  },
  {
   "cell_type": "code",
   "execution_count": null,
   "id": "3cf1c896-f904-4b5f-b14c-71f80c0556d8",
   "metadata": {},
   "outputs": [],
   "source": [
    "# create a df to allow us to visualize where the centroids are\n",
    "centroids = pd.DataFrame(kmeans.cluster_centers_, columns=X.columns)\n",
    "\n",
    "# visualize cluster with centroids\n",
    "plt.figure(figsize=(10, 7))\n",
    "\n",
    "for cluster, subset in train.groupby('age_wealth_cluster'):\n",
    "    plt.scatter(subset.share_americans_in_upper_class, subset.happen_wealthgap, label='cluster ' + str(cluster), alpha=.6)\n",
    "    \n",
    "centroids.plot.scatter(y='happen_wealthgap', x='share_americans_in_upper_class', c='black', marker='x', s=1000, ax=plt.gca(), label='centroid')\n",
    "\n",
    "plt.legend()\n",
    "plt.xlabel('share_americans_in_upper_class')\n",
    "plt.ylabel('happen_wealthgap')\n",
    "plt.title('Visualizing Cluster Centers')"
   ]
  },
  {
   "cell_type": "markdown",
   "id": "4ac3a21a-aad1-4915-b7d2-cf133316d5d7",
   "metadata": {},
   "source": [
    "#### Age and country status"
   ]
  },
  {
   "cell_type": "code",
   "execution_count": null,
   "id": "0cf75ed7-e31a-4aaa-a678-7b8b90c28023",
   "metadata": {},
   "outputs": [],
   "source": [
    "e.find_k(train.replace(replace_key), ['age', 'happen_usa', 'happen_china'], range(2,20))"
   ]
  },
  {
   "cell_type": "code",
   "execution_count": null,
   "id": "45764ca4-70ef-4dcb-be3a-743696013e9a",
   "metadata": {},
   "outputs": [],
   "source": [
    "# Fit K-Means (just on train, again!)\n",
    "X = train[['age', 'happen_usa', 'happen_china']].replace(replace_key)\n",
    "kmeans = KMeans(n_clusters=3, random_state=123)\n",
    "kmeans.fit(X)\n",
    "\n",
    "train['age_status_cluster'] = kmeans.predict(X)\n",
    "df['age_status_cluster'] = kmeans.predict(df[['age', 'happen_usa', 'happen_china']].replace(replace_key))"
   ]
  },
  {
   "cell_type": "code",
   "execution_count": null,
   "id": "8274c3a9-a27e-47b1-b504-9e599e43d697",
   "metadata": {},
   "outputs": [],
   "source": [
    "# create a df to allow us to visualize where the centroids are\n",
    "centroids = pd.DataFrame(kmeans.cluster_centers_, columns=X.columns)\n",
    "\n",
    "# visualize cluster with centroids\n",
    "plt.figure(figsize=(10, 7))\n",
    "\n",
    "for cluster, subset in train.groupby('age_status_cluster'):\n",
    "    plt.scatter(subset.happen_usa, subset.happen_china, label='cluster ' + str(cluster), alpha=.6)\n",
    "    \n",
    "centroids.plot.scatter(y='happen_china', x='happen_usa', c='black', marker='x', s=1000, ax=plt.gca(), label='centroid')\n",
    "\n",
    "plt.legend()\n",
    "plt.xlabel('happen_usa')\n",
    "plt.ylabel('happen_china')\n",
    "plt.title('Visualizing Cluster Centers')"
   ]
  },
  {
   "cell_type": "markdown",
   "id": "04553790-b246-4fce-909b-a92fac793d29",
   "metadata": {},
   "source": [
    "### Now we work with Region\n",
    "- Below is a graph that shows the percentage of pessimistic people for each regional group"
   ]
  },
  {
   "cell_type": "code",
   "execution_count": null,
   "id": "a0b43ab9-d21c-4f51-a7f3-a6846ac66777",
   "metadata": {
    "tags": []
   },
   "outputs": [],
   "source": [
    "bar_graph_percent_pessimistic(train, \"is_pes\", \"census_region\")"
   ]
  },
  {
   "cell_type": "markdown",
   "id": "4c2f05c0-fa14-467e-b03a-08ae0e4e39ff",
   "metadata": {},
   "source": [
    "#### Region and Climate"
   ]
  },
  {
   "cell_type": "code",
   "execution_count": null,
   "id": "84b376c5-c497-482f-8d7e-3b18a41cebe1",
   "metadata": {},
   "outputs": [],
   "source": [
    "e.find_k(train.replace(replace_key), ['census_region', 'worry_climate', 'priority_climate'], range(2,20))"
   ]
  },
  {
   "cell_type": "code",
   "execution_count": null,
   "id": "26f023be-eaa1-40bc-968a-8745bd50d4ab",
   "metadata": {},
   "outputs": [],
   "source": [
    "# Fit K-Means (just on train, again!)\n",
    "X = train[['census_region', 'priority_climate', 'worry_climate']].replace(replace_key)\n",
    "kmeans = KMeans(n_clusters=7, random_state=123)\n",
    "kmeans.fit(X)\n",
    "\n",
    "train['region_climate_cluster'] = kmeans.predict(X)\n",
    "\n",
    "# We add these clusters to the original data frame to be used in the modeling section\n",
    "df['region_climate_cluster'] = kmeans.predict(df[['census_region', 'priority_climate', 'worry_climate']].replace(replace_key))"
   ]
  },
  {
   "cell_type": "code",
   "execution_count": null,
   "id": "2838e4b1-6bc4-4a28-a679-3b27cd488c9e",
   "metadata": {},
   "outputs": [],
   "source": [
    "# create a df to allow us to visualize where the centroids are\n",
    "centroids = pd.DataFrame(kmeans.cluster_centers_, columns=X.columns)\n",
    "\n",
    "# visualize cluster with centroids\n",
    "plt.figure(figsize=(10, 7))\n",
    "\n",
    "for cluster, subset in train.groupby('region_climate_cluster'):\n",
    "    plt.scatter(subset.worry_climate, subset.priority_climate, label='cluster ' + str(cluster), alpha=.6)\n",
    "    \n",
    "centroids.plot.scatter(y='priority_climate', x='worry_climate', c='black', marker='x', s=1000, ax=plt.gca(), label='centroid')\n",
    "\n",
    "plt.legend()\n",
    "plt.xlabel('worry_climate')\n",
    "plt.ylabel('priority_climate')\n",
    "plt.title('Visualizing Cluster Centers')"
   ]
  },
  {
   "cell_type": "markdown",
   "id": "5d4b0695-6c88-4125-95bc-ce9cbd7508d4",
   "metadata": {},
   "source": [
    "#### Region and Immigration"
   ]
  },
  {
   "cell_type": "code",
   "execution_count": null,
   "id": "b91e0f8b-e5df-41c3-b230-aebabbdf34c2",
   "metadata": {},
   "outputs": [],
   "source": [
    "e.find_k(train.replace(replace_key), ['census_region', 'legal_immigration_levels', 'priority_more_immigration'], range(2,20))"
   ]
  },
  {
   "cell_type": "code",
   "execution_count": null,
   "id": "55bd75ac-4028-44bd-b669-ea6b4ca498c0",
   "metadata": {},
   "outputs": [],
   "source": [
    "# Fit K-Means (just on train, again!)\n",
    "X = train[['census_region', 'legal_immigration_levels', 'priority_more_immigration']].replace(replace_key)\n",
    "kmeans = KMeans(n_clusters=8, random_state=123)\n",
    "kmeans.fit(X)\n",
    "\n",
    "train['region_imm_cluster'] = kmeans.predict(X)\n",
    "\n",
    "# We add these clusters to the original data frame to be used in the modeling section\n",
    "df['region_imm_cluster'] = kmeans.predict(df[['census_region', 'legal_immigration_levels', 'priority_more_immigration']].replace(replace_key))"
   ]
  },
  {
   "cell_type": "code",
   "execution_count": null,
   "id": "c84d5b23-eeae-4def-a6b7-0c3d10d71e11",
   "metadata": {},
   "outputs": [],
   "source": [
    "# create a df to allow us to visualize where the centroids are\n",
    "centroids = pd.DataFrame(kmeans.cluster_centers_, columns=X.columns)\n",
    "\n",
    "# visualize cluster with centroids\n",
    "plt.figure(figsize=(10, 7))\n",
    "\n",
    "for cluster, subset in train.groupby('region_imm_cluster'):\n",
    "    plt.scatter(subset.legal_immigration_levels, subset.priority_more_immigration, label='cluster ' + str(cluster), alpha=.6)\n",
    "    \n",
    "centroids.plot.scatter(y='priority_more_immigration', x='legal_immigration_levels', c='black', marker='x', s=1000, ax=plt.gca(), label='centroid')\n",
    "\n",
    "plt.legend()\n",
    "plt.xlabel('legal_immigration_levels')\n",
    "plt.ylabel('priority_more_immigration')\n",
    "plt.title('Visualizing Cluster Centers')"
   ]
  },
  {
   "cell_type": "markdown",
   "id": "1f5053c0-d6ab-4cbb-ab33-6f865cf3345a",
   "metadata": {},
   "source": [
    "#### Region and Religion"
   ]
  },
  {
   "cell_type": "code",
   "execution_count": null,
   "id": "b672fc4f-3c64-4c31-9860-ecda748bf69c",
   "metadata": {},
   "outputs": [],
   "source": [
    "e.find_k(train.replace(replace_key), ['census_region', 'rel_groups', 'happen_rel'], range(2,20))"
   ]
  },
  {
   "cell_type": "code",
   "execution_count": null,
   "id": "2d2838b3-eafb-4507-9fca-a16f8ad00cff",
   "metadata": {},
   "outputs": [],
   "source": [
    "# Fit K-Means (just on train, again!)\n",
    "X = train[['census_region', 'rel_groups', 'happen_rel']].replace(replace_key)\n",
    "kmeans = KMeans(n_clusters=7, random_state=123)\n",
    "kmeans.fit(X)\n",
    "\n",
    "train['region_religion_cluster'] = kmeans.predict(X)\n",
    "\n",
    "# We add these clusters to the original data frame to be used in the modeling section\n",
    "df['region_religion_cluster'] = kmeans.predict(df[['census_region', 'rel_groups', 'happen_rel']].replace(replace_key))"
   ]
  },
  {
   "cell_type": "code",
   "execution_count": null,
   "id": "8d8b6f8e-1a8f-4dd9-8764-8c3f6c682afc",
   "metadata": {},
   "outputs": [],
   "source": [
    "# create a df to allow us to visualize where the centroids are\n",
    "centroids = pd.DataFrame(kmeans.cluster_centers_, columns=X.columns)\n",
    "\n",
    "# visualize cluster with centroids\n",
    "plt.figure(figsize=(10, 7))\n",
    "\n",
    "for cluster, subset in train.groupby('region_religion_cluster'):\n",
    "    plt.scatter(subset.happen_rel, subset.rel_groups, label='cluster ' + str(cluster), alpha=.6)\n",
    "    \n",
    "centroids.plot.scatter(y='rel_groups', x='happen_rel', c='black', marker='x', s=1000, ax=plt.gca(), label='centroid')\n",
    "\n",
    "plt.legend()\n",
    "plt.xlabel('happen_rel')\n",
    "plt.ylabel('rel_groups')\n",
    "plt.title('Visualizing Cluster Centers')"
   ]
  },
  {
   "cell_type": "markdown",
   "id": "07b0404c-3ca2-4c1b-b769-57167de64b48",
   "metadata": {},
   "source": [
    "#### Now lets run the chi-square test on each of the subsets"
   ]
  },
  {
   "cell_type": "code",
   "execution_count": null,
   "id": "d7523a83-a419-4b71-8815-b1910ba5a97f",
   "metadata": {},
   "outputs": [],
   "source": [
    "# Generate object\n",
    "obj = e.generate_and_return_obj(df[['age_edu_cluster', 'age_wealth_cluster', 'age_status_cluster', 'region_climate_cluster', 'region_imm_cluster', 'region_religion_cluster', 'is_pes']])\n",
    "# Examine the chi2 results and return the statistical values\n",
    "obj.chi2_df.sort_values(by='p_val')"
   ]
  },
  {
   "cell_type": "markdown",
   "id": "700cf01a",
   "metadata": {},
   "source": [
    "<a name='explore_takeaways'></a>\n",
    "## Explore Takeaways\n",
    "\n",
    "> - There a small differences in future outlook when considering sex, income and education.\n",
    "> - When it comes to age and region, it seems like western individuals who are 65 years of age and older are the most pessimistic, while southern 18 to 29 year olds are the most optimisitc.\n",
    "> - While small differences exist, they do not appear to be significant.\n",
    "> - Through chi-squared testing, we verify that there is not a significant relationship between these features and our target.\n",
    "> - Even though they are not necessarily drivers of overall future outlook, the findings are still helpful in isolation.\n",
    "> - We used chi-squared stastical testing to find the issues significantly correlated with pessimism. \n",
    "     - The subgroups we analyzed were based on:\n",
    "          - gender (men and women), \n",
    "          - political party (Republicans and Democrats), \n",
    "          - income level (less than 30,000 USD, between 30,000 and 75,000 USD, and more than 75,000 USD), and\n",
    "          - education level (high school or less, some college, college graduates and above). \n",
    "     - Each subgroup had a series of issues uniquely significant to that subgroup.\n",
    "    > - We created clusters for `age` and `census_region`. However, from the statistical tests, we found that none of the clusters could significantly predict pessimism.\n",
    "\n",
    "\n",
    "<div style=\"text-align: right\"><a href='#toc'>Table of Contents</a></div>\n",
    "<hr style=\"border-top: 10px groove tan; margin-top: 1px; margin-bottom: 1px\"></hr>"
   ]
  },
  {
   "cell_type": "markdown",
   "id": "b1119fc6",
   "metadata": {},
   "source": [
    "<a name='modeling'></a>\n",
    "# Modeling & Evaluation\n",
    "✓ _Plan_ ➜ ✓ _Acquire_ ➜ ✓ _Prepare_ ➜ ✓ _Explore_ ➜ 🟢 **Model** ➜ ☐ _Deliver_\n",
    "\n",
    "> - We first have to choose a baseline to compare our models against.\n",
    "> - The main models we will be using are Decision Tree, Random Forest, and K-Nearest Neighbor.\n",
    "> - We will use different variations of our models until we determine one model to have outperformed our baseline and to have avoided overfitting or underfitting on the training data.\n",
    "> - We will also be testing feature importance to see what drives an individual's overall attitude.\n",
    "> - Once we choose our best model, we will run this model on our Out-of-sample dataset."
   ]
  },
  {
   "cell_type": "code",
   "execution_count": null,
   "id": "87882d60",
   "metadata": {},
   "outputs": [],
   "source": [
    "#Get dummy variables for Classification models\n",
    "o = e.generate_and_return_obj(df)\n",
    "o.X_train_dummies.head()"
   ]
  },
  {
   "cell_type": "code",
   "execution_count": null,
   "id": "48cd0eb4",
   "metadata": {},
   "outputs": [],
   "source": [
    "#We will turn off column truncation so that we can see the names of each model\n",
    "pd.set_option('display.max_colwidth', None)"
   ]
  },
  {
   "cell_type": "markdown",
   "id": "a724de46",
   "metadata": {},
   "source": [
    "<a name='baseline'></a>\n",
    "## Baseline\n",
    "Let's set a baseline score to compare our models against."
   ]
  },
  {
   "cell_type": "code",
   "execution_count": null,
   "id": "55e30b6b",
   "metadata": {},
   "outputs": [],
   "source": [
    "# We use the mean value based off of our target variable\n",
    "print(f'Baseline Accuracy: {(1.00 - round(o.y_train_dummies.mean(), 4))* 100}%')"
   ]
  },
  {
   "cell_type": "markdown",
   "id": "d4ceee35",
   "metadata": {},
   "source": [
    "We now have a baseline!"
   ]
  },
  {
   "cell_type": "markdown",
   "id": "1b021f8c",
   "metadata": {},
   "source": [
    "To evaluate our models, we will create a DataFrame to compare the performance of each model. "
   ]
  },
  {
   "cell_type": "code",
   "execution_count": null,
   "id": "ed82c87a",
   "metadata": {},
   "outputs": [],
   "source": [
    "# Create a dataframe to store and compare our models' performances\n",
    "score_df = pd.DataFrame(columns = ['model_name', 'train_score', 'validate_score'])\n",
    "score_df"
   ]
  },
  {
   "cell_type": "code",
   "execution_count": null,
   "id": "10c392fa",
   "metadata": {},
   "outputs": [],
   "source": [
    "models_list = []\n",
    "models_name = []"
   ]
  },
  {
   "cell_type": "markdown",
   "id": "d064b035",
   "metadata": {},
   "source": [
    "<a name='decision_tree'></a>\n",
    "## Decision Tree"
   ]
  },
  {
   "cell_type": "code",
   "execution_count": null,
   "id": "14d2d871",
   "metadata": {},
   "outputs": [],
   "source": [
    "# Thise function takes in the max_depth value of our tree\n",
    "# returns tree parameters and a corresponding name\n",
    "tree_list, tree_model_name_list = m.decision_tree_models(10)"
   ]
  },
  {
   "cell_type": "code",
   "execution_count": null,
   "id": "df6a00e2",
   "metadata": {},
   "outputs": [],
   "source": [
    "models_list.append(tree_list)\n",
    "models_name.append(tree_model_name_list)"
   ]
  },
  {
   "cell_type": "code",
   "execution_count": null,
   "id": "b6b91cdf",
   "metadata": {},
   "outputs": [],
   "source": [
    "# Run models based off specified parameters\n",
    "# Append results to score_df\n",
    "for model, name in zip(tree_list, tree_model_name_list):\n",
    "    score_df = m.test_a_model(o.X_train_dummies, o.y_train_dummies, o.X_validate_dummies, o.y_validate_dummies, model, name, score_df)"
   ]
  },
  {
   "cell_type": "code",
   "execution_count": null,
   "id": "403cb47e",
   "metadata": {},
   "outputs": [],
   "source": [
    "score_df.sort_values(by = \"validate_score\", ascending = False)"
   ]
  },
  {
   "cell_type": "markdown",
   "id": "1cbf2259",
   "metadata": {},
   "source": [
    "<a name='random_forest'></a>\n",
    "## Random Forest"
   ]
  },
  {
   "cell_type": "code",
   "execution_count": null,
   "id": "0504c135",
   "metadata": {},
   "outputs": [],
   "source": [
    "# This function takes in the max_depth value of our tree\n",
    "# returns tree parameters and a corresponding name\n",
    "forest_list, forest_name_list = m.random_forest_models(10, 10, 'including_all')"
   ]
  },
  {
   "cell_type": "code",
   "execution_count": null,
   "id": "6de569c1",
   "metadata": {},
   "outputs": [],
   "source": [
    "models_list.append(forest_list)\n",
    "models_name.append(forest_name_list)"
   ]
  },
  {
   "cell_type": "code",
   "execution_count": null,
   "id": "7b3607f1",
   "metadata": {},
   "outputs": [],
   "source": [
    "#Append results to score_df\n",
    "for model, name in zip(forest_list, forest_name_list):\n",
    "    score_df = m.test_a_model(o.X_train_dummies, o.y_train_dummies, o.X_validate_dummies, o.y_validate_dummies, model, name, score_df)"
   ]
  },
  {
   "cell_type": "code",
   "execution_count": null,
   "id": "5cac6ddf",
   "metadata": {},
   "outputs": [],
   "source": [
    "score_df.sort_values(by = 'validate_score', ascending = False).head(10)"
   ]
  },
  {
   "cell_type": "markdown",
   "id": "d2c33972",
   "metadata": {},
   "source": [
    "<a name='knn'></a>\n",
    "## K Nearest Neighbors"
   ]
  },
  {
   "cell_type": "code",
   "execution_count": null,
   "id": "c6810f4c",
   "metadata": {},
   "outputs": [],
   "source": [
    "#This function takes in a neighbors amount \n",
    "# returns KNN parameters and corresponding names\n",
    "k_neighbors_list, k_names_list = m.k_neighbors_models(10)"
   ]
  },
  {
   "cell_type": "code",
   "execution_count": null,
   "id": "7e55a6d3",
   "metadata": {},
   "outputs": [],
   "source": [
    "models_list.append(k_neighbors_list)\n",
    "models_name.append(k_names_list)"
   ]
  },
  {
   "cell_type": "code",
   "execution_count": null,
   "id": "2be967bd",
   "metadata": {},
   "outputs": [],
   "source": [
    "#Append results to score_df\n",
    "for model, name in zip(k_neighbors_list, k_names_list):\n",
    "    score_df = m.test_a_model(o.X_train_dummies, o.y_train_dummies, o.X_validate_dummies, o.y_validate_dummies, model, name, score_df)"
   ]
  },
  {
   "cell_type": "code",
   "execution_count": null,
   "id": "16488c7a",
   "metadata": {},
   "outputs": [],
   "source": [
    "score_df.sort_values(by = \"validate_score\", ascending = False).head()"
   ]
  },
  {
   "cell_type": "markdown",
   "id": "f3edbb81",
   "metadata": {},
   "source": [
    "<a name='other_models'></a>\n",
    "## Other Models"
   ]
  },
  {
   "cell_type": "code",
   "execution_count": null,
   "id": "15f7a3a7",
   "metadata": {},
   "outputs": [],
   "source": [
    "# We will test the performance of a series of extra models, listed below\n",
    "extra_models_list = [LinearSVC(), LogisticRegression(), MultinomialNB()]\n",
    "\n",
    "extra_model_names = ['linear_svc', 'logistic_regression', 'naive_bayes']"
   ]
  },
  {
   "cell_type": "code",
   "execution_count": null,
   "id": "067bec1c",
   "metadata": {},
   "outputs": [],
   "source": [
    "models_list.append(extra_models_list)\n",
    "models_name.append(extra_model_names)"
   ]
  },
  {
   "cell_type": "code",
   "execution_count": null,
   "id": "803451ef",
   "metadata": {},
   "outputs": [],
   "source": [
    "#Append results to score_df\n",
    "for model, name in zip(extra_models_list, extra_model_names):\n",
    "    score_df = m.test_a_model(o.X_train_dummies, o.y_train_dummies, o.X_validate_dummies, o.y_validate_dummies, model, name, score_df)"
   ]
  },
  {
   "cell_type": "code",
   "execution_count": null,
   "id": "53a56e4b",
   "metadata": {
    "scrolled": true
   },
   "outputs": [],
   "source": [
    "score_df.sort_values(by = \"validate_score\", ascending = False).head(10)"
   ]
  },
  {
   "cell_type": "markdown",
   "id": "aab2b2b5",
   "metadata": {},
   "source": [
    "## Find Best Model"
   ]
  },
  {
   "cell_type": "code",
   "execution_count": null,
   "id": "83570db3",
   "metadata": {},
   "outputs": [],
   "source": [
    "#Make list of model names into Pandas Series\n",
    "models_name_series = pd.Series(models_name)\n",
    "models_name_series = models_name_series.apply(pd.Series).stack().reset_index(drop=True)\n",
    "\n",
    "#Make list of models into Pandas Series\n",
    "models_list_series = pd.Series(models_list)\n",
    "models_list_series = models_list_series.apply(pd.Series).stack().reset_index(drop=True)\n",
    "\n",
    "#Make a DataFrame of model names and models\n",
    "models_df = pd.DataFrame({'model_name': models_name_series, 'model': models_list_series})\n",
    "\n",
    "#Find best performing model from score_df\n",
    "score_df = score_df.sort_values(by = \"validate_score\", ascending = False).reset_index(drop = True)\n",
    "\n",
    "score_df.head()"
   ]
  },
  {
   "cell_type": "code",
   "execution_count": null,
   "id": "0cfbfc55",
   "metadata": {},
   "outputs": [],
   "source": [
    "#Select best performing model\n",
    "top_model = score_df.model_name[0]\n",
    "#Get best perfoming model name \n",
    "best_model = models_df.model[models_df.model_name == top_model].item()\n",
    "\n",
    "best_model"
   ]
  },
  {
   "cell_type": "markdown",
   "id": "e43015f2",
   "metadata": {},
   "source": [
    "<a name='feature_importance'></a>\n",
    "## Feature Importance\n",
    "\n",
    "We will use our best performing model so far to perform feature engineering. By only using the most important features in our model, we may be able to improve our accuracy."
   ]
  },
  {
   "cell_type": "code",
   "execution_count": null,
   "id": "56c75a88",
   "metadata": {},
   "outputs": [],
   "source": [
    "#Make model\n",
    "rf = best_model\n",
    "#Fit Model\n",
    "rf.fit(o.X_train_dummies, o.y_train_dummies)"
   ]
  },
  {
   "cell_type": "code",
   "execution_count": null,
   "id": "aa9dadc7",
   "metadata": {},
   "outputs": [],
   "source": [
    "#Create data frame of feature importances, using our selected model\n",
    "feature_importances = pd.DataFrame(rf.feature_importances_, index = o.X_train_dummies.columns, columns = [ \"relative importance\"])\n",
    "#Sort the data frame by the relative importance of each feature\n",
    "feature_importances = feature_importances.sort_values(by = ['relative importance'], ascending = False)\n",
    "#Rename the index column \"category\"\n",
    "feature_importances.columns.names = ['category']"
   ]
  },
  {
   "cell_type": "code",
   "execution_count": null,
   "id": "13bc8769",
   "metadata": {},
   "outputs": [],
   "source": [
    "#Plot the most relevant features\n",
    "plt.figure(figsize=(10,8))\n",
    "relative_importances = sns.barplot(x=feature_importances['relative importance'][0:20], y=feature_importances.index[0:20]).set(title=\"Most Important Features\")\n",
    "# Save feature importance fig\n",
    "plt.savefig('images/feature_importance.jpeg', bbox_inches='tight')"
   ]
  },
  {
   "cell_type": "markdown",
   "id": "fcf3f8c4",
   "metadata": {},
   "source": [
    "### Feature Importance Takeaways\n",
    "- Public Education and U.S. economics are major drivers of pessimism.\n",
    "- One's own job benefits, race relations, future standards of living, healthcare, and the country's world status follow closely behind in overall importance."
   ]
  },
  {
   "cell_type": "markdown",
   "id": "f3e84659",
   "metadata": {},
   "source": [
    "<a name='top'></a>\n",
    "## Modeling with just the top features"
   ]
  },
  {
   "cell_type": "markdown",
   "id": "14238d13",
   "metadata": {},
   "source": [
    "### Modeling with just the top 30 features\n",
    "We will attempt to create a more accurate model by using just the most important features in our dataset. Because Random Forest Classifier has proven itself to be the most accurate model on our data, we will continue to use Random Forest Classifier. "
   ]
  },
  {
   "cell_type": "code",
   "execution_count": null,
   "id": "e4612898",
   "metadata": {},
   "outputs": [],
   "source": [
    "#Select 30 most important features\n",
    "top_thirty = feature_importances[0:30].index.to_list()"
   ]
  },
  {
   "cell_type": "code",
   "execution_count": null,
   "id": "cb9c2405",
   "metadata": {},
   "outputs": [],
   "source": [
    "#Make new train, validate, and test datasets with just the thirty features\n",
    "X_train_top_thirty = o.X_train_dummies[top_thirty]\n",
    "X_validate_top_thirty = o.X_validate_dummies[top_thirty]\n",
    "X_validate_top_thirty = o.X_validate_dummies[top_thirty]"
   ]
  },
  {
   "cell_type": "code",
   "execution_count": null,
   "id": "6cb964e3",
   "metadata": {},
   "outputs": [],
   "source": [
    "#Get names of new Random Forest Models\n",
    "forest_list_30, forest_name_list_30 = m.random_forest_models(10, 10, 'thirty')"
   ]
  },
  {
   "cell_type": "code",
   "execution_count": null,
   "id": "42aff699",
   "metadata": {},
   "outputs": [],
   "source": [
    "models_name.append(forest_name_list_30)\n",
    "models_list.append(forest_list_30)"
   ]
  },
  {
   "cell_type": "code",
   "execution_count": null,
   "id": "e9681904",
   "metadata": {},
   "outputs": [],
   "source": [
    "#Append results to score_df\n",
    "for model, name in zip(forest_list_30, forest_name_list_30):\n",
    "    score_df = m.test_a_model(X_train_top_thirty, o.y_train_dummies, X_validate_top_thirty, o.y_validate_dummies, model, name, score_df)"
   ]
  },
  {
   "cell_type": "code",
   "execution_count": null,
   "id": "29943d83",
   "metadata": {},
   "outputs": [],
   "source": [
    "score_df.sort_values(by= \"validate_score\", ascending = False).head()"
   ]
  },
  {
   "cell_type": "markdown",
   "id": "df3d85b1",
   "metadata": {},
   "source": [
    "### Modeling with just the top 40 features"
   ]
  },
  {
   "cell_type": "code",
   "execution_count": null,
   "id": "c1765f1d",
   "metadata": {},
   "outputs": [],
   "source": [
    "#Select 40 most important features\n",
    "top_forty = feature_importances[0:40].index.to_list()"
   ]
  },
  {
   "cell_type": "code",
   "execution_count": null,
   "id": "d04bb5ec",
   "metadata": {},
   "outputs": [],
   "source": [
    "#Make new train, validate, and test datasets with just forty features\n",
    "X_train_top_forty = o.X_train_dummies[top_forty]\n",
    "X_validate_top_forty = o.X_validate_dummies[top_forty]\n",
    "X_validate_top_forty = o.X_validate_dummies[top_forty]"
   ]
  },
  {
   "cell_type": "code",
   "execution_count": null,
   "id": "5abb0fe1",
   "metadata": {},
   "outputs": [],
   "source": [
    "#Get the names of new Random Forest models\n",
    "forest_list_40, forest_name_list_40 = m.random_forest_models(10, 10, 'forty')"
   ]
  },
  {
   "cell_type": "code",
   "execution_count": null,
   "id": "450c6b4c",
   "metadata": {},
   "outputs": [],
   "source": [
    "models_name.append(forest_name_list_40)\n",
    "models_list.append(forest_list_40)"
   ]
  },
  {
   "cell_type": "code",
   "execution_count": null,
   "id": "3536d315",
   "metadata": {},
   "outputs": [],
   "source": [
    "#Append results to score_df\n",
    "for model, name in zip(forest_list_40, forest_name_list_40):\n",
    "    score_df = m.test_a_model(X_train_top_thirty, o.y_train_dummies, X_validate_top_thirty, o.y_validate_dummies, model, name, score_df)"
   ]
  },
  {
   "cell_type": "code",
   "execution_count": null,
   "id": "6bb56c1f",
   "metadata": {},
   "outputs": [],
   "source": [
    "score_df.sort_values(by= \"validate_score\", ascending = False).head(15)"
   ]
  },
  {
   "cell_type": "markdown",
   "id": "396dbfa4",
   "metadata": {},
   "source": [
    "<a name='model_comparison'></a>\n",
    "## Model Comparison"
   ]
  },
  {
   "cell_type": "code",
   "execution_count": null,
   "id": "887f1d18",
   "metadata": {},
   "outputs": [],
   "source": [
    "best_models = sns.barplot(y = \"model_name\",\n",
    "                          x = 'validate_score',\n",
    "                          data = score_df.sort_values(by = \"validate_score\", ascending = False).head(10),\n",
    "                         ).set(xlim=(0.78, 0.81))\n",
    "\n",
    "# This is to display the title, since it cannot be set on the obj\n",
    "display(HTML('<center><h4>Model Comparison</h4></center>'))\n",
    "\n",
    "# Save figure and model comparison\n",
    "plt.savefig('images/model_comparison.jpeg', bbox_inches='tight')\n",
    "\n",
    "plt.show()"
   ]
  },
  {
   "cell_type": "code",
   "execution_count": null,
   "id": "a66e4da9",
   "metadata": {},
   "outputs": [],
   "source": [
    "#Make list of model names into Pandas Series\n",
    "models_name_series = pd.Series(models_name)\n",
    "models_name_series = models_name_series.apply(pd.Series).stack().reset_index(drop=True)\n",
    "\n",
    "#Make list of models into Pandas Series\n",
    "models_list_series = pd.Series(models_list)\n",
    "models_list_series = models_list_series.apply(pd.Series).stack().reset_index(drop=True)"
   ]
  },
  {
   "cell_type": "code",
   "execution_count": null,
   "id": "083ed7d3",
   "metadata": {},
   "outputs": [],
   "source": [
    "#Make a DataFrame of model names and models\n",
    "models_df = pd.DataFrame({'model_name': models_name_series, 'model': models_list_series})"
   ]
  },
  {
   "cell_type": "code",
   "execution_count": null,
   "id": "dc38b114",
   "metadata": {},
   "outputs": [],
   "source": [
    "#Find best performing model from score_df\n",
    "score_df = score_df.sort_values(by = \"validate_score\", ascending = False).reset_index(drop = True)"
   ]
  },
  {
   "cell_type": "code",
   "execution_count": null,
   "id": "f00cf8a8",
   "metadata": {
    "scrolled": true
   },
   "outputs": [],
   "source": [
    "score_df.head(10)"
   ]
  },
  {
   "cell_type": "code",
   "execution_count": null,
   "id": "5ce51ee5",
   "metadata": {},
   "outputs": [],
   "source": [
    "#Select best performing model\n",
    "top_model = score_df.model_name[score_df.validate_score == score_df.validate_score.max()][0]#.item()"
   ]
  },
  {
   "cell_type": "code",
   "execution_count": null,
   "id": "90ab7e32",
   "metadata": {},
   "outputs": [],
   "source": [
    "top_model"
   ]
  },
  {
   "cell_type": "code",
   "execution_count": null,
   "id": "9cb2c1c3",
   "metadata": {},
   "outputs": [],
   "source": [
    "#Get best perfoming model name \n",
    "best_model = models_df.model[models_df.model_name == top_model].item()\n",
    "best_model_name = models_df.model_name[models_df.model_name == top_model].item()"
   ]
  },
  {
   "cell_type": "code",
   "execution_count": null,
   "id": "2f23a994",
   "metadata": {},
   "outputs": [],
   "source": [
    "best_model"
   ]
  },
  {
   "cell_type": "code",
   "execution_count": null,
   "id": "cababc34",
   "metadata": {},
   "outputs": [],
   "source": [
    "best_model_name"
   ]
  },
  {
   "cell_type": "markdown",
   "id": "ba90ac34",
   "metadata": {},
   "source": [
    "### Model Comparison Takeaways\n",
    "Our best performing model is printed above. The best performing model may change depending on the iteration."
   ]
  },
  {
   "cell_type": "markdown",
   "id": "875fa77a",
   "metadata": {},
   "source": [
    "<a name='out_of_sample'></a>\n",
    "## Out of Sample Testing"
   ]
  },
  {
   "cell_type": "code",
   "execution_count": null,
   "id": "561d5c83",
   "metadata": {},
   "outputs": [],
   "source": [
    "# Create the model\n",
    "rf= best_model\n",
    "\n",
    "# Fit the model\n",
    "rf.fit(o.X_train_dummies, o.y_train_dummies)"
   ]
  },
  {
   "cell_type": "code",
   "execution_count": null,
   "id": "8ca0b4bd",
   "metadata": {},
   "outputs": [],
   "source": [
    "# Create and store predictions from the test data\n",
    "test_predictions = rf.predict(o.X_test_dummies)"
   ]
  },
  {
   "cell_type": "code",
   "execution_count": null,
   "id": "7e783feb",
   "metadata": {},
   "outputs": [],
   "source": [
    "# Compare actual is_pes values with our predicted is_pess values\n",
    "classification_report_test = pd.DataFrame(classification_report(o.y_test_dummies, test_predictions, output_dict = True)).T\n",
    "classification_report_test"
   ]
  },
  {
   "cell_type": "markdown",
   "id": "0261292f",
   "metadata": {},
   "source": [
    "<a name='gender_modeling'></a>\n",
    "## Modeling the Gender Subsets"
   ]
  },
  {
   "cell_type": "code",
   "execution_count": null,
   "id": "d26c960d",
   "metadata": {},
   "outputs": [],
   "source": [
    "#Split the data into male and female subsets\n",
    "males_df = df[df.sex == \"Male\"]\n",
    "females_df = df[df.sex == \"Female\"]"
   ]
  },
  {
   "cell_type": "markdown",
   "id": "9ec6d89b",
   "metadata": {},
   "source": [
    "### Modeling the Female Subset"
   ]
  },
  {
   "cell_type": "code",
   "execution_count": null,
   "id": "eb7fd0e0",
   "metadata": {},
   "outputs": [],
   "source": [
    "females = e.generate_and_return_obj(females_df)\n",
    "females.X_train_dummies.head()"
   ]
  },
  {
   "cell_type": "code",
   "execution_count": null,
   "id": "dc285e7b",
   "metadata": {},
   "outputs": [],
   "source": [
    "print(f'Baseline Accuracy: {round((1 - females.y_train_dummies.mean())* 100, 2)}%')"
   ]
  },
  {
   "cell_type": "code",
   "execution_count": null,
   "id": "552c1c25",
   "metadata": {},
   "outputs": [],
   "source": [
    "# Create a dataframe to store and compare our models' performances\n",
    "score_df = pd.DataFrame(columns = ['model_name', 'train_score', 'validate_score'])\n",
    "score_df"
   ]
  },
  {
   "cell_type": "code",
   "execution_count": null,
   "id": "cfa5a2c3",
   "metadata": {},
   "outputs": [],
   "source": [
    "# This function takes in the max_depth value of our tree\n",
    "# returns tree parameters and a corresponding name\n",
    "forest_list, forest_name_list = m.random_forest_models(10, 10, 'including_all')"
   ]
  },
  {
   "cell_type": "code",
   "execution_count": null,
   "id": "99094eb6",
   "metadata": {},
   "outputs": [],
   "source": [
    "#Append results to score_df\n",
    "for model, name in zip(forest_list, forest_name_list):\n",
    "    score_df = m.test_a_model(females.X_train_dummies, females.y_train_dummies, females.X_validate_dummies, females.y_validate_dummies, model, name, score_df)"
   ]
  },
  {
   "cell_type": "code",
   "execution_count": null,
   "id": "cdb56551",
   "metadata": {},
   "outputs": [],
   "source": [
    "#Print out results of models\n",
    "score_df = score_df.sort_values(by = \"validate_score\", ascending = False).reset_index(drop = True)\n",
    "score_df.head()"
   ]
  },
  {
   "cell_type": "code",
   "execution_count": null,
   "id": "96473dc6",
   "metadata": {},
   "outputs": [],
   "source": [
    "#Select best performing model\n",
    "top_model = score_df.model_name[0]\n",
    "\n",
    "#Convert forest names to series\n",
    "forest_names = pd.Series(forest_name_list)\n",
    "\n",
    "#Convert forest list to series\n",
    "forest_model_list = pd.Series(forest_list)\n",
    "\n",
    "#Convert forest names and models to DataFrame\n",
    "forest_models_df = pd.DataFrame({'name': forest_name_list, 'model': forest_model_list})\n",
    "\n",
    "#Get best performing model\n",
    "best_model = forest_models_df.model[forest_models_df.name == top_model].item()"
   ]
  },
  {
   "cell_type": "code",
   "execution_count": null,
   "id": "f1a4d0e2",
   "metadata": {},
   "outputs": [],
   "source": [
    "best_model"
   ]
  },
  {
   "cell_type": "markdown",
   "id": "faf24b27",
   "metadata": {},
   "source": [
    "#### Feature Importance for Females"
   ]
  },
  {
   "cell_type": "code",
   "execution_count": null,
   "id": "af5f0dda",
   "metadata": {},
   "outputs": [],
   "source": [
    "#Fit Model\n",
    "best_model.fit(females.X_train_dummies, females.y_train_dummies)"
   ]
  },
  {
   "cell_type": "code",
   "execution_count": null,
   "id": "ccc2b07d",
   "metadata": {},
   "outputs": [],
   "source": [
    "#Create data frame of feature importances, using our selected model\n",
    "feature_importances_females = pd.DataFrame(best_model.feature_importances_, index = females.X_train_dummies.columns, columns = [ \"relative importance\"])\n",
    "#Sort the data frame by the relative importance of each feature\n",
    "feature_importances_females = feature_importances_females.sort_values(by = ['relative importance'], ascending = False)\n",
    "#Rename the index column \"category\"\n",
    "feature_importances_females.columns.names = ['category']"
   ]
  },
  {
   "cell_type": "code",
   "execution_count": null,
   "id": "685e1212",
   "metadata": {},
   "outputs": [],
   "source": [
    "relative_importances_females = sns.barplot(x=feature_importances_females['relative importance'][0:10], y=feature_importances_females.index[0:10])\n",
    "plt.savefig('images/females.jpeg', bbox_inches='tight')"
   ]
  },
  {
   "cell_type": "markdown",
   "id": "b9961143",
   "metadata": {},
   "source": [
    "### Modeling the Male Subset"
   ]
  },
  {
   "cell_type": "code",
   "execution_count": null,
   "id": "ea914519",
   "metadata": {},
   "outputs": [],
   "source": [
    "males = e.generate_and_return_obj(males_df)\n",
    "males.X_train_dummies.head()"
   ]
  },
  {
   "cell_type": "code",
   "execution_count": null,
   "id": "ef2f1937",
   "metadata": {},
   "outputs": [],
   "source": [
    "#Set Baseline Accuracy \n",
    "print(f'Baseline Accuracy: {round(1.00 - males.y_train_dummies.mean(), 4)* 100}%')"
   ]
  },
  {
   "cell_type": "code",
   "execution_count": null,
   "id": "78ed93c7",
   "metadata": {},
   "outputs": [],
   "source": [
    "# Create a dataframe to store and compare our models' performances\n",
    "score_df = pd.DataFrame(columns = ['model_name', 'train_score', 'validate_score'])\n",
    "score_df"
   ]
  },
  {
   "cell_type": "code",
   "execution_count": null,
   "id": "1a862f98",
   "metadata": {},
   "outputs": [],
   "source": [
    "# This function takes in the max_depth value of our tree\n",
    "# returns tree parameters and a corresponding name\n",
    "forest_list, forest_name_list = m.random_forest_models(10, 10, 'including_all')"
   ]
  },
  {
   "cell_type": "code",
   "execution_count": null,
   "id": "a8055b42",
   "metadata": {},
   "outputs": [],
   "source": [
    "#Append results to score_df\n",
    "#Loop through different models\n",
    "for model, name in zip(forest_list, forest_name_list):\n",
    "    score_df = m.test_a_model(males.X_train_dummies, males.y_train_dummies, males.X_validate_dummies, males.y_validate_dummies, model, name, score_df)"
   ]
  },
  {
   "cell_type": "code",
   "execution_count": null,
   "id": "4ece20aa",
   "metadata": {},
   "outputs": [],
   "source": [
    "#Print out best performing models\n",
    "score_df = score_df.sort_values(by = \"validate_score\", ascending = False).reset_index(drop = True)\n",
    "score_df.head()"
   ]
  },
  {
   "cell_type": "code",
   "execution_count": null,
   "id": "1e8b48ab",
   "metadata": {},
   "outputs": [],
   "source": [
    "#Select best performing model\n",
    "top_model = score_df.model_name[0]\n",
    "\n",
    "#Convert forest names to series\n",
    "forest_names = pd.Series(forest_name_list)\n",
    "\n",
    "#Convert forest list to series\n",
    "forest_model_list = pd.Series(forest_list)\n",
    "\n",
    "#Convert forest names and models to DataFrame\n",
    "forest_models_df = pd.DataFrame({'name': forest_name_list, 'model': forest_model_list})\n",
    "\n",
    "#Get best performing model\n",
    "best_model = forest_models_df.model[forest_models_df.name == top_model].item()"
   ]
  },
  {
   "cell_type": "code",
   "execution_count": null,
   "id": "39daeda1",
   "metadata": {},
   "outputs": [],
   "source": [
    "best_model"
   ]
  },
  {
   "cell_type": "markdown",
   "id": "cc27c4c0",
   "metadata": {},
   "source": [
    "#### Feature Importance for Males"
   ]
  },
  {
   "cell_type": "code",
   "execution_count": null,
   "id": "fe583e74",
   "metadata": {},
   "outputs": [],
   "source": [
    "#Fit Model\n",
    "best_model.fit(males.X_train_dummies, males.y_train_dummies)"
   ]
  },
  {
   "cell_type": "code",
   "execution_count": null,
   "id": "c6a8880b",
   "metadata": {},
   "outputs": [],
   "source": [
    "#Create data frame of feature importances, using our selected model\n",
    "feature_importances_males = pd.DataFrame(best_model.feature_importances_, index = males.X_train_dummies.columns, columns = [ \"relative importance\"])\n",
    "#Sort the data frame by the relative importance of each feature\n",
    "feature_importances_males = feature_importances_males.sort_values(by = ['relative importance'], ascending = False)\n",
    "#Rename the index column \"category\"\n",
    "feature_importances_males.columns.names = ['category']"
   ]
  },
  {
   "cell_type": "code",
   "execution_count": null,
   "id": "453b8b8a",
   "metadata": {},
   "outputs": [],
   "source": [
    "relative_importances_males = sns.barplot(x=feature_importances_males['relative importance'][0:10], y=feature_importances_males.index[0:10])\n",
    "\n",
    "plt.savefig('images/males.jpeg', bbox_inches='tight')"
   ]
  },
  {
   "cell_type": "markdown",
   "id": "04722dbf",
   "metadata": {},
   "source": [
    "<a name='political_modeling'></a>\n",
    "## Modeling the Political Party Subsets"
   ]
  },
  {
   "cell_type": "code",
   "execution_count": null,
   "id": "004f85d9",
   "metadata": {},
   "outputs": [],
   "source": [
    "#Make subsets for Republicans and Democrats\n",
    "republican_dataframe = df[df.summary_of_political_party_data == ' Rep/Lean Rep']\n",
    "democrats_dataframe = df[df.summary_of_political_party_data == \"Dem/Lean Dem\"]"
   ]
  },
  {
   "cell_type": "markdown",
   "id": "883e118b",
   "metadata": {},
   "source": [
    "### Modeling the Republican Subset"
   ]
  },
  {
   "cell_type": "code",
   "execution_count": null,
   "id": "6879277d",
   "metadata": {},
   "outputs": [],
   "source": [
    "republicans = e.generate_and_return_obj(republican_dataframe)\n",
    "republicans.X_train_dummies.head()"
   ]
  },
  {
   "cell_type": "code",
   "execution_count": null,
   "id": "147ef8b1",
   "metadata": {},
   "outputs": [],
   "source": [
    "print(f'Baseline Accuracy: {round(1.00 - republicans.y_train_dummies.mean(), 4)* 100}%')"
   ]
  },
  {
   "cell_type": "code",
   "execution_count": null,
   "id": "ed375a40",
   "metadata": {},
   "outputs": [],
   "source": [
    "# Create a dataframe to store and compare our models' performances\n",
    "score_df = pd.DataFrame(columns = ['model_name', 'train_score', 'validate_score'])\n",
    "score_df"
   ]
  },
  {
   "cell_type": "code",
   "execution_count": null,
   "id": "215ebed6",
   "metadata": {},
   "outputs": [],
   "source": [
    "# This function takes in the max_depth value of our tree\n",
    "# returns tree parameters and a corresponding name\n",
    "forest_list, forest_name_list = m.random_forest_models(10, 10, 'including_all')"
   ]
  },
  {
   "cell_type": "code",
   "execution_count": null,
   "id": "71e26701",
   "metadata": {},
   "outputs": [],
   "source": [
    "#Append results to score_df\n",
    "for model, name in zip(forest_list, forest_name_list):\n",
    "    score_df = m.test_a_model(republicans.X_train_dummies, republicans.y_train_dummies, republicans.X_validate_dummies, republicans.y_validate_dummies, model, name, score_df)"
   ]
  },
  {
   "cell_type": "code",
   "execution_count": null,
   "id": "1689ecae",
   "metadata": {},
   "outputs": [],
   "source": [
    "score_df = score_df.sort_values(by = \"validate_score\", ascending = False).reset_index(drop = True)\n",
    "score_df.head()"
   ]
  },
  {
   "cell_type": "code",
   "execution_count": null,
   "id": "b672af20",
   "metadata": {},
   "outputs": [],
   "source": [
    "#Select best performing model\n",
    "top_model = score_df.model_name[0]\n",
    "\n",
    "#Convert forest names to series\n",
    "forest_names = pd.Series(forest_name_list)\n",
    "\n",
    "#Convert forest list to series\n",
    "forest_model_list = pd.Series(forest_list)\n",
    "\n",
    "#Convert forest names and models to DataFrame\n",
    "forest_models_df = pd.DataFrame({'name': forest_name_list, 'model': forest_model_list})\n",
    "\n",
    "#Get best performing model\n",
    "best_model = forest_models_df.model[forest_models_df.name == top_model].item()"
   ]
  },
  {
   "cell_type": "code",
   "execution_count": null,
   "id": "80589fd1",
   "metadata": {},
   "outputs": [],
   "source": [
    "best_model"
   ]
  },
  {
   "cell_type": "markdown",
   "id": "1072678b",
   "metadata": {},
   "source": [
    "#### Feature Engineering for Republicans"
   ]
  },
  {
   "cell_type": "code",
   "execution_count": null,
   "id": "b5ece55e",
   "metadata": {},
   "outputs": [],
   "source": [
    "#Fit Model\n",
    "best_model.fit(republicans.X_train_dummies, republicans.y_train_dummies)"
   ]
  },
  {
   "cell_type": "code",
   "execution_count": null,
   "id": "e4e0d74d",
   "metadata": {},
   "outputs": [],
   "source": [
    "#Create data frame of feature importances, using our selected model\n",
    "feature_importances_republicans = pd.DataFrame(best_model.feature_importances_, index = republicans.X_train_dummies.columns, columns = [ \"relative importance\"])\n",
    "#Sort the data frame by the relative importance of each feature\n",
    "feature_importances_republicans = feature_importances_republicans.sort_values(by = ['relative importance'], ascending = False)\n",
    "#Rename the index column \"category\"\n",
    "feature_importances_republicans.columns.names = ['category']"
   ]
  },
  {
   "cell_type": "code",
   "execution_count": null,
   "id": "629f5c2b",
   "metadata": {},
   "outputs": [],
   "source": [
    "relative_importances_republicans = sns.barplot(x=feature_importances_republicans['relative importance'][0:10], y=feature_importances_republicans.index[0:10])\n",
    "\n",
    "plt.savefig('images/republicans.jpeg', bbox_inches='tight')"
   ]
  },
  {
   "cell_type": "markdown",
   "id": "3bc968d1",
   "metadata": {},
   "source": [
    "### Modeling the Democrats Subset"
   ]
  },
  {
   "cell_type": "code",
   "execution_count": null,
   "id": "6ddc1f38",
   "metadata": {},
   "outputs": [],
   "source": [
    "democrats = e.generate_and_return_obj(democrats_dataframe)\n",
    "democrats.X_train_dummies.head()"
   ]
  },
  {
   "cell_type": "code",
   "execution_count": null,
   "id": "7bfbcafa",
   "metadata": {},
   "outputs": [],
   "source": [
    "print(f'Baseline Accuracy: {round(1.00 - democrats.y_train_dummies.mean(), 4)* 100}%')"
   ]
  },
  {
   "cell_type": "code",
   "execution_count": null,
   "id": "9b8e136e",
   "metadata": {},
   "outputs": [],
   "source": [
    "# Create a dataframe to store and compare our models' performances\n",
    "score_df = pd.DataFrame(columns = ['model_name', 'train_score', 'validate_score'])\n",
    "score_df"
   ]
  },
  {
   "cell_type": "code",
   "execution_count": null,
   "id": "fafaa115",
   "metadata": {},
   "outputs": [],
   "source": [
    "# This function takes in the max_depth value of our tree\n",
    "# returns tree parameters and a corresponding name\n",
    "forest_list, forest_name_list = m.random_forest_models(10, 10, 'including_all')"
   ]
  },
  {
   "cell_type": "code",
   "execution_count": null,
   "id": "157840ca",
   "metadata": {},
   "outputs": [],
   "source": [
    "#Append results to score_df\n",
    "for model, name in zip(forest_list, forest_name_list):\n",
    "    score_df = m.test_a_model(democrats.X_train_dummies, democrats.y_train_dummies, democrats.X_validate_dummies, democrats.y_validate_dummies, model, name, score_df)"
   ]
  },
  {
   "cell_type": "code",
   "execution_count": null,
   "id": "de71b980",
   "metadata": {},
   "outputs": [],
   "source": [
    "score_df = score_df.sort_values(by = 'validate_score', ascending = False).reset_index(drop = True)\n",
    "score_df.head()"
   ]
  },
  {
   "cell_type": "code",
   "execution_count": null,
   "id": "6d8c3f2e",
   "metadata": {},
   "outputs": [],
   "source": [
    "#Select best performing model\n",
    "top_model = score_df.model_name[0]\n",
    "\n",
    "#Convert forest names to series\n",
    "forest_names = pd.Series(forest_name_list)\n",
    "\n",
    "#Convert forest list to series\n",
    "forest_model_list = pd.Series(forest_list)\n",
    "\n",
    "#Convert forest names and models to DataFrame\n",
    "forest_models_df = pd.DataFrame({'name': forest_name_list, 'model': forest_model_list})\n",
    "\n",
    "#Get best performing model\n",
    "best_model = forest_models_df.model[forest_models_df.name == top_model].item()\n",
    "\n",
    "best_model"
   ]
  },
  {
   "cell_type": "markdown",
   "id": "0f18d486",
   "metadata": {},
   "source": [
    "#### Feature Engineering for Democrats Subset"
   ]
  },
  {
   "cell_type": "code",
   "execution_count": null,
   "id": "e3cd50b8",
   "metadata": {},
   "outputs": [],
   "source": [
    "#Fit Model\n",
    "best_model.fit(democrats.X_train_dummies, democrats.y_train_dummies)"
   ]
  },
  {
   "cell_type": "code",
   "execution_count": null,
   "id": "62247c75",
   "metadata": {},
   "outputs": [],
   "source": [
    "#Create data frame of feature importances, using our selected model\n",
    "feature_importances_democrats = pd.DataFrame(best_model.feature_importances_, index = democrats.X_train_dummies.columns, columns = [ \"relative importance\"])\n",
    "#Sort the data frame by the relative importance of each feature\n",
    "feature_importances_democrats = feature_importances_democrats.sort_values(by = ['relative importance'], ascending = False)\n",
    "#Rename the index column \"category\"\n",
    "feature_importances_democrats.columns.names = ['category']"
   ]
  },
  {
   "cell_type": "code",
   "execution_count": null,
   "id": "307f6bf5",
   "metadata": {},
   "outputs": [],
   "source": [
    "relative_importances_democrats = sns.barplot(x=feature_importances_democrats['relative importance'][0:10], y=feature_importances_democrats.index[0:10])\n",
    "plt.savefig('images/democrats.jpeg', bbox_inches='tight')"
   ]
  },
  {
   "cell_type": "markdown",
   "id": "829fd21d",
   "metadata": {},
   "source": [
    "<a name='income_modeling'></a>\n",
    "## Modeling the Income Level Subsets"
   ]
  },
  {
   "cell_type": "code",
   "execution_count": null,
   "id": "b1828295",
   "metadata": {},
   "outputs": [],
   "source": [
    "#Split the data into income group\n",
    "thirty_to_seventy_five = df[df.family_income_three_categories == '$30-$74,999']\n",
    "less_than_thirty = df[df.family_income_three_categories == '<$30,000']\n",
    "over_seventy_five = df[df.family_income_three_categories == '$75,000+']"
   ]
  },
  {
   "cell_type": "markdown",
   "id": "85d317ad",
   "metadata": {},
   "source": [
    "### Modeling for Income less than 30,000 USD"
   ]
  },
  {
   "cell_type": "code",
   "execution_count": null,
   "id": "20171375",
   "metadata": {},
   "outputs": [],
   "source": [
    "lower = e.generate_and_return_obj(less_than_thirty)\n",
    "lower.X_train_dummies.head()"
   ]
  },
  {
   "cell_type": "code",
   "execution_count": null,
   "id": "59cd56dc",
   "metadata": {},
   "outputs": [],
   "source": [
    "print(f'Baseline Accuracy: {round((1.00 - lower.y_train_dummies.mean())* 100, 2)}%')"
   ]
  },
  {
   "cell_type": "code",
   "execution_count": null,
   "id": "57f7168b",
   "metadata": {},
   "outputs": [],
   "source": [
    "# Create a dataframe to store and compare our models' performances\n",
    "score_df= pd.DataFrame(columns = ['model_name', 'train_score', 'validate_score'])\n",
    "score_df"
   ]
  },
  {
   "cell_type": "code",
   "execution_count": null,
   "id": "7a62eca4",
   "metadata": {},
   "outputs": [],
   "source": [
    "#Append results to score_df\n",
    "for model, name in zip(forest_list, forest_name_list):\n",
    "    score_df = m.test_a_model(lower.X_train_dummies, lower.y_train_dummies, lower.X_validate_dummies, lower.y_validate_dummies, model, name, score_df)"
   ]
  },
  {
   "cell_type": "code",
   "execution_count": null,
   "id": "aa7a7577",
   "metadata": {},
   "outputs": [],
   "source": [
    "score_df = score_df.sort_values(by = 'validate_score', ascending = False).reset_index(drop = True)\n",
    "score_df.head()"
   ]
  },
  {
   "cell_type": "code",
   "execution_count": null,
   "id": "6dff6b68",
   "metadata": {},
   "outputs": [],
   "source": [
    "#Select best performing model\n",
    "top_model = score_df.model_name[0]\n",
    "\n",
    "#Convert forest names to series\n",
    "forest_names = pd.Series(forest_name_list)\n",
    "\n",
    "#Convert forest list to series\n",
    "forest_model_list = pd.Series(forest_list)\n",
    "\n",
    "#Convert forest names and models to DataFrame\n",
    "forest_models_df = pd.DataFrame({'name': forest_name_list, 'model': forest_model_list})\n",
    "\n",
    "#Get best performing model\n",
    "best_model = forest_models_df.model[forest_models_df.name == top_model].item()\n",
    "\n",
    "best_model"
   ]
  },
  {
   "cell_type": "markdown",
   "id": "b4ca59f1",
   "metadata": {},
   "source": [
    "#### Feature Engineering for Income less than 30,000 USD"
   ]
  },
  {
   "cell_type": "code",
   "execution_count": null,
   "id": "ce929d5e",
   "metadata": {},
   "outputs": [],
   "source": [
    "#Fit Model\n",
    "best_model.fit(lower.X_train_dummies, lower.y_train_dummies)"
   ]
  },
  {
   "cell_type": "code",
   "execution_count": null,
   "id": "2cf908de",
   "metadata": {},
   "outputs": [],
   "source": [
    "#Create data frame of feature importances, using our selected model\n",
    "feature_importances_lower = pd.DataFrame(best_model.feature_importances_, index = lower.X_train_dummies.columns, columns = [ \"relative importance\"])\n",
    "#Sort the data frame by the relative importance of each feature\n",
    "feature_importances_lower = feature_importances_lower.sort_values(by = ['relative importance'], ascending = False)\n",
    "#Rename the index column \"category\"\n",
    "feature_importances_lower.columns.names = ['category']"
   ]
  },
  {
   "cell_type": "code",
   "execution_count": null,
   "id": "0ebf7dc4",
   "metadata": {},
   "outputs": [],
   "source": [
    "relative_importances_lower = sns.barplot(x=feature_importances_lower['relative importance'][0:10], y=feature_importances_lower.index[0:10])\n",
    "plt.savefig('images/lower_income_group.jpeg', bbox_inches='tight')"
   ]
  },
  {
   "cell_type": "markdown",
   "id": "25ee1ea5",
   "metadata": {},
   "source": [
    "### Modeling for Income Level 30,000 - 75,000 USD"
   ]
  },
  {
   "cell_type": "code",
   "execution_count": null,
   "id": "0ab14506",
   "metadata": {},
   "outputs": [],
   "source": [
    "middle = e.generate_and_return_obj(thirty_to_seventy_five)\n",
    "middle.X_train_dummies.head()"
   ]
  },
  {
   "cell_type": "code",
   "execution_count": null,
   "id": "3e9c36f1",
   "metadata": {},
   "outputs": [],
   "source": [
    "print(f'Baseline Accuracy: {round((1.00 - middle.y_train_dummies.mean())* 100, 2)}%')"
   ]
  },
  {
   "cell_type": "code",
   "execution_count": null,
   "id": "74eeee7b",
   "metadata": {},
   "outputs": [],
   "source": [
    "# Create a dataframe to store and compare our models' performances\n",
    "score_df = pd.DataFrame(columns = ['model_name', 'train_score', 'validate_score'])\n",
    "score_df"
   ]
  },
  {
   "cell_type": "code",
   "execution_count": null,
   "id": "c28563ca",
   "metadata": {},
   "outputs": [],
   "source": [
    "#Append results to score_df\n",
    "for model, name in zip(forest_list, forest_name_list):\n",
    "    score_df = m.test_a_model(middle.X_train_dummies, middle.y_train_dummies, middle.X_validate_dummies, middle.y_validate_dummies, model, name, score_df)"
   ]
  },
  {
   "cell_type": "code",
   "execution_count": null,
   "id": "16f38dec",
   "metadata": {},
   "outputs": [],
   "source": [
    "score_df = score_df.sort_values(by = 'validate_score', ascending = False).reset_index(drop = True)\n",
    "score_df.head()"
   ]
  },
  {
   "cell_type": "code",
   "execution_count": null,
   "id": "51893d3b",
   "metadata": {},
   "outputs": [],
   "source": [
    "#Select best performing model\n",
    "top_model = score_df.model_name[0]\n",
    "\n",
    "#Convert forest names to series\n",
    "forest_names = pd.Series(forest_name_list)\n",
    "\n",
    "#Convert forest list to series\n",
    "forest_model_list = pd.Series(forest_list)\n",
    "\n",
    "#Convert forest names and models to DataFrame\n",
    "forest_models_df = pd.DataFrame({'name': forest_name_list, 'model': forest_model_list})\n",
    "\n",
    "#Get best performing model\n",
    "best_model = forest_models_df.model[forest_models_df.name == top_model].item()\n",
    "\n",
    "best_model"
   ]
  },
  {
   "cell_type": "markdown",
   "id": "21808d3a",
   "metadata": {},
   "source": [
    "#### Feature Engineering for Income  30,000 - 75,000 USD"
   ]
  },
  {
   "cell_type": "code",
   "execution_count": null,
   "id": "2208a7af",
   "metadata": {},
   "outputs": [],
   "source": [
    "#Fit Model\n",
    "best_model.fit(middle.X_train_dummies, middle.y_train_dummies)"
   ]
  },
  {
   "cell_type": "code",
   "execution_count": null,
   "id": "38e23a42",
   "metadata": {},
   "outputs": [],
   "source": [
    "#Create data frame of feature importances, using our selected model\n",
    "feature_importances_middle = pd.DataFrame(best_model.feature_importances_, index = middle.X_train_dummies.columns, columns = [ \"relative importance\"])\n",
    "#Sort the data frame by the relative importance of each feature\n",
    "feature_importances_middle = feature_importances_middle.sort_values(by = ['relative importance'], ascending = False)\n",
    "#Rename the index column \"category\"\n",
    "feature_importances_middle.columns.names = ['category']"
   ]
  },
  {
   "cell_type": "code",
   "execution_count": null,
   "id": "d8d168c3",
   "metadata": {},
   "outputs": [],
   "source": [
    "relative_importances_middle = sns.barplot(x=feature_importances_middle['relative importance'][0:10], y=feature_importances_middle.index[0:10])\n",
    "plt.savefig('images/middle_income_group.jpeg', bbox_inches='tight')"
   ]
  },
  {
   "cell_type": "markdown",
   "id": "722fed9c",
   "metadata": {},
   "source": [
    "### Modeling for Income Over 75,000 USD"
   ]
  },
  {
   "cell_type": "code",
   "execution_count": null,
   "id": "6bb864bc",
   "metadata": {},
   "outputs": [],
   "source": [
    "higher = e.generate_and_return_obj(over_seventy_five)\n",
    "higher.X_train_dummies.head()"
   ]
  },
  {
   "cell_type": "code",
   "execution_count": null,
   "id": "e0a57cf7",
   "metadata": {},
   "outputs": [],
   "source": [
    "print(f'Baseline Accuracy: {round((1.00 - higher.y_train_dummies.mean())* 100, 2)}%')"
   ]
  },
  {
   "cell_type": "code",
   "execution_count": null,
   "id": "70e386f9",
   "metadata": {},
   "outputs": [],
   "source": [
    "# Create a dataframe to store and compare our models' performances\n",
    "score_df= pd.DataFrame(columns = ['model_name', 'train_score', 'validate_score'])\n",
    "score_df"
   ]
  },
  {
   "cell_type": "code",
   "execution_count": null,
   "id": "aa39135b",
   "metadata": {},
   "outputs": [],
   "source": [
    "#Append results to score_df\n",
    "for model, name in zip(forest_list, forest_name_list):\n",
    "    score_df = m.test_a_model(higher.X_train_dummies, higher.y_train_dummies, higher.X_validate_dummies, higher.y_validate_dummies, model, name, score_df)"
   ]
  },
  {
   "cell_type": "code",
   "execution_count": null,
   "id": "2e0541cf",
   "metadata": {},
   "outputs": [],
   "source": [
    "score_df = score_df.sort_values(by = 'validate_score', ascending = False).reset_index(drop = True)\n",
    "score_df.head()"
   ]
  },
  {
   "cell_type": "code",
   "execution_count": null,
   "id": "e77573fb",
   "metadata": {},
   "outputs": [],
   "source": [
    "#Select best performing model\n",
    "top_model = score_df.model_name[0]\n",
    "\n",
    "#Convert forest names to series\n",
    "forest_names = pd.Series(forest_name_list)\n",
    "\n",
    "#Convert forest list to series\n",
    "forest_model_list = pd.Series(forest_list)\n",
    "\n",
    "#Convert forest names and models to DataFrame\n",
    "forest_models_df = pd.DataFrame({'name': forest_name_list, 'model': forest_model_list})\n",
    "\n",
    "#Get best performing model\n",
    "best_model = forest_models_df.model[forest_models_df.name == top_model].item()\n",
    "\n",
    "best_model"
   ]
  },
  {
   "cell_type": "code",
   "execution_count": null,
   "id": "64d370ff",
   "metadata": {},
   "outputs": [],
   "source": [
    "#Fit Model\n",
    "best_model.fit(higher.X_train_dummies, higher.y_train_dummies)"
   ]
  },
  {
   "cell_type": "code",
   "execution_count": null,
   "id": "8b37079e",
   "metadata": {},
   "outputs": [],
   "source": [
    "#Create data frame of feature importances, using our selected model\n",
    "feature_importances_higher = pd.DataFrame(best_model.feature_importances_, index = higher.X_train_dummies.columns, columns = [ \"relative importance\"])\n",
    "#Sort the data frame by the relative importance of each feature\n",
    "feature_importances_higher = feature_importances_higher.sort_values(by = ['relative importance'], ascending = False)\n",
    "#Rename the index column \"category\"\n",
    "feature_importances_higher.columns.names = ['category']"
   ]
  },
  {
   "cell_type": "code",
   "execution_count": null,
   "id": "8b0e44cc",
   "metadata": {},
   "outputs": [],
   "source": [
    "relative_importances_higher = sns.barplot(x=feature_importances_higher['relative importance'][0:10], y=feature_importances_higher.index[0:10])\n",
    "plt.savefig('images/upper_income_group.jpeg', bbox_inches='tight')"
   ]
  },
  {
   "cell_type": "markdown",
   "id": "5093fe11",
   "metadata": {},
   "source": [
    "<a name='education_modeling'></a>\n",
    "## Modeling the Education Level Subsets"
   ]
  },
  {
   "cell_type": "code",
   "execution_count": null,
   "id": "bd424d14",
   "metadata": {},
   "outputs": [],
   "source": [
    "#Make subsets for education level \n",
    "high_school_df = df[df.highest_education_three_categories == 'H.S. graduate or less']\n",
    "college_grad_df = df[df.highest_education_three_categories == 'College graduate+']\n",
    "some_college_df = df[df.highest_education_three_categories == 'Some College']"
   ]
  },
  {
   "cell_type": "markdown",
   "id": "05412700",
   "metadata": {},
   "source": [
    "### Modeling the Subset of People whose Highest Education Level is High School or Less"
   ]
  },
  {
   "cell_type": "code",
   "execution_count": null,
   "id": "b0762cd9",
   "metadata": {},
   "outputs": [],
   "source": [
    "high_school = e.generate_and_return_obj(high_school_df)\n",
    "high_school.X_train_dummies.head()"
   ]
  },
  {
   "cell_type": "code",
   "execution_count": null,
   "id": "a2bfce50",
   "metadata": {},
   "outputs": [],
   "source": [
    "print(f'Baseline Accuracy: {round((1.00 - high_school.y_train_dummies.mean())* 100, 2)}%')"
   ]
  },
  {
   "cell_type": "code",
   "execution_count": null,
   "id": "7dea85c1",
   "metadata": {},
   "outputs": [],
   "source": [
    "# Create a dataframe to store and compare our models' performances\n",
    "score_df = pd.DataFrame(columns = ['model_name', 'train_score', 'validate_score'])\n",
    "score_df"
   ]
  },
  {
   "cell_type": "code",
   "execution_count": null,
   "id": "ddee6f48",
   "metadata": {},
   "outputs": [],
   "source": [
    "#Append results to score_df\n",
    "for model, name in zip(forest_list, forest_name_list):\n",
    "    score_df = m.test_a_model(high_school.X_train_dummies, high_school.y_train_dummies, high_school.X_validate_dummies, high_school.y_validate_dummies, model, name, score_df)"
   ]
  },
  {
   "cell_type": "code",
   "execution_count": null,
   "id": "e136164a",
   "metadata": {},
   "outputs": [],
   "source": [
    "score_df = score_df.sort_values(by = 'validate_score', ascending = False).reset_index(drop = True)\n",
    "score_df.head()"
   ]
  },
  {
   "cell_type": "code",
   "execution_count": null,
   "id": "a2d152a5",
   "metadata": {},
   "outputs": [],
   "source": [
    "#Select best performing model\n",
    "top_model = score_df.model_name[0]\n",
    "\n",
    "#Convert forest names to series\n",
    "forest_names = pd.Series(forest_name_list)\n",
    "\n",
    "#Convert forest list to series\n",
    "forest_model_list = pd.Series(forest_list)\n",
    "\n",
    "#Convert forest names and models to DataFrame\n",
    "forest_models_df = pd.DataFrame({'name': forest_name_list, 'model': forest_model_list})\n",
    "\n",
    "#Get best performing model\n",
    "best_model = forest_models_df.model[forest_models_df.name == top_model].item()\n",
    "\n",
    "best_model"
   ]
  },
  {
   "cell_type": "markdown",
   "id": "f62945e2",
   "metadata": {},
   "source": [
    "#### Feature Importance for People whose Highest Education Level is High School or Less"
   ]
  },
  {
   "cell_type": "code",
   "execution_count": null,
   "id": "0c1da304",
   "metadata": {},
   "outputs": [],
   "source": [
    "#Fit Model\n",
    "best_model.fit(high_school.X_train_dummies, high_school.y_train_dummies)"
   ]
  },
  {
   "cell_type": "code",
   "execution_count": null,
   "id": "d989e412",
   "metadata": {},
   "outputs": [],
   "source": [
    "#Create data frame of feature importances, using our selected model\n",
    "feature_importances_high_school = pd.DataFrame(best_model.feature_importances_, index = high_school.X_train_dummies.columns, columns = [ \"relative importance\"])\n",
    "#Sort the data frame by the relative importance of each feature\n",
    "feature_importances_high_school = feature_importances_high_school.sort_values(by = ['relative importance'], ascending = False)\n",
    "#Rename the index column \"category\"\n",
    "feature_importances_high_school.columns.names = ['category']"
   ]
  },
  {
   "cell_type": "code",
   "execution_count": null,
   "id": "a91be17c",
   "metadata": {},
   "outputs": [],
   "source": [
    "relative_importances_high_school = sns.barplot(x=feature_importances_high_school['relative importance'][0:10], y=feature_importances_high_school.index[0:10])\n",
    "plt.savefig('images/education_high_school_or_less.jpeg', bbox_inches='tight')"
   ]
  },
  {
   "cell_type": "markdown",
   "id": "bc98aa10",
   "metadata": {},
   "source": [
    "### Modeling the Subset of People whose Highest Education Level is Some College"
   ]
  },
  {
   "cell_type": "code",
   "execution_count": null,
   "id": "324d8e16",
   "metadata": {},
   "outputs": [],
   "source": [
    "some_college = e.generate_and_return_obj(some_college_df)\n",
    "some_college.X_train_dummies.head()"
   ]
  },
  {
   "cell_type": "code",
   "execution_count": null,
   "id": "d88cda2b",
   "metadata": {},
   "outputs": [],
   "source": [
    "print(f'Baseline Accuracy: {round((1.00 - some_college.y_train_dummies.mean())* 100, 2)}%')"
   ]
  },
  {
   "cell_type": "code",
   "execution_count": null,
   "id": "aef1bf8c",
   "metadata": {},
   "outputs": [],
   "source": [
    "# Create a dataframe to store and compare our models' performances\n",
    "score_df = pd.DataFrame(columns = ['model_name', 'train_score', 'validate_score'])\n",
    "score_df"
   ]
  },
  {
   "cell_type": "code",
   "execution_count": null,
   "id": "f63dff83",
   "metadata": {},
   "outputs": [],
   "source": [
    "#Append results to score_df\n",
    "for model, name in zip(forest_list, forest_name_list):\n",
    "    score_df = m.test_a_model(some_college.X_train_dummies, some_college.y_train_dummies, some_college.X_validate_dummies, some_college.y_validate_dummies, model, name, score_df)"
   ]
  },
  {
   "cell_type": "code",
   "execution_count": null,
   "id": "1b2c2bf0",
   "metadata": {},
   "outputs": [],
   "source": [
    "score_df = score_df.sort_values(by = 'validate_score', ascending = False).reset_index(drop = True)\n",
    "score_df.head()"
   ]
  },
  {
   "cell_type": "code",
   "execution_count": null,
   "id": "e58afcff",
   "metadata": {},
   "outputs": [],
   "source": [
    "#Select best performing model\n",
    "top_model = score_df.model_name[0]\n",
    "\n",
    "#Convert forest names to series\n",
    "forest_names = pd.Series(forest_name_list)\n",
    "\n",
    "#Convert forest list to series\n",
    "forest_model_list = pd.Series(forest_list)\n",
    "\n",
    "#Convert forest names and models to DataFrame\n",
    "forest_models_df = pd.DataFrame({'name': forest_name_list, 'model': forest_model_list})\n",
    "\n",
    "#Get best performing model\n",
    "best_model = forest_models_df.model[forest_models_df.name == top_model].item()\n",
    "\n",
    "best_model"
   ]
  },
  {
   "cell_type": "markdown",
   "id": "d5ae6fae",
   "metadata": {},
   "source": [
    "#### Feature Engineering for People whose Highest Education Level is Some College"
   ]
  },
  {
   "cell_type": "code",
   "execution_count": null,
   "id": "757a6afd",
   "metadata": {},
   "outputs": [],
   "source": [
    "#Fit Model\n",
    "best_model.fit(some_college.X_train_dummies, some_college.y_train_dummies)"
   ]
  },
  {
   "cell_type": "code",
   "execution_count": null,
   "id": "d37c1140",
   "metadata": {},
   "outputs": [],
   "source": [
    "#Create data frame of feature importances, using our selected model\n",
    "feature_importances_college = pd.DataFrame(best_model.feature_importances_, index = some_college.X_train_dummies.columns, columns = [ \"relative importance\"])\n",
    "#Sort the data frame by the relative importance of each feature\n",
    "feature_importances_college = feature_importances_college.sort_values(by = ['relative importance'], ascending = False)\n",
    "#Rename the index column \"category\"\n",
    "feature_importances_college.columns.names = ['category']"
   ]
  },
  {
   "cell_type": "code",
   "execution_count": null,
   "id": "b50515a9",
   "metadata": {},
   "outputs": [],
   "source": [
    "relative_importances_college = sns.barplot(x=feature_importances_college['relative importance'][0:10], y=feature_importances_college.index[0:10])\n",
    "plt.savefig('images/education_some_college.jpeg', bbox_inches='tight')"
   ]
  },
  {
   "cell_type": "markdown",
   "id": "3d876a10",
   "metadata": {},
   "source": [
    "### Modeling the Subset of People whose Highest Education Level is a College Degree and Above"
   ]
  },
  {
   "cell_type": "code",
   "execution_count": null,
   "id": "5d6e2fd3",
   "metadata": {},
   "outputs": [],
   "source": [
    "college_grad = e.generate_and_return_obj(college_grad_df)\n",
    "college_grad.X_train_dummies.head()"
   ]
  },
  {
   "cell_type": "code",
   "execution_count": null,
   "id": "76dbac5c",
   "metadata": {},
   "outputs": [],
   "source": [
    "print(f'Baseline Accuracy: {round((1.00 - college_grad.y_train_dummies.mean())* 100, 2)}%')"
   ]
  },
  {
   "cell_type": "code",
   "execution_count": null,
   "id": "867d2467",
   "metadata": {},
   "outputs": [],
   "source": [
    "# Create a dataframe to store and compare our models' performances\n",
    "score_df = pd.DataFrame(columns = ['model_name', 'train_score', 'validate_score'])\n",
    "score_df"
   ]
  },
  {
   "cell_type": "code",
   "execution_count": null,
   "id": "762c4d11",
   "metadata": {},
   "outputs": [],
   "source": [
    "#Append results to score_df\n",
    "for model, name in zip(forest_list, forest_name_list):\n",
    "    score_df = m.test_a_model(college_grad.X_train_dummies, college_grad.y_train_dummies, college_grad.X_validate_dummies, college_grad.y_validate_dummies, model, name, score_df)"
   ]
  },
  {
   "cell_type": "code",
   "execution_count": null,
   "id": "9de91a11",
   "metadata": {},
   "outputs": [],
   "source": [
    "score_df = score_df.sort_values(by = 'validate_score', ascending = False).reset_index(drop = True)\n",
    "score_df.head()"
   ]
  },
  {
   "cell_type": "code",
   "execution_count": null,
   "id": "4820c338",
   "metadata": {},
   "outputs": [],
   "source": [
    "#Select best performing model\n",
    "top_model = score_df.model_name[0]\n",
    "\n",
    "#Convert forest names to series\n",
    "forest_names = pd.Series(forest_name_list)\n",
    "\n",
    "#Convert forest list to series\n",
    "forest_model_list = pd.Series(forest_list)\n",
    "\n",
    "#Convert forest names and models to DataFrame\n",
    "forest_models_df = pd.DataFrame({'name': forest_name_list, 'model': forest_model_list})\n",
    "\n",
    "#Get best performing model\n",
    "best_model = forest_models_df.model[forest_models_df.name == top_model].item()\n",
    "\n",
    "best_model"
   ]
  },
  {
   "cell_type": "markdown",
   "id": "c37b7020",
   "metadata": {},
   "source": [
    "#### Feature Engineering the Subset of People whose Highest Education Level is a College Degree and Above"
   ]
  },
  {
   "cell_type": "code",
   "execution_count": null,
   "id": "e6f981ce",
   "metadata": {},
   "outputs": [],
   "source": [
    "#Fit the model\n",
    "best_model.fit(college_grad.X_train_dummies, college_grad.y_train_dummies)"
   ]
  },
  {
   "cell_type": "code",
   "execution_count": null,
   "id": "06cdf92b",
   "metadata": {},
   "outputs": [],
   "source": [
    "#Create data frame of feature importances, using our selected model\n",
    "feature_importances_college_grad = pd.DataFrame(best_model.feature_importances_, index = college_grad.X_train_dummies.columns, columns = [ \"relative importance\"])\n",
    "#Sort the data frame by the relative importance of each feature\n",
    "feature_importances_college_grad = feature_importances_college_grad.sort_values(by = ['relative importance'], ascending = False)\n",
    "#Rename the index column \"category\"\n",
    "feature_importances_college_grad.columns.names = ['category']"
   ]
  },
  {
   "cell_type": "code",
   "execution_count": null,
   "id": "5c4f8939",
   "metadata": {},
   "outputs": [],
   "source": [
    "relative_importances_college_grad = sns.barplot(x=feature_importances_college_grad['relative importance'][0:10], y=feature_importances_college_grad.index[0:10])\n",
    "plt.savefig('images/education_college_graduate.jpeg', bbox_inches='tight')"
   ]
  },
  {
   "cell_type": "markdown",
   "id": "d6cc78fc-97b0-4288-81e1-bcce9dd2fcf3",
   "metadata": {},
   "source": [
    "<a name='cluster_modeling'></a>\n",
    "## Modeling with Clusters"
   ]
  },
  {
   "cell_type": "code",
   "execution_count": null,
   "id": "b23c9eaa-af03-4dcc-8c88-e590f264654f",
   "metadata": {},
   "outputs": [],
   "source": [
    "def cluster_score(col):\n",
    "    cluster={}\n",
    "    for i in train[col].sort_values().unique():\n",
    "        cluster[i] = train[train[col]==i]\n",
    "    cluster_dict = {}\n",
    "    for i in cluster.keys():\n",
    "        clust = e.generate_and_return_obj(cluster[i])\n",
    "        clust.X_train_dummies.head()\n",
    "        # Create a dataframe to store and compare our models' performances\n",
    "        score_df = pd.DataFrame(columns = ['model_name', 'train_score', 'validate_score'])\n",
    "\n",
    "        #Append results to score_df\n",
    "        for model, name in zip(forest_list, forest_name_list):\n",
    "            score_df = m.test_a_model(clust.X_train_dummies, clust.y_train_dummies, clust.X_validate_dummies, clust.y_validate_dummies, model, name, score_df)\n",
    "\n",
    "        score_df = score_df.sort_values(by = 'validate_score', ascending = False).reset_index(drop = True)\n",
    "        cluster_dict[i] = score_df\n",
    "    return cluster_dict"
   ]
  },
  {
   "cell_type": "markdown",
   "id": "43d35185-88f9-4d34-b6e5-678c2a7faf24",
   "metadata": {},
   "source": [
    "### Age and Education"
   ]
  },
  {
   "cell_type": "code",
   "execution_count": null,
   "id": "b346ac6c-d49d-4dbb-83c7-1d58f05beacd",
   "metadata": {},
   "outputs": [],
   "source": [
    "age_edu = cluster_score('age_edu_cluster')\n",
    "age_edu.keys()"
   ]
  },
  {
   "cell_type": "code",
   "execution_count": null,
   "id": "8b3ddc11-b576-4ab1-987d-b4830bace94a",
   "metadata": {},
   "outputs": [],
   "source": [
    "age_edu[0].head(3)"
   ]
  },
  {
   "cell_type": "code",
   "execution_count": null,
   "id": "50569bae-3472-4e36-b7b7-ea558f819d77",
   "metadata": {},
   "outputs": [],
   "source": [
    "age_edu[1].head(3)"
   ]
  },
  {
   "cell_type": "code",
   "execution_count": null,
   "id": "432eccde-c32e-406a-97db-c5041ce54122",
   "metadata": {},
   "outputs": [],
   "source": [
    "age_edu[2].head(3)"
   ]
  },
  {
   "cell_type": "code",
   "execution_count": null,
   "id": "4995e0ef-5930-43f9-8fe4-8843dad80e7a",
   "metadata": {},
   "outputs": [],
   "source": [
    "age_edu[3].head(3)"
   ]
  },
  {
   "cell_type": "code",
   "execution_count": null,
   "id": "8870be29-92ac-4228-af6c-42c9802fc800",
   "metadata": {},
   "outputs": [],
   "source": [
    "age_edu[4].head(3)"
   ]
  },
  {
   "cell_type": "code",
   "execution_count": null,
   "id": "3077fc3a-47b9-4f9b-8089-ce83b706b608",
   "metadata": {},
   "outputs": [],
   "source": [
    "age_edu[5].head()"
   ]
  },
  {
   "cell_type": "markdown",
   "id": "8e55e296-d8ce-4df4-8eb6-077dd759b1bb",
   "metadata": {},
   "source": [
    "#### Age and Wealth"
   ]
  },
  {
   "cell_type": "code",
   "execution_count": null,
   "id": "67967690-1533-41e8-8c34-75c58fe341bb",
   "metadata": {},
   "outputs": [],
   "source": [
    "age_wealth = cluster_score('age_wealth_cluster')\n",
    "age_wealth.keys()"
   ]
  },
  {
   "cell_type": "code",
   "execution_count": null,
   "id": "f93d3153-a83b-48c8-b913-b154fd2112bf",
   "metadata": {},
   "outputs": [],
   "source": [
    "age_wealth[0].head(3)"
   ]
  },
  {
   "cell_type": "code",
   "execution_count": null,
   "id": "03c78f03-9f82-42af-8a3b-1f097a66d4be",
   "metadata": {},
   "outputs": [],
   "source": [
    "age_wealth[1].head(3)"
   ]
  },
  {
   "cell_type": "code",
   "execution_count": null,
   "id": "adc9e709-f6e2-42ef-af49-97effbf3260e",
   "metadata": {},
   "outputs": [],
   "source": [
    "age_wealth[2].head(3)"
   ]
  },
  {
   "cell_type": "code",
   "execution_count": null,
   "id": "09d7b35d-fc55-4ed8-b47f-0cc6d15e8eeb",
   "metadata": {},
   "outputs": [],
   "source": [
    "age_wealth[3].head(3)"
   ]
  },
  {
   "cell_type": "code",
   "execution_count": null,
   "id": "ff35a167-5b38-4776-a84b-d146a2ea9025",
   "metadata": {},
   "outputs": [],
   "source": [
    "age_wealth[4].head(3)"
   ]
  },
  {
   "cell_type": "code",
   "execution_count": null,
   "id": "15834324-ba84-4ac9-8096-ded5c7c3ad50",
   "metadata": {},
   "outputs": [],
   "source": [
    "age_wealth[5].head(3)"
   ]
  },
  {
   "cell_type": "code",
   "execution_count": null,
   "id": "2157c753-e0e0-4291-8ffb-862179980ad6",
   "metadata": {},
   "outputs": [],
   "source": [
    "age_wealth[6].head(3)"
   ]
  },
  {
   "cell_type": "markdown",
   "id": "92c51346-6acf-4e7c-8376-a3fed27c3192",
   "metadata": {},
   "source": [
    "#### Age and Country Status"
   ]
  },
  {
   "cell_type": "code",
   "execution_count": null,
   "id": "2372fc9c-7f8d-49b4-91f1-afedc63f3c0b",
   "metadata": {},
   "outputs": [],
   "source": [
    "age_status = cluster_score('age_status_cluster')\n",
    "age_status.keys()"
   ]
  },
  {
   "cell_type": "code",
   "execution_count": null,
   "id": "ae5ca087-8e95-49dd-ab04-3be2d5f315ff",
   "metadata": {},
   "outputs": [],
   "source": [
    "age_status[0].head(3)"
   ]
  },
  {
   "cell_type": "code",
   "execution_count": null,
   "id": "943b3402-c4ad-4fd1-8f7b-a6e16872bfbc",
   "metadata": {},
   "outputs": [],
   "source": [
    "age_status[1].head(3)"
   ]
  },
  {
   "cell_type": "code",
   "execution_count": null,
   "id": "83385aa8-0b16-4ee1-970c-dfaa02fd3315",
   "metadata": {},
   "outputs": [],
   "source": [
    "age_status[2].head(3)"
   ]
  },
  {
   "cell_type": "markdown",
   "id": "840b4e37-f77a-4fd4-a8a2-0775e754c94f",
   "metadata": {},
   "source": [
    "#### Region and Climate"
   ]
  },
  {
   "cell_type": "code",
   "execution_count": null,
   "id": "4aeee222-a2d6-42b8-a62c-969baf4d5a96",
   "metadata": {},
   "outputs": [],
   "source": [
    "region_climate = cluster_score('region_climate_cluster')\n",
    "region_climate.keys()"
   ]
  },
  {
   "cell_type": "code",
   "execution_count": null,
   "id": "cbef12e1-a91f-44ff-9913-7ab01288989f",
   "metadata": {},
   "outputs": [],
   "source": [
    "region_climate[0].head(3)"
   ]
  },
  {
   "cell_type": "code",
   "execution_count": null,
   "id": "20054be5-bcf8-4968-9cc9-000358b4808e",
   "metadata": {},
   "outputs": [],
   "source": [
    "region_climate[1].head(3)"
   ]
  },
  {
   "cell_type": "code",
   "execution_count": null,
   "id": "3ab5f95e-28e6-49ad-9f88-98049fe6d936",
   "metadata": {},
   "outputs": [],
   "source": [
    "region_climate[2].head(3)"
   ]
  },
  {
   "cell_type": "code",
   "execution_count": null,
   "id": "904077a9-003c-4fa0-843e-278f861d26da",
   "metadata": {},
   "outputs": [],
   "source": [
    "region_climate[3].head(3)"
   ]
  },
  {
   "cell_type": "code",
   "execution_count": null,
   "id": "a994a0f0-1481-42f6-a85c-ebaf9c426fb0",
   "metadata": {},
   "outputs": [],
   "source": [
    "region_climate[4].head(3)"
   ]
  },
  {
   "cell_type": "code",
   "execution_count": null,
   "id": "6730dc9a-4faa-48ba-8509-1b2d8fe1da40",
   "metadata": {},
   "outputs": [],
   "source": [
    "region_climate[5].head(3)"
   ]
  },
  {
   "cell_type": "code",
   "execution_count": null,
   "id": "2cc74e32-e7e3-4ce0-a70b-000da4b6d9dd",
   "metadata": {},
   "outputs": [],
   "source": [
    "region_climate[6].head(3)"
   ]
  },
  {
   "cell_type": "markdown",
   "id": "bfb5b071-87bc-476b-a424-a9bb60b572f0",
   "metadata": {},
   "source": [
    "#### Region and Immigration"
   ]
  },
  {
   "cell_type": "code",
   "execution_count": null,
   "id": "77ef1441-4b2d-41ca-bedf-4d93369d1a37",
   "metadata": {},
   "outputs": [],
   "source": [
    "region_imm = cluster_score('region_imm_cluster')\n",
    "region_imm.keys()"
   ]
  },
  {
   "cell_type": "code",
   "execution_count": null,
   "id": "d288a31d-e930-4cdc-8fc9-152092dbfdd1",
   "metadata": {},
   "outputs": [],
   "source": [
    "region_imm[0].head(3)"
   ]
  },
  {
   "cell_type": "code",
   "execution_count": null,
   "id": "e14fef23-52b8-4c36-a4e8-43edf9acefa4",
   "metadata": {},
   "outputs": [],
   "source": [
    "region_imm[1].head(3)"
   ]
  },
  {
   "cell_type": "code",
   "execution_count": null,
   "id": "33e5aaa6-e732-497b-8fc9-020c5f07096b",
   "metadata": {},
   "outputs": [],
   "source": [
    "region_imm[2].head(3)"
   ]
  },
  {
   "cell_type": "code",
   "execution_count": null,
   "id": "94cd92c1-461e-41b6-91ef-6f259831521e",
   "metadata": {},
   "outputs": [],
   "source": [
    "region_imm[3].head(3)"
   ]
  },
  {
   "cell_type": "code",
   "execution_count": null,
   "id": "e717cbc9-c893-4fd6-bb63-89e74e066eb6",
   "metadata": {},
   "outputs": [],
   "source": [
    "region_imm[4].head(3)"
   ]
  },
  {
   "cell_type": "code",
   "execution_count": null,
   "id": "b0462d15-2492-44bc-a8e1-cca06c51ec3a",
   "metadata": {},
   "outputs": [],
   "source": [
    "region_imm[5].head(3)"
   ]
  },
  {
   "cell_type": "code",
   "execution_count": null,
   "id": "fdb54a6c-4f60-4e42-a349-5913b06888ce",
   "metadata": {},
   "outputs": [],
   "source": [
    "region_imm[6].head(3)"
   ]
  },
  {
   "cell_type": "code",
   "execution_count": null,
   "id": "d19f75d9-8719-4ae7-a91b-8687185784cf",
   "metadata": {},
   "outputs": [],
   "source": [
    "region_imm[7].head(3)"
   ]
  },
  {
   "cell_type": "markdown",
   "id": "f9c4106f-6fe2-4244-b670-4d6d018594be",
   "metadata": {},
   "source": [
    "#### Region and Religion"
   ]
  },
  {
   "cell_type": "code",
   "execution_count": null,
   "id": "b8549e92-7409-466f-bf0d-88b903e21ab7",
   "metadata": {},
   "outputs": [],
   "source": [
    "region_religion = cluster_score('region_religion_cluster')\n",
    "region_religion.keys()"
   ]
  },
  {
   "cell_type": "code",
   "execution_count": null,
   "id": "f8e14a9b-a5e9-427b-b551-e285bea2f09e",
   "metadata": {},
   "outputs": [],
   "source": [
    "region_religion[0].head(3)"
   ]
  },
  {
   "cell_type": "code",
   "execution_count": null,
   "id": "cc384f60-2e56-4b28-b33d-2ac2b11ba98f",
   "metadata": {},
   "outputs": [],
   "source": [
    "region_religion[1].head(3)"
   ]
  },
  {
   "cell_type": "code",
   "execution_count": null,
   "id": "ed3cb6a7-0d5d-4995-ae04-30b4d6c33560",
   "metadata": {},
   "outputs": [],
   "source": [
    "region_religion[2].head(3)"
   ]
  },
  {
   "cell_type": "code",
   "execution_count": null,
   "id": "de19960a-4604-4243-a742-d5068e159180",
   "metadata": {},
   "outputs": [],
   "source": [
    "region_religion[3].head(3)"
   ]
  },
  {
   "cell_type": "code",
   "execution_count": null,
   "id": "c0687080-d445-4ce9-b93e-5e568f4a67ee",
   "metadata": {},
   "outputs": [],
   "source": [
    "region_religion[4].head(3)"
   ]
  },
  {
   "cell_type": "code",
   "execution_count": null,
   "id": "30a7f142-4bbc-4759-ab97-0cce7b870955",
   "metadata": {},
   "outputs": [],
   "source": [
    "region_religion[5].head(3)"
   ]
  },
  {
   "cell_type": "code",
   "execution_count": null,
   "id": "c4b5788a-d122-445f-8cef-331fd2a8b36c",
   "metadata": {},
   "outputs": [],
   "source": [
    "region_religion[6].head(3)"
   ]
  },
  {
   "cell_type": "markdown",
   "id": "ec3f2e02",
   "metadata": {},
   "source": [
    "<a name='modeling_takeaways'></a>\n",
    "## Modeling Takeaways\n",
    "\n",
    "> - Big drivers of pessimism are public education and economics.\n",
    "> - Some other major drivers are job benefits, job security, race relations, standards of living, healthcare, and the country's world status.\n",
    "> - We chose the most common result of the target column as our baseline with an accuracy of 55.75%.\n",
    "> - We ran over 200 variations of Decision Tree, Random Forest, K-Nearest Neighbor, and other models.\n",
    "> - Overall, the model with the best performance was the Random Forest with:\n",
    "    - `max_depth` = 8\n",
    "    - `min_samples_leaf` = 8\n",
    "> - This model performed with an accuracy of:\n",
    "    - `train` (In-sample) = 92.05%\n",
    "    - `validate` (Out-of-sample) = 80.46%\n",
    "    - `test` (Out-of-sample) = 76.54%\n",
    "> - We ran Classification models on subsets of the data. The subgsets we used were based on: \n",
    "    - gender (men and women), \n",
    "    - political party (Republicans and Democrats), \n",
    "    - income level (less than 30,000 USD, between 30,000 and 75,000 USD, and more than 75,000 USD), and \n",
    "    - highest education level (high school or less, some college, and college graduate). \n",
    "> - The accuracy of the models did not change significantly based on each subgroups. \n",
    "> - The best-performing Classification model for each subgroup indicated the features most predictive of pessismism for each subgroup. \n",
    "\n",
    "\n",
    "<div style=\"text-align: right\"><a href='#toc'>Table of Contents</a></div>\n",
    "<hr style=\"border-top: 10px groove tan; margin-top: 1px; margin-bottom: 1px\"></hr>"
   ]
  },
  {
   "cell_type": "markdown",
   "id": "afb41004",
   "metadata": {},
   "source": [
    "<a name='delivery'></a>\n",
    "# Project Delivery\n",
    "✓ _Plan_ ➜ ✓ _Acquire_ ➜ ✓ _Prepare_ ➜ ✓ _Explore_ ➜ ✓ _Model_ ➜ 🟢 **Deliver**\n",
    "\n",
    "> - Currently we are achieving an Out-of-sample accuracy of ~76% on our `test` data and we believe with further feature engineering and hyper-parameter optimization, we could achieve a higher accuracy. \n",
    "\n",
    "<a name='conclusion_and_next_steps'></a>\n",
    "\n",
    "## Conclusion and Next Steps\n",
    "> - While it appeared that there may have been a significant difference between the genders and their pessimisim, such a difference was not observed in this instance. \n",
    "> Additionally, we did not observe a significant difference in pessimism relative to income level.\n",
    "> - The next step is to continue finalizing our work and to ensure this work is throughly documented.\n",
    "> - With more time we will continue examining multiple different feature combinations and will test for significance from these observations.\n",
    "\n",
    "<a name='replication'></a>\n",
    "## Project Replication\n",
    "\n",
    "> - Statistical data can be downloaded from <a href=\"https://www.kaggle.com/shankanater/american-trends-panel-pewresearch/download\">here</a>.\n",
    "> - You can read the SPSS Statistic data file with `pandas.read_spss(\"ATP W41.sav\")`\n",
    "\n",
    "<a name='data_use'></a>\n",
    "## Data Use Agreements\n",
    "\n",
    "> - The source of the data with express reference to the center in accordance with the following citation: “Pew Research Center’s American Trends Panel”\n",
    "> - Any hypothesis, insight and or result within this project in no way implies or suggests as attributing a particular policy or lobbying objective or opinion to the Center, or as a Center endorsement of a cause, candidate, issue, party, product, business, organization, religion or viewpoint.\n",
    "> - “The opinions expressed herein, including any implications for policy, are those of the author and not of Pew Research Center.”\n",
    "> - Information on The American Trends Panel (ATP) can be found at <a href=\"https://www.pewresearch.org/our-methods/u-s-surveys/the-american-trends-panel/\">The American Trends Panel</a>\n",
    "> - More information on these user agreements can be found at <a href=\"https://www.pewresearch.org/about/terms-and-conditions/\">Pew Research</a>.\n",
    ">\n",
    "> **Citation**\n",
    ">\n",
    "> <a href=\"https://www.pewresearch.org/social-trends/dataset/american-trends-panel-wave-41/\">\"American Trends Panel Wave 41.”</a> Pew Research Center, Washington, D.C. (December 27, 2018).\n",
    "\n",
    "\n",
    "<div style=\"text-align: right\"><a href='#toc'>Table of Contents</a></div>\n",
    "<hr style=\"border-top: 10px groove tan; margin-top: 1px; margin-bottom: 1px\"></hr>"
   ]
  },
  {
   "cell_type": "code",
   "execution_count": null,
   "id": "c4051d07",
   "metadata": {},
   "outputs": [],
   "source": [
    "%%html\n",
    "<style>\n",
    "table {margin-left: 0 !important;}\n",
    "</style>"
   ]
  }
 ],
 "metadata": {
  "kernelspec": {
   "display_name": "Python 3 (ipykernel)",
   "language": "python",
   "name": "python3"
  },
  "language_info": {
   "codemirror_mode": {
    "name": "ipython",
    "version": 3
   },
   "file_extension": ".py",
   "mimetype": "text/x-python",
   "name": "python",
   "nbconvert_exporter": "python",
   "pygments_lexer": "ipython3",
   "version": "3.9.7"
  }
 },
 "nbformat": 4,
 "nbformat_minor": 5
}
