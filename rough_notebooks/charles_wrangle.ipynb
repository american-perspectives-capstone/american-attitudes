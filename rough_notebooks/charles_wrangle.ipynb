{
 "cells": [
  {
   "cell_type": "markdown",
   "id": "e3e68a25",
   "metadata": {},
   "source": [
    "# Import Modules"
   ]
  },
  {
   "cell_type": "code",
   "execution_count": 17,
   "id": "b12fcc84",
   "metadata": {},
   "outputs": [],
   "source": [
    "import pandas as pd\n",
    "# This module displays Markdown and helps with visability within Juypter Notebooks\n",
    "from IPython.display import Markdown\n",
    "import os"
   ]
  },
  {
   "cell_type": "markdown",
   "id": "42dc1117",
   "metadata": {},
   "source": [
    "### Check to see if that statistical data is present within the current directory"
   ]
  },
  {
   "cell_type": "code",
   "execution_count": 3,
   "id": "cb3be580",
   "metadata": {},
   "outputs": [],
   "source": [
    "def get_atp_w41_spss_data():\n",
    "    '''Check to see if the .sav file is within the current directory. If it is not in the \n",
    "    current directory path, it will download it from Kaggle at:\n",
    "    \n",
    "    \"https://www.kaggle.com/shankanater/american-trends-panel-pewresearch/download\"\n",
    "    \n",
    "    and will return the data as a Pandas DataFrame.\n",
    "    '''\n",
    "    # Set default filename\n",
    "    filename = 'ATP W41.sav'\n",
    "    # Check if the file exists within the current directory\n",
    "    if os.path.exists(filename):\n",
    "        # if it exists read into Pandas DataFrame and return \n",
    "        return pd.read_spss(filename)\n",
    "    # If the file does not exist download from Kaggle URL raw data\n",
    "    ##FIXME##\n",
    "    return 'Not found'"
   ]
  },
  {
   "cell_type": "markdown",
   "id": "0cde97d0",
   "metadata": {},
   "source": []
  },
  {
   "cell_type": "markdown",
   "id": "05095896",
   "metadata": {},
   "source": [
    "### If this is the main file, then run below here"
   ]
  },
  {
   "cell_type": "code",
   "execution_count": 20,
   "id": "08200254",
   "metadata": {},
   "outputs": [],
   "source": [
    "if __name__ == '__main__':\n",
    "    # Get the spss data, and download it if it does not exist.\n",
    "    df = get_atp_w41_spss_data()\n",
    "\n",
    "    # Look at the dataframe\n",
    "    df.head()"
   ]
  },
  {
   "cell_type": "code",
   "execution_count": null,
   "id": "8cb83698",
   "metadata": {},
   "outputs": [],
   "source": []
  }
 ],
 "metadata": {
  "kernelspec": {
   "display_name": "Python 3 (ipykernel)",
   "language": "python",
   "name": "python3"
  },
  "language_info": {
   "codemirror_mode": {
    "name": "ipython",
    "version": 3
   },
   "file_extension": ".py",
   "mimetype": "text/x-python",
   "name": "python",
   "nbconvert_exporter": "python",
   "pygments_lexer": "ipython3",
   "version": "3.9.7"
  }
 },
 "nbformat": 4,
 "nbformat_minor": 5
}
