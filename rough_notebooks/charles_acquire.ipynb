{
 "cells": [
  {
   "cell_type": "markdown",
   "id": "b9eec414",
   "metadata": {},
   "source": [
    "# Import Modules"
   ]
  },
  {
   "cell_type": "code",
   "execution_count": 17,
   "id": "1f36a335",
   "metadata": {},
   "outputs": [],
   "source": [
    "import pandas as pd\n",
    "# This module displays Markdown and helps with visability within Juypter Notebooks\n",
    "from IPython.display import Markdown\n",
    "import os"
   ]
  },
  {
   "cell_type": "markdown",
   "id": "29379d5d",
   "metadata": {},
   "source": [
    "### Check to see if that statistical data is present within the current directory"
   ]
  },
  {
   "cell_type": "code",
   "execution_count": 3,
   "id": "86bcee7d",
   "metadata": {},
   "outputs": [],
   "source": [
    "def get_atp_w41_spss_data():\n",
    "    '''Check to see if the .sav file is within the current directory. If it is not in the \n",
    "    current directory path, it will download it from Kaggle at:\n",
    "    \n",
    "    \"https://www.kaggle.com/shankanater/american-trends-panel-pewresearch/download\"\n",
    "    \n",
    "    and will return the data as a Pandas DataFrame.\n",
    "    '''\n",
    "    # Set default filename\n",
    "    filename = 'ATP W41.sav'\n",
    "    # Check if the file exists within the current directory\n",
    "    if os.path.exists(filename):\n",
    "        # if it exists read into Pandas DataFrame and return \n",
    "        return pd.read_spss(filename)\n",
    "    # If the file does not exist download from Kaggle URL raw data\n",
    "    ##FIXME##\n",
    "    return 'Not found'"
   ]
  },
  {
   "cell_type": "markdown",
   "id": "a5f195d8",
   "metadata": {},
   "source": [
    "### If this is the main file, then run below here"
   ]
  },
  {
   "cell_type": "code",
   "execution_count": 20,
   "id": "aa381312",
   "metadata": {},
   "outputs": [],
   "source": [
    "if __name__ == '__main__':\n",
    "    # Get the spss data, and download it if it does not exist.\n",
    "    df = get_atp_w41_spss_data()\n",
    "\n",
    "    # Look at the dataframe\n",
    "    df.head()"
   ]
  },
  {
   "cell_type": "code",
   "execution_count": null,
   "id": "0594b653",
   "metadata": {},
   "outputs": [],
   "source": []
  }
 ],
 "metadata": {
  "kernelspec": {
   "display_name": "Python 3 (ipykernel)",
   "language": "python",
   "name": "python3"
  },
  "language_info": {
   "codemirror_mode": {
    "name": "ipython",
    "version": 3
   },
   "file_extension": ".py",
   "mimetype": "text/x-python",
   "name": "python",
   "nbconvert_exporter": "python",
   "pygments_lexer": "ipython3",
   "version": "3.9.7"
  }
 },
 "nbformat": 4,
 "nbformat_minor": 5
}
