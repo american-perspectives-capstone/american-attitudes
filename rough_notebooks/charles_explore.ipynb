{
 "cells": [
  {
   "cell_type": "code",
   "execution_count": 3,
   "id": "29e1fb64",
   "metadata": {},
   "outputs": [],
   "source": [
    "import pandas as pd\n",
    "from prepare import *"
   ]
  },
  {
   "cell_type": "code",
   "execution_count": 29,
   "id": "76978ca7",
   "metadata": {},
   "outputs": [],
   "source": [
    "class Attitudes_explore():\n",
    "    '''\n",
    "    Performs a series of analyses and explore functions on various features in our data.\n",
    "    '''\n",
    "    \n",
    "    def __init__(self, df: pd.DataFrame, target: str):\n",
    "        '''\n",
    "        Initializes the self of the class.\n",
    "        '''\n",
    "        \n",
    "        # Pull the categorical features from dataframe\n",
    "        self.categorical_features = df.drop(columns = ['qkey', \"weight\", target]).columns.to_list()\n",
    "        \n",
    "        # Split the dataframe\n",
    "        train, validate, test = train_validate_test_split(df, target)\n",
    "        \n",
    "        # Make train datasets\n",
    "        self.X_train = train.drop(columns=[target])\n",
    "        self.y_train = train[target]\n",
    "        \n",
    "        # Make validate datasets\n",
    "        self.X_validate = validate.drop(columns=[target])\n",
    "        self.y_validate = validate[target]\n",
    "        \n",
    "        # Make test datasets\n",
    "        self.X_test = test.drop(columns=[target])\n",
    "        self.y_test = test[target]\n",
    "        \n",
    "        \n",
    "        \n",
    "    def run_statistical_tests(self):\n",
    "        '''This method will iterate though the categorical feature columns and run various statistical tests\n",
    "        and will print the results for each test.\n",
    "        The tests being performed are:\n",
    "        chi_squared\n",
    "        significant_p_val\n",
    "        list_significant_columns\n",
    "        insignificant_p_val\n",
    "        list_insignificant_columns\n",
    "        '''\n",
    "        \n",
    "        for col in self.categorical_features:\n",
    "            \n",
    "            #Create contingency table\n",
    "            contingency_table = pd.crosstab(self.X_train[col], self.y_train)\n",
    "            \n",
    "            #Get test results of chi-squared test\n",
    "            corr_test_results = stats.chi2_contingency(contingency_table)\n",
    "            \n",
    "            #Print out results of chi-squared test for each column\n",
    "            print(\"Correlation between\", col, \"and the target\")\n",
    "            print(test_results)\n",
    "        \n",
    "            #Space in between each feature for readability \n",
    "            print(\" \")"
   ]
  },
  {
   "cell_type": "code",
   "execution_count": 5,
   "id": "76291132",
   "metadata": {},
   "outputs": [],
   "source": [
    "df, revert_key, replace_key = wrangle_data()"
   ]
  },
  {
   "cell_type": "code",
   "execution_count": 26,
   "id": "8689cb96",
   "metadata": {
    "scrolled": true
   },
   "outputs": [],
   "source": [
    "# This will drop the columns that you don't want to target yet\n",
    "tmp = df[[col for col in df.columns if col not in ['pes_val', 'is_very_pes', 'is_very_opt']]]\n",
    "\n",
    "# Create instance\n",
    "obj = Attitudes_explore(tmp, target='is_pes')"
   ]
  },
  {
   "cell_type": "code",
   "execution_count": 28,
   "id": "a06cb7bd",
   "metadata": {},
   "outputs": [
    {
     "data": {
      "text/plain": [
       "1859    0\n",
       "96      1\n",
       "420     0\n",
       "1424    0\n",
       "114     1\n",
       "       ..\n",
       "678     1\n",
       "957     0\n",
       "239     0\n",
       "1795    0\n",
       "1297    0\n",
       "Name: is_pes, Length: 1408, dtype: int64"
      ]
     },
     "execution_count": 28,
     "metadata": {},
     "output_type": "execute_result"
    }
   ],
   "source": []
  },
  {
   "cell_type": "code",
   "execution_count": null,
   "id": "f1fd8dda",
   "metadata": {},
   "outputs": [],
   "source": []
  }
 ],
 "metadata": {
  "kernelspec": {
   "display_name": "Python 3 (ipykernel)",
   "language": "python",
   "name": "python3"
  },
  "language_info": {
   "codemirror_mode": {
    "name": "ipython",
    "version": 3
   },
   "file_extension": ".py",
   "mimetype": "text/x-python",
   "name": "python",
   "nbconvert_exporter": "python",
   "pygments_lexer": "ipython3",
   "version": "3.9.7"
  }
 },
 "nbformat": 4,
 "nbformat_minor": 5
}
