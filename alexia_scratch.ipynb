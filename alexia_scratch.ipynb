{
 "cells": [
  {
   "cell_type": "code",
   "execution_count": 8,
   "id": "2d687294-6fae-4439-b015-c67888399478",
   "metadata": {},
   "outputs": [],
   "source": [
    "import pandas as pd\n",
    "import matplotlib.pyplot as plt"
   ]
  },
  {
   "cell_type": "code",
   "execution_count": 3,
   "id": "6ee8784d-b0b0-4d7d-a6fe-a3b7bfb59386",
   "metadata": {},
   "outputs": [],
   "source": [
    "df = pd.read_spss(\"ATP W41.sav\")"
   ]
  },
  {
   "cell_type": "code",
   "execution_count": 4,
   "id": "47cfafb9-d95d-481a-9ed3-893ed184dd1c",
   "metadata": {},
   "outputs": [
    {
     "data": {
      "text/html": [
       "<div>\n",
       "<style scoped>\n",
       "    .dataframe tbody tr th:only-of-type {\n",
       "        vertical-align: middle;\n",
       "    }\n",
       "\n",
       "    .dataframe tbody tr th {\n",
       "        vertical-align: top;\n",
       "    }\n",
       "\n",
       "    .dataframe thead th {\n",
       "        text-align: right;\n",
       "    }\n",
       "</style>\n",
       "<table border=\"1\" class=\"dataframe\">\n",
       "  <thead>\n",
       "    <tr style=\"text-align: right;\">\n",
       "      <th></th>\n",
       "      <th>QKEY</th>\n",
       "      <th>NEW_Device_Type_W41</th>\n",
       "      <th>F_LANGUAGE</th>\n",
       "      <th>FORM_W41</th>\n",
       "      <th>OPTIMIST_W41</th>\n",
       "      <th>AVGFAM_W41</th>\n",
       "      <th>HAPPENa_W41</th>\n",
       "      <th>HAPPENb_W41</th>\n",
       "      <th>HAPPENc_W41</th>\n",
       "      <th>HAPPENd_W41</th>\n",
       "      <th>...</th>\n",
       "      <th>F_PARTY_FINAL</th>\n",
       "      <th>F_PARTYLN_FINAL</th>\n",
       "      <th>F_PARTYSUM_FINAL</th>\n",
       "      <th>F_INCOME</th>\n",
       "      <th>F_INCOME_RECODE</th>\n",
       "      <th>F_REG</th>\n",
       "      <th>F_IDEO</th>\n",
       "      <th>F_INTUSER</th>\n",
       "      <th>F_VOLSUM</th>\n",
       "      <th>WEIGHT_W41</th>\n",
       "    </tr>\n",
       "  </thead>\n",
       "  <tbody>\n",
       "    <tr>\n",
       "      <th>0</th>\n",
       "      <td>100363.0</td>\n",
       "      <td>Mobile phone</td>\n",
       "      <td>English</td>\n",
       "      <td>Form 1</td>\n",
       "      <td>Somewhat optimistic</td>\n",
       "      <td>Get worse</td>\n",
       "      <td>The U.S. economy will be STRONGER</td>\n",
       "      <td>Health care will be MORE affordable</td>\n",
       "      <td>Race relations will IMPROVE</td>\n",
       "      <td>The U.S. will be MORE important in the world</td>\n",
       "      <td>...</td>\n",
       "      <td>Democrat</td>\n",
       "      <td>NaN</td>\n",
       "      <td>Dem/Lean Dem</td>\n",
       "      <td>$100,000 to less than $150,000</td>\n",
       "      <td>$75,000+</td>\n",
       "      <td>You are ABSOLUTELY CERTAIN that you are regist...</td>\n",
       "      <td>Liberal</td>\n",
       "      <td>Internet User</td>\n",
       "      <td>No</td>\n",
       "      <td>0.599006</td>\n",
       "    </tr>\n",
       "    <tr>\n",
       "      <th>1</th>\n",
       "      <td>101224.0</td>\n",
       "      <td>Mobile phone</td>\n",
       "      <td>English</td>\n",
       "      <td>Form 1</td>\n",
       "      <td>Somewhat optimistic</td>\n",
       "      <td>Get better</td>\n",
       "      <td>The U.S. economy will be STRONGER</td>\n",
       "      <td>Health care will be LESS affordable</td>\n",
       "      <td>Race relations will IMPROVE</td>\n",
       "      <td>The U.S. will be MORE important in the world</td>\n",
       "      <td>...</td>\n",
       "      <td>Republican</td>\n",
       "      <td>NaN</td>\n",
       "      <td>Rep/Lean Rep</td>\n",
       "      <td>$40,000 to less than $50,000</td>\n",
       "      <td>$30-$74,999</td>\n",
       "      <td>You are ABSOLUTELY CERTAIN that you are regist...</td>\n",
       "      <td>Conservative</td>\n",
       "      <td>Internet User</td>\n",
       "      <td>Yes</td>\n",
       "      <td>0.292981</td>\n",
       "    </tr>\n",
       "    <tr>\n",
       "      <th>2</th>\n",
       "      <td>101437.0</td>\n",
       "      <td>Desktop</td>\n",
       "      <td>English</td>\n",
       "      <td>Form 1</td>\n",
       "      <td>Somewhat pessimistic</td>\n",
       "      <td>Get worse</td>\n",
       "      <td>The U.S. economy will be WEAKER</td>\n",
       "      <td>Health care will be LESS affordable</td>\n",
       "      <td>Race relations will GET WORSE</td>\n",
       "      <td>The U.S. will be LESS important in the world</td>\n",
       "      <td>...</td>\n",
       "      <td>Republican</td>\n",
       "      <td>NaN</td>\n",
       "      <td>Rep/Lean Rep</td>\n",
       "      <td>$10,000 to less than $20,000</td>\n",
       "      <td>&lt;$30,000</td>\n",
       "      <td>You are ABSOLUTELY CERTAIN that you are regist...</td>\n",
       "      <td>Conservative</td>\n",
       "      <td>Internet User</td>\n",
       "      <td>No</td>\n",
       "      <td>0.418871</td>\n",
       "    </tr>\n",
       "    <tr>\n",
       "      <th>3</th>\n",
       "      <td>102130.0</td>\n",
       "      <td>Mobile phone</td>\n",
       "      <td>English</td>\n",
       "      <td>Form 1</td>\n",
       "      <td>Somewhat optimistic</td>\n",
       "      <td>Stay about the same</td>\n",
       "      <td>The U.S. economy will be WEAKER</td>\n",
       "      <td>Health care will be LESS affordable</td>\n",
       "      <td>Race relations will IMPROVE</td>\n",
       "      <td>The U.S. will be LESS important in the world</td>\n",
       "      <td>...</td>\n",
       "      <td>Independent</td>\n",
       "      <td>Refused</td>\n",
       "      <td>DK/Refused/No lean</td>\n",
       "      <td>Refused</td>\n",
       "      <td>Don't know/Refused</td>\n",
       "      <td>You are ABSOLUTELY CERTAIN that you are regist...</td>\n",
       "      <td>Moderate</td>\n",
       "      <td>Non Internet User</td>\n",
       "      <td>Yes</td>\n",
       "      <td>0.342058</td>\n",
       "    </tr>\n",
       "    <tr>\n",
       "      <th>4</th>\n",
       "      <td>103094.0</td>\n",
       "      <td>Mobile phone</td>\n",
       "      <td>English</td>\n",
       "      <td>Form 1</td>\n",
       "      <td>Somewhat optimistic</td>\n",
       "      <td>Stay about the same</td>\n",
       "      <td>Refused</td>\n",
       "      <td>Health care will be LESS affordable</td>\n",
       "      <td>Refused</td>\n",
       "      <td>The U.S. will be LESS important in the world</td>\n",
       "      <td>...</td>\n",
       "      <td>Something else</td>\n",
       "      <td>Refused</td>\n",
       "      <td>DK/Refused/No lean</td>\n",
       "      <td>$20,000 to less than $30,000</td>\n",
       "      <td>&lt;$30,000</td>\n",
       "      <td>You are NOT registered to vote at your current...</td>\n",
       "      <td>Liberal</td>\n",
       "      <td>Internet User</td>\n",
       "      <td>Yes</td>\n",
       "      <td>0.329465</td>\n",
       "    </tr>\n",
       "  </tbody>\n",
       "</table>\n",
       "<p>5 rows × 124 columns</p>\n",
       "</div>"
      ],
      "text/plain": [
       "       QKEY NEW_Device_Type_W41 F_LANGUAGE FORM_W41          OPTIMIST_W41  \\\n",
       "0  100363.0        Mobile phone    English   Form 1   Somewhat optimistic   \n",
       "1  101224.0        Mobile phone    English   Form 1   Somewhat optimistic   \n",
       "2  101437.0             Desktop    English   Form 1  Somewhat pessimistic   \n",
       "3  102130.0        Mobile phone    English   Form 1   Somewhat optimistic   \n",
       "4  103094.0        Mobile phone    English   Form 1   Somewhat optimistic   \n",
       "\n",
       "            AVGFAM_W41                        HAPPENa_W41  \\\n",
       "0            Get worse  The U.S. economy will be STRONGER   \n",
       "1           Get better  The U.S. economy will be STRONGER   \n",
       "2            Get worse    The U.S. economy will be WEAKER   \n",
       "3  Stay about the same    The U.S. economy will be WEAKER   \n",
       "4  Stay about the same                            Refused   \n",
       "\n",
       "                           HAPPENb_W41                    HAPPENc_W41  \\\n",
       "0  Health care will be MORE affordable    Race relations will IMPROVE   \n",
       "1  Health care will be LESS affordable    Race relations will IMPROVE   \n",
       "2  Health care will be LESS affordable  Race relations will GET WORSE   \n",
       "3  Health care will be LESS affordable    Race relations will IMPROVE   \n",
       "4  Health care will be LESS affordable                        Refused   \n",
       "\n",
       "                                    HAPPENd_W41  ...   F_PARTY_FINAL  \\\n",
       "0  The U.S. will be MORE important in the world  ...        Democrat   \n",
       "1  The U.S. will be MORE important in the world  ...      Republican   \n",
       "2  The U.S. will be LESS important in the world  ...      Republican   \n",
       "3  The U.S. will be LESS important in the world  ...     Independent   \n",
       "4  The U.S. will be LESS important in the world  ...  Something else   \n",
       "\n",
       "  F_PARTYLN_FINAL    F_PARTYSUM_FINAL                        F_INCOME  \\\n",
       "0             NaN        Dem/Lean Dem  $100,000 to less than $150,000   \n",
       "1             NaN        Rep/Lean Rep    $40,000 to less than $50,000   \n",
       "2             NaN        Rep/Lean Rep    $10,000 to less than $20,000   \n",
       "3         Refused  DK/Refused/No lean                         Refused   \n",
       "4         Refused  DK/Refused/No lean    $20,000 to less than $30,000   \n",
       "\n",
       "      F_INCOME_RECODE                                              F_REG  \\\n",
       "0            $75,000+  You are ABSOLUTELY CERTAIN that you are regist...   \n",
       "1         $30-$74,999  You are ABSOLUTELY CERTAIN that you are regist...   \n",
       "2            <$30,000  You are ABSOLUTELY CERTAIN that you are regist...   \n",
       "3  Don't know/Refused  You are ABSOLUTELY CERTAIN that you are regist...   \n",
       "4            <$30,000  You are NOT registered to vote at your current...   \n",
       "\n",
       "         F_IDEO          F_INTUSER F_VOLSUM WEIGHT_W41  \n",
       "0       Liberal      Internet User       No   0.599006  \n",
       "1  Conservative      Internet User      Yes   0.292981  \n",
       "2  Conservative      Internet User       No   0.418871  \n",
       "3      Moderate  Non Internet User      Yes   0.342058  \n",
       "4       Liberal      Internet User      Yes   0.329465  \n",
       "\n",
       "[5 rows x 124 columns]"
      ]
     },
     "execution_count": 4,
     "metadata": {},
     "output_type": "execute_result"
    }
   ],
   "source": [
    "df.head()"
   ]
  },
  {
   "cell_type": "code",
   "execution_count": 6,
   "id": "a1add232-c431-4cdd-9210-a4ac497e9487",
   "metadata": {},
   "outputs": [
    {
     "data": {
      "text/plain": [
       "Somewhat optimistic     1113\n",
       "Somewhat pessimistic     806\n",
       "Very pessimistic         306\n",
       "Very optimistic          290\n",
       "Refused                    9\n",
       "Name: OPTIMIST_W41, dtype: int64"
      ]
     },
     "execution_count": 6,
     "metadata": {},
     "output_type": "execute_result"
    }
   ],
   "source": [
    "df.OPTIMIST_W41.value_counts()"
   ]
  },
  {
   "cell_type": "code",
   "execution_count": 7,
   "id": "7833c9a5-f493-4615-9673-1c9430be1077",
   "metadata": {},
   "outputs": [
    {
     "data": {
      "text/plain": [
       "Somewhat optimistic     0.440967\n",
       "Somewhat pessimistic    0.319334\n",
       "Very pessimistic        0.121236\n",
       "Very optimistic         0.114897\n",
       "Refused                 0.003566\n",
       "Name: OPTIMIST_W41, dtype: float64"
      ]
     },
     "execution_count": 7,
     "metadata": {},
     "output_type": "execute_result"
    }
   ],
   "source": [
    "df.OPTIMIST_W41.value_counts(normalize=True)"
   ]
  },
  {
   "cell_type": "code",
   "execution_count": 12,
   "id": "f67bcb8a-0d3a-4dea-865a-b2c384cab1c7",
   "metadata": {},
   "outputs": [
    {
     "data": {
      "text/plain": [
       "<AxesSubplot:>"
      ]
     },
     "execution_count": 12,
     "metadata": {},
     "output_type": "execute_result"
    },
    {
     "data": {
      "image/png": "[encoded data removed]",
      "text/plain": [
       "<Figure size 432x288 with 1 Axes>"
      ]
     },
     "metadata": {
      "needs_background": "light"
     },
     "output_type": "display_data"
    }
   ],
   "source": [
    "df.OPTIMIST_W41.value_counts().plot(kind='bar')"
   ]
  },
  {
   "cell_type": "code",
   "execution_count": 13,
   "id": "980cbbf5-7034-4acc-9422-428764d58a68",
   "metadata": {},
   "outputs": [
    {
     "data": {
      "text/plain": [
       "<AxesSubplot:>"
      ]
     },
     "execution_count": 13,
     "metadata": {},
     "output_type": "execute_result"
    },
    {
     "data": {
      "image/png": "[encoded data removed]",
      "text/plain": [
       "<Figure size 432x288 with 1 Axes>"
      ]
     },
     "metadata": {
      "needs_background": "light"
     },
     "output_type": "display_data"
    }
   ],
   "source": [
    "df.OPTIMIST_W41.value_counts(normalize=True).plot(kind='bar')"
   ]
  },
  {
   "cell_type": "code",
   "execution_count": null,
   "id": "e11b045d-c789-4294-8e26-e1708acbc38b",
   "metadata": {},
   "outputs": [],
   "source": []
  }
 ],
 "metadata": {
  "kernelspec": {
   "display_name": "Python 3",
   "language": "python",
   "name": "python3"
  },
  "language_info": {
   "codemirror_mode": {
    "name": "ipython",
    "version": 3
   },
   "file_extension": ".py",
   "mimetype": "text/x-python",
   "name": "python",
   "nbconvert_exporter": "python",
   "pygments_lexer": "ipython3",
   "version": "3.8.8"
  }
 },
 "nbformat": 4,
 "nbformat_minor": 5
}
